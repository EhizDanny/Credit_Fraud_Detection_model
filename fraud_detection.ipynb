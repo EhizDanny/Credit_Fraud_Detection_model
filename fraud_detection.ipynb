{
 "cells": [
  {
   "cell_type": "code",
   "execution_count": 1,
   "metadata": {},
   "outputs": [],
   "source": [
    "import pandas as pd\n",
    "import numpy as np\n",
    "import plotly.express as px\n",
    "import plotly.graph_objects as go\n",
    "import matplotlib.pyplot as plt\n",
    "%matplotlib inline\n",
    "import warnings\n",
    "warnings.filterwarnings('ignore', '.*do not.*', )"
   ]
  },
  {
   "cell_type": "code",
   "execution_count": 2,
   "metadata": {},
   "outputs": [],
   "source": [
    "data = pd.read_csv('Credit Card Fraud.csv')"
   ]
  },
  {
   "cell_type": "code",
   "execution_count": 3,
   "metadata": {},
   "outputs": [
    {
     "data": {
      "text/html": [
       "<div>\n",
       "<style scoped>\n",
       "    .dataframe tbody tr th:only-of-type {\n",
       "        vertical-align: middle;\n",
       "    }\n",
       "\n",
       "    .dataframe tbody tr th {\n",
       "        vertical-align: top;\n",
       "    }\n",
       "\n",
       "    .dataframe thead th {\n",
       "        text-align: right;\n",
       "    }\n",
       "</style>\n",
       "<table border=\"1\" class=\"dataframe\">\n",
       "  <thead>\n",
       "    <tr style=\"text-align: right;\">\n",
       "      <th></th>\n",
       "      <th>over_draft</th>\n",
       "      <th>credit_usage</th>\n",
       "      <th>credit_history</th>\n",
       "      <th>purpose</th>\n",
       "      <th>current_balance</th>\n",
       "      <th>Average_Credit_Balance</th>\n",
       "      <th>employment</th>\n",
       "      <th>location</th>\n",
       "      <th>personal_status</th>\n",
       "      <th>other_parties</th>\n",
       "      <th>...</th>\n",
       "      <th>property_magnitude</th>\n",
       "      <th>cc_age</th>\n",
       "      <th>other_payment_plans</th>\n",
       "      <th>housing</th>\n",
       "      <th>existing_credits</th>\n",
       "      <th>job</th>\n",
       "      <th>num_dependents</th>\n",
       "      <th>own_telephone</th>\n",
       "      <th>foreign_worker</th>\n",
       "      <th>class</th>\n",
       "    </tr>\n",
       "  </thead>\n",
       "  <tbody>\n",
       "    <tr>\n",
       "      <th>0</th>\n",
       "      <td>&lt;0</td>\n",
       "      <td>6</td>\n",
       "      <td>critical/other existing credit</td>\n",
       "      <td>radio/tv</td>\n",
       "      <td>1169</td>\n",
       "      <td>no known savings</td>\n",
       "      <td>&gt;=7</td>\n",
       "      <td>4</td>\n",
       "      <td>male single</td>\n",
       "      <td>none</td>\n",
       "      <td>...</td>\n",
       "      <td>real estate</td>\n",
       "      <td>67</td>\n",
       "      <td>none</td>\n",
       "      <td>own</td>\n",
       "      <td>2</td>\n",
       "      <td>skilled</td>\n",
       "      <td>1</td>\n",
       "      <td>yes</td>\n",
       "      <td>yes</td>\n",
       "      <td>good</td>\n",
       "    </tr>\n",
       "    <tr>\n",
       "      <th>1</th>\n",
       "      <td>0&lt;=X&lt;200</td>\n",
       "      <td>48</td>\n",
       "      <td>existing paid</td>\n",
       "      <td>radio/tv</td>\n",
       "      <td>5951</td>\n",
       "      <td>&lt;100</td>\n",
       "      <td>1&lt;=X&lt;4</td>\n",
       "      <td>2</td>\n",
       "      <td>female div/dep/mar</td>\n",
       "      <td>none</td>\n",
       "      <td>...</td>\n",
       "      <td>real estate</td>\n",
       "      <td>22</td>\n",
       "      <td>none</td>\n",
       "      <td>own</td>\n",
       "      <td>1</td>\n",
       "      <td>skilled</td>\n",
       "      <td>1</td>\n",
       "      <td>none</td>\n",
       "      <td>yes</td>\n",
       "      <td>bad</td>\n",
       "    </tr>\n",
       "    <tr>\n",
       "      <th>2</th>\n",
       "      <td>no checking</td>\n",
       "      <td>12</td>\n",
       "      <td>critical/other existing credit</td>\n",
       "      <td>education</td>\n",
       "      <td>2096</td>\n",
       "      <td>&lt;100</td>\n",
       "      <td>4&lt;=X&lt;7</td>\n",
       "      <td>2</td>\n",
       "      <td>male single</td>\n",
       "      <td>none</td>\n",
       "      <td>...</td>\n",
       "      <td>real estate</td>\n",
       "      <td>49</td>\n",
       "      <td>none</td>\n",
       "      <td>own</td>\n",
       "      <td>1</td>\n",
       "      <td>unskilled resident</td>\n",
       "      <td>2</td>\n",
       "      <td>none</td>\n",
       "      <td>yes</td>\n",
       "      <td>good</td>\n",
       "    </tr>\n",
       "    <tr>\n",
       "      <th>3</th>\n",
       "      <td>&lt;0</td>\n",
       "      <td>42</td>\n",
       "      <td>existing paid</td>\n",
       "      <td>furniture/equipment</td>\n",
       "      <td>7882</td>\n",
       "      <td>&lt;100</td>\n",
       "      <td>4&lt;=X&lt;7</td>\n",
       "      <td>2</td>\n",
       "      <td>male single</td>\n",
       "      <td>guarantor</td>\n",
       "      <td>...</td>\n",
       "      <td>life insurance</td>\n",
       "      <td>45</td>\n",
       "      <td>none</td>\n",
       "      <td>for free</td>\n",
       "      <td>1</td>\n",
       "      <td>skilled</td>\n",
       "      <td>2</td>\n",
       "      <td>none</td>\n",
       "      <td>yes</td>\n",
       "      <td>good</td>\n",
       "    </tr>\n",
       "    <tr>\n",
       "      <th>4</th>\n",
       "      <td>&lt;0</td>\n",
       "      <td>24</td>\n",
       "      <td>delayed previously</td>\n",
       "      <td>new car</td>\n",
       "      <td>4870</td>\n",
       "      <td>&lt;100</td>\n",
       "      <td>1&lt;=X&lt;4</td>\n",
       "      <td>3</td>\n",
       "      <td>male single</td>\n",
       "      <td>none</td>\n",
       "      <td>...</td>\n",
       "      <td>no known property</td>\n",
       "      <td>53</td>\n",
       "      <td>none</td>\n",
       "      <td>for free</td>\n",
       "      <td>2</td>\n",
       "      <td>skilled</td>\n",
       "      <td>2</td>\n",
       "      <td>none</td>\n",
       "      <td>yes</td>\n",
       "      <td>bad</td>\n",
       "    </tr>\n",
       "    <tr>\n",
       "      <th>...</th>\n",
       "      <td>...</td>\n",
       "      <td>...</td>\n",
       "      <td>...</td>\n",
       "      <td>...</td>\n",
       "      <td>...</td>\n",
       "      <td>...</td>\n",
       "      <td>...</td>\n",
       "      <td>...</td>\n",
       "      <td>...</td>\n",
       "      <td>...</td>\n",
       "      <td>...</td>\n",
       "      <td>...</td>\n",
       "      <td>...</td>\n",
       "      <td>...</td>\n",
       "      <td>...</td>\n",
       "      <td>...</td>\n",
       "      <td>...</td>\n",
       "      <td>...</td>\n",
       "      <td>...</td>\n",
       "      <td>...</td>\n",
       "      <td>...</td>\n",
       "    </tr>\n",
       "    <tr>\n",
       "      <th>995</th>\n",
       "      <td>no checking</td>\n",
       "      <td>12</td>\n",
       "      <td>existing paid</td>\n",
       "      <td>furniture/equipment</td>\n",
       "      <td>1736</td>\n",
       "      <td>&lt;100</td>\n",
       "      <td>4&lt;=X&lt;7</td>\n",
       "      <td>3</td>\n",
       "      <td>female div/dep/mar</td>\n",
       "      <td>none</td>\n",
       "      <td>...</td>\n",
       "      <td>real estate</td>\n",
       "      <td>31</td>\n",
       "      <td>none</td>\n",
       "      <td>own</td>\n",
       "      <td>1</td>\n",
       "      <td>unskilled resident</td>\n",
       "      <td>1</td>\n",
       "      <td>none</td>\n",
       "      <td>yes</td>\n",
       "      <td>good</td>\n",
       "    </tr>\n",
       "    <tr>\n",
       "      <th>996</th>\n",
       "      <td>&lt;0</td>\n",
       "      <td>30</td>\n",
       "      <td>existing paid</td>\n",
       "      <td>used car</td>\n",
       "      <td>3857</td>\n",
       "      <td>&lt;100</td>\n",
       "      <td>1&lt;=X&lt;4</td>\n",
       "      <td>4</td>\n",
       "      <td>male div/sep</td>\n",
       "      <td>none</td>\n",
       "      <td>...</td>\n",
       "      <td>life insurance</td>\n",
       "      <td>40</td>\n",
       "      <td>none</td>\n",
       "      <td>own</td>\n",
       "      <td>1</td>\n",
       "      <td>high qualif/self emp/mgmt</td>\n",
       "      <td>1</td>\n",
       "      <td>yes</td>\n",
       "      <td>yes</td>\n",
       "      <td>good</td>\n",
       "    </tr>\n",
       "    <tr>\n",
       "      <th>997</th>\n",
       "      <td>no checking</td>\n",
       "      <td>12</td>\n",
       "      <td>existing paid</td>\n",
       "      <td>radio/tv</td>\n",
       "      <td>804</td>\n",
       "      <td>&lt;100</td>\n",
       "      <td>&gt;=7</td>\n",
       "      <td>4</td>\n",
       "      <td>male single</td>\n",
       "      <td>none</td>\n",
       "      <td>...</td>\n",
       "      <td>car</td>\n",
       "      <td>38</td>\n",
       "      <td>none</td>\n",
       "      <td>own</td>\n",
       "      <td>1</td>\n",
       "      <td>skilled</td>\n",
       "      <td>1</td>\n",
       "      <td>none</td>\n",
       "      <td>yes</td>\n",
       "      <td>good</td>\n",
       "    </tr>\n",
       "    <tr>\n",
       "      <th>998</th>\n",
       "      <td>&lt;0</td>\n",
       "      <td>45</td>\n",
       "      <td>existing paid</td>\n",
       "      <td>radio/tv</td>\n",
       "      <td>1845</td>\n",
       "      <td>&lt;100</td>\n",
       "      <td>1&lt;=X&lt;4</td>\n",
       "      <td>4</td>\n",
       "      <td>male single</td>\n",
       "      <td>none</td>\n",
       "      <td>...</td>\n",
       "      <td>no known property</td>\n",
       "      <td>23</td>\n",
       "      <td>none</td>\n",
       "      <td>for free</td>\n",
       "      <td>1</td>\n",
       "      <td>skilled</td>\n",
       "      <td>1</td>\n",
       "      <td>yes</td>\n",
       "      <td>yes</td>\n",
       "      <td>bad</td>\n",
       "    </tr>\n",
       "    <tr>\n",
       "      <th>999</th>\n",
       "      <td>0&lt;=X&lt;200</td>\n",
       "      <td>45</td>\n",
       "      <td>critical/other existing credit</td>\n",
       "      <td>used car</td>\n",
       "      <td>4576</td>\n",
       "      <td>100&lt;=X&lt;500</td>\n",
       "      <td>unemployed</td>\n",
       "      <td>3</td>\n",
       "      <td>male single</td>\n",
       "      <td>none</td>\n",
       "      <td>...</td>\n",
       "      <td>car</td>\n",
       "      <td>27</td>\n",
       "      <td>none</td>\n",
       "      <td>own</td>\n",
       "      <td>1</td>\n",
       "      <td>skilled</td>\n",
       "      <td>1</td>\n",
       "      <td>none</td>\n",
       "      <td>yes</td>\n",
       "      <td>good</td>\n",
       "    </tr>\n",
       "  </tbody>\n",
       "</table>\n",
       "<p>1000 rows × 21 columns</p>\n",
       "</div>"
      ],
      "text/plain": [
       "      over_draft  credit_usage                  credit_history  \\\n",
       "0             <0             6  critical/other existing credit   \n",
       "1       0<=X<200            48                   existing paid   \n",
       "2    no checking            12  critical/other existing credit   \n",
       "3             <0            42                   existing paid   \n",
       "4             <0            24              delayed previously   \n",
       "..           ...           ...                             ...   \n",
       "995  no checking            12                   existing paid   \n",
       "996           <0            30                   existing paid   \n",
       "997  no checking            12                   existing paid   \n",
       "998           <0            45                   existing paid   \n",
       "999     0<=X<200            45  critical/other existing credit   \n",
       "\n",
       "                 purpose  current_balance Average_Credit_Balance  employment  \\\n",
       "0               radio/tv             1169       no known savings         >=7   \n",
       "1               radio/tv             5951                   <100      1<=X<4   \n",
       "2              education             2096                   <100      4<=X<7   \n",
       "3    furniture/equipment             7882                   <100      4<=X<7   \n",
       "4                new car             4870                   <100      1<=X<4   \n",
       "..                   ...              ...                    ...         ...   \n",
       "995  furniture/equipment             1736                   <100      4<=X<7   \n",
       "996             used car             3857                   <100      1<=X<4   \n",
       "997             radio/tv              804                   <100         >=7   \n",
       "998             radio/tv             1845                   <100      1<=X<4   \n",
       "999             used car             4576             100<=X<500  unemployed   \n",
       "\n",
       "     location     personal_status other_parties  ...  property_magnitude  \\\n",
       "0           4         male single          none  ...         real estate   \n",
       "1           2  female div/dep/mar          none  ...         real estate   \n",
       "2           2         male single          none  ...         real estate   \n",
       "3           2         male single     guarantor  ...      life insurance   \n",
       "4           3         male single          none  ...   no known property   \n",
       "..        ...                 ...           ...  ...                 ...   \n",
       "995         3  female div/dep/mar          none  ...         real estate   \n",
       "996         4        male div/sep          none  ...      life insurance   \n",
       "997         4         male single          none  ...                 car   \n",
       "998         4         male single          none  ...   no known property   \n",
       "999         3         male single          none  ...                 car   \n",
       "\n",
       "    cc_age  other_payment_plans   housing existing_credits  \\\n",
       "0       67                 none       own                2   \n",
       "1       22                 none       own                1   \n",
       "2       49                 none       own                1   \n",
       "3       45                 none  for free                1   \n",
       "4       53                 none  for free                2   \n",
       "..     ...                  ...       ...              ...   \n",
       "995     31                 none       own                1   \n",
       "996     40                 none       own                1   \n",
       "997     38                 none       own                1   \n",
       "998     23                 none  for free                1   \n",
       "999     27                 none       own                1   \n",
       "\n",
       "                           job num_dependents  own_telephone foreign_worker  \\\n",
       "0                      skilled              1            yes            yes   \n",
       "1                      skilled              1           none            yes   \n",
       "2           unskilled resident              2           none            yes   \n",
       "3                      skilled              2           none            yes   \n",
       "4                      skilled              2           none            yes   \n",
       "..                         ...            ...            ...            ...   \n",
       "995         unskilled resident              1           none            yes   \n",
       "996  high qualif/self emp/mgmt              1            yes            yes   \n",
       "997                    skilled              1           none            yes   \n",
       "998                    skilled              1            yes            yes   \n",
       "999                    skilled              1           none            yes   \n",
       "\n",
       "    class  \n",
       "0    good  \n",
       "1     bad  \n",
       "2    good  \n",
       "3    good  \n",
       "4     bad  \n",
       "..    ...  \n",
       "995  good  \n",
       "996  good  \n",
       "997  good  \n",
       "998   bad  \n",
       "999  good  \n",
       "\n",
       "[1000 rows x 21 columns]"
      ]
     },
     "execution_count": 3,
     "metadata": {},
     "output_type": "execute_result"
    }
   ],
   "source": [
    "data"
   ]
  },
  {
   "cell_type": "markdown",
   "metadata": {},
   "source": [
    "### Exploratory Data Analysis"
   ]
  },
  {
   "cell_type": "code",
   "execution_count": 108,
   "metadata": {},
   "outputs": [],
   "source": [
    "ds = data.copy()"
   ]
  },
  {
   "cell_type": "code",
   "execution_count": 109,
   "metadata": {},
   "outputs": [
    {
     "data": {
      "text/html": [
       "<div>\n",
       "<style scoped>\n",
       "    .dataframe tbody tr th:only-of-type {\n",
       "        vertical-align: middle;\n",
       "    }\n",
       "\n",
       "    .dataframe tbody tr th {\n",
       "        vertical-align: top;\n",
       "    }\n",
       "\n",
       "    .dataframe thead th {\n",
       "        text-align: right;\n",
       "    }\n",
       "</style>\n",
       "<table border=\"1\" class=\"dataframe\">\n",
       "  <thead>\n",
       "    <tr style=\"text-align: right;\">\n",
       "      <th></th>\n",
       "      <th>over_draft</th>\n",
       "      <th>credit_usage</th>\n",
       "      <th>credit_history</th>\n",
       "      <th>purpose</th>\n",
       "      <th>current_balance</th>\n",
       "      <th>Average_Credit_Balance</th>\n",
       "      <th>employment</th>\n",
       "      <th>gender</th>\n",
       "      <th>other_parties</th>\n",
       "      <th>residence_since</th>\n",
       "      <th>property_magnitude</th>\n",
       "      <th>age</th>\n",
       "      <th>other_payment_plans</th>\n",
       "      <th>housing</th>\n",
       "      <th>existing_credits</th>\n",
       "      <th>job</th>\n",
       "      <th>num_dependents</th>\n",
       "      <th>own_telephone</th>\n",
       "      <th>foreign_worker</th>\n",
       "      <th>class</th>\n",
       "    </tr>\n",
       "  </thead>\n",
       "  <tbody>\n",
       "    <tr>\n",
       "      <th>0</th>\n",
       "      <td>no</td>\n",
       "      <td>6</td>\n",
       "      <td>critical</td>\n",
       "      <td>radio/tv</td>\n",
       "      <td>1169</td>\n",
       "      <td>no_savings</td>\n",
       "      <td>employed</td>\n",
       "      <td>male</td>\n",
       "      <td>none</td>\n",
       "      <td>4</td>\n",
       "      <td>real estate</td>\n",
       "      <td>67</td>\n",
       "      <td>none</td>\n",
       "      <td>own</td>\n",
       "      <td>2</td>\n",
       "      <td>skilled</td>\n",
       "      <td>1</td>\n",
       "      <td>yes</td>\n",
       "      <td>yes</td>\n",
       "      <td>good</td>\n",
       "    </tr>\n",
       "    <tr>\n",
       "      <th>1</th>\n",
       "      <td>no</td>\n",
       "      <td>48</td>\n",
       "      <td>all paid</td>\n",
       "      <td>radio/tv</td>\n",
       "      <td>5951</td>\n",
       "      <td>below_100</td>\n",
       "      <td>employed</td>\n",
       "      <td>female</td>\n",
       "      <td>none</td>\n",
       "      <td>2</td>\n",
       "      <td>real estate</td>\n",
       "      <td>22</td>\n",
       "      <td>none</td>\n",
       "      <td>own</td>\n",
       "      <td>1</td>\n",
       "      <td>skilled</td>\n",
       "      <td>1</td>\n",
       "      <td>none</td>\n",
       "      <td>yes</td>\n",
       "      <td>bad</td>\n",
       "    </tr>\n",
       "    <tr>\n",
       "      <th>2</th>\n",
       "      <td>unchecked</td>\n",
       "      <td>12</td>\n",
       "      <td>critical</td>\n",
       "      <td>education</td>\n",
       "      <td>2096</td>\n",
       "      <td>below_100</td>\n",
       "      <td>employed</td>\n",
       "      <td>male</td>\n",
       "      <td>none</td>\n",
       "      <td>3</td>\n",
       "      <td>real estate</td>\n",
       "      <td>49</td>\n",
       "      <td>none</td>\n",
       "      <td>own</td>\n",
       "      <td>1</td>\n",
       "      <td>unskilled</td>\n",
       "      <td>2</td>\n",
       "      <td>none</td>\n",
       "      <td>yes</td>\n",
       "      <td>good</td>\n",
       "    </tr>\n",
       "    <tr>\n",
       "      <th>3</th>\n",
       "      <td>no</td>\n",
       "      <td>42</td>\n",
       "      <td>all paid</td>\n",
       "      <td>furniture/equipment</td>\n",
       "      <td>7882</td>\n",
       "      <td>below_100</td>\n",
       "      <td>employed</td>\n",
       "      <td>male</td>\n",
       "      <td>guarantor</td>\n",
       "      <td>4</td>\n",
       "      <td>life insurance</td>\n",
       "      <td>45</td>\n",
       "      <td>none</td>\n",
       "      <td>for free</td>\n",
       "      <td>1</td>\n",
       "      <td>skilled</td>\n",
       "      <td>2</td>\n",
       "      <td>none</td>\n",
       "      <td>yes</td>\n",
       "      <td>good</td>\n",
       "    </tr>\n",
       "    <tr>\n",
       "      <th>4</th>\n",
       "      <td>no</td>\n",
       "      <td>24</td>\n",
       "      <td>delayed</td>\n",
       "      <td>new car</td>\n",
       "      <td>4870</td>\n",
       "      <td>below_100</td>\n",
       "      <td>employed</td>\n",
       "      <td>male</td>\n",
       "      <td>none</td>\n",
       "      <td>4</td>\n",
       "      <td>no known property</td>\n",
       "      <td>53</td>\n",
       "      <td>none</td>\n",
       "      <td>for free</td>\n",
       "      <td>2</td>\n",
       "      <td>skilled</td>\n",
       "      <td>2</td>\n",
       "      <td>none</td>\n",
       "      <td>yes</td>\n",
       "      <td>bad</td>\n",
       "    </tr>\n",
       "    <tr>\n",
       "      <th>...</th>\n",
       "      <td>...</td>\n",
       "      <td>...</td>\n",
       "      <td>...</td>\n",
       "      <td>...</td>\n",
       "      <td>...</td>\n",
       "      <td>...</td>\n",
       "      <td>...</td>\n",
       "      <td>...</td>\n",
       "      <td>...</td>\n",
       "      <td>...</td>\n",
       "      <td>...</td>\n",
       "      <td>...</td>\n",
       "      <td>...</td>\n",
       "      <td>...</td>\n",
       "      <td>...</td>\n",
       "      <td>...</td>\n",
       "      <td>...</td>\n",
       "      <td>...</td>\n",
       "      <td>...</td>\n",
       "      <td>...</td>\n",
       "    </tr>\n",
       "    <tr>\n",
       "      <th>995</th>\n",
       "      <td>unchecked</td>\n",
       "      <td>12</td>\n",
       "      <td>all paid</td>\n",
       "      <td>furniture/equipment</td>\n",
       "      <td>1736</td>\n",
       "      <td>below_100</td>\n",
       "      <td>employed</td>\n",
       "      <td>female</td>\n",
       "      <td>none</td>\n",
       "      <td>4</td>\n",
       "      <td>real estate</td>\n",
       "      <td>31</td>\n",
       "      <td>none</td>\n",
       "      <td>own</td>\n",
       "      <td>1</td>\n",
       "      <td>unskilled</td>\n",
       "      <td>1</td>\n",
       "      <td>none</td>\n",
       "      <td>yes</td>\n",
       "      <td>good</td>\n",
       "    </tr>\n",
       "    <tr>\n",
       "      <th>996</th>\n",
       "      <td>no</td>\n",
       "      <td>30</td>\n",
       "      <td>all paid</td>\n",
       "      <td>used car</td>\n",
       "      <td>3857</td>\n",
       "      <td>below_100</td>\n",
       "      <td>employed</td>\n",
       "      <td>male</td>\n",
       "      <td>none</td>\n",
       "      <td>4</td>\n",
       "      <td>life insurance</td>\n",
       "      <td>40</td>\n",
       "      <td>none</td>\n",
       "      <td>own</td>\n",
       "      <td>1</td>\n",
       "      <td>self_employed</td>\n",
       "      <td>1</td>\n",
       "      <td>yes</td>\n",
       "      <td>yes</td>\n",
       "      <td>good</td>\n",
       "    </tr>\n",
       "    <tr>\n",
       "      <th>997</th>\n",
       "      <td>unchecked</td>\n",
       "      <td>12</td>\n",
       "      <td>all paid</td>\n",
       "      <td>radio/tv</td>\n",
       "      <td>804</td>\n",
       "      <td>below_100</td>\n",
       "      <td>employed</td>\n",
       "      <td>male</td>\n",
       "      <td>none</td>\n",
       "      <td>4</td>\n",
       "      <td>car</td>\n",
       "      <td>38</td>\n",
       "      <td>none</td>\n",
       "      <td>own</td>\n",
       "      <td>1</td>\n",
       "      <td>skilled</td>\n",
       "      <td>1</td>\n",
       "      <td>none</td>\n",
       "      <td>yes</td>\n",
       "      <td>good</td>\n",
       "    </tr>\n",
       "    <tr>\n",
       "      <th>998</th>\n",
       "      <td>no</td>\n",
       "      <td>45</td>\n",
       "      <td>all paid</td>\n",
       "      <td>radio/tv</td>\n",
       "      <td>1845</td>\n",
       "      <td>below_100</td>\n",
       "      <td>employed</td>\n",
       "      <td>male</td>\n",
       "      <td>none</td>\n",
       "      <td>4</td>\n",
       "      <td>no known property</td>\n",
       "      <td>23</td>\n",
       "      <td>none</td>\n",
       "      <td>for free</td>\n",
       "      <td>1</td>\n",
       "      <td>skilled</td>\n",
       "      <td>1</td>\n",
       "      <td>yes</td>\n",
       "      <td>yes</td>\n",
       "      <td>bad</td>\n",
       "    </tr>\n",
       "    <tr>\n",
       "      <th>999</th>\n",
       "      <td>no</td>\n",
       "      <td>45</td>\n",
       "      <td>critical</td>\n",
       "      <td>used car</td>\n",
       "      <td>4576</td>\n",
       "      <td>below_500</td>\n",
       "      <td>unemployed</td>\n",
       "      <td>male</td>\n",
       "      <td>none</td>\n",
       "      <td>4</td>\n",
       "      <td>car</td>\n",
       "      <td>27</td>\n",
       "      <td>none</td>\n",
       "      <td>own</td>\n",
       "      <td>1</td>\n",
       "      <td>skilled</td>\n",
       "      <td>1</td>\n",
       "      <td>none</td>\n",
       "      <td>yes</td>\n",
       "      <td>good</td>\n",
       "    </tr>\n",
       "  </tbody>\n",
       "</table>\n",
       "<p>1000 rows × 20 columns</p>\n",
       "</div>"
      ],
      "text/plain": [
       "    over_draft  credit_usage credit_history              purpose  \\\n",
       "0           no             6       critical             radio/tv   \n",
       "1           no            48       all paid             radio/tv   \n",
       "2    unchecked            12       critical            education   \n",
       "3           no            42       all paid  furniture/equipment   \n",
       "4           no            24        delayed              new car   \n",
       "..         ...           ...            ...                  ...   \n",
       "995  unchecked            12       all paid  furniture/equipment   \n",
       "996         no            30       all paid             used car   \n",
       "997  unchecked            12       all paid             radio/tv   \n",
       "998         no            45       all paid             radio/tv   \n",
       "999         no            45       critical             used car   \n",
       "\n",
       "     current_balance Average_Credit_Balance  employment  gender other_parties  \\\n",
       "0               1169             no_savings    employed    male          none   \n",
       "1               5951              below_100    employed  female          none   \n",
       "2               2096              below_100    employed    male          none   \n",
       "3               7882              below_100    employed    male     guarantor   \n",
       "4               4870              below_100    employed    male          none   \n",
       "..               ...                    ...         ...     ...           ...   \n",
       "995             1736              below_100    employed  female          none   \n",
       "996             3857              below_100    employed    male          none   \n",
       "997              804              below_100    employed    male          none   \n",
       "998             1845              below_100    employed    male          none   \n",
       "999             4576              below_500  unemployed    male          none   \n",
       "\n",
       "     residence_since property_magnitude  age other_payment_plans   housing  \\\n",
       "0                  4        real estate   67                none       own   \n",
       "1                  2        real estate   22                none       own   \n",
       "2                  3        real estate   49                none       own   \n",
       "3                  4     life insurance   45                none  for free   \n",
       "4                  4  no known property   53                none  for free   \n",
       "..               ...                ...  ...                 ...       ...   \n",
       "995                4        real estate   31                none       own   \n",
       "996                4     life insurance   40                none       own   \n",
       "997                4                car   38                none       own   \n",
       "998                4  no known property   23                none  for free   \n",
       "999                4                car   27                none       own   \n",
       "\n",
       "     existing_credits            job  num_dependents own_telephone  \\\n",
       "0                   2        skilled               1           yes   \n",
       "1                   1        skilled               1          none   \n",
       "2                   1      unskilled               2          none   \n",
       "3                   1        skilled               2          none   \n",
       "4                   2        skilled               2          none   \n",
       "..                ...            ...             ...           ...   \n",
       "995                 1      unskilled               1          none   \n",
       "996                 1  self_employed               1           yes   \n",
       "997                 1        skilled               1          none   \n",
       "998                 1        skilled               1           yes   \n",
       "999                 1        skilled               1          none   \n",
       "\n",
       "    foreign_worker class  \n",
       "0              yes  good  \n",
       "1              yes   bad  \n",
       "2              yes  good  \n",
       "3              yes  good  \n",
       "4              yes   bad  \n",
       "..             ...   ...  \n",
       "995            yes  good  \n",
       "996            yes  good  \n",
       "997            yes  good  \n",
       "998            yes   bad  \n",
       "999            yes  good  \n",
       "\n",
       "[1000 rows x 20 columns]"
      ]
     },
     "execution_count": 109,
     "metadata": {},
     "output_type": "execute_result"
    }
   ],
   "source": [
    "# Clean the Ovr_Draft feature\n",
    "ds['over_draft'] = ds['over_draft'].replace({'no checking': 'unchecked', '<0': 'no', '0<=X<200': 'no', '>=200' : 'yes'})\n",
    "\n",
    "# Clean the Credit History feature\n",
    "ds['credit_history'] = ds['credit_history'].replace({'critical/other existing credit':'critical','delayed previously':'delayed',\n",
    "                        'no credits/all paid': 'all paid', 'existing paid': 'all paid'})\n",
    "\n",
    "# Clean the Average_Credit_Balance feature\n",
    "ds['Average_Credit_Balance'] = ds['Average_Credit_Balance'].replace({'<100':'below_100', 'no known savings': 'no_savings',\n",
    "                           '100<=X<500': 'below_500', '500<=X<1000': 'below_1000', '>=1000':'above_1000' })\n",
    "\n",
    "# Clean the employment feature\n",
    "ds['employment'] = ds['employment'].replace({'1<=X<4':'employed','>=7':'employed', '4<=X<7': 'employed', '<1':'unemployed'}) \n",
    "\n",
    "\n",
    "# Split the personal_status feature into two columns\n",
    "ds[['gender', 'marital_status']] = ds['personal_status'].str.split(pat = \" \",expand = True)\n",
    "# Drop Marital status as no clear feature could be gotten\n",
    "ds.drop(['marital_status'],inplace =True, axis = 1)\n",
    "\n",
    "\n",
    "ds['job'] = ds['job'].replace({'unskilled resident': 'unskilled', 'high qualif/self emp/mgmt': 'self_employed',\n",
    "                                'unemp/unskilled non res': 'unemeployed'})\n",
    "\n",
    "# Rename columns\n",
    "ds.rename({'cc_age': 'age'},axis = 1, inplace = True)\n",
    "\n",
    "# Change the age feature location\n",
    "gender_col = ds.pop('gender')\n",
    "ds.insert(9, 'gender', gender_col)\n",
    "\n",
    "ds.drop(['personal_status', 'location'], inplace = True, axis = 1)\n",
    "ds"
   ]
  },
  {
   "cell_type": "code",
   "execution_count": 6,
   "metadata": {},
   "outputs": [
    {
     "data": {
      "text/html": [
       "<div>\n",
       "<style scoped>\n",
       "    .dataframe tbody tr th:only-of-type {\n",
       "        vertical-align: middle;\n",
       "    }\n",
       "\n",
       "    .dataframe tbody tr th {\n",
       "        vertical-align: top;\n",
       "    }\n",
       "\n",
       "    .dataframe thead th {\n",
       "        text-align: right;\n",
       "    }\n",
       "</style>\n",
       "<table border=\"1\" class=\"dataframe\">\n",
       "  <thead>\n",
       "    <tr style=\"text-align: right;\">\n",
       "      <th></th>\n",
       "      <th>credit_usage</th>\n",
       "      <th>current_balance</th>\n",
       "      <th>residence_since</th>\n",
       "      <th>age</th>\n",
       "      <th>existing_credits</th>\n",
       "      <th>num_dependents</th>\n",
       "    </tr>\n",
       "  </thead>\n",
       "  <tbody>\n",
       "    <tr>\n",
       "      <th>count</th>\n",
       "      <td>1000.000000</td>\n",
       "      <td>1000.000000</td>\n",
       "      <td>1000.000000</td>\n",
       "      <td>1000.000000</td>\n",
       "      <td>1000.000000</td>\n",
       "      <td>1000.000000</td>\n",
       "    </tr>\n",
       "    <tr>\n",
       "      <th>mean</th>\n",
       "      <td>20.903000</td>\n",
       "      <td>3271.258000</td>\n",
       "      <td>2.845000</td>\n",
       "      <td>35.546000</td>\n",
       "      <td>1.407000</td>\n",
       "      <td>1.155000</td>\n",
       "    </tr>\n",
       "    <tr>\n",
       "      <th>std</th>\n",
       "      <td>12.058814</td>\n",
       "      <td>2822.736876</td>\n",
       "      <td>1.103718</td>\n",
       "      <td>11.375469</td>\n",
       "      <td>0.577654</td>\n",
       "      <td>0.362086</td>\n",
       "    </tr>\n",
       "    <tr>\n",
       "      <th>min</th>\n",
       "      <td>4.000000</td>\n",
       "      <td>250.000000</td>\n",
       "      <td>1.000000</td>\n",
       "      <td>19.000000</td>\n",
       "      <td>1.000000</td>\n",
       "      <td>1.000000</td>\n",
       "    </tr>\n",
       "    <tr>\n",
       "      <th>25%</th>\n",
       "      <td>12.000000</td>\n",
       "      <td>1365.500000</td>\n",
       "      <td>2.000000</td>\n",
       "      <td>27.000000</td>\n",
       "      <td>1.000000</td>\n",
       "      <td>1.000000</td>\n",
       "    </tr>\n",
       "    <tr>\n",
       "      <th>50%</th>\n",
       "      <td>18.000000</td>\n",
       "      <td>2319.500000</td>\n",
       "      <td>3.000000</td>\n",
       "      <td>33.000000</td>\n",
       "      <td>1.000000</td>\n",
       "      <td>1.000000</td>\n",
       "    </tr>\n",
       "    <tr>\n",
       "      <th>75%</th>\n",
       "      <td>24.000000</td>\n",
       "      <td>3972.250000</td>\n",
       "      <td>4.000000</td>\n",
       "      <td>42.000000</td>\n",
       "      <td>2.000000</td>\n",
       "      <td>1.000000</td>\n",
       "    </tr>\n",
       "    <tr>\n",
       "      <th>max</th>\n",
       "      <td>72.000000</td>\n",
       "      <td>18424.000000</td>\n",
       "      <td>4.000000</td>\n",
       "      <td>75.000000</td>\n",
       "      <td>4.000000</td>\n",
       "      <td>2.000000</td>\n",
       "    </tr>\n",
       "  </tbody>\n",
       "</table>\n",
       "</div>"
      ],
      "text/plain": [
       "       credit_usage  current_balance  residence_since          age  \\\n",
       "count   1000.000000      1000.000000      1000.000000  1000.000000   \n",
       "mean      20.903000      3271.258000         2.845000    35.546000   \n",
       "std       12.058814      2822.736876         1.103718    11.375469   \n",
       "min        4.000000       250.000000         1.000000    19.000000   \n",
       "25%       12.000000      1365.500000         2.000000    27.000000   \n",
       "50%       18.000000      2319.500000         3.000000    33.000000   \n",
       "75%       24.000000      3972.250000         4.000000    42.000000   \n",
       "max       72.000000     18424.000000         4.000000    75.000000   \n",
       "\n",
       "       existing_credits  num_dependents  \n",
       "count       1000.000000     1000.000000  \n",
       "mean           1.407000        1.155000  \n",
       "std            0.577654        0.362086  \n",
       "min            1.000000        1.000000  \n",
       "25%            1.000000        1.000000  \n",
       "50%            1.000000        1.000000  \n",
       "75%            2.000000        1.000000  \n",
       "max            4.000000        2.000000  "
      ]
     },
     "execution_count": 6,
     "metadata": {},
     "output_type": "execute_result"
    }
   ],
   "source": [
    "ds.describe()"
   ]
  },
  {
   "cell_type": "markdown",
   "metadata": {},
   "source": [
    "### Explanatory Analysis"
   ]
  },
  {
   "cell_type": "markdown",
   "metadata": {},
   "source": [
    "###### UniVariate Analysis"
   ]
  },
  {
   "cell_type": "code",
   "execution_count": 54,
   "metadata": {},
   "outputs": [
    {
     "data": {
      "application/vnd.plotly.v1+json": {
       "config": {
        "plotlyServerURL": "https://plot.ly"
       },
       "data": [
        {
         "alignmentgroup": "True",
         "bingroup": "x",
         "hovertemplate": "credit_history=%{x}<br>count=%{y}<extra></extra>",
         "legendgroup": "",
         "marker": {
          "color": "#03DAC5",
          "pattern": {
           "shape": ""
          }
         },
         "name": "",
         "offsetgroup": "",
         "orientation": "v",
         "showlegend": false,
         "type": "histogram",
         "x": [
          "critical/other existing credit",
          "existing paid",
          "critical/other existing credit",
          "existing paid",
          "delayed previously",
          "existing paid",
          "existing paid",
          "existing paid",
          "existing paid",
          "critical/other existing credit",
          "existing paid",
          "existing paid",
          "existing paid",
          "critical/other existing credit",
          "existing paid",
          "existing paid",
          "critical/other existing credit",
          "no credits/all paid",
          "existing paid",
          "existing paid",
          "critical/other existing credit",
          "existing paid",
          "critical/other existing credit",
          "critical/other existing credit",
          "critical/other existing credit",
          "existing paid",
          "no credits/all paid",
          "all paid",
          "existing paid",
          "delayed previously",
          "existing paid",
          "existing paid",
          "existing paid",
          "critical/other existing credit",
          "existing paid",
          "critical/other existing credit",
          "critical/other existing credit",
          "existing paid",
          "existing paid",
          "existing paid",
          "existing paid",
          "existing paid",
          "delayed previously",
          "critical/other existing credit",
          "critical/other existing credit",
          "critical/other existing credit",
          "existing paid",
          "existing paid",
          "critical/other existing credit",
          "existing paid",
          "delayed previously",
          "delayed previously",
          "existing paid",
          "existing paid",
          "delayed previously",
          "all paid",
          "existing paid",
          "critical/other existing credit",
          "existing paid",
          "critical/other existing credit",
          "existing paid",
          "critical/other existing credit",
          "no credits/all paid",
          "no credits/all paid",
          "existing paid",
          "existing paid",
          "existing paid",
          "existing paid",
          "existing paid",
          "existing paid",
          "existing paid",
          "critical/other existing credit",
          "critical/other existing credit",
          "critical/other existing credit",
          "existing paid",
          "critical/other existing credit",
          "existing paid",
          "delayed previously",
          "no credits/all paid",
          "existing paid",
          "existing paid",
          "existing paid",
          "existing paid",
          "existing paid",
          "existing paid",
          "critical/other existing credit",
          "critical/other existing credit",
          "existing paid",
          "existing paid",
          "no credits/all paid",
          "critical/other existing credit",
          "critical/other existing credit",
          "critical/other existing credit",
          "critical/other existing credit",
          "existing paid",
          "no credits/all paid",
          "critical/other existing credit",
          "existing paid",
          "critical/other existing credit",
          "delayed previously",
          "existing paid",
          "existing paid",
          "delayed previously",
          "critical/other existing credit",
          "existing paid",
          "critical/other existing credit",
          "all paid",
          "existing paid",
          "existing paid",
          "existing paid",
          "delayed previously",
          "existing paid",
          "existing paid",
          "critical/other existing credit",
          "existing paid",
          "critical/other existing credit",
          "existing paid",
          "critical/other existing credit",
          "critical/other existing credit",
          "critical/other existing credit",
          "existing paid",
          "critical/other existing credit",
          "existing paid",
          "critical/other existing credit",
          "existing paid",
          "critical/other existing credit",
          "existing paid",
          "existing paid",
          "critical/other existing credit",
          "critical/other existing credit",
          "existing paid",
          "delayed previously",
          "existing paid",
          "existing paid",
          "existing paid",
          "critical/other existing credit",
          "delayed previously",
          "existing paid",
          "critical/other existing credit",
          "existing paid",
          "existing paid",
          "existing paid",
          "existing paid",
          "existing paid",
          "critical/other existing credit",
          "all paid",
          "critical/other existing credit",
          "critical/other existing credit",
          "critical/other existing credit",
          "critical/other existing credit",
          "existing paid",
          "existing paid",
          "existing paid",
          "critical/other existing credit",
          "delayed previously",
          "existing paid",
          "critical/other existing credit",
          "all paid",
          "existing paid",
          "critical/other existing credit",
          "critical/other existing credit",
          "critical/other existing credit",
          "existing paid",
          "existing paid",
          "existing paid",
          "existing paid",
          "existing paid",
          "existing paid",
          "existing paid",
          "critical/other existing credit",
          "no credits/all paid",
          "existing paid",
          "delayed previously",
          "existing paid",
          "delayed previously",
          "all paid",
          "existing paid",
          "critical/other existing credit",
          "existing paid",
          "critical/other existing credit",
          "delayed previously",
          "delayed previously",
          "all paid",
          "critical/other existing credit",
          "critical/other existing credit",
          "critical/other existing credit",
          "all paid",
          "critical/other existing credit",
          "existing paid",
          "no credits/all paid",
          "existing paid",
          "no credits/all paid",
          "existing paid",
          "existing paid",
          "existing paid",
          "critical/other existing credit",
          "critical/other existing credit",
          "existing paid",
          "existing paid",
          "delayed previously",
          "critical/other existing credit",
          "existing paid",
          "delayed previously",
          "existing paid",
          "critical/other existing credit",
          "critical/other existing credit",
          "critical/other existing credit",
          "critical/other existing credit",
          "existing paid",
          "existing paid",
          "critical/other existing credit",
          "existing paid",
          "no credits/all paid",
          "delayed previously",
          "critical/other existing credit",
          "critical/other existing credit",
          "no credits/all paid",
          "existing paid",
          "existing paid",
          "existing paid",
          "existing paid",
          "existing paid",
          "existing paid",
          "delayed previously",
          "existing paid",
          "no credits/all paid",
          "existing paid",
          "existing paid",
          "existing paid",
          "existing paid",
          "existing paid",
          "existing paid",
          "existing paid",
          "existing paid",
          "critical/other existing credit",
          "existing paid",
          "existing paid",
          "existing paid",
          "critical/other existing credit",
          "existing paid",
          "existing paid",
          "existing paid",
          "no credits/all paid",
          "critical/other existing credit",
          "all paid",
          "existing paid",
          "critical/other existing credit",
          "no credits/all paid",
          "existing paid",
          "existing paid",
          "critical/other existing credit",
          "existing paid",
          "existing paid",
          "delayed previously",
          "existing paid",
          "delayed previously",
          "critical/other existing credit",
          "all paid",
          "existing paid",
          "critical/other existing credit",
          "existing paid",
          "existing paid",
          "critical/other existing credit",
          "critical/other existing credit",
          "critical/other existing credit",
          "existing paid",
          "critical/other existing credit",
          "existing paid",
          "existing paid",
          "existing paid",
          "existing paid",
          "critical/other existing credit",
          "all paid",
          "existing paid",
          "existing paid",
          "existing paid",
          "critical/other existing credit",
          "existing paid",
          "existing paid",
          "existing paid",
          "critical/other existing credit",
          "existing paid",
          "all paid",
          "critical/other existing credit",
          "critical/other existing credit",
          "existing paid",
          "existing paid",
          "delayed previously",
          "existing paid",
          "delayed previously",
          "existing paid",
          "existing paid",
          "critical/other existing credit",
          "critical/other existing credit",
          "critical/other existing credit",
          "existing paid",
          "existing paid",
          "existing paid",
          "existing paid",
          "critical/other existing credit",
          "existing paid",
          "no credits/all paid",
          "critical/other existing credit",
          "critical/other existing credit",
          "critical/other existing credit",
          "existing paid",
          "existing paid",
          "existing paid",
          "existing paid",
          "existing paid",
          "existing paid",
          "existing paid",
          "existing paid",
          "existing paid",
          "existing paid",
          "all paid",
          "existing paid",
          "existing paid",
          "critical/other existing credit",
          "delayed previously",
          "critical/other existing credit",
          "existing paid",
          "existing paid",
          "existing paid",
          "critical/other existing credit",
          "critical/other existing credit",
          "critical/other existing credit",
          "existing paid",
          "existing paid",
          "existing paid",
          "critical/other existing credit",
          "critical/other existing credit",
          "existing paid",
          "critical/other existing credit",
          "no credits/all paid",
          "critical/other existing credit",
          "existing paid",
          "existing paid",
          "existing paid",
          "existing paid",
          "critical/other existing credit",
          "existing paid",
          "existing paid",
          "existing paid",
          "existing paid",
          "critical/other existing credit",
          "critical/other existing credit",
          "existing paid",
          "delayed previously",
          "critical/other existing credit",
          "existing paid",
          "existing paid",
          "critical/other existing credit",
          "no credits/all paid",
          "existing paid",
          "existing paid",
          "critical/other existing credit",
          "delayed previously",
          "existing paid",
          "existing paid",
          "existing paid",
          "existing paid",
          "delayed previously",
          "existing paid",
          "existing paid",
          "existing paid",
          "critical/other existing credit",
          "existing paid",
          "existing paid",
          "existing paid",
          "existing paid",
          "critical/other existing credit",
          "critical/other existing credit",
          "critical/other existing credit",
          "all paid",
          "all paid",
          "delayed previously",
          "delayed previously",
          "existing paid",
          "critical/other existing credit",
          "existing paid",
          "existing paid",
          "existing paid",
          "existing paid",
          "delayed previously",
          "critical/other existing credit",
          "existing paid",
          "critical/other existing credit",
          "critical/other existing credit",
          "existing paid",
          "existing paid",
          "existing paid",
          "existing paid",
          "critical/other existing credit",
          "critical/other existing credit",
          "delayed previously",
          "existing paid",
          "critical/other existing credit",
          "existing paid",
          "critical/other existing credit",
          "existing paid",
          "critical/other existing credit",
          "delayed previously",
          "delayed previously",
          "delayed previously",
          "existing paid",
          "critical/other existing credit",
          "existing paid",
          "existing paid",
          "critical/other existing credit",
          "existing paid",
          "critical/other existing credit",
          "critical/other existing credit",
          "existing paid",
          "existing paid",
          "critical/other existing credit",
          "existing paid",
          "delayed previously",
          "existing paid",
          "existing paid",
          "existing paid",
          "existing paid",
          "critical/other existing credit",
          "delayed previously",
          "existing paid",
          "existing paid",
          "critical/other existing credit",
          "critical/other existing credit",
          "existing paid",
          "critical/other existing credit",
          "existing paid",
          "existing paid",
          "critical/other existing credit",
          "critical/other existing credit",
          "existing paid",
          "existing paid",
          "existing paid",
          "critical/other existing credit",
          "critical/other existing credit",
          "all paid",
          "existing paid",
          "existing paid",
          "delayed previously",
          "existing paid",
          "critical/other existing credit",
          "critical/other existing credit",
          "existing paid",
          "existing paid",
          "existing paid",
          "delayed previously",
          "critical/other existing credit",
          "existing paid",
          "no credits/all paid",
          "existing paid",
          "existing paid",
          "existing paid",
          "critical/other existing credit",
          "existing paid",
          "existing paid",
          "existing paid",
          "existing paid",
          "existing paid",
          "existing paid",
          "existing paid",
          "existing paid",
          "existing paid",
          "delayed previously",
          "delayed previously",
          "delayed previously",
          "delayed previously",
          "existing paid",
          "existing paid",
          "existing paid",
          "existing paid",
          "critical/other existing credit",
          "no credits/all paid",
          "existing paid",
          "existing paid",
          "existing paid",
          "critical/other existing credit",
          "critical/other existing credit",
          "existing paid",
          "existing paid",
          "delayed previously",
          "critical/other existing credit",
          "delayed previously",
          "existing paid",
          "existing paid",
          "existing paid",
          "existing paid",
          "critical/other existing credit",
          "no credits/all paid",
          "critical/other existing credit",
          "existing paid",
          "critical/other existing credit",
          "existing paid",
          "existing paid",
          "critical/other existing credit",
          "existing paid",
          "critical/other existing credit",
          "existing paid",
          "existing paid",
          "existing paid",
          "critical/other existing credit",
          "existing paid",
          "existing paid",
          "critical/other existing credit",
          "all paid",
          "existing paid",
          "existing paid",
          "existing paid",
          "existing paid",
          "existing paid",
          "delayed previously",
          "existing paid",
          "critical/other existing credit",
          "critical/other existing credit",
          "critical/other existing credit",
          "existing paid",
          "critical/other existing credit",
          "critical/other existing credit",
          "existing paid",
          "no credits/all paid",
          "existing paid",
          "existing paid",
          "existing paid",
          "critical/other existing credit",
          "critical/other existing credit",
          "existing paid",
          "existing paid",
          "existing paid",
          "existing paid",
          "delayed previously",
          "existing paid",
          "existing paid",
          "critical/other existing credit",
          "existing paid",
          "critical/other existing credit",
          "existing paid",
          "existing paid",
          "existing paid",
          "delayed previously",
          "existing paid",
          "existing paid",
          "critical/other existing credit",
          "delayed previously",
          "critical/other existing credit",
          "existing paid",
          "all paid",
          "critical/other existing credit",
          "critical/other existing credit",
          "all paid",
          "existing paid",
          "critical/other existing credit",
          "existing paid",
          "existing paid",
          "no credits/all paid",
          "no credits/all paid",
          "all paid",
          "critical/other existing credit",
          "existing paid",
          "all paid",
          "delayed previously",
          "existing paid",
          "delayed previously",
          "delayed previously",
          "existing paid",
          "critical/other existing credit",
          "existing paid",
          "existing paid",
          "existing paid",
          "critical/other existing credit",
          "existing paid",
          "existing paid",
          "existing paid",
          "critical/other existing credit",
          "existing paid",
          "critical/other existing credit",
          "critical/other existing credit",
          "existing paid",
          "critical/other existing credit",
          "critical/other existing credit",
          "existing paid",
          "existing paid",
          "existing paid",
          "existing paid",
          "critical/other existing credit",
          "existing paid",
          "existing paid",
          "critical/other existing credit",
          "critical/other existing credit",
          "delayed previously",
          "existing paid",
          "existing paid",
          "all paid",
          "all paid",
          "existing paid",
          "no credits/all paid",
          "critical/other existing credit",
          "delayed previously",
          "existing paid",
          "existing paid",
          "all paid",
          "existing paid",
          "existing paid",
          "all paid",
          "critical/other existing credit",
          "existing paid",
          "existing paid",
          "existing paid",
          "existing paid",
          "existing paid",
          "existing paid",
          "all paid",
          "delayed previously",
          "no credits/all paid",
          "delayed previously",
          "critical/other existing credit",
          "existing paid",
          "existing paid",
          "critical/other existing credit",
          "critical/other existing credit",
          "existing paid",
          "existing paid",
          "existing paid",
          "existing paid",
          "existing paid",
          "all paid",
          "critical/other existing credit",
          "existing paid",
          "existing paid",
          "all paid",
          "existing paid",
          "existing paid",
          "existing paid",
          "existing paid",
          "existing paid",
          "delayed previously",
          "existing paid",
          "delayed previously",
          "existing paid",
          "existing paid",
          "existing paid",
          "critical/other existing credit",
          "critical/other existing credit",
          "delayed previously",
          "no credits/all paid",
          "existing paid",
          "existing paid",
          "existing paid",
          "existing paid",
          "existing paid",
          "existing paid",
          "delayed previously",
          "critical/other existing credit",
          "existing paid",
          "existing paid",
          "existing paid",
          "no credits/all paid",
          "critical/other existing credit",
          "existing paid",
          "existing paid",
          "existing paid",
          "delayed previously",
          "critical/other existing credit",
          "critical/other existing credit",
          "all paid",
          "all paid",
          "critical/other existing credit",
          "critical/other existing credit",
          "critical/other existing credit",
          "existing paid",
          "existing paid",
          "critical/other existing credit",
          "delayed previously",
          "critical/other existing credit",
          "critical/other existing credit",
          "existing paid",
          "existing paid",
          "existing paid",
          "existing paid",
          "existing paid",
          "delayed previously",
          "critical/other existing credit",
          "delayed previously",
          "existing paid",
          "critical/other existing credit",
          "delayed previously",
          "existing paid",
          "existing paid",
          "critical/other existing credit",
          "existing paid",
          "existing paid",
          "critical/other existing credit",
          "existing paid",
          "existing paid",
          "existing paid",
          "critical/other existing credit",
          "critical/other existing credit",
          "existing paid",
          "existing paid",
          "critical/other existing credit",
          "existing paid",
          "delayed previously",
          "existing paid",
          "existing paid",
          "existing paid",
          "no credits/all paid",
          "existing paid",
          "existing paid",
          "critical/other existing credit",
          "all paid",
          "existing paid",
          "critical/other existing credit",
          "existing paid",
          "critical/other existing credit",
          "critical/other existing credit",
          "existing paid",
          "critical/other existing credit",
          "no credits/all paid",
          "no credits/all paid",
          "all paid",
          "existing paid",
          "existing paid",
          "existing paid",
          "critical/other existing credit",
          "critical/other existing credit",
          "existing paid",
          "all paid",
          "critical/other existing credit",
          "delayed previously",
          "existing paid",
          "existing paid",
          "existing paid",
          "critical/other existing credit",
          "all paid",
          "existing paid",
          "existing paid",
          "critical/other existing credit",
          "no credits/all paid",
          "all paid",
          "all paid",
          "existing paid",
          "all paid",
          "critical/other existing credit",
          "critical/other existing credit",
          "existing paid",
          "existing paid",
          "existing paid",
          "existing paid",
          "existing paid",
          "existing paid",
          "existing paid",
          "critical/other existing credit",
          "delayed previously",
          "existing paid",
          "critical/other existing credit",
          "critical/other existing credit",
          "existing paid",
          "critical/other existing credit",
          "critical/other existing credit",
          "critical/other existing credit",
          "existing paid",
          "critical/other existing credit",
          "critical/other existing credit",
          "existing paid",
          "existing paid",
          "existing paid",
          "critical/other existing credit",
          "critical/other existing credit",
          "existing paid",
          "critical/other existing credit",
          "critical/other existing credit",
          "critical/other existing credit",
          "critical/other existing credit",
          "existing paid",
          "critical/other existing credit",
          "existing paid",
          "critical/other existing credit",
          "existing paid",
          "critical/other existing credit",
          "critical/other existing credit",
          "no credits/all paid",
          "existing paid",
          "existing paid",
          "existing paid",
          "existing paid",
          "critical/other existing credit",
          "delayed previously",
          "critical/other existing credit",
          "existing paid",
          "existing paid",
          "critical/other existing credit",
          "existing paid",
          "existing paid",
          "existing paid",
          "existing paid",
          "critical/other existing credit",
          "delayed previously",
          "existing paid",
          "critical/other existing credit",
          "critical/other existing credit",
          "critical/other existing credit",
          "critical/other existing credit",
          "existing paid",
          "existing paid",
          "existing paid",
          "critical/other existing credit",
          "all paid",
          "no credits/all paid",
          "existing paid",
          "existing paid",
          "critical/other existing credit",
          "existing paid",
          "existing paid",
          "delayed previously",
          "existing paid",
          "critical/other existing credit",
          "existing paid",
          "existing paid",
          "existing paid",
          "existing paid",
          "existing paid",
          "critical/other existing credit",
          "critical/other existing credit",
          "critical/other existing credit",
          "critical/other existing credit",
          "no credits/all paid",
          "existing paid",
          "delayed previously",
          "delayed previously",
          "existing paid",
          "no credits/all paid",
          "existing paid",
          "existing paid",
          "no credits/all paid",
          "existing paid",
          "existing paid",
          "critical/other existing credit",
          "critical/other existing credit",
          "existing paid",
          "delayed previously",
          "existing paid",
          "all paid",
          "existing paid",
          "existing paid",
          "existing paid",
          "existing paid",
          "existing paid",
          "existing paid",
          "critical/other existing credit",
          "critical/other existing credit",
          "critical/other existing credit",
          "all paid",
          "delayed previously",
          "existing paid",
          "existing paid",
          "critical/other existing credit",
          "existing paid",
          "existing paid",
          "critical/other existing credit",
          "delayed previously",
          "existing paid",
          "critical/other existing credit",
          "existing paid",
          "existing paid",
          "existing paid",
          "critical/other existing credit",
          "existing paid",
          "existing paid",
          "delayed previously",
          "critical/other existing credit",
          "critical/other existing credit",
          "existing paid",
          "existing paid",
          "critical/other existing credit",
          "all paid",
          "existing paid",
          "existing paid",
          "critical/other existing credit",
          "existing paid",
          "existing paid",
          "critical/other existing credit",
          "critical/other existing credit",
          "existing paid",
          "existing paid",
          "critical/other existing credit",
          "existing paid",
          "critical/other existing credit",
          "all paid",
          "critical/other existing credit",
          "critical/other existing credit",
          "critical/other existing credit",
          "critical/other existing credit",
          "critical/other existing credit",
          "delayed previously",
          "existing paid",
          "critical/other existing credit",
          "existing paid",
          "existing paid",
          "critical/other existing credit",
          "critical/other existing credit",
          "critical/other existing credit",
          "existing paid",
          "existing paid",
          "existing paid",
          "existing paid",
          "existing paid",
          "delayed previously",
          "existing paid",
          "delayed previously",
          "critical/other existing credit",
          "existing paid",
          "existing paid",
          "all paid",
          "no credits/all paid",
          "existing paid",
          "existing paid",
          "existing paid",
          "existing paid",
          "critical/other existing credit",
          "delayed previously",
          "existing paid",
          "existing paid",
          "all paid",
          "all paid",
          "critical/other existing credit",
          "existing paid",
          "existing paid",
          "delayed previously",
          "existing paid",
          "existing paid",
          "critical/other existing credit",
          "critical/other existing credit",
          "existing paid",
          "delayed previously",
          "existing paid",
          "existing paid",
          "existing paid",
          "critical/other existing credit",
          "existing paid",
          "existing paid",
          "existing paid",
          "critical/other existing credit",
          "existing paid",
          "no credits/all paid",
          "all paid",
          "existing paid",
          "existing paid",
          "existing paid",
          "critical/other existing credit",
          "delayed previously",
          "existing paid",
          "existing paid",
          "existing paid",
          "critical/other existing credit",
          "critical/other existing credit",
          "critical/other existing credit",
          "existing paid",
          "existing paid",
          "critical/other existing credit",
          "delayed previously",
          "existing paid",
          "existing paid",
          "existing paid",
          "existing paid",
          "critical/other existing credit",
          "existing paid",
          "existing paid",
          "critical/other existing credit",
          "existing paid",
          "existing paid",
          "all paid",
          "existing paid",
          "critical/other existing credit",
          "existing paid",
          "existing paid",
          "delayed previously",
          "delayed previously",
          "all paid",
          "critical/other existing credit",
          "existing paid",
          "existing paid",
          "existing paid",
          "critical/other existing credit",
          "critical/other existing credit",
          "no credits/all paid",
          "existing paid",
          "existing paid",
          "critical/other existing credit",
          "critical/other existing credit",
          "all paid",
          "existing paid",
          "existing paid",
          "existing paid",
          "existing paid",
          "existing paid",
          "existing paid",
          "existing paid",
          "critical/other existing credit"
         ],
         "xaxis": "x",
         "yaxis": "y"
        }
       ],
       "layout": {
        "barmode": "relative",
        "font": {
         "color": "#8a8d93"
        },
        "height": 450,
        "legend": {
         "orientation": "h",
         "tracegroupgap": 0,
         "x": 1,
         "xanchor": "right",
         "y": 1.02,
         "yanchor": "bottom"
        },
        "margin": {
         "b": 10,
         "l": 70,
         "r": 40,
         "t": 70
        },
        "paper_bgcolor": "#2d3035",
        "plot_bgcolor": "#2d3035",
        "template": {
         "data": {
          "bar": [
           {
            "error_x": {
             "color": "#2a3f5f"
            },
            "error_y": {
             "color": "#2a3f5f"
            },
            "marker": {
             "line": {
              "color": "#E5ECF6",
              "width": 0.5
             },
             "pattern": {
              "fillmode": "overlay",
              "size": 10,
              "solidity": 0.2
             }
            },
            "type": "bar"
           }
          ],
          "barpolar": [
           {
            "marker": {
             "line": {
              "color": "#E5ECF6",
              "width": 0.5
             },
             "pattern": {
              "fillmode": "overlay",
              "size": 10,
              "solidity": 0.2
             }
            },
            "type": "barpolar"
           }
          ],
          "carpet": [
           {
            "aaxis": {
             "endlinecolor": "#2a3f5f",
             "gridcolor": "white",
             "linecolor": "white",
             "minorgridcolor": "white",
             "startlinecolor": "#2a3f5f"
            },
            "baxis": {
             "endlinecolor": "#2a3f5f",
             "gridcolor": "white",
             "linecolor": "white",
             "minorgridcolor": "white",
             "startlinecolor": "#2a3f5f"
            },
            "type": "carpet"
           }
          ],
          "choropleth": [
           {
            "colorbar": {
             "outlinewidth": 0,
             "ticks": ""
            },
            "type": "choropleth"
           }
          ],
          "contour": [
           {
            "colorbar": {
             "outlinewidth": 0,
             "ticks": ""
            },
            "colorscale": [
             [
              0,
              "#0d0887"
             ],
             [
              0.1111111111111111,
              "#46039f"
             ],
             [
              0.2222222222222222,
              "#7201a8"
             ],
             [
              0.3333333333333333,
              "#9c179e"
             ],
             [
              0.4444444444444444,
              "#bd3786"
             ],
             [
              0.5555555555555556,
              "#d8576b"
             ],
             [
              0.6666666666666666,
              "#ed7953"
             ],
             [
              0.7777777777777778,
              "#fb9f3a"
             ],
             [
              0.8888888888888888,
              "#fdca26"
             ],
             [
              1,
              "#f0f921"
             ]
            ],
            "type": "contour"
           }
          ],
          "contourcarpet": [
           {
            "colorbar": {
             "outlinewidth": 0,
             "ticks": ""
            },
            "type": "contourcarpet"
           }
          ],
          "heatmap": [
           {
            "colorbar": {
             "outlinewidth": 0,
             "ticks": ""
            },
            "colorscale": [
             [
              0,
              "#0d0887"
             ],
             [
              0.1111111111111111,
              "#46039f"
             ],
             [
              0.2222222222222222,
              "#7201a8"
             ],
             [
              0.3333333333333333,
              "#9c179e"
             ],
             [
              0.4444444444444444,
              "#bd3786"
             ],
             [
              0.5555555555555556,
              "#d8576b"
             ],
             [
              0.6666666666666666,
              "#ed7953"
             ],
             [
              0.7777777777777778,
              "#fb9f3a"
             ],
             [
              0.8888888888888888,
              "#fdca26"
             ],
             [
              1,
              "#f0f921"
             ]
            ],
            "type": "heatmap"
           }
          ],
          "heatmapgl": [
           {
            "colorbar": {
             "outlinewidth": 0,
             "ticks": ""
            },
            "colorscale": [
             [
              0,
              "#0d0887"
             ],
             [
              0.1111111111111111,
              "#46039f"
             ],
             [
              0.2222222222222222,
              "#7201a8"
             ],
             [
              0.3333333333333333,
              "#9c179e"
             ],
             [
              0.4444444444444444,
              "#bd3786"
             ],
             [
              0.5555555555555556,
              "#d8576b"
             ],
             [
              0.6666666666666666,
              "#ed7953"
             ],
             [
              0.7777777777777778,
              "#fb9f3a"
             ],
             [
              0.8888888888888888,
              "#fdca26"
             ],
             [
              1,
              "#f0f921"
             ]
            ],
            "type": "heatmapgl"
           }
          ],
          "histogram": [
           {
            "marker": {
             "pattern": {
              "fillmode": "overlay",
              "size": 10,
              "solidity": 0.2
             }
            },
            "type": "histogram"
           }
          ],
          "histogram2d": [
           {
            "colorbar": {
             "outlinewidth": 0,
             "ticks": ""
            },
            "colorscale": [
             [
              0,
              "#0d0887"
             ],
             [
              0.1111111111111111,
              "#46039f"
             ],
             [
              0.2222222222222222,
              "#7201a8"
             ],
             [
              0.3333333333333333,
              "#9c179e"
             ],
             [
              0.4444444444444444,
              "#bd3786"
             ],
             [
              0.5555555555555556,
              "#d8576b"
             ],
             [
              0.6666666666666666,
              "#ed7953"
             ],
             [
              0.7777777777777778,
              "#fb9f3a"
             ],
             [
              0.8888888888888888,
              "#fdca26"
             ],
             [
              1,
              "#f0f921"
             ]
            ],
            "type": "histogram2d"
           }
          ],
          "histogram2dcontour": [
           {
            "colorbar": {
             "outlinewidth": 0,
             "ticks": ""
            },
            "colorscale": [
             [
              0,
              "#0d0887"
             ],
             [
              0.1111111111111111,
              "#46039f"
             ],
             [
              0.2222222222222222,
              "#7201a8"
             ],
             [
              0.3333333333333333,
              "#9c179e"
             ],
             [
              0.4444444444444444,
              "#bd3786"
             ],
             [
              0.5555555555555556,
              "#d8576b"
             ],
             [
              0.6666666666666666,
              "#ed7953"
             ],
             [
              0.7777777777777778,
              "#fb9f3a"
             ],
             [
              0.8888888888888888,
              "#fdca26"
             ],
             [
              1,
              "#f0f921"
             ]
            ],
            "type": "histogram2dcontour"
           }
          ],
          "mesh3d": [
           {
            "colorbar": {
             "outlinewidth": 0,
             "ticks": ""
            },
            "type": "mesh3d"
           }
          ],
          "parcoords": [
           {
            "line": {
             "colorbar": {
              "outlinewidth": 0,
              "ticks": ""
             }
            },
            "type": "parcoords"
           }
          ],
          "pie": [
           {
            "automargin": true,
            "type": "pie"
           }
          ],
          "scatter": [
           {
            "fillpattern": {
             "fillmode": "overlay",
             "size": 10,
             "solidity": 0.2
            },
            "type": "scatter"
           }
          ],
          "scatter3d": [
           {
            "line": {
             "colorbar": {
              "outlinewidth": 0,
              "ticks": ""
             }
            },
            "marker": {
             "colorbar": {
              "outlinewidth": 0,
              "ticks": ""
             }
            },
            "type": "scatter3d"
           }
          ],
          "scattercarpet": [
           {
            "marker": {
             "colorbar": {
              "outlinewidth": 0,
              "ticks": ""
             }
            },
            "type": "scattercarpet"
           }
          ],
          "scattergeo": [
           {
            "marker": {
             "colorbar": {
              "outlinewidth": 0,
              "ticks": ""
             }
            },
            "type": "scattergeo"
           }
          ],
          "scattergl": [
           {
            "marker": {
             "colorbar": {
              "outlinewidth": 0,
              "ticks": ""
             }
            },
            "type": "scattergl"
           }
          ],
          "scattermapbox": [
           {
            "marker": {
             "colorbar": {
              "outlinewidth": 0,
              "ticks": ""
             }
            },
            "type": "scattermapbox"
           }
          ],
          "scatterpolar": [
           {
            "marker": {
             "colorbar": {
              "outlinewidth": 0,
              "ticks": ""
             }
            },
            "type": "scatterpolar"
           }
          ],
          "scatterpolargl": [
           {
            "marker": {
             "colorbar": {
              "outlinewidth": 0,
              "ticks": ""
             }
            },
            "type": "scatterpolargl"
           }
          ],
          "scatterternary": [
           {
            "marker": {
             "colorbar": {
              "outlinewidth": 0,
              "ticks": ""
             }
            },
            "type": "scatterternary"
           }
          ],
          "surface": [
           {
            "colorbar": {
             "outlinewidth": 0,
             "ticks": ""
            },
            "colorscale": [
             [
              0,
              "#0d0887"
             ],
             [
              0.1111111111111111,
              "#46039f"
             ],
             [
              0.2222222222222222,
              "#7201a8"
             ],
             [
              0.3333333333333333,
              "#9c179e"
             ],
             [
              0.4444444444444444,
              "#bd3786"
             ],
             [
              0.5555555555555556,
              "#d8576b"
             ],
             [
              0.6666666666666666,
              "#ed7953"
             ],
             [
              0.7777777777777778,
              "#fb9f3a"
             ],
             [
              0.8888888888888888,
              "#fdca26"
             ],
             [
              1,
              "#f0f921"
             ]
            ],
            "type": "surface"
           }
          ],
          "table": [
           {
            "cells": {
             "fill": {
              "color": "#EBF0F8"
             },
             "line": {
              "color": "white"
             }
            },
            "header": {
             "fill": {
              "color": "#C8D4E3"
             },
             "line": {
              "color": "white"
             }
            },
            "type": "table"
           }
          ]
         },
         "layout": {
          "annotationdefaults": {
           "arrowcolor": "#2a3f5f",
           "arrowhead": 0,
           "arrowwidth": 1
          },
          "autotypenumbers": "strict",
          "coloraxis": {
           "colorbar": {
            "outlinewidth": 0,
            "ticks": ""
           }
          },
          "colorscale": {
           "diverging": [
            [
             0,
             "#8e0152"
            ],
            [
             0.1,
             "#c51b7d"
            ],
            [
             0.2,
             "#de77ae"
            ],
            [
             0.3,
             "#f1b6da"
            ],
            [
             0.4,
             "#fde0ef"
            ],
            [
             0.5,
             "#f7f7f7"
            ],
            [
             0.6,
             "#e6f5d0"
            ],
            [
             0.7,
             "#b8e186"
            ],
            [
             0.8,
             "#7fbc41"
            ],
            [
             0.9,
             "#4d9221"
            ],
            [
             1,
             "#276419"
            ]
           ],
           "sequential": [
            [
             0,
             "#0d0887"
            ],
            [
             0.1111111111111111,
             "#46039f"
            ],
            [
             0.2222222222222222,
             "#7201a8"
            ],
            [
             0.3333333333333333,
             "#9c179e"
            ],
            [
             0.4444444444444444,
             "#bd3786"
            ],
            [
             0.5555555555555556,
             "#d8576b"
            ],
            [
             0.6666666666666666,
             "#ed7953"
            ],
            [
             0.7777777777777778,
             "#fb9f3a"
            ],
            [
             0.8888888888888888,
             "#fdca26"
            ],
            [
             1,
             "#f0f921"
            ]
           ],
           "sequentialminus": [
            [
             0,
             "#0d0887"
            ],
            [
             0.1111111111111111,
             "#46039f"
            ],
            [
             0.2222222222222222,
             "#7201a8"
            ],
            [
             0.3333333333333333,
             "#9c179e"
            ],
            [
             0.4444444444444444,
             "#bd3786"
            ],
            [
             0.5555555555555556,
             "#d8576b"
            ],
            [
             0.6666666666666666,
             "#ed7953"
            ],
            [
             0.7777777777777778,
             "#fb9f3a"
            ],
            [
             0.8888888888888888,
             "#fdca26"
            ],
            [
             1,
             "#f0f921"
            ]
           ]
          },
          "colorway": [
           "#636efa",
           "#EF553B",
           "#00cc96",
           "#ab63fa",
           "#FFA15A",
           "#19d3f3",
           "#FF6692",
           "#B6E880",
           "#FF97FF",
           "#FECB52"
          ],
          "font": {
           "color": "#2a3f5f"
          },
          "geo": {
           "bgcolor": "white",
           "lakecolor": "white",
           "landcolor": "#E5ECF6",
           "showlakes": true,
           "showland": true,
           "subunitcolor": "white"
          },
          "hoverlabel": {
           "align": "left"
          },
          "hovermode": "closest",
          "mapbox": {
           "style": "light"
          },
          "paper_bgcolor": "white",
          "plot_bgcolor": "#E5ECF6",
          "polar": {
           "angularaxis": {
            "gridcolor": "white",
            "linecolor": "white",
            "ticks": ""
           },
           "bgcolor": "#E5ECF6",
           "radialaxis": {
            "gridcolor": "white",
            "linecolor": "white",
            "ticks": ""
           }
          },
          "scene": {
           "xaxis": {
            "backgroundcolor": "#E5ECF6",
            "gridcolor": "white",
            "gridwidth": 2,
            "linecolor": "white",
            "showbackground": true,
            "ticks": "",
            "zerolinecolor": "white"
           },
           "yaxis": {
            "backgroundcolor": "#E5ECF6",
            "gridcolor": "white",
            "gridwidth": 2,
            "linecolor": "white",
            "showbackground": true,
            "ticks": "",
            "zerolinecolor": "white"
           },
           "zaxis": {
            "backgroundcolor": "#E5ECF6",
            "gridcolor": "white",
            "gridwidth": 2,
            "linecolor": "white",
            "showbackground": true,
            "ticks": "",
            "zerolinecolor": "white"
           }
          },
          "shapedefaults": {
           "line": {
            "color": "#2a3f5f"
           }
          },
          "ternary": {
           "aaxis": {
            "gridcolor": "white",
            "linecolor": "white",
            "ticks": ""
           },
           "baxis": {
            "gridcolor": "white",
            "linecolor": "white",
            "ticks": ""
           },
           "bgcolor": "#E5ECF6",
           "caxis": {
            "gridcolor": "white",
            "linecolor": "white",
            "ticks": ""
           }
          },
          "title": {
           "x": 0.05
          },
          "xaxis": {
           "automargin": true,
           "gridcolor": "white",
           "linecolor": "white",
           "ticks": "",
           "title": {
            "standoff": 15
           },
           "zerolinecolor": "white",
           "zerolinewidth": 2
          },
          "yaxis": {
           "automargin": true,
           "gridcolor": "white",
           "linecolor": "white",
           "ticks": "",
           "title": {
            "standoff": 15
           },
           "zerolinecolor": "white",
           "zerolinewidth": 2
          }
         }
        },
        "title": {
         "font": {
          "color": "#a5a7ab",
          "family": "Muli, sans-serif",
          "size": 25
         },
         "text": "Customers Credit History"
        },
        "xaxis": {
         "anchor": "y",
         "categoryorder": "total descending",
         "domain": [
          0,
          1
         ],
         "title": {
          "text": " Credit History "
         }
        },
        "yaxis": {
         "anchor": "x",
         "domain": [
          0,
          1
         ],
         "title": {
          "text": " Counts "
         }
        }
       }
      }
     },
     "metadata": {},
     "output_type": "display_data"
    }
   ],
   "source": [
    "dc = px.histogram(data, x='credit_history',\n",
    "                         title='Customers Credit History', height=450,\n",
    "                         color_discrete_sequence=['#03DAC5'],\n",
    "                         )\n",
    "dc.update_xaxes(categoryorder='total descending')\n",
    "\n",
    "dc.update_layout(margin=dict(t=70, b=10, l=70, r=40),\n",
    "                        # hovermode=\"x unified\",\n",
    "                        # xaxis_tickangle=360,\n",
    "                        xaxis_title=' Credit History ', yaxis_title=\" Counts \",\n",
    "                        plot_bgcolor='#2d3035', paper_bgcolor='#2d3035',\n",
    "                        title_font=dict(size=25, color='#a5a7ab', family=\"Muli, sans-serif\"),\n",
    "                        font=dict(color='#8a8d93'),\n",
    "                        legend=dict(orientation=\"h\", yanchor=\"bottom\", y=1.02, xanchor=\"right\", x=1))\n",
    "dc"
   ]
  },
  {
   "cell_type": "markdown",
   "metadata": {},
   "source": [
    "Here we see that most of the customers have loans that are paid <br>\n",
    "Lesser than a 100 has previously delayed loan <br>\n",
    "Very few has all their loans paid <br>\n",
    "Less than 50 has no credits at all"
   ]
  },
  {
   "cell_type": "code",
   "execution_count": 55,
   "metadata": {},
   "outputs": [
    {
     "data": {
      "application/vnd.plotly.v1+json": {
       "config": {
        "plotlyServerURL": "https://plot.ly"
       },
       "data": [
        {
         "alignmentgroup": "True",
         "bingroup": "x",
         "hovertemplate": "purpose=%{x}<br>count=%{y}<extra></extra>",
         "legendgroup": "",
         "marker": {
          "color": "#03DAC5",
          "pattern": {
           "shape": ""
          }
         },
         "name": "",
         "offsetgroup": "",
         "orientation": "v",
         "showlegend": false,
         "type": "histogram",
         "x": [
          "radio/tv",
          "radio/tv",
          "education",
          "furniture/equipment",
          "new car",
          "education",
          "furniture/equipment",
          "used car",
          "radio/tv",
          "new car",
          "new car",
          "business",
          "radio/tv",
          "new car",
          "new car",
          "radio/tv",
          "radio/tv",
          "business",
          "used car",
          "radio/tv",
          "new car",
          "radio/tv",
          "new car",
          "used car",
          "furniture/equipment",
          "furniture/equipment",
          "radio/tv",
          "radio/tv",
          "radio/tv",
          "business",
          "business",
          "furniture/equipment",
          "new car",
          "business",
          "furniture/equipment",
          "radio/tv",
          "education",
          "radio/tv",
          "domestic appliance",
          "radio/tv",
          "radio/tv",
          "radio/tv",
          "repairs",
          "used car",
          "used car",
          "new car",
          "radio/tv",
          "used car",
          "new car",
          "radio/tv",
          "furniture/equipment",
          "used car",
          "radio/tv",
          "used car",
          "new car",
          "new car",
          "radio/tv",
          "radio/tv",
          "new car",
          "furniture/equipment",
          "business",
          "radio/tv",
          "business",
          "business",
          "radio/tv",
          "repairs",
          "radio/tv",
          "new car",
          "education",
          "radio/tv",
          "used car",
          "radio/tv",
          "other",
          "business",
          "education",
          "used car",
          "radio/tv",
          "radio/tv",
          "used car",
          "furniture/equipment",
          "radio/tv",
          "radio/tv",
          "business",
          "other",
          "radio/tv",
          "business",
          "furniture/equipment",
          "education",
          "new car",
          "repairs",
          "radio/tv",
          "used car",
          "radio/tv",
          "furniture/equipment",
          "new car",
          "business",
          "education",
          "business",
          "radio/tv",
          "used car",
          "new car",
          "radio/tv",
          "radio/tv",
          "furniture/equipment",
          "used car",
          "other",
          "new car",
          "new car",
          "furniture/equipment",
          "business",
          "business",
          "education",
          "new car",
          "new car",
          "radio/tv",
          "radio/tv",
          "radio/tv",
          "furniture/equipment",
          "furniture/equipment",
          "new car",
          "radio/tv",
          "used car",
          "furniture/equipment",
          "new car",
          "furniture/equipment",
          "new car",
          "radio/tv",
          "repairs",
          "used car",
          "new car",
          "new car",
          "education",
          "furniture/equipment",
          "furniture/equipment",
          "radio/tv",
          "radio/tv",
          "used car",
          "radio/tv",
          "radio/tv",
          "radio/tv",
          "new car",
          "radio/tv",
          "radio/tv",
          "furniture/equipment",
          "furniture/equipment",
          "business",
          "new car",
          "new car",
          "furniture/equipment",
          "radio/tv",
          "radio/tv",
          "radio/tv",
          "radio/tv",
          "used car",
          "business",
          "furniture/equipment",
          "repairs",
          "retraining",
          "new car",
          "radio/tv",
          "radio/tv",
          "new car",
          "domestic appliance",
          "new car",
          "new car",
          "furniture/equipment",
          "furniture/equipment",
          "furniture/equipment",
          "furniture/equipment",
          "business",
          "new car",
          "furniture/equipment",
          "furniture/equipment",
          "radio/tv",
          "education",
          "used car",
          "furniture/equipment",
          "radio/tv",
          "radio/tv",
          "new car",
          "business",
          "business",
          "new car",
          "furniture/equipment",
          "new car",
          "radio/tv",
          "used car",
          "new car",
          "radio/tv",
          "furniture/equipment",
          "business",
          "business",
          "business",
          "radio/tv",
          "radio/tv",
          "education",
          "radio/tv",
          "furniture/equipment",
          "used car",
          "furniture/equipment",
          "education",
          "new car",
          "business",
          "retraining",
          "new car",
          "used car",
          "furniture/equipment",
          "domestic appliance",
          "business",
          "used car",
          "radio/tv",
          "radio/tv",
          "business",
          "business",
          "radio/tv",
          "retraining",
          "business",
          "radio/tv",
          "furniture/equipment",
          "new car",
          "radio/tv",
          "education",
          "radio/tv",
          "business",
          "used car",
          "repairs",
          "radio/tv",
          "furniture/equipment",
          "radio/tv",
          "furniture/equipment",
          "radio/tv",
          "new car",
          "radio/tv",
          "radio/tv",
          "radio/tv",
          "radio/tv",
          "new car",
          "business",
          "radio/tv",
          "radio/tv",
          "new car",
          "radio/tv",
          "used car",
          "business",
          "retraining",
          "business",
          "radio/tv",
          "new car",
          "furniture/equipment",
          "radio/tv",
          "new car",
          "furniture/equipment",
          "new car",
          "furniture/equipment",
          "furniture/equipment",
          "radio/tv",
          "radio/tv",
          "radio/tv",
          "used car",
          "radio/tv",
          "furniture/equipment",
          "radio/tv",
          "new car",
          "education",
          "new car",
          "radio/tv",
          "business",
          "radio/tv",
          "new car",
          "radio/tv",
          "new car",
          "furniture/equipment",
          "new car",
          "radio/tv",
          "repairs",
          "radio/tv",
          "radio/tv",
          "furniture/equipment",
          "furniture/equipment",
          "radio/tv",
          "used car",
          "furniture/equipment",
          "radio/tv",
          "furniture/equipment",
          "new car",
          "new car",
          "used car",
          "other",
          "radio/tv",
          "radio/tv",
          "business",
          "used car",
          "used car",
          "used car",
          "business",
          "furniture/equipment",
          "used car",
          "new car",
          "furniture/equipment",
          "furniture/equipment",
          "new car",
          "radio/tv",
          "new car",
          "new car",
          "new car",
          "furniture/equipment",
          "used car",
          "radio/tv",
          "furniture/equipment",
          "new car",
          "other",
          "furniture/equipment",
          "furniture/equipment",
          "new car",
          "new car",
          "furniture/equipment",
          "furniture/equipment",
          "furniture/equipment",
          "education",
          "furniture/equipment",
          "new car",
          "radio/tv",
          "used car",
          "furniture/equipment",
          "new car",
          "new car",
          "furniture/equipment",
          "new car",
          "radio/tv",
          "radio/tv",
          "used car",
          "education",
          "new car",
          "used car",
          "furniture/equipment",
          "furniture/equipment",
          "radio/tv",
          "domestic appliance",
          "furniture/equipment",
          "furniture/equipment",
          "education",
          "furniture/equipment",
          "radio/tv",
          "business",
          "new car",
          "radio/tv",
          "radio/tv",
          "radio/tv",
          "business",
          "education",
          "domestic appliance",
          "furniture/equipment",
          "used car",
          "radio/tv",
          "education",
          "new car",
          "radio/tv",
          "radio/tv",
          "radio/tv",
          "furniture/equipment",
          "education",
          "radio/tv",
          "new car",
          "furniture/equipment",
          "furniture/equipment",
          "business",
          "used car",
          "furniture/equipment",
          "furniture/equipment",
          "furniture/equipment",
          "new car",
          "radio/tv",
          "furniture/equipment",
          "new car",
          "other",
          "business",
          "radio/tv",
          "radio/tv",
          "new car",
          "new car",
          "furniture/equipment",
          "used car",
          "new car",
          "new car",
          "business",
          "radio/tv",
          "radio/tv",
          "furniture/equipment",
          "business",
          "business",
          "new car",
          "furniture/equipment",
          "new car",
          "radio/tv",
          "furniture/equipment",
          "education",
          "furniture/equipment",
          "furniture/equipment",
          "new car",
          "radio/tv",
          "radio/tv",
          "business",
          "business",
          "new car",
          "new car",
          "radio/tv",
          "used car",
          "radio/tv",
          "radio/tv",
          "new car",
          "radio/tv",
          "used car",
          "business",
          "new car",
          "new car",
          "used car",
          "new car",
          "education",
          "new car",
          "new car",
          "new car",
          "used car",
          "new car",
          "furniture/equipment",
          "furniture/equipment",
          "used car",
          "radio/tv",
          "radio/tv",
          "furniture/equipment",
          "repairs",
          "business",
          "other",
          "furniture/equipment",
          "repairs",
          "furniture/equipment",
          "radio/tv",
          "repairs",
          "new car",
          "repairs",
          "business",
          "new car",
          "furniture/equipment",
          "other",
          "education",
          "furniture/equipment",
          "education",
          "new car",
          "radio/tv",
          "furniture/equipment",
          "repairs",
          "used car",
          "radio/tv",
          "furniture/equipment",
          "used car",
          "new car",
          "used car",
          "new car",
          "used car",
          "domestic appliance",
          "radio/tv",
          "furniture/equipment",
          "new car",
          "furniture/equipment",
          "retraining",
          "business",
          "used car",
          "radio/tv",
          "radio/tv",
          "business",
          "used car",
          "radio/tv",
          "education",
          "new car",
          "retraining",
          "radio/tv",
          "furniture/equipment",
          "used car",
          "radio/tv",
          "business",
          "furniture/equipment",
          "radio/tv",
          "new car",
          "furniture/equipment",
          "furniture/equipment",
          "new car",
          "new car",
          "radio/tv",
          "new car",
          "new car",
          "new car",
          "radio/tv",
          "business",
          "radio/tv",
          "radio/tv",
          "new car",
          "furniture/equipment",
          "furniture/equipment",
          "furniture/equipment",
          "radio/tv",
          "new car",
          "new car",
          "used car",
          "radio/tv",
          "radio/tv",
          "new car",
          "new car",
          "used car",
          "new car",
          "radio/tv",
          "used car",
          "new car",
          "used car",
          "business",
          "radio/tv",
          "new car",
          "new car",
          "new car",
          "furniture/equipment",
          "new car",
          "radio/tv",
          "repairs",
          "radio/tv",
          "furniture/equipment",
          "used car",
          "radio/tv",
          "used car",
          "education",
          "radio/tv",
          "radio/tv",
          "new car",
          "education",
          "new car",
          "used car",
          "radio/tv",
          "radio/tv",
          "education",
          "new car",
          "furniture/equipment",
          "new car",
          "furniture/equipment",
          "radio/tv",
          "new car",
          "furniture/equipment",
          "furniture/equipment",
          "new car",
          "new car",
          "new car",
          "radio/tv",
          "radio/tv",
          "used car",
          "repairs",
          "radio/tv",
          "radio/tv",
          "new car",
          "education",
          "radio/tv",
          "new car",
          "new car",
          "furniture/equipment",
          "furniture/equipment",
          "used car",
          "radio/tv",
          "radio/tv",
          "new car",
          "business",
          "radio/tv",
          "new car",
          "radio/tv",
          "radio/tv",
          "radio/tv",
          "furniture/equipment",
          "radio/tv",
          "used car",
          "business",
          "radio/tv",
          "furniture/equipment",
          "radio/tv",
          "education",
          "new car",
          "retraining",
          "new car",
          "new car",
          "furniture/equipment",
          "repairs",
          "new car",
          "furniture/equipment",
          "new car",
          "furniture/equipment",
          "domestic appliance",
          "furniture/equipment",
          "radio/tv",
          "new car",
          "business",
          "new car",
          "other",
          "new car",
          "new car",
          "business",
          "new car",
          "business",
          "radio/tv",
          "furniture/equipment",
          "education",
          "furniture/equipment",
          "furniture/equipment",
          "furniture/equipment",
          "business",
          "radio/tv",
          "radio/tv",
          "used car",
          "domestic appliance",
          "new car",
          "radio/tv",
          "used car",
          "furniture/equipment",
          "business",
          "radio/tv",
          "new car",
          "furniture/equipment",
          "new car",
          "business",
          "new car",
          "business",
          "furniture/equipment",
          "radio/tv",
          "radio/tv",
          "furniture/equipment",
          "new car",
          "furniture/equipment",
          "education",
          "radio/tv",
          "furniture/equipment",
          "radio/tv",
          "furniture/equipment",
          "new car",
          "education",
          "radio/tv",
          "radio/tv",
          "radio/tv",
          "radio/tv",
          "education",
          "repairs",
          "education",
          "radio/tv",
          "radio/tv",
          "business",
          "furniture/equipment",
          "new car",
          "new car",
          "education",
          "education",
          "furniture/equipment",
          "new car",
          "new car",
          "used car",
          "new car",
          "new car",
          "radio/tv",
          "business",
          "furniture/equipment",
          "radio/tv",
          "new car",
          "furniture/equipment",
          "furniture/equipment",
          "education",
          "other",
          "furniture/equipment",
          "business",
          "new car",
          "radio/tv",
          "business",
          "business",
          "new car",
          "new car",
          "business",
          "radio/tv",
          "furniture/equipment",
          "radio/tv",
          "radio/tv",
          "radio/tv",
          "education",
          "radio/tv",
          "radio/tv",
          "radio/tv",
          "business",
          "new car",
          "radio/tv",
          "new car",
          "radio/tv",
          "new car",
          "furniture/equipment",
          "repairs",
          "radio/tv",
          "new car",
          "radio/tv",
          "used car",
          "radio/tv",
          "new car",
          "radio/tv",
          "education",
          "furniture/equipment",
          "used car",
          "radio/tv",
          "business",
          "business",
          "new car",
          "new car",
          "furniture/equipment",
          "radio/tv",
          "radio/tv",
          "radio/tv",
          "education",
          "used car",
          "radio/tv",
          "new car",
          "used car",
          "radio/tv",
          "radio/tv",
          "radio/tv",
          "used car",
          "radio/tv",
          "education",
          "new car",
          "radio/tv",
          "new car",
          "new car",
          "radio/tv",
          "radio/tv",
          "business",
          "business",
          "radio/tv",
          "radio/tv",
          "radio/tv",
          "used car",
          "new car",
          "domestic appliance",
          "used car",
          "new car",
          "new car",
          "business",
          "new car",
          "radio/tv",
          "radio/tv",
          "furniture/equipment",
          "furniture/equipment",
          "business",
          "new car",
          "new car",
          "used car",
          "used car",
          "furniture/equipment",
          "new car",
          "business",
          "radio/tv",
          "repairs",
          "new car",
          "new car",
          "radio/tv",
          "new car",
          "new car",
          "new car",
          "furniture/equipment",
          "radio/tv",
          "new car",
          "new car",
          "radio/tv",
          "furniture/equipment",
          "used car",
          "furniture/equipment",
          "radio/tv",
          "used car",
          "education",
          "used car",
          "radio/tv",
          "new car",
          "new car",
          "new car",
          "radio/tv",
          "used car",
          "repairs",
          "radio/tv",
          "new car",
          "retraining",
          "new car",
          "used car",
          "business",
          "radio/tv",
          "used car",
          "education",
          "education",
          "business",
          "used car",
          "furniture/equipment",
          "furniture/equipment",
          "furniture/equipment",
          "furniture/equipment",
          "used car",
          "furniture/equipment",
          "new car",
          "new car",
          "education",
          "radio/tv",
          "furniture/equipment",
          "radio/tv",
          "new car",
          "new car",
          "radio/tv",
          "radio/tv",
          "used car",
          "new car",
          "business",
          "radio/tv",
          "used car",
          "domestic appliance",
          "new car",
          "new car",
          "domestic appliance",
          "radio/tv",
          "other",
          "radio/tv",
          "new car",
          "radio/tv",
          "furniture/equipment",
          "new car",
          "furniture/equipment",
          "new car",
          "new car",
          "business",
          "used car",
          "business",
          "business",
          "new car",
          "business",
          "radio/tv",
          "radio/tv",
          "new car",
          "radio/tv",
          "furniture/equipment",
          "used car",
          "radio/tv",
          "furniture/equipment",
          "used car",
          "repairs",
          "business",
          "furniture/equipment",
          "furniture/equipment",
          "new car",
          "new car",
          "radio/tv",
          "radio/tv",
          "new car",
          "used car",
          "radio/tv",
          "new car",
          "new car",
          "new car",
          "retraining",
          "furniture/equipment",
          "new car",
          "new car",
          "used car",
          "business",
          "radio/tv",
          "furniture/equipment",
          "furniture/equipment",
          "furniture/equipment",
          "radio/tv",
          "furniture/equipment",
          "business",
          "furniture/equipment",
          "furniture/equipment",
          "new car",
          "business",
          "domestic appliance",
          "furniture/equipment",
          "new car",
          "radio/tv",
          "radio/tv",
          "new car",
          "radio/tv",
          "used car",
          "used car",
          "new car",
          "radio/tv",
          "furniture/equipment",
          "education",
          "business",
          "business",
          "new car",
          "used car",
          "business",
          "radio/tv",
          "new car",
          "used car",
          "radio/tv",
          "used car",
          "radio/tv",
          "furniture/equipment",
          "furniture/equipment",
          "furniture/equipment",
          "new car",
          "new car",
          "used car",
          "radio/tv",
          "radio/tv",
          "radio/tv",
          "new car",
          "education",
          "used car",
          "new car",
          "radio/tv",
          "furniture/equipment",
          "radio/tv",
          "business",
          "business",
          "other",
          "used car",
          "new car",
          "furniture/equipment",
          "furniture/equipment",
          "furniture/equipment",
          "radio/tv",
          "radio/tv",
          "new car",
          "furniture/equipment",
          "new car",
          "furniture/equipment",
          "used car",
          "radio/tv",
          "new car",
          "furniture/equipment",
          "radio/tv",
          "new car",
          "radio/tv",
          "radio/tv",
          "radio/tv",
          "radio/tv",
          "radio/tv",
          "education",
          "used car",
          "new car",
          "new car",
          "furniture/equipment",
          "new car",
          "furniture/equipment",
          "new car",
          "furniture/equipment",
          "new car",
          "furniture/equipment",
          "radio/tv",
          "business",
          "business",
          "used car",
          "furniture/equipment",
          "new car",
          "radio/tv",
          "radio/tv",
          "radio/tv",
          "new car",
          "furniture/equipment",
          "radio/tv",
          "new car",
          "new car",
          "radio/tv",
          "repairs",
          "radio/tv",
          "radio/tv",
          "radio/tv",
          "radio/tv",
          "new car",
          "repairs",
          "new car",
          "new car",
          "business",
          "radio/tv",
          "radio/tv",
          "radio/tv",
          "business",
          "new car",
          "new car",
          "furniture/equipment",
          "business",
          "new car",
          "used car",
          "furniture/equipment",
          "furniture/equipment",
          "business",
          "radio/tv",
          "used car",
          "radio/tv",
          "education",
          "radio/tv",
          "radio/tv",
          "furniture/equipment",
          "new car",
          "furniture/equipment",
          "used car",
          "radio/tv",
          "radio/tv",
          "used car"
         ],
         "xaxis": "x",
         "yaxis": "y"
        }
       ],
       "layout": {
        "barmode": "relative",
        "font": {
         "color": "#8a8d93"
        },
        "height": 400,
        "hovermode": "x unified",
        "legend": {
         "orientation": "h",
         "tracegroupgap": 0,
         "x": 1,
         "xanchor": "right",
         "y": 1.02,
         "yanchor": "bottom"
        },
        "margin": {
         "b": 10,
         "l": 70,
         "r": 40,
         "t": 70
        },
        "paper_bgcolor": "#2d3035",
        "plot_bgcolor": "#2d3035",
        "template": {
         "data": {
          "bar": [
           {
            "error_x": {
             "color": "#2a3f5f"
            },
            "error_y": {
             "color": "#2a3f5f"
            },
            "marker": {
             "line": {
              "color": "#E5ECF6",
              "width": 0.5
             },
             "pattern": {
              "fillmode": "overlay",
              "size": 10,
              "solidity": 0.2
             }
            },
            "type": "bar"
           }
          ],
          "barpolar": [
           {
            "marker": {
             "line": {
              "color": "#E5ECF6",
              "width": 0.5
             },
             "pattern": {
              "fillmode": "overlay",
              "size": 10,
              "solidity": 0.2
             }
            },
            "type": "barpolar"
           }
          ],
          "carpet": [
           {
            "aaxis": {
             "endlinecolor": "#2a3f5f",
             "gridcolor": "white",
             "linecolor": "white",
             "minorgridcolor": "white",
             "startlinecolor": "#2a3f5f"
            },
            "baxis": {
             "endlinecolor": "#2a3f5f",
             "gridcolor": "white",
             "linecolor": "white",
             "minorgridcolor": "white",
             "startlinecolor": "#2a3f5f"
            },
            "type": "carpet"
           }
          ],
          "choropleth": [
           {
            "colorbar": {
             "outlinewidth": 0,
             "ticks": ""
            },
            "type": "choropleth"
           }
          ],
          "contour": [
           {
            "colorbar": {
             "outlinewidth": 0,
             "ticks": ""
            },
            "colorscale": [
             [
              0,
              "#0d0887"
             ],
             [
              0.1111111111111111,
              "#46039f"
             ],
             [
              0.2222222222222222,
              "#7201a8"
             ],
             [
              0.3333333333333333,
              "#9c179e"
             ],
             [
              0.4444444444444444,
              "#bd3786"
             ],
             [
              0.5555555555555556,
              "#d8576b"
             ],
             [
              0.6666666666666666,
              "#ed7953"
             ],
             [
              0.7777777777777778,
              "#fb9f3a"
             ],
             [
              0.8888888888888888,
              "#fdca26"
             ],
             [
              1,
              "#f0f921"
             ]
            ],
            "type": "contour"
           }
          ],
          "contourcarpet": [
           {
            "colorbar": {
             "outlinewidth": 0,
             "ticks": ""
            },
            "type": "contourcarpet"
           }
          ],
          "heatmap": [
           {
            "colorbar": {
             "outlinewidth": 0,
             "ticks": ""
            },
            "colorscale": [
             [
              0,
              "#0d0887"
             ],
             [
              0.1111111111111111,
              "#46039f"
             ],
             [
              0.2222222222222222,
              "#7201a8"
             ],
             [
              0.3333333333333333,
              "#9c179e"
             ],
             [
              0.4444444444444444,
              "#bd3786"
             ],
             [
              0.5555555555555556,
              "#d8576b"
             ],
             [
              0.6666666666666666,
              "#ed7953"
             ],
             [
              0.7777777777777778,
              "#fb9f3a"
             ],
             [
              0.8888888888888888,
              "#fdca26"
             ],
             [
              1,
              "#f0f921"
             ]
            ],
            "type": "heatmap"
           }
          ],
          "heatmapgl": [
           {
            "colorbar": {
             "outlinewidth": 0,
             "ticks": ""
            },
            "colorscale": [
             [
              0,
              "#0d0887"
             ],
             [
              0.1111111111111111,
              "#46039f"
             ],
             [
              0.2222222222222222,
              "#7201a8"
             ],
             [
              0.3333333333333333,
              "#9c179e"
             ],
             [
              0.4444444444444444,
              "#bd3786"
             ],
             [
              0.5555555555555556,
              "#d8576b"
             ],
             [
              0.6666666666666666,
              "#ed7953"
             ],
             [
              0.7777777777777778,
              "#fb9f3a"
             ],
             [
              0.8888888888888888,
              "#fdca26"
             ],
             [
              1,
              "#f0f921"
             ]
            ],
            "type": "heatmapgl"
           }
          ],
          "histogram": [
           {
            "marker": {
             "pattern": {
              "fillmode": "overlay",
              "size": 10,
              "solidity": 0.2
             }
            },
            "type": "histogram"
           }
          ],
          "histogram2d": [
           {
            "colorbar": {
             "outlinewidth": 0,
             "ticks": ""
            },
            "colorscale": [
             [
              0,
              "#0d0887"
             ],
             [
              0.1111111111111111,
              "#46039f"
             ],
             [
              0.2222222222222222,
              "#7201a8"
             ],
             [
              0.3333333333333333,
              "#9c179e"
             ],
             [
              0.4444444444444444,
              "#bd3786"
             ],
             [
              0.5555555555555556,
              "#d8576b"
             ],
             [
              0.6666666666666666,
              "#ed7953"
             ],
             [
              0.7777777777777778,
              "#fb9f3a"
             ],
             [
              0.8888888888888888,
              "#fdca26"
             ],
             [
              1,
              "#f0f921"
             ]
            ],
            "type": "histogram2d"
           }
          ],
          "histogram2dcontour": [
           {
            "colorbar": {
             "outlinewidth": 0,
             "ticks": ""
            },
            "colorscale": [
             [
              0,
              "#0d0887"
             ],
             [
              0.1111111111111111,
              "#46039f"
             ],
             [
              0.2222222222222222,
              "#7201a8"
             ],
             [
              0.3333333333333333,
              "#9c179e"
             ],
             [
              0.4444444444444444,
              "#bd3786"
             ],
             [
              0.5555555555555556,
              "#d8576b"
             ],
             [
              0.6666666666666666,
              "#ed7953"
             ],
             [
              0.7777777777777778,
              "#fb9f3a"
             ],
             [
              0.8888888888888888,
              "#fdca26"
             ],
             [
              1,
              "#f0f921"
             ]
            ],
            "type": "histogram2dcontour"
           }
          ],
          "mesh3d": [
           {
            "colorbar": {
             "outlinewidth": 0,
             "ticks": ""
            },
            "type": "mesh3d"
           }
          ],
          "parcoords": [
           {
            "line": {
             "colorbar": {
              "outlinewidth": 0,
              "ticks": ""
             }
            },
            "type": "parcoords"
           }
          ],
          "pie": [
           {
            "automargin": true,
            "type": "pie"
           }
          ],
          "scatter": [
           {
            "fillpattern": {
             "fillmode": "overlay",
             "size": 10,
             "solidity": 0.2
            },
            "type": "scatter"
           }
          ],
          "scatter3d": [
           {
            "line": {
             "colorbar": {
              "outlinewidth": 0,
              "ticks": ""
             }
            },
            "marker": {
             "colorbar": {
              "outlinewidth": 0,
              "ticks": ""
             }
            },
            "type": "scatter3d"
           }
          ],
          "scattercarpet": [
           {
            "marker": {
             "colorbar": {
              "outlinewidth": 0,
              "ticks": ""
             }
            },
            "type": "scattercarpet"
           }
          ],
          "scattergeo": [
           {
            "marker": {
             "colorbar": {
              "outlinewidth": 0,
              "ticks": ""
             }
            },
            "type": "scattergeo"
           }
          ],
          "scattergl": [
           {
            "marker": {
             "colorbar": {
              "outlinewidth": 0,
              "ticks": ""
             }
            },
            "type": "scattergl"
           }
          ],
          "scattermapbox": [
           {
            "marker": {
             "colorbar": {
              "outlinewidth": 0,
              "ticks": ""
             }
            },
            "type": "scattermapbox"
           }
          ],
          "scatterpolar": [
           {
            "marker": {
             "colorbar": {
              "outlinewidth": 0,
              "ticks": ""
             }
            },
            "type": "scatterpolar"
           }
          ],
          "scatterpolargl": [
           {
            "marker": {
             "colorbar": {
              "outlinewidth": 0,
              "ticks": ""
             }
            },
            "type": "scatterpolargl"
           }
          ],
          "scatterternary": [
           {
            "marker": {
             "colorbar": {
              "outlinewidth": 0,
              "ticks": ""
             }
            },
            "type": "scatterternary"
           }
          ],
          "surface": [
           {
            "colorbar": {
             "outlinewidth": 0,
             "ticks": ""
            },
            "colorscale": [
             [
              0,
              "#0d0887"
             ],
             [
              0.1111111111111111,
              "#46039f"
             ],
             [
              0.2222222222222222,
              "#7201a8"
             ],
             [
              0.3333333333333333,
              "#9c179e"
             ],
             [
              0.4444444444444444,
              "#bd3786"
             ],
             [
              0.5555555555555556,
              "#d8576b"
             ],
             [
              0.6666666666666666,
              "#ed7953"
             ],
             [
              0.7777777777777778,
              "#fb9f3a"
             ],
             [
              0.8888888888888888,
              "#fdca26"
             ],
             [
              1,
              "#f0f921"
             ]
            ],
            "type": "surface"
           }
          ],
          "table": [
           {
            "cells": {
             "fill": {
              "color": "#EBF0F8"
             },
             "line": {
              "color": "white"
             }
            },
            "header": {
             "fill": {
              "color": "#C8D4E3"
             },
             "line": {
              "color": "white"
             }
            },
            "type": "table"
           }
          ]
         },
         "layout": {
          "annotationdefaults": {
           "arrowcolor": "#2a3f5f",
           "arrowhead": 0,
           "arrowwidth": 1
          },
          "autotypenumbers": "strict",
          "coloraxis": {
           "colorbar": {
            "outlinewidth": 0,
            "ticks": ""
           }
          },
          "colorscale": {
           "diverging": [
            [
             0,
             "#8e0152"
            ],
            [
             0.1,
             "#c51b7d"
            ],
            [
             0.2,
             "#de77ae"
            ],
            [
             0.3,
             "#f1b6da"
            ],
            [
             0.4,
             "#fde0ef"
            ],
            [
             0.5,
             "#f7f7f7"
            ],
            [
             0.6,
             "#e6f5d0"
            ],
            [
             0.7,
             "#b8e186"
            ],
            [
             0.8,
             "#7fbc41"
            ],
            [
             0.9,
             "#4d9221"
            ],
            [
             1,
             "#276419"
            ]
           ],
           "sequential": [
            [
             0,
             "#0d0887"
            ],
            [
             0.1111111111111111,
             "#46039f"
            ],
            [
             0.2222222222222222,
             "#7201a8"
            ],
            [
             0.3333333333333333,
             "#9c179e"
            ],
            [
             0.4444444444444444,
             "#bd3786"
            ],
            [
             0.5555555555555556,
             "#d8576b"
            ],
            [
             0.6666666666666666,
             "#ed7953"
            ],
            [
             0.7777777777777778,
             "#fb9f3a"
            ],
            [
             0.8888888888888888,
             "#fdca26"
            ],
            [
             1,
             "#f0f921"
            ]
           ],
           "sequentialminus": [
            [
             0,
             "#0d0887"
            ],
            [
             0.1111111111111111,
             "#46039f"
            ],
            [
             0.2222222222222222,
             "#7201a8"
            ],
            [
             0.3333333333333333,
             "#9c179e"
            ],
            [
             0.4444444444444444,
             "#bd3786"
            ],
            [
             0.5555555555555556,
             "#d8576b"
            ],
            [
             0.6666666666666666,
             "#ed7953"
            ],
            [
             0.7777777777777778,
             "#fb9f3a"
            ],
            [
             0.8888888888888888,
             "#fdca26"
            ],
            [
             1,
             "#f0f921"
            ]
           ]
          },
          "colorway": [
           "#636efa",
           "#EF553B",
           "#00cc96",
           "#ab63fa",
           "#FFA15A",
           "#19d3f3",
           "#FF6692",
           "#B6E880",
           "#FF97FF",
           "#FECB52"
          ],
          "font": {
           "color": "#2a3f5f"
          },
          "geo": {
           "bgcolor": "white",
           "lakecolor": "white",
           "landcolor": "#E5ECF6",
           "showlakes": true,
           "showland": true,
           "subunitcolor": "white"
          },
          "hoverlabel": {
           "align": "left"
          },
          "hovermode": "closest",
          "mapbox": {
           "style": "light"
          },
          "paper_bgcolor": "white",
          "plot_bgcolor": "#E5ECF6",
          "polar": {
           "angularaxis": {
            "gridcolor": "white",
            "linecolor": "white",
            "ticks": ""
           },
           "bgcolor": "#E5ECF6",
           "radialaxis": {
            "gridcolor": "white",
            "linecolor": "white",
            "ticks": ""
           }
          },
          "scene": {
           "xaxis": {
            "backgroundcolor": "#E5ECF6",
            "gridcolor": "white",
            "gridwidth": 2,
            "linecolor": "white",
            "showbackground": true,
            "ticks": "",
            "zerolinecolor": "white"
           },
           "yaxis": {
            "backgroundcolor": "#E5ECF6",
            "gridcolor": "white",
            "gridwidth": 2,
            "linecolor": "white",
            "showbackground": true,
            "ticks": "",
            "zerolinecolor": "white"
           },
           "zaxis": {
            "backgroundcolor": "#E5ECF6",
            "gridcolor": "white",
            "gridwidth": 2,
            "linecolor": "white",
            "showbackground": true,
            "ticks": "",
            "zerolinecolor": "white"
           }
          },
          "shapedefaults": {
           "line": {
            "color": "#2a3f5f"
           }
          },
          "ternary": {
           "aaxis": {
            "gridcolor": "white",
            "linecolor": "white",
            "ticks": ""
           },
           "baxis": {
            "gridcolor": "white",
            "linecolor": "white",
            "ticks": ""
           },
           "bgcolor": "#E5ECF6",
           "caxis": {
            "gridcolor": "white",
            "linecolor": "white",
            "ticks": ""
           }
          },
          "title": {
           "x": 0.05
          },
          "xaxis": {
           "automargin": true,
           "gridcolor": "white",
           "linecolor": "white",
           "ticks": "",
           "title": {
            "standoff": 15
           },
           "zerolinecolor": "white",
           "zerolinewidth": 2
          },
          "yaxis": {
           "automargin": true,
           "gridcolor": "white",
           "linecolor": "white",
           "ticks": "",
           "title": {
            "standoff": 15
           },
           "zerolinecolor": "white",
           "zerolinewidth": 2
          }
         }
        },
        "title": {
         "font": {
          "color": "#a5a7ab",
          "family": "Muli, sans-serif",
          "size": 25
         },
         "text": "Purpose for Collection of Loan"
        },
        "xaxis": {
         "anchor": "y",
         "categoryorder": "total descending",
         "domain": [
          0,
          1
         ],
         "tickangle": 0,
         "title": {
          "text": " "
         }
        },
        "yaxis": {
         "anchor": "x",
         "domain": [
          0,
          1
         ],
         "title": {
          "text": " "
         }
        }
       }
      }
     },
     "metadata": {},
     "output_type": "display_data"
    }
   ],
   "source": [
    "pup = px.histogram(data, x='purpose',\n",
    "                         title='Purpose for Collection of Loan', height=400,\n",
    "                         color_discrete_sequence=['#03DAC5'],\n",
    "                         )\n",
    "pup.update_xaxes(categoryorder='total descending')\n",
    "\n",
    "pup.update_layout(margin=dict(t=70, b=10, l=70, r=40),\n",
    "                        hovermode=\"x unified\",\n",
    "                        xaxis_tickangle=360,\n",
    "                        xaxis_title=' ', yaxis_title=\" \",\n",
    "                        plot_bgcolor='#2d3035', paper_bgcolor='#2d3035',\n",
    "                        title_font=dict(size=25, color='#a5a7ab', family=\"Muli, sans-serif\"),\n",
    "                        font=dict(color='#8a8d93'),\n",
    "                        legend=dict(orientation=\"h\", yanchor=\"bottom\", y=1.02, xanchor=\"right\", x=1))\n",
    "pup"
   ]
  },
  {
   "cell_type": "code",
   "execution_count": 86,
   "metadata": {},
   "outputs": [
    {
     "data": {
      "application/vnd.plotly.v1+json": {
       "config": {
        "plotlyServerURL": "https://plot.ly"
       },
       "data": [
        {
         "alignmentgroup": "True",
         "bingroup": "x",
         "hovertemplate": "x=%{x}<br>count=%{y}<extra></extra>",
         "legendgroup": "",
         "marker": {
          "color": "#03DAC5",
          "pattern": {
           "shape": ""
          }
         },
         "name": "",
         "offsetgroup": "",
         "orientation": "v",
         "showlegend": false,
         "type": "histogram",
         "x": [
          "1000-3000",
          "5000-8000",
          "1000-3000",
          "5000-8000",
          "3000-5000",
          "8000-10000",
          "1000-3000",
          "5000-8000",
          "3000-5000",
          "5000-8000",
          "1000-3000",
          "3000-5000",
          "1000-3000",
          "1000-3000",
          "1000-3000",
          "1000-3000",
          "1000-3000",
          "8000-10000",
          "10000-13000",
          "3000-5000",
          "1000-3000",
          "1000-3000",
          "1000-3000",
          "1000-3000",
          "1000-3000",
          "1000-3000",
          "1 - 500",
          "1 - 500",
          "1000-3000",
          "5000-8000",
          "1000-3000",
          "3000-5000",
          "5000-8000",
          "1000-3000",
          "1000-3000",
          "3000-5000",
          "5000-8000",
          "1000-3000",
          "1000-3000",
          "1 - 500",
          "1000-3000",
          "1000-3000",
          "5000-8000",
          "5000-8000",
          "5000-8000",
          "1000-3000",
          "1000-3000",
          "1000-3000",
          "5000-8000",
          "1000-3000",
          "1000-3000",
          "5000-8000",
          "1000-3000",
          "3000-5000",
          "1000-3000",
          "500 - 1000",
          "5000-8000",
          "8000-10000",
          "1000-3000",
          "5000-8000",
          "1000-3000",
          "1000-3000",
          "1000-3000",
          "13000-15000",
          "3000-5000",
          "5000-8000",
          "1000-3000",
          "1000-3000",
          "1000-3000",
          "1000-3000",
          "8000-10000",
          "500 - 1000",
          "1000-3000",
          "5000-8000",
          "1000-3000",
          "1000-3000",
          "3000-5000",
          "3000-5000",
          "8000-10000",
          "3000-5000",
          "5000-8000",
          "1000-3000",
          "1000-3000",
          "1000-3000",
          "1000-3000",
          "1000-3000",
          "1000-3000",
          "10000-13000",
          "1000-3000",
          "1000-3000",
          "500 - 1000",
          "1000-3000",
          "500 - 1000",
          "3000-5000",
          "1000-3000",
          "15000-185000",
          "1000-3000",
          "1000-3000",
          "1000-3000",
          "5000-8000",
          "1000-3000",
          "1000-3000",
          "500 - 1000",
          "1000-3000",
          "1000-3000",
          "10000-13000",
          "5000-8000",
          "5000-8000",
          "5000-8000",
          "1000-3000",
          "1000-3000",
          "1 - 500",
          "5000-8000",
          "5000-8000",
          "1000-3000",
          "3000-5000",
          "5000-8000",
          "1000-3000",
          "3000-5000",
          "1000-3000",
          "1000-3000",
          "3000-5000",
          "1000-3000",
          "500 - 1000",
          "1000-3000",
          "1000-3000",
          "500 - 1000",
          "500 - 1000",
          "1000-3000",
          "3000-5000",
          "8000-10000",
          "5000-8000",
          "1000-3000",
          "1000-3000",
          "10000-13000",
          "1000-3000",
          "8000-10000",
          "500 - 1000",
          "1000-3000",
          "1000-3000",
          "500 - 1000",
          "3000-5000",
          "3000-5000",
          "1000-3000",
          "1000-3000",
          "3000-5000",
          "500 - 1000",
          "500 - 1000",
          "5000-8000",
          "1000-3000",
          "1000-3000",
          "1000-3000",
          "5000-8000",
          "5000-8000",
          "5000-8000",
          "1000-3000",
          "1000-3000",
          "1 - 500",
          "3000-5000",
          "1000-3000",
          "1000-3000",
          "1000-3000",
          "1000-3000",
          "5000-8000",
          "500 - 1000",
          "1000-3000",
          "1000-3000",
          "1000-3000",
          "3000-5000",
          "1000-3000",
          "500 - 1000",
          "500 - 1000",
          "1000-3000",
          "1000-3000",
          "3000-5000",
          "5000-8000",
          "1000-3000",
          "1 - 500",
          "1000-3000",
          "500 - 1000",
          "8000-10000",
          "3000-5000",
          "1000-3000",
          "3000-5000",
          "500 - 1000",
          "1000-3000",
          "5000-8000",
          "1000-3000",
          "500 - 1000",
          "3000-5000",
          "3000-5000",
          "3000-5000",
          "3000-5000",
          "1000-3000",
          "3000-5000",
          "1000-3000",
          "1000-3000",
          "500 - 1000",
          "1000-3000",
          "3000-5000",
          "500 - 1000",
          "1000-3000",
          "5000-8000",
          "500 - 1000",
          "1000-3000",
          "10000-13000",
          "1000-3000",
          "1000-3000",
          "5000-8000",
          "1000-3000",
          "3000-5000",
          "3000-5000",
          "5000-8000",
          "1000-3000",
          "3000-5000",
          "500 - 1000",
          "3000-5000",
          "3000-5000",
          "3000-5000",
          "1000-3000",
          "500 - 1000",
          "1000-3000",
          "500 - 1000",
          "1000-3000",
          "3000-5000",
          "1000-3000",
          "10000-13000",
          "5000-8000",
          "1000-3000",
          "3000-5000",
          "3000-5000",
          "1000-3000",
          "1000-3000",
          "500 - 1000",
          "1000-3000",
          "1000-3000",
          "13000-15000",
          "1000-3000",
          "1000-3000",
          "1000-3000",
          "500 - 1000",
          "1000-3000",
          "3000-5000",
          "1000-3000",
          "3000-5000",
          "1000-3000",
          "500 - 1000",
          "1000-3000",
          "1000-3000",
          "1 - 500",
          "500 - 1000",
          "1000-3000",
          "1000-3000",
          "3000-5000",
          "1000-3000",
          "5000-8000",
          "1000-3000",
          "1000-3000",
          "3000-5000",
          "1000-3000",
          "1000-3000",
          "1000-3000",
          "5000-8000",
          "1000-3000",
          "1000-3000",
          "500 - 1000",
          "5000-8000",
          "1000-3000",
          "8000-10000",
          "500 - 1000",
          "1000-3000",
          "1000-3000",
          "10000-13000",
          "3000-5000",
          "10000-13000",
          "1000-3000",
          "1000-3000",
          "1000-3000",
          "3000-5000",
          "1000-3000",
          "3000-5000",
          "1000-3000",
          "1000-3000",
          "1000-3000",
          "3000-5000",
          "10000-13000",
          "3000-5000",
          "5000-8000",
          "1000-3000",
          "1000-3000",
          "1000-3000",
          "8000-10000",
          "5000-8000",
          "3000-5000",
          "5000-8000",
          "8000-10000",
          "3000-5000",
          "1000-3000",
          "1000-3000",
          "1000-3000",
          "500 - 1000",
          "3000-5000",
          "1000-3000",
          "1000-3000",
          "10000-13000",
          "1000-3000",
          "3000-5000",
          "500 - 1000",
          "1000-3000",
          "1 - 500",
          "5000-8000",
          "5000-8000",
          "3000-5000",
          "500 - 1000",
          "1000-3000",
          "1000-3000",
          "500 - 1000",
          "3000-5000",
          "500 - 1000",
          "3000-5000",
          "3000-5000",
          "1000-3000",
          "1000-3000",
          "1000-3000",
          "1000-3000",
          "3000-5000",
          "5000-8000",
          "1000-3000",
          "3000-5000",
          "1000-3000",
          "5000-8000",
          "1000-3000",
          "5000-8000",
          "10000-13000",
          "3000-5000",
          "3000-5000",
          "1000-3000",
          "1000-3000",
          "3000-5000",
          "1000-3000",
          "5000-8000",
          "3000-5000",
          "3000-5000",
          "3000-5000",
          "3000-5000",
          "1000-3000",
          "500 - 1000",
          "3000-5000",
          "1000-3000",
          "1000-3000",
          "1000-3000",
          "500 - 1000",
          "3000-5000",
          "5000-8000",
          "500 - 1000",
          "1000-3000",
          "1000-3000",
          "3000-5000",
          "500 - 1000",
          "1000-3000",
          "1000-3000",
          "3000-5000",
          "1000-3000",
          "1000-3000",
          "1000-3000",
          "1000-3000",
          "3000-5000",
          "3000-5000",
          "3000-5000",
          "3000-5000",
          "3000-5000",
          "5000-8000",
          "1000-3000",
          "13000-15000",
          "13000-15000",
          "5000-8000",
          "1000-3000",
          "500 - 1000",
          "13000-15000",
          "1 - 500",
          "1000-3000",
          "10000-13000",
          "1000-3000",
          "1000-3000",
          "3000-5000",
          "1000-3000",
          "1000-3000",
          "5000-8000",
          "1000-3000",
          "1000-3000",
          "1000-3000",
          "500 - 1000",
          "3000-5000",
          "1000-3000",
          "1000-3000",
          "10000-13000",
          "1000-3000",
          "1000-3000",
          "1000-3000",
          "1000-3000",
          "1000-3000",
          "1000-3000",
          "8000-10000",
          "500 - 1000",
          "1000-3000",
          "1000-3000",
          "1000-3000",
          "1000-3000",
          "3000-5000",
          "500 - 1000",
          "1000-3000",
          "5000-8000",
          "1000-3000",
          "1000-3000",
          "1000-3000",
          "5000-8000",
          "1000-3000",
          "8000-10000",
          "1000-3000",
          "1000-3000",
          "3000-5000",
          "1000-3000",
          "500 - 1000",
          "1000-3000",
          "1000-3000",
          "1000-3000",
          "1000-3000",
          "1000-3000",
          "1000-3000",
          "1000-3000",
          "3000-5000",
          "10000-13000",
          "1000-3000",
          "1000-3000",
          "1000-3000",
          "1000-3000",
          "500 - 1000",
          "1000-3000",
          "3000-5000",
          "500 - 1000",
          "1000-3000",
          "1000-3000",
          "1000-3000",
          "500 - 1000",
          "5000-8000",
          "1000-3000",
          "1000-3000",
          "1000-3000",
          "1000-3000",
          "1000-3000",
          "10000-13000",
          "500 - 1000",
          "1000-3000",
          "1000-3000",
          "3000-5000",
          "1000-3000",
          "3000-5000",
          "3000-5000",
          "1 - 500",
          "3000-5000",
          "3000-5000",
          "1000-3000",
          "3000-5000",
          "500 - 1000",
          "1000-3000",
          "1000-3000",
          "1000-3000",
          "5000-8000",
          "1000-3000",
          "3000-5000",
          "3000-5000",
          "1 - 500",
          "500 - 1000",
          "1000-3000",
          "1000-3000",
          "3000-5000",
          "1000-3000",
          "5000-8000",
          "1000-3000",
          "1000-3000",
          "3000-5000",
          "1000-3000",
          "3000-5000",
          "500 - 1000",
          "1000-3000",
          "1000-3000",
          "3000-5000",
          "3000-5000",
          "1000-3000",
          "3000-5000",
          "1000-3000",
          "8000-10000",
          "1000-3000",
          "1 - 500",
          "1000-3000",
          "1000-3000",
          "8000-10000",
          "1000-3000",
          "1000-3000",
          "1000-3000",
          "3000-5000",
          "5000-8000",
          "1000-3000",
          "1000-3000",
          "1000-3000",
          "1000-3000",
          "1000-3000",
          "5000-8000",
          "1000-3000",
          "8000-10000",
          "500 - 1000",
          "3000-5000",
          "1000-3000",
          "500 - 1000",
          "1000-3000",
          "500 - 1000",
          "1000-3000",
          "5000-8000",
          "1000-3000",
          "500 - 1000",
          "5000-8000",
          "3000-5000",
          "5000-8000",
          "3000-5000",
          "1000-3000",
          "5000-8000",
          "1000-3000",
          "1000-3000",
          "1000-3000",
          "500 - 1000",
          "1000-3000",
          "1000-3000",
          "1000-3000",
          "1000-3000",
          "3000-5000",
          "1000-3000",
          "1000-3000",
          "3000-5000",
          "5000-8000",
          "3000-5000",
          "1000-3000",
          "1000-3000",
          "5000-8000",
          "1000-3000",
          "1000-3000",
          "1000-3000",
          "1000-3000",
          "1000-3000",
          "500 - 1000",
          "8000-10000",
          "500 - 1000",
          "1000-3000",
          "5000-8000",
          "1000-3000",
          "1000-3000",
          "1000-3000",
          "1000-3000",
          "5000-8000",
          "3000-5000",
          "1000-3000",
          "1000-3000",
          "1000-3000",
          "500 - 1000",
          "10000-13000",
          "3000-5000",
          "1000-3000",
          "1000-3000",
          "1000-3000",
          "3000-5000",
          "5000-8000",
          "3000-5000",
          "5000-8000",
          "5000-8000",
          "500 - 1000",
          "1000-3000",
          "1000-3000",
          "1000-3000",
          "1000-3000",
          "1000-3000",
          "500 - 1000",
          "1000-3000",
          "3000-5000",
          "1000-3000",
          "1000-3000",
          "1000-3000",
          "1000-3000",
          "1000-3000",
          "1000-3000",
          "1000-3000",
          "1000-3000",
          "1 - 500",
          "1000-3000",
          "1000-3000",
          "1000-3000",
          "1000-3000",
          "500 - 1000",
          "1000-3000",
          "3000-5000",
          "1000-3000",
          "3000-5000",
          "1000-3000",
          "500 - 1000",
          "1000-3000",
          "3000-5000",
          "1000-3000",
          "1000-3000",
          "3000-5000",
          "1000-3000",
          "1000-3000",
          "1000-3000",
          "500 - 1000",
          "1000-3000",
          "3000-5000",
          "3000-5000",
          "1000-3000",
          "10000-13000",
          "8000-10000",
          "3000-5000",
          "3000-5000",
          "500 - 1000",
          "3000-5000",
          "1000-3000",
          "3000-5000",
          "1000-3000",
          "1000-3000",
          "1000-3000",
          "1000-3000",
          "1000-3000",
          "3000-5000",
          "3000-5000",
          "3000-5000",
          "1000-3000",
          "1000-3000",
          "1000-3000",
          "1000-3000",
          "1000-3000",
          "1000-3000",
          "15000-185000",
          "1000-3000",
          "3000-5000",
          "500 - 1000",
          "1000-3000",
          "3000-5000",
          "1000-3000",
          "1000-3000",
          "5000-8000",
          "3000-5000",
          "1000-3000",
          "500 - 1000",
          "500 - 1000",
          "5000-8000",
          "1000-3000",
          "1000-3000",
          "8000-10000",
          "1000-3000",
          "3000-5000",
          "500 - 1000",
          "10000-13000",
          "3000-5000",
          "5000-8000",
          "1000-3000",
          "500 - 1000",
          "1000-3000",
          "1000-3000",
          "1000-3000",
          "5000-8000",
          "3000-5000",
          "3000-5000",
          "3000-5000",
          "3000-5000",
          "3000-5000",
          "5000-8000",
          "10000-13000",
          "1000-3000",
          "1000-3000",
          "3000-5000",
          "5000-8000",
          "5000-8000",
          "1000-3000",
          "1000-3000",
          "1000-3000",
          "1000-3000",
          "1000-3000",
          "5000-8000",
          "8000-10000",
          "5000-8000",
          "1000-3000",
          "1000-3000",
          "1000-3000",
          "3000-5000",
          "500 - 1000",
          "1000-3000",
          "1000-3000",
          "3000-5000",
          "1000-3000",
          "1000-3000",
          "1000-3000",
          "500 - 1000",
          "1000-3000",
          "1000-3000",
          "1000-3000",
          "5000-8000",
          "1000-3000",
          "1000-3000",
          "1000-3000",
          "5000-8000",
          "5000-8000",
          "1000-3000",
          "1000-3000",
          "1000-3000",
          "500 - 1000",
          "1000-3000",
          "1000-3000",
          "1000-3000",
          "13000-15000",
          "5000-8000",
          "3000-5000",
          "1000-3000",
          "3000-5000",
          "5000-8000",
          "1000-3000",
          "1 - 500",
          "1000-3000",
          "500 - 1000",
          "1000-3000",
          "1 - 500",
          "1000-3000",
          "1000-3000",
          "5000-8000",
          "1000-3000",
          "5000-8000",
          "1000-3000",
          "500 - 1000",
          "1000-3000",
          "3000-5000",
          "3000-5000",
          "10000-13000",
          "3000-5000",
          "5000-8000",
          "3000-5000",
          "1000-3000",
          "1000-3000",
          "3000-5000",
          "1000-3000",
          "13000-15000",
          "1000-3000",
          "1000-3000",
          "1000-3000",
          "5000-8000",
          "3000-5000",
          "1 - 500",
          "500 - 1000",
          "500 - 1000",
          "5000-8000",
          "1000-3000",
          "1000-3000",
          "1000-3000",
          "1000-3000",
          "1000-3000",
          "500 - 1000",
          "5000-8000",
          "1000-3000",
          "1000-3000",
          "10000-13000",
          "1000-3000",
          "1000-3000",
          "3000-5000",
          "1000-3000",
          "3000-5000",
          "1000-3000",
          "1000-3000",
          "8000-10000",
          "3000-5000",
          "1000-3000",
          "1000-3000",
          "1000-3000",
          "3000-5000",
          "3000-5000",
          "5000-8000",
          "3000-5000",
          "3000-5000",
          "1000-3000",
          "1000-3000",
          "500 - 1000",
          "5000-8000",
          "1000-3000",
          "1000-3000",
          "1000-3000",
          "5000-8000",
          "5000-8000",
          "1000-3000",
          "5000-8000",
          "1000-3000",
          "1000-3000",
          "3000-5000",
          "1000-3000",
          "5000-8000",
          "1000-3000",
          "500 - 1000",
          "1000-3000",
          "1000-3000",
          "1000-3000",
          "3000-5000",
          "500 - 1000",
          "5000-8000",
          "8000-10000",
          "500 - 1000",
          "500 - 1000",
          "8000-10000",
          "1000-3000",
          "500 - 1000",
          "1 - 500",
          "8000-10000",
          "3000-5000",
          "3000-5000",
          "5000-8000",
          "1000-3000",
          "1000-3000",
          "15000-185000",
          "1000-3000",
          "1000-3000",
          "3000-5000",
          "1000-3000",
          "500 - 1000",
          "3000-5000",
          "1000-3000",
          "3000-5000",
          "3000-5000",
          "8000-10000",
          "5000-8000",
          "1000-3000",
          "1000-3000",
          "10000-13000",
          "5000-8000",
          "1000-3000",
          "1000-3000",
          "500 - 1000",
          "500 - 1000",
          "1000-3000",
          "1000-3000",
          "5000-8000",
          "1000-3000",
          "1000-3000",
          "1000-3000",
          "3000-5000",
          "3000-5000",
          "5000-8000",
          "1000-3000",
          "1000-3000",
          "500 - 1000",
          "1000-3000",
          "3000-5000",
          "1000-3000",
          "1000-3000",
          "10000-13000",
          "1000-3000",
          "500 - 1000",
          "3000-5000",
          "3000-5000",
          "3000-5000",
          "5000-8000",
          "1000-3000",
          "1000-3000",
          "3000-5000",
          "1000-3000",
          "1000-3000",
          "1000-3000",
          "3000-5000",
          "5000-8000",
          "500 - 1000",
          "5000-8000",
          "1000-3000",
          "1000-3000",
          "500 - 1000",
          "3000-5000",
          "1000-3000",
          "1000-3000",
          "3000-5000",
          "1000-3000",
          "5000-8000",
          "5000-8000",
          "8000-10000",
          "1000-3000",
          "1000-3000",
          "3000-5000",
          "500 - 1000",
          "1000-3000",
          "15000-185000",
          "5000-8000",
          "5000-8000",
          "1000-3000",
          "1000-3000",
          "1000-3000",
          "5000-8000",
          "1000-3000",
          "8000-10000",
          "1000-3000",
          "1000-3000",
          "1000-3000",
          "3000-5000",
          "1000-3000",
          "3000-5000",
          "10000-13000",
          "1000-3000",
          "1000-3000",
          "1000-3000",
          "3000-5000",
          "3000-5000",
          "3000-5000",
          "3000-5000",
          "3000-5000",
          "3000-5000",
          "1000-3000",
          "1000-3000",
          "3000-5000",
          "15000-185000",
          "1000-3000",
          "13000-15000",
          "1000-3000",
          "3000-5000",
          "1000-3000",
          "10000-13000",
          "1000-3000",
          "1000-3000",
          "5000-8000",
          "500 - 1000",
          "1000-3000",
          "10000-13000",
          "1000-3000",
          "1000-3000",
          "1000-3000",
          "1000-3000",
          "1000-3000",
          "500 - 1000",
          "1000-3000",
          "1000-3000",
          "500 - 1000",
          "1000-3000",
          "5000-8000",
          "5000-8000",
          "3000-5000",
          "1000-3000",
          "500 - 1000",
          "1000-3000",
          "1000-3000",
          "8000-10000",
          "3000-5000",
          "1000-3000",
          "1000-3000",
          "3000-5000",
          "3000-5000",
          "1000-3000",
          "3000-5000",
          "10000-13000",
          "1000-3000",
          "1000-3000",
          "3000-5000",
          "1000-3000",
          "3000-5000",
          "3000-5000",
          "1000-3000",
          "1000-3000",
          "3000-5000",
          "1000-3000",
          "1 - 500",
          "1000-3000",
          "1000-3000",
          "3000-5000",
          "5000-8000",
          "3000-5000",
          "1000-3000",
          "5000-8000",
          "1000-3000",
          "5000-8000",
          "1000-3000",
          "1000-3000",
          "500 - 1000",
          "1000-3000",
          "1000-3000",
          "1000-3000",
          "8000-10000",
          "3000-5000",
          "1000-3000",
          "8000-10000",
          "1000-3000",
          "1000-3000",
          "5000-8000",
          "1000-3000",
          "5000-8000",
          "1000-3000",
          "3000-5000",
          "1000-3000",
          "1000-3000",
          "3000-5000",
          "1000-3000",
          "1000-3000",
          "3000-5000",
          "500 - 1000",
          "1000-3000",
          "3000-5000"
         ],
         "xaxis": "x",
         "yaxis": "y"
        }
       ],
       "layout": {
        "barmode": "relative",
        "font": {
         "color": "#9a8d93"
        },
        "height": 400,
        "hovermode": "x unified",
        "legend": {
         "orientation": "h",
         "tracegroupgap": 0,
         "x": 1,
         "xanchor": "right",
         "y": 1.02,
         "yanchor": "bottom"
        },
        "margin": {
         "b": 10,
         "l": 70,
         "r": 40,
         "t": 70
        },
        "paper_bgcolor": "#2d3035",
        "plot_bgcolor": "#2d3035",
        "template": {
         "data": {
          "bar": [
           {
            "error_x": {
             "color": "#2a3f5f"
            },
            "error_y": {
             "color": "#2a3f5f"
            },
            "marker": {
             "line": {
              "color": "#E5ECF6",
              "width": 0.5
             },
             "pattern": {
              "fillmode": "overlay",
              "size": 10,
              "solidity": 0.2
             }
            },
            "type": "bar"
           }
          ],
          "barpolar": [
           {
            "marker": {
             "line": {
              "color": "#E5ECF6",
              "width": 0.5
             },
             "pattern": {
              "fillmode": "overlay",
              "size": 10,
              "solidity": 0.2
             }
            },
            "type": "barpolar"
           }
          ],
          "carpet": [
           {
            "aaxis": {
             "endlinecolor": "#2a3f5f",
             "gridcolor": "white",
             "linecolor": "white",
             "minorgridcolor": "white",
             "startlinecolor": "#2a3f5f"
            },
            "baxis": {
             "endlinecolor": "#2a3f5f",
             "gridcolor": "white",
             "linecolor": "white",
             "minorgridcolor": "white",
             "startlinecolor": "#2a3f5f"
            },
            "type": "carpet"
           }
          ],
          "choropleth": [
           {
            "colorbar": {
             "outlinewidth": 0,
             "ticks": ""
            },
            "type": "choropleth"
           }
          ],
          "contour": [
           {
            "colorbar": {
             "outlinewidth": 0,
             "ticks": ""
            },
            "colorscale": [
             [
              0,
              "#0d0887"
             ],
             [
              0.1111111111111111,
              "#46039f"
             ],
             [
              0.2222222222222222,
              "#7201a8"
             ],
             [
              0.3333333333333333,
              "#9c179e"
             ],
             [
              0.4444444444444444,
              "#bd3786"
             ],
             [
              0.5555555555555556,
              "#d8576b"
             ],
             [
              0.6666666666666666,
              "#ed7953"
             ],
             [
              0.7777777777777778,
              "#fb9f3a"
             ],
             [
              0.8888888888888888,
              "#fdca26"
             ],
             [
              1,
              "#f0f921"
             ]
            ],
            "type": "contour"
           }
          ],
          "contourcarpet": [
           {
            "colorbar": {
             "outlinewidth": 0,
             "ticks": ""
            },
            "type": "contourcarpet"
           }
          ],
          "heatmap": [
           {
            "colorbar": {
             "outlinewidth": 0,
             "ticks": ""
            },
            "colorscale": [
             [
              0,
              "#0d0887"
             ],
             [
              0.1111111111111111,
              "#46039f"
             ],
             [
              0.2222222222222222,
              "#7201a8"
             ],
             [
              0.3333333333333333,
              "#9c179e"
             ],
             [
              0.4444444444444444,
              "#bd3786"
             ],
             [
              0.5555555555555556,
              "#d8576b"
             ],
             [
              0.6666666666666666,
              "#ed7953"
             ],
             [
              0.7777777777777778,
              "#fb9f3a"
             ],
             [
              0.8888888888888888,
              "#fdca26"
             ],
             [
              1,
              "#f0f921"
             ]
            ],
            "type": "heatmap"
           }
          ],
          "heatmapgl": [
           {
            "colorbar": {
             "outlinewidth": 0,
             "ticks": ""
            },
            "colorscale": [
             [
              0,
              "#0d0887"
             ],
             [
              0.1111111111111111,
              "#46039f"
             ],
             [
              0.2222222222222222,
              "#7201a8"
             ],
             [
              0.3333333333333333,
              "#9c179e"
             ],
             [
              0.4444444444444444,
              "#bd3786"
             ],
             [
              0.5555555555555556,
              "#d8576b"
             ],
             [
              0.6666666666666666,
              "#ed7953"
             ],
             [
              0.7777777777777778,
              "#fb9f3a"
             ],
             [
              0.8888888888888888,
              "#fdca26"
             ],
             [
              1,
              "#f0f921"
             ]
            ],
            "type": "heatmapgl"
           }
          ],
          "histogram": [
           {
            "marker": {
             "pattern": {
              "fillmode": "overlay",
              "size": 10,
              "solidity": 0.2
             }
            },
            "type": "histogram"
           }
          ],
          "histogram2d": [
           {
            "colorbar": {
             "outlinewidth": 0,
             "ticks": ""
            },
            "colorscale": [
             [
              0,
              "#0d0887"
             ],
             [
              0.1111111111111111,
              "#46039f"
             ],
             [
              0.2222222222222222,
              "#7201a8"
             ],
             [
              0.3333333333333333,
              "#9c179e"
             ],
             [
              0.4444444444444444,
              "#bd3786"
             ],
             [
              0.5555555555555556,
              "#d8576b"
             ],
             [
              0.6666666666666666,
              "#ed7953"
             ],
             [
              0.7777777777777778,
              "#fb9f3a"
             ],
             [
              0.8888888888888888,
              "#fdca26"
             ],
             [
              1,
              "#f0f921"
             ]
            ],
            "type": "histogram2d"
           }
          ],
          "histogram2dcontour": [
           {
            "colorbar": {
             "outlinewidth": 0,
             "ticks": ""
            },
            "colorscale": [
             [
              0,
              "#0d0887"
             ],
             [
              0.1111111111111111,
              "#46039f"
             ],
             [
              0.2222222222222222,
              "#7201a8"
             ],
             [
              0.3333333333333333,
              "#9c179e"
             ],
             [
              0.4444444444444444,
              "#bd3786"
             ],
             [
              0.5555555555555556,
              "#d8576b"
             ],
             [
              0.6666666666666666,
              "#ed7953"
             ],
             [
              0.7777777777777778,
              "#fb9f3a"
             ],
             [
              0.8888888888888888,
              "#fdca26"
             ],
             [
              1,
              "#f0f921"
             ]
            ],
            "type": "histogram2dcontour"
           }
          ],
          "mesh3d": [
           {
            "colorbar": {
             "outlinewidth": 0,
             "ticks": ""
            },
            "type": "mesh3d"
           }
          ],
          "parcoords": [
           {
            "line": {
             "colorbar": {
              "outlinewidth": 0,
              "ticks": ""
             }
            },
            "type": "parcoords"
           }
          ],
          "pie": [
           {
            "automargin": true,
            "type": "pie"
           }
          ],
          "scatter": [
           {
            "fillpattern": {
             "fillmode": "overlay",
             "size": 10,
             "solidity": 0.2
            },
            "type": "scatter"
           }
          ],
          "scatter3d": [
           {
            "line": {
             "colorbar": {
              "outlinewidth": 0,
              "ticks": ""
             }
            },
            "marker": {
             "colorbar": {
              "outlinewidth": 0,
              "ticks": ""
             }
            },
            "type": "scatter3d"
           }
          ],
          "scattercarpet": [
           {
            "marker": {
             "colorbar": {
              "outlinewidth": 0,
              "ticks": ""
             }
            },
            "type": "scattercarpet"
           }
          ],
          "scattergeo": [
           {
            "marker": {
             "colorbar": {
              "outlinewidth": 0,
              "ticks": ""
             }
            },
            "type": "scattergeo"
           }
          ],
          "scattergl": [
           {
            "marker": {
             "colorbar": {
              "outlinewidth": 0,
              "ticks": ""
             }
            },
            "type": "scattergl"
           }
          ],
          "scattermapbox": [
           {
            "marker": {
             "colorbar": {
              "outlinewidth": 0,
              "ticks": ""
             }
            },
            "type": "scattermapbox"
           }
          ],
          "scatterpolar": [
           {
            "marker": {
             "colorbar": {
              "outlinewidth": 0,
              "ticks": ""
             }
            },
            "type": "scatterpolar"
           }
          ],
          "scatterpolargl": [
           {
            "marker": {
             "colorbar": {
              "outlinewidth": 0,
              "ticks": ""
             }
            },
            "type": "scatterpolargl"
           }
          ],
          "scatterternary": [
           {
            "marker": {
             "colorbar": {
              "outlinewidth": 0,
              "ticks": ""
             }
            },
            "type": "scatterternary"
           }
          ],
          "surface": [
           {
            "colorbar": {
             "outlinewidth": 0,
             "ticks": ""
            },
            "colorscale": [
             [
              0,
              "#0d0887"
             ],
             [
              0.1111111111111111,
              "#46039f"
             ],
             [
              0.2222222222222222,
              "#7201a8"
             ],
             [
              0.3333333333333333,
              "#9c179e"
             ],
             [
              0.4444444444444444,
              "#bd3786"
             ],
             [
              0.5555555555555556,
              "#d8576b"
             ],
             [
              0.6666666666666666,
              "#ed7953"
             ],
             [
              0.7777777777777778,
              "#fb9f3a"
             ],
             [
              0.8888888888888888,
              "#fdca26"
             ],
             [
              1,
              "#f0f921"
             ]
            ],
            "type": "surface"
           }
          ],
          "table": [
           {
            "cells": {
             "fill": {
              "color": "#EBF0F8"
             },
             "line": {
              "color": "white"
             }
            },
            "header": {
             "fill": {
              "color": "#C8D4E3"
             },
             "line": {
              "color": "white"
             }
            },
            "type": "table"
           }
          ]
         },
         "layout": {
          "annotationdefaults": {
           "arrowcolor": "#2a3f5f",
           "arrowhead": 0,
           "arrowwidth": 1
          },
          "autotypenumbers": "strict",
          "coloraxis": {
           "colorbar": {
            "outlinewidth": 0,
            "ticks": ""
           }
          },
          "colorscale": {
           "diverging": [
            [
             0,
             "#8e0152"
            ],
            [
             0.1,
             "#c51b7d"
            ],
            [
             0.2,
             "#de77ae"
            ],
            [
             0.3,
             "#f1b6da"
            ],
            [
             0.4,
             "#fde0ef"
            ],
            [
             0.5,
             "#f7f7f7"
            ],
            [
             0.6,
             "#e6f5d0"
            ],
            [
             0.7,
             "#b8e186"
            ],
            [
             0.8,
             "#7fbc41"
            ],
            [
             0.9,
             "#4d9221"
            ],
            [
             1,
             "#276419"
            ]
           ],
           "sequential": [
            [
             0,
             "#0d0887"
            ],
            [
             0.1111111111111111,
             "#46039f"
            ],
            [
             0.2222222222222222,
             "#7201a8"
            ],
            [
             0.3333333333333333,
             "#9c179e"
            ],
            [
             0.4444444444444444,
             "#bd3786"
            ],
            [
             0.5555555555555556,
             "#d8576b"
            ],
            [
             0.6666666666666666,
             "#ed7953"
            ],
            [
             0.7777777777777778,
             "#fb9f3a"
            ],
            [
             0.8888888888888888,
             "#fdca26"
            ],
            [
             1,
             "#f0f921"
            ]
           ],
           "sequentialminus": [
            [
             0,
             "#0d0887"
            ],
            [
             0.1111111111111111,
             "#46039f"
            ],
            [
             0.2222222222222222,
             "#7201a8"
            ],
            [
             0.3333333333333333,
             "#9c179e"
            ],
            [
             0.4444444444444444,
             "#bd3786"
            ],
            [
             0.5555555555555556,
             "#d8576b"
            ],
            [
             0.6666666666666666,
             "#ed7953"
            ],
            [
             0.7777777777777778,
             "#fb9f3a"
            ],
            [
             0.8888888888888888,
             "#fdca26"
            ],
            [
             1,
             "#f0f921"
            ]
           ]
          },
          "colorway": [
           "#636efa",
           "#EF553B",
           "#00cc96",
           "#ab63fa",
           "#FFA15A",
           "#19d3f3",
           "#FF6692",
           "#B6E880",
           "#FF97FF",
           "#FECB52"
          ],
          "font": {
           "color": "#2a3f5f"
          },
          "geo": {
           "bgcolor": "white",
           "lakecolor": "white",
           "landcolor": "#E5ECF6",
           "showlakes": true,
           "showland": true,
           "subunitcolor": "white"
          },
          "hoverlabel": {
           "align": "left"
          },
          "hovermode": "closest",
          "mapbox": {
           "style": "light"
          },
          "paper_bgcolor": "white",
          "plot_bgcolor": "#E5ECF6",
          "polar": {
           "angularaxis": {
            "gridcolor": "white",
            "linecolor": "white",
            "ticks": ""
           },
           "bgcolor": "#E5ECF6",
           "radialaxis": {
            "gridcolor": "white",
            "linecolor": "white",
            "ticks": ""
           }
          },
          "scene": {
           "xaxis": {
            "backgroundcolor": "#E5ECF6",
            "gridcolor": "white",
            "gridwidth": 2,
            "linecolor": "white",
            "showbackground": true,
            "ticks": "",
            "zerolinecolor": "white"
           },
           "yaxis": {
            "backgroundcolor": "#E5ECF6",
            "gridcolor": "white",
            "gridwidth": 2,
            "linecolor": "white",
            "showbackground": true,
            "ticks": "",
            "zerolinecolor": "white"
           },
           "zaxis": {
            "backgroundcolor": "#E5ECF6",
            "gridcolor": "white",
            "gridwidth": 2,
            "linecolor": "white",
            "showbackground": true,
            "ticks": "",
            "zerolinecolor": "white"
           }
          },
          "shapedefaults": {
           "line": {
            "color": "#2a3f5f"
           }
          },
          "ternary": {
           "aaxis": {
            "gridcolor": "white",
            "linecolor": "white",
            "ticks": ""
           },
           "baxis": {
            "gridcolor": "white",
            "linecolor": "white",
            "ticks": ""
           },
           "bgcolor": "#E5ECF6",
           "caxis": {
            "gridcolor": "white",
            "linecolor": "white",
            "ticks": ""
           }
          },
          "title": {
           "x": 0.05
          },
          "xaxis": {
           "automargin": true,
           "gridcolor": "white",
           "linecolor": "white",
           "ticks": "",
           "title": {
            "standoff": 15
           },
           "zerolinecolor": "white",
           "zerolinewidth": 2
          },
          "yaxis": {
           "automargin": true,
           "gridcolor": "white",
           "linecolor": "white",
           "ticks": "",
           "title": {
            "standoff": 15
           },
           "zerolinecolor": "white",
           "zerolinewidth": 2
          }
         }
        },
        "title": {
         "text": "Current Balance of Customers"
        },
        "xaxis": {
         "anchor": "y",
         "categoryorder": "total descending",
         "domain": [
          0,
          1
         ],
         "tickangle": 0,
         "title": {
          "text": "Balance"
         }
        },
        "yaxis": {
         "anchor": "x",
         "domain": [
          0,
          1
         ],
         "title": {
          "text": "Count "
         }
        }
       }
      }
     },
     "metadata": {},
     "output_type": "display_data"
    }
   ],
   "source": [
    "# Bin Current Balance to have a range\n",
    "\n",
    "dz = data.copy()\n",
    "dz['binned'] = pd.cut(x = data['current_balance'], bins = [1, 500, 1000, 3000, 5000, 8000, 10000, 13000, 15000, 18500], \n",
    "                    labels = ['1 - 500', '500 - 1000', '1000-3000', '3000-5000', '5000-8000', '8000-10000',\n",
    "                     '10000-13000', '13000-15000', '15000-185000'])\n",
    "\n",
    "pup = px.histogram(data, x= dz['binned'],\n",
    "                         title='Current Balance of Customers', height=400,\n",
    "                         color_discrete_sequence=['#03DAC5'],\n",
    "                         )\n",
    "pup.update_xaxes(categoryorder='total descending')\n",
    "\n",
    "pup.update_layout(margin=dict(t=70, b=10, l=70, r=40),\n",
    "                        hovermode=\"x unified\",\n",
    "                        xaxis_tickangle=360,\n",
    "                        xaxis_title='Balance', yaxis_title=\"Count \",\n",
    "                        plot_bgcolor='#2d3035', paper_bgcolor='#2d3035',\n",
    "                        # title_font=dict(size=25, color='#a5a7ab', family=\"Muli, sans-serif\"),\n",
    "                        font=dict(color='#9a8d93'),\n",
    "                        legend=dict(orientation=\"h\", yanchor=\"bottom\", y=1.02, xanchor=\"right\", x=1))\n",
    "pup"
   ]
  },
  {
   "cell_type": "markdown",
   "metadata": {},
   "source": [
    "High income customers on the list are very low\n",
    "Customers earning between 1000-3000 are most\n",
    "Extremely low incme earners o the list are very low"
   ]
  },
  {
   "cell_type": "code",
   "execution_count": 106,
   "metadata": {},
   "outputs": [
    {
     "data": {
      "application/vnd.plotly.v1+json": {
       "config": {
        "plotlyServerURL": "https://plot.ly"
       },
       "data": [
        {
         "alignmentgroup": "True",
         "bingroup": "x",
         "hovertemplate": "employment=%{x}<br>count=%{y}<extra></extra>",
         "legendgroup": "",
         "marker": {
          "color": "#636efa",
          "pattern": {
           "shape": ""
          }
         },
         "name": "",
         "offsetgroup": "",
         "orientation": "v",
         "showlegend": false,
         "type": "histogram",
         "x": [
          "employed",
          "employed",
          "employed",
          "employed",
          "employed",
          "employed",
          "employed",
          "employed",
          "employed",
          "unemployed",
          "unemployed",
          "unemployed",
          "employed",
          "employed",
          "employed",
          "employed",
          "employed",
          "unemployed",
          "employed",
          "employed",
          "employed",
          "employed",
          "unemployed",
          "unemployed",
          "employed",
          "employed",
          "employed",
          "employed",
          "employed",
          "employed",
          "unemployed",
          "employed",
          "employed",
          "employed",
          "unemployed",
          "unemployed",
          "employed",
          "employed",
          "employed",
          "employed",
          "employed",
          "employed",
          "employed",
          "employed",
          "employed",
          "unemployed",
          "employed",
          "unemployed",
          "employed",
          "employed",
          "unemployed",
          "employed",
          "employed",
          "employed",
          "employed",
          "employed",
          "unemployed",
          "employed",
          "employed",
          "unemployed",
          "employed",
          "employed",
          "employed",
          "employed",
          "unemployed",
          "employed",
          "unemployed",
          "employed",
          "employed",
          "employed",
          "employed",
          "employed",
          "employed",
          "employed",
          "employed",
          "employed",
          "unemployed",
          "employed",
          "employed",
          "unemployed",
          "unemployed",
          "employed",
          "employed",
          "employed",
          "employed",
          "employed",
          "unemployed",
          "employed",
          "employed",
          "employed",
          "employed",
          "employed",
          "employed",
          "employed",
          "employed",
          "unemployed",
          "employed",
          "employed",
          "employed",
          "employed",
          "employed",
          "employed",
          "employed",
          "employed",
          "unemployed",
          "employed",
          "employed",
          "employed",
          "unemployed",
          "employed",
          "employed",
          "unemployed",
          "employed",
          "employed",
          "employed",
          "employed",
          "employed",
          "unemployed",
          "employed",
          "employed",
          "employed",
          "employed",
          "employed",
          "employed",
          "unemployed",
          "employed",
          "employed",
          "employed",
          "unemployed",
          "employed",
          "employed",
          "employed",
          "unemployed",
          "employed",
          "employed",
          "employed",
          "employed",
          "employed",
          "employed",
          "employed",
          "unemployed",
          "unemployed",
          "employed",
          "employed",
          "unemployed",
          "employed",
          "employed",
          "employed",
          "employed",
          "employed",
          "employed",
          "employed",
          "employed",
          "employed",
          "employed",
          "employed",
          "employed",
          "employed",
          "employed",
          "employed",
          "employed",
          "unemployed",
          "employed",
          "unemployed",
          "employed",
          "employed",
          "unemployed",
          "unemployed",
          "employed",
          "employed",
          "employed",
          "employed",
          "unemployed",
          "employed",
          "unemployed",
          "unemployed",
          "employed",
          "employed",
          "employed",
          "employed",
          "unemployed",
          "employed",
          "employed",
          "employed",
          "employed",
          "employed",
          "employed",
          "unemployed",
          "employed",
          "employed",
          "employed",
          "employed",
          "employed",
          "employed",
          "employed",
          "employed",
          "employed",
          "unemployed",
          "employed",
          "employed",
          "employed",
          "employed",
          "employed",
          "employed",
          "employed",
          "employed",
          "employed",
          "employed",
          "employed",
          "employed",
          "employed",
          "employed",
          "unemployed",
          "employed",
          "employed",
          "employed",
          "employed",
          "employed",
          "employed",
          "employed",
          "unemployed",
          "employed",
          "employed",
          "employed",
          "employed",
          "employed",
          "employed",
          "employed",
          "employed",
          "unemployed",
          "employed",
          "employed",
          "employed",
          "employed",
          "employed",
          "unemployed",
          "unemployed",
          "employed",
          "employed",
          "employed",
          "employed",
          "employed",
          "employed",
          "employed",
          "employed",
          "employed",
          "employed",
          "employed",
          "employed",
          "unemployed",
          "employed",
          "employed",
          "employed",
          "employed",
          "employed",
          "employed",
          "employed",
          "employed",
          "unemployed",
          "unemployed",
          "employed",
          "employed",
          "employed",
          "employed",
          "employed",
          "employed",
          "employed",
          "unemployed",
          "employed",
          "employed",
          "employed",
          "employed",
          "unemployed",
          "employed",
          "unemployed",
          "employed",
          "employed",
          "employed",
          "unemployed",
          "employed",
          "employed",
          "employed",
          "employed",
          "employed",
          "unemployed",
          "unemployed",
          "employed",
          "unemployed",
          "employed",
          "unemployed",
          "employed",
          "unemployed",
          "employed",
          "employed",
          "employed",
          "unemployed",
          "unemployed",
          "employed",
          "employed",
          "employed",
          "unemployed",
          "employed",
          "employed",
          "employed",
          "employed",
          "employed",
          "employed",
          "unemployed",
          "employed",
          "employed",
          "unemployed",
          "employed",
          "unemployed",
          "employed",
          "unemployed",
          "employed",
          "employed",
          "employed",
          "employed",
          "employed",
          "unemployed",
          "unemployed",
          "employed",
          "employed",
          "employed",
          "employed",
          "employed",
          "employed",
          "employed",
          "employed",
          "unemployed",
          "employed",
          "unemployed",
          "employed",
          "employed",
          "employed",
          "unemployed",
          "employed",
          "employed",
          "employed",
          "unemployed",
          "employed",
          "unemployed",
          "employed",
          "unemployed",
          "employed",
          "unemployed",
          "unemployed",
          "employed",
          "employed",
          "unemployed",
          "employed",
          "unemployed",
          "employed",
          "employed",
          "unemployed",
          "employed",
          "employed",
          "employed",
          "employed",
          "employed",
          "employed",
          "employed",
          "employed",
          "unemployed",
          "employed",
          "employed",
          "unemployed",
          "employed",
          "employed",
          "employed",
          "employed",
          "unemployed",
          "employed",
          "employed",
          "employed",
          "unemployed",
          "employed",
          "employed",
          "employed",
          "employed",
          "unemployed",
          "employed",
          "unemployed",
          "employed",
          "employed",
          "unemployed",
          "unemployed",
          "employed",
          "employed",
          "employed",
          "unemployed",
          "employed",
          "employed",
          "unemployed",
          "employed",
          "unemployed",
          "employed",
          "employed",
          "employed",
          "unemployed",
          "employed",
          "unemployed",
          "employed",
          "employed",
          "unemployed",
          "employed",
          "unemployed",
          "employed",
          "employed",
          "employed",
          "employed",
          "unemployed",
          "employed",
          "employed",
          "employed",
          "unemployed",
          "employed",
          "employed",
          "employed",
          "employed",
          "employed",
          "employed",
          "employed",
          "employed",
          "employed",
          "employed",
          "employed",
          "employed",
          "unemployed",
          "employed",
          "employed",
          "unemployed",
          "employed",
          "employed",
          "employed",
          "employed",
          "employed",
          "unemployed",
          "unemployed",
          "employed",
          "employed",
          "employed",
          "employed",
          "employed",
          "employed",
          "unemployed",
          "employed",
          "employed",
          "employed",
          "employed",
          "employed",
          "employed",
          "employed",
          "employed",
          "unemployed",
          "employed",
          "employed",
          "unemployed",
          "unemployed",
          "employed",
          "unemployed",
          "unemployed",
          "employed",
          "employed",
          "employed",
          "unemployed",
          "employed",
          "employed",
          "employed",
          "unemployed",
          "unemployed",
          "employed",
          "unemployed",
          "employed",
          "unemployed",
          "employed",
          "employed",
          "employed",
          "employed",
          "employed",
          "unemployed",
          "employed",
          "employed",
          "employed",
          "unemployed",
          "employed",
          "employed",
          "employed",
          "employed",
          "employed",
          "employed",
          "employed",
          "employed",
          "employed",
          "employed",
          "unemployed",
          "employed",
          "employed",
          "employed",
          "unemployed",
          "employed",
          "employed",
          "unemployed",
          "unemployed",
          "employed",
          "employed",
          "unemployed",
          "employed",
          "employed",
          "employed",
          "employed",
          "employed",
          "employed",
          "unemployed",
          "employed",
          "unemployed",
          "unemployed",
          "employed",
          "employed",
          "employed",
          "employed",
          "employed",
          "employed",
          "employed",
          "unemployed",
          "employed",
          "employed",
          "employed",
          "unemployed",
          "employed",
          "employed",
          "employed",
          "employed",
          "unemployed",
          "unemployed",
          "unemployed",
          "employed",
          "employed",
          "unemployed",
          "unemployed",
          "employed",
          "employed",
          "employed",
          "employed",
          "unemployed",
          "employed",
          "employed",
          "employed",
          "employed",
          "employed",
          "employed",
          "employed",
          "unemployed",
          "employed",
          "unemployed",
          "unemployed",
          "employed",
          "employed",
          "unemployed",
          "employed",
          "employed",
          "unemployed",
          "employed",
          "employed",
          "employed",
          "employed",
          "employed",
          "employed",
          "employed",
          "unemployed",
          "employed",
          "unemployed",
          "employed",
          "employed",
          "employed",
          "employed",
          "employed",
          "unemployed",
          "unemployed",
          "employed",
          "unemployed",
          "employed",
          "unemployed",
          "employed",
          "employed",
          "employed",
          "employed",
          "employed",
          "employed",
          "employed",
          "employed",
          "employed",
          "employed",
          "employed",
          "unemployed",
          "employed",
          "employed",
          "employed",
          "employed",
          "unemployed",
          "employed",
          "employed",
          "employed",
          "unemployed",
          "employed",
          "employed",
          "employed",
          "unemployed",
          "employed",
          "unemployed",
          "employed",
          "unemployed",
          "employed",
          "employed",
          "employed",
          "employed",
          "employed",
          "employed",
          "employed",
          "employed",
          "employed",
          "employed",
          "unemployed",
          "employed",
          "employed",
          "employed",
          "employed",
          "employed",
          "employed",
          "employed",
          "employed",
          "unemployed",
          "unemployed",
          "unemployed",
          "employed",
          "employed",
          "employed",
          "unemployed",
          "employed",
          "unemployed",
          "employed",
          "employed",
          "employed",
          "employed",
          "unemployed",
          "employed",
          "employed",
          "employed",
          "employed",
          "employed",
          "employed",
          "employed",
          "employed",
          "employed",
          "unemployed",
          "employed",
          "employed",
          "employed",
          "employed",
          "employed",
          "employed",
          "employed",
          "unemployed",
          "employed",
          "unemployed",
          "employed",
          "employed",
          "employed",
          "employed",
          "employed",
          "employed",
          "employed",
          "employed",
          "unemployed",
          "employed",
          "employed",
          "employed",
          "employed",
          "unemployed",
          "unemployed",
          "employed",
          "employed",
          "unemployed",
          "employed",
          "employed",
          "employed",
          "employed",
          "employed",
          "employed",
          "employed",
          "employed",
          "unemployed",
          "unemployed",
          "employed",
          "employed",
          "employed",
          "unemployed",
          "employed",
          "employed",
          "employed",
          "employed",
          "employed",
          "employed",
          "unemployed",
          "employed",
          "employed",
          "unemployed",
          "employed",
          "employed",
          "employed",
          "employed",
          "employed",
          "employed",
          "employed",
          "employed",
          "employed",
          "employed",
          "employed",
          "employed",
          "unemployed",
          "unemployed",
          "employed",
          "employed",
          "employed",
          "employed",
          "employed",
          "employed",
          "employed",
          "employed",
          "unemployed",
          "employed",
          "employed",
          "employed",
          "employed",
          "unemployed",
          "employed",
          "employed",
          "employed",
          "employed",
          "employed",
          "employed",
          "employed",
          "employed",
          "employed",
          "unemployed",
          "unemployed",
          "unemployed",
          "employed",
          "employed",
          "employed",
          "unemployed",
          "employed",
          "employed",
          "employed",
          "employed",
          "employed",
          "employed",
          "employed",
          "employed",
          "employed",
          "employed",
          "employed",
          "employed",
          "employed",
          "employed",
          "unemployed",
          "unemployed",
          "employed",
          "employed",
          "employed",
          "employed",
          "employed",
          "employed",
          "unemployed",
          "employed",
          "employed",
          "employed",
          "employed",
          "unemployed",
          "employed",
          "employed",
          "employed",
          "unemployed",
          "unemployed",
          "employed",
          "employed",
          "employed",
          "employed",
          "employed",
          "employed",
          "employed",
          "employed",
          "employed",
          "employed",
          "unemployed",
          "employed",
          "unemployed",
          "employed",
          "unemployed",
          "employed",
          "employed",
          "employed",
          "employed",
          "unemployed",
          "employed",
          "unemployed",
          "employed",
          "unemployed",
          "unemployed",
          "unemployed",
          "employed",
          "employed",
          "employed",
          "employed",
          "employed",
          "employed",
          "employed",
          "unemployed",
          "employed",
          "employed",
          "employed",
          "employed",
          "employed",
          "unemployed",
          "employed",
          "employed",
          "employed",
          "employed",
          "employed",
          "employed",
          "unemployed",
          "employed",
          "employed",
          "unemployed",
          "employed",
          "employed",
          "unemployed",
          "employed",
          "employed",
          "employed",
          "employed",
          "unemployed",
          "employed",
          "employed",
          "employed",
          "employed",
          "unemployed",
          "employed",
          "employed",
          "employed",
          "employed",
          "employed",
          "employed",
          "employed",
          "unemployed",
          "employed",
          "employed",
          "employed",
          "employed",
          "employed",
          "employed",
          "unemployed",
          "unemployed",
          "employed",
          "employed",
          "unemployed",
          "employed",
          "employed",
          "employed",
          "employed",
          "employed",
          "employed",
          "unemployed",
          "employed",
          "employed",
          "unemployed",
          "employed",
          "unemployed",
          "employed",
          "employed",
          "employed",
          "employed",
          "unemployed",
          "employed",
          "unemployed",
          "employed",
          "employed",
          "employed",
          "unemployed",
          "employed",
          "employed",
          "employed",
          "employed",
          "employed",
          "employed",
          "unemployed",
          "employed",
          "employed",
          "employed",
          "employed",
          "unemployed",
          "employed",
          "employed",
          "employed",
          "employed",
          "employed",
          "employed",
          "unemployed",
          "employed",
          "employed",
          "unemployed",
          "employed",
          "employed",
          "employed",
          "employed",
          "employed",
          "employed",
          "unemployed",
          "employed",
          "employed",
          "employed",
          "unemployed",
          "employed",
          "unemployed",
          "unemployed",
          "unemployed",
          "employed",
          "employed",
          "employed",
          "unemployed",
          "unemployed",
          "employed",
          "employed",
          "employed",
          "unemployed",
          "employed",
          "unemployed",
          "employed",
          "employed",
          "unemployed",
          "employed",
          "employed",
          "employed",
          "unemployed",
          "unemployed",
          "unemployed",
          "unemployed",
          "unemployed",
          "employed",
          "unemployed",
          "employed",
          "unemployed",
          "unemployed",
          "employed",
          "employed",
          "employed",
          "employed",
          "employed",
          "employed",
          "employed",
          "employed",
          "employed",
          "employed",
          "unemployed",
          "employed",
          "employed",
          "employed",
          "employed",
          "employed",
          "employed",
          "employed",
          "unemployed",
          "employed",
          "employed",
          "employed",
          "employed",
          "employed",
          "employed",
          "employed",
          "employed",
          "unemployed",
          "employed",
          "employed",
          "employed",
          "employed",
          "unemployed",
          "unemployed",
          "unemployed",
          "employed",
          "unemployed",
          "employed",
          "employed",
          "unemployed",
          "employed",
          "employed",
          "employed",
          "employed",
          "employed",
          "unemployed"
         ],
         "xaxis": "x",
         "yaxis": "y"
        }
       ],
       "layout": {
        "barmode": "relative",
        "height": 300,
        "legend": {
         "tracegroupgap": 0
        },
        "template": {
         "data": {
          "bar": [
           {
            "error_x": {
             "color": "#2a3f5f"
            },
            "error_y": {
             "color": "#2a3f5f"
            },
            "marker": {
             "line": {
              "color": "#E5ECF6",
              "width": 0.5
             },
             "pattern": {
              "fillmode": "overlay",
              "size": 10,
              "solidity": 0.2
             }
            },
            "type": "bar"
           }
          ],
          "barpolar": [
           {
            "marker": {
             "line": {
              "color": "#E5ECF6",
              "width": 0.5
             },
             "pattern": {
              "fillmode": "overlay",
              "size": 10,
              "solidity": 0.2
             }
            },
            "type": "barpolar"
           }
          ],
          "carpet": [
           {
            "aaxis": {
             "endlinecolor": "#2a3f5f",
             "gridcolor": "white",
             "linecolor": "white",
             "minorgridcolor": "white",
             "startlinecolor": "#2a3f5f"
            },
            "baxis": {
             "endlinecolor": "#2a3f5f",
             "gridcolor": "white",
             "linecolor": "white",
             "minorgridcolor": "white",
             "startlinecolor": "#2a3f5f"
            },
            "type": "carpet"
           }
          ],
          "choropleth": [
           {
            "colorbar": {
             "outlinewidth": 0,
             "ticks": ""
            },
            "type": "choropleth"
           }
          ],
          "contour": [
           {
            "colorbar": {
             "outlinewidth": 0,
             "ticks": ""
            },
            "colorscale": [
             [
              0,
              "#0d0887"
             ],
             [
              0.1111111111111111,
              "#46039f"
             ],
             [
              0.2222222222222222,
              "#7201a8"
             ],
             [
              0.3333333333333333,
              "#9c179e"
             ],
             [
              0.4444444444444444,
              "#bd3786"
             ],
             [
              0.5555555555555556,
              "#d8576b"
             ],
             [
              0.6666666666666666,
              "#ed7953"
             ],
             [
              0.7777777777777778,
              "#fb9f3a"
             ],
             [
              0.8888888888888888,
              "#fdca26"
             ],
             [
              1,
              "#f0f921"
             ]
            ],
            "type": "contour"
           }
          ],
          "contourcarpet": [
           {
            "colorbar": {
             "outlinewidth": 0,
             "ticks": ""
            },
            "type": "contourcarpet"
           }
          ],
          "heatmap": [
           {
            "colorbar": {
             "outlinewidth": 0,
             "ticks": ""
            },
            "colorscale": [
             [
              0,
              "#0d0887"
             ],
             [
              0.1111111111111111,
              "#46039f"
             ],
             [
              0.2222222222222222,
              "#7201a8"
             ],
             [
              0.3333333333333333,
              "#9c179e"
             ],
             [
              0.4444444444444444,
              "#bd3786"
             ],
             [
              0.5555555555555556,
              "#d8576b"
             ],
             [
              0.6666666666666666,
              "#ed7953"
             ],
             [
              0.7777777777777778,
              "#fb9f3a"
             ],
             [
              0.8888888888888888,
              "#fdca26"
             ],
             [
              1,
              "#f0f921"
             ]
            ],
            "type": "heatmap"
           }
          ],
          "heatmapgl": [
           {
            "colorbar": {
             "outlinewidth": 0,
             "ticks": ""
            },
            "colorscale": [
             [
              0,
              "#0d0887"
             ],
             [
              0.1111111111111111,
              "#46039f"
             ],
             [
              0.2222222222222222,
              "#7201a8"
             ],
             [
              0.3333333333333333,
              "#9c179e"
             ],
             [
              0.4444444444444444,
              "#bd3786"
             ],
             [
              0.5555555555555556,
              "#d8576b"
             ],
             [
              0.6666666666666666,
              "#ed7953"
             ],
             [
              0.7777777777777778,
              "#fb9f3a"
             ],
             [
              0.8888888888888888,
              "#fdca26"
             ],
             [
              1,
              "#f0f921"
             ]
            ],
            "type": "heatmapgl"
           }
          ],
          "histogram": [
           {
            "marker": {
             "pattern": {
              "fillmode": "overlay",
              "size": 10,
              "solidity": 0.2
             }
            },
            "type": "histogram"
           }
          ],
          "histogram2d": [
           {
            "colorbar": {
             "outlinewidth": 0,
             "ticks": ""
            },
            "colorscale": [
             [
              0,
              "#0d0887"
             ],
             [
              0.1111111111111111,
              "#46039f"
             ],
             [
              0.2222222222222222,
              "#7201a8"
             ],
             [
              0.3333333333333333,
              "#9c179e"
             ],
             [
              0.4444444444444444,
              "#bd3786"
             ],
             [
              0.5555555555555556,
              "#d8576b"
             ],
             [
              0.6666666666666666,
              "#ed7953"
             ],
             [
              0.7777777777777778,
              "#fb9f3a"
             ],
             [
              0.8888888888888888,
              "#fdca26"
             ],
             [
              1,
              "#f0f921"
             ]
            ],
            "type": "histogram2d"
           }
          ],
          "histogram2dcontour": [
           {
            "colorbar": {
             "outlinewidth": 0,
             "ticks": ""
            },
            "colorscale": [
             [
              0,
              "#0d0887"
             ],
             [
              0.1111111111111111,
              "#46039f"
             ],
             [
              0.2222222222222222,
              "#7201a8"
             ],
             [
              0.3333333333333333,
              "#9c179e"
             ],
             [
              0.4444444444444444,
              "#bd3786"
             ],
             [
              0.5555555555555556,
              "#d8576b"
             ],
             [
              0.6666666666666666,
              "#ed7953"
             ],
             [
              0.7777777777777778,
              "#fb9f3a"
             ],
             [
              0.8888888888888888,
              "#fdca26"
             ],
             [
              1,
              "#f0f921"
             ]
            ],
            "type": "histogram2dcontour"
           }
          ],
          "mesh3d": [
           {
            "colorbar": {
             "outlinewidth": 0,
             "ticks": ""
            },
            "type": "mesh3d"
           }
          ],
          "parcoords": [
           {
            "line": {
             "colorbar": {
              "outlinewidth": 0,
              "ticks": ""
             }
            },
            "type": "parcoords"
           }
          ],
          "pie": [
           {
            "automargin": true,
            "type": "pie"
           }
          ],
          "scatter": [
           {
            "fillpattern": {
             "fillmode": "overlay",
             "size": 10,
             "solidity": 0.2
            },
            "type": "scatter"
           }
          ],
          "scatter3d": [
           {
            "line": {
             "colorbar": {
              "outlinewidth": 0,
              "ticks": ""
             }
            },
            "marker": {
             "colorbar": {
              "outlinewidth": 0,
              "ticks": ""
             }
            },
            "type": "scatter3d"
           }
          ],
          "scattercarpet": [
           {
            "marker": {
             "colorbar": {
              "outlinewidth": 0,
              "ticks": ""
             }
            },
            "type": "scattercarpet"
           }
          ],
          "scattergeo": [
           {
            "marker": {
             "colorbar": {
              "outlinewidth": 0,
              "ticks": ""
             }
            },
            "type": "scattergeo"
           }
          ],
          "scattergl": [
           {
            "marker": {
             "colorbar": {
              "outlinewidth": 0,
              "ticks": ""
             }
            },
            "type": "scattergl"
           }
          ],
          "scattermapbox": [
           {
            "marker": {
             "colorbar": {
              "outlinewidth": 0,
              "ticks": ""
             }
            },
            "type": "scattermapbox"
           }
          ],
          "scatterpolar": [
           {
            "marker": {
             "colorbar": {
              "outlinewidth": 0,
              "ticks": ""
             }
            },
            "type": "scatterpolar"
           }
          ],
          "scatterpolargl": [
           {
            "marker": {
             "colorbar": {
              "outlinewidth": 0,
              "ticks": ""
             }
            },
            "type": "scatterpolargl"
           }
          ],
          "scatterternary": [
           {
            "marker": {
             "colorbar": {
              "outlinewidth": 0,
              "ticks": ""
             }
            },
            "type": "scatterternary"
           }
          ],
          "surface": [
           {
            "colorbar": {
             "outlinewidth": 0,
             "ticks": ""
            },
            "colorscale": [
             [
              0,
              "#0d0887"
             ],
             [
              0.1111111111111111,
              "#46039f"
             ],
             [
              0.2222222222222222,
              "#7201a8"
             ],
             [
              0.3333333333333333,
              "#9c179e"
             ],
             [
              0.4444444444444444,
              "#bd3786"
             ],
             [
              0.5555555555555556,
              "#d8576b"
             ],
             [
              0.6666666666666666,
              "#ed7953"
             ],
             [
              0.7777777777777778,
              "#fb9f3a"
             ],
             [
              0.8888888888888888,
              "#fdca26"
             ],
             [
              1,
              "#f0f921"
             ]
            ],
            "type": "surface"
           }
          ],
          "table": [
           {
            "cells": {
             "fill": {
              "color": "#EBF0F8"
             },
             "line": {
              "color": "white"
             }
            },
            "header": {
             "fill": {
              "color": "#C8D4E3"
             },
             "line": {
              "color": "white"
             }
            },
            "type": "table"
           }
          ]
         },
         "layout": {
          "annotationdefaults": {
           "arrowcolor": "#2a3f5f",
           "arrowhead": 0,
           "arrowwidth": 1
          },
          "autotypenumbers": "strict",
          "coloraxis": {
           "colorbar": {
            "outlinewidth": 0,
            "ticks": ""
           }
          },
          "colorscale": {
           "diverging": [
            [
             0,
             "#8e0152"
            ],
            [
             0.1,
             "#c51b7d"
            ],
            [
             0.2,
             "#de77ae"
            ],
            [
             0.3,
             "#f1b6da"
            ],
            [
             0.4,
             "#fde0ef"
            ],
            [
             0.5,
             "#f7f7f7"
            ],
            [
             0.6,
             "#e6f5d0"
            ],
            [
             0.7,
             "#b8e186"
            ],
            [
             0.8,
             "#7fbc41"
            ],
            [
             0.9,
             "#4d9221"
            ],
            [
             1,
             "#276419"
            ]
           ],
           "sequential": [
            [
             0,
             "#0d0887"
            ],
            [
             0.1111111111111111,
             "#46039f"
            ],
            [
             0.2222222222222222,
             "#7201a8"
            ],
            [
             0.3333333333333333,
             "#9c179e"
            ],
            [
             0.4444444444444444,
             "#bd3786"
            ],
            [
             0.5555555555555556,
             "#d8576b"
            ],
            [
             0.6666666666666666,
             "#ed7953"
            ],
            [
             0.7777777777777778,
             "#fb9f3a"
            ],
            [
             0.8888888888888888,
             "#fdca26"
            ],
            [
             1,
             "#f0f921"
            ]
           ],
           "sequentialminus": [
            [
             0,
             "#0d0887"
            ],
            [
             0.1111111111111111,
             "#46039f"
            ],
            [
             0.2222222222222222,
             "#7201a8"
            ],
            [
             0.3333333333333333,
             "#9c179e"
            ],
            [
             0.4444444444444444,
             "#bd3786"
            ],
            [
             0.5555555555555556,
             "#d8576b"
            ],
            [
             0.6666666666666666,
             "#ed7953"
            ],
            [
             0.7777777777777778,
             "#fb9f3a"
            ],
            [
             0.8888888888888888,
             "#fdca26"
            ],
            [
             1,
             "#f0f921"
            ]
           ]
          },
          "colorway": [
           "#636efa",
           "#EF553B",
           "#00cc96",
           "#ab63fa",
           "#FFA15A",
           "#19d3f3",
           "#FF6692",
           "#B6E880",
           "#FF97FF",
           "#FECB52"
          ],
          "font": {
           "color": "#2a3f5f"
          },
          "geo": {
           "bgcolor": "white",
           "lakecolor": "white",
           "landcolor": "#E5ECF6",
           "showlakes": true,
           "showland": true,
           "subunitcolor": "white"
          },
          "hoverlabel": {
           "align": "left"
          },
          "hovermode": "closest",
          "mapbox": {
           "style": "light"
          },
          "paper_bgcolor": "white",
          "plot_bgcolor": "#E5ECF6",
          "polar": {
           "angularaxis": {
            "gridcolor": "white",
            "linecolor": "white",
            "ticks": ""
           },
           "bgcolor": "#E5ECF6",
           "radialaxis": {
            "gridcolor": "white",
            "linecolor": "white",
            "ticks": ""
           }
          },
          "scene": {
           "xaxis": {
            "backgroundcolor": "#E5ECF6",
            "gridcolor": "white",
            "gridwidth": 2,
            "linecolor": "white",
            "showbackground": true,
            "ticks": "",
            "zerolinecolor": "white"
           },
           "yaxis": {
            "backgroundcolor": "#E5ECF6",
            "gridcolor": "white",
            "gridwidth": 2,
            "linecolor": "white",
            "showbackground": true,
            "ticks": "",
            "zerolinecolor": "white"
           },
           "zaxis": {
            "backgroundcolor": "#E5ECF6",
            "gridcolor": "white",
            "gridwidth": 2,
            "linecolor": "white",
            "showbackground": true,
            "ticks": "",
            "zerolinecolor": "white"
           }
          },
          "shapedefaults": {
           "line": {
            "color": "#2a3f5f"
           }
          },
          "ternary": {
           "aaxis": {
            "gridcolor": "white",
            "linecolor": "white",
            "ticks": ""
           },
           "baxis": {
            "gridcolor": "white",
            "linecolor": "white",
            "ticks": ""
           },
           "bgcolor": "#E5ECF6",
           "caxis": {
            "gridcolor": "white",
            "linecolor": "white",
            "ticks": ""
           }
          },
          "title": {
           "x": 0.05
          },
          "xaxis": {
           "automargin": true,
           "gridcolor": "white",
           "linecolor": "white",
           "ticks": "",
           "title": {
            "standoff": 15
           },
           "zerolinecolor": "white",
           "zerolinewidth": 2
          },
          "yaxis": {
           "automargin": true,
           "gridcolor": "white",
           "linecolor": "white",
           "ticks": "",
           "title": {
            "standoff": 15
           },
           "zerolinecolor": "white",
           "zerolinewidth": 2
          }
         }
        },
        "title": {
         "text": "Empployment Status"
        },
        "width": 350,
        "xaxis": {
         "anchor": "y",
         "domain": [
          0,
          1
         ],
         "title": {
          "text": "employment"
         }
        },
        "yaxis": {
         "anchor": "x",
         "domain": [
          0,
          1
         ],
         "title": {
          "text": "count"
         }
        }
       }
      }
     },
     "metadata": {},
     "output_type": "display_data"
    }
   ],
   "source": [
    "pup = px.histogram(ds, x= 'employment',\n",
    "                         title='Empployment Status', height=300, width = 350)\n",
    "pup"
   ]
  },
  {
   "cell_type": "code",
   "execution_count": 113,
   "metadata": {},
   "outputs": [
    {
     "data": {
      "application/vnd.plotly.v1+json": {
       "config": {
        "plotlyServerURL": "https://plot.ly"
       },
       "data": [
        {
         "alignmentgroup": "True",
         "bingroup": "x",
         "hovertemplate": "property_magnitude=%{x}<br>count=%{y}<extra></extra>",
         "legendgroup": "",
         "marker": {
          "color": "#636efa",
          "pattern": {
           "shape": ""
          }
         },
         "name": "",
         "offsetgroup": "",
         "orientation": "v",
         "showlegend": false,
         "type": "histogram",
         "x": [
          "real estate",
          "real estate",
          "real estate",
          "life insurance",
          "no known property",
          "no known property",
          "life insurance",
          "car",
          "real estate",
          "car",
          "car",
          "life insurance",
          "car",
          "car",
          "car",
          "car",
          "life insurance",
          "car",
          "no known property",
          "car",
          "car",
          "real estate",
          "real estate",
          "life insurance",
          "car",
          "real estate",
          "car",
          "real estate",
          "real estate",
          "no known property",
          "real estate",
          "car",
          "car",
          "no known property",
          "life insurance",
          "life insurance",
          "no known property",
          "real estate",
          "car",
          "real estate",
          "car",
          "car",
          "real estate",
          "car",
          "no known property",
          "car",
          "car",
          "life insurance",
          "life insurance",
          "real estate",
          "life insurance",
          "car",
          "car",
          "life insurance",
          "no known property",
          "real estate",
          "no known property",
          "car",
          "car",
          "no known property",
          "real estate",
          "real estate",
          "no known property",
          "car",
          "life insurance",
          "life insurance",
          "car",
          "real estate",
          "no known property",
          "car",
          "life insurance",
          "life insurance",
          "no known property",
          "real estate",
          "no known property",
          "no known property",
          "car",
          "life insurance",
          "life insurance",
          "life insurance",
          "car",
          "life insurance",
          "life insurance",
          "real estate",
          "real estate",
          "real estate",
          "life insurance",
          "no known property",
          "car",
          "real estate",
          "real estate",
          "real estate",
          "life insurance",
          "no known property",
          "real estate",
          "no known property",
          "car",
          "car",
          "real estate",
          "life insurance",
          "real estate",
          "car",
          "real estate",
          "car",
          "car",
          "car",
          "no known property",
          "car",
          "life insurance",
          "real estate",
          "car",
          "life insurance",
          "real estate",
          "real estate",
          "real estate",
          "real estate",
          "car",
          "real estate",
          "car",
          "car",
          "real estate",
          "car",
          "real estate",
          "no known property",
          "real estate",
          "life insurance",
          "real estate",
          "car",
          "car",
          "real estate",
          "car",
          "life insurance",
          "life insurance",
          "no known property",
          "real estate",
          "real estate",
          "car",
          "real estate",
          "real estate",
          "car",
          "real estate",
          "no known property",
          "car",
          "car",
          "life insurance",
          "car",
          "no known property",
          "car",
          "life insurance",
          "car",
          "no known property",
          "life insurance",
          "car",
          "no known property",
          "car",
          "car",
          "real estate",
          "car",
          "car",
          "real estate",
          "real estate",
          "life insurance",
          "life insurance",
          "no known property",
          "life insurance",
          "car",
          "car",
          "real estate",
          "life insurance",
          "real estate",
          "car",
          "real estate",
          "life insurance",
          "real estate",
          "life insurance",
          "real estate",
          "car",
          "car",
          "car",
          "real estate",
          "car",
          "real estate",
          "life insurance",
          "real estate",
          "car",
          "life insurance",
          "no known property",
          "car",
          "life insurance",
          "car",
          "life insurance",
          "no known property",
          "car",
          "real estate",
          "life insurance",
          "car",
          "car",
          "car",
          "no known property",
          "no known property",
          "car",
          "real estate",
          "car",
          "life insurance",
          "real estate",
          "no known property",
          "real estate",
          "life insurance",
          "car",
          "life insurance",
          "real estate",
          "real estate",
          "life insurance",
          "real estate",
          "car",
          "life insurance",
          "life insurance",
          "real estate",
          "real estate",
          "car",
          "real estate",
          "life insurance",
          "real estate",
          "real estate",
          "car",
          "car",
          "no known property",
          "no known property",
          "car",
          "no known property",
          "car",
          "no known property",
          "no known property",
          "real estate",
          "real estate",
          "car",
          "life insurance",
          "car",
          "life insurance",
          "life insurance",
          "car",
          "life insurance",
          "no known property",
          "real estate",
          "real estate",
          "real estate",
          "real estate",
          "no known property",
          "real estate",
          "real estate",
          "real estate",
          "car",
          "no known property",
          "life insurance",
          "car",
          "real estate",
          "real estate",
          "no known property",
          "car",
          "real estate",
          "real estate",
          "car",
          "no known property",
          "no known property",
          "real estate",
          "car",
          "real estate",
          "car",
          "life insurance",
          "car",
          "life insurance",
          "car",
          "no known property",
          "real estate",
          "no known property",
          "real estate",
          "car",
          "life insurance",
          "life insurance",
          "car",
          "no known property",
          "real estate",
          "car",
          "life insurance",
          "car",
          "real estate",
          "life insurance",
          "no known property",
          "real estate",
          "real estate",
          "real estate",
          "car",
          "no known property",
          "no known property",
          "car",
          "car",
          "car",
          "life insurance",
          "real estate",
          "car",
          "real estate",
          "car",
          "real estate",
          "life insurance",
          "no known property",
          "real estate",
          "life insurance",
          "no known property",
          "real estate",
          "real estate",
          "no known property",
          "car",
          "car",
          "car",
          "real estate",
          "car",
          "life insurance",
          "life insurance",
          "car",
          "life insurance",
          "car",
          "life insurance",
          "no known property",
          "car",
          "real estate",
          "real estate",
          "life insurance",
          "car",
          "car",
          "car",
          "no known property",
          "real estate",
          "life insurance",
          "car",
          "no known property",
          "real estate",
          "life insurance",
          "car",
          "life insurance",
          "car",
          "no known property",
          "car",
          "real estate",
          "real estate",
          "life insurance",
          "car",
          "real estate",
          "no known property",
          "real estate",
          "no known property",
          "real estate",
          "car",
          "no known property",
          "life insurance",
          "no known property",
          "real estate",
          "real estate",
          "car",
          "real estate",
          "real estate",
          "no known property",
          "car",
          "car",
          "life insurance",
          "car",
          "car",
          "car",
          "car",
          "car",
          "real estate",
          "real estate",
          "car",
          "real estate",
          "no known property",
          "no known property",
          "car",
          "real estate",
          "no known property",
          "no known property",
          "car",
          "car",
          "no known property",
          "life insurance",
          "real estate",
          "life insurance",
          "car",
          "real estate",
          "life insurance",
          "car",
          "car",
          "life insurance",
          "real estate",
          "no known property",
          "car",
          "car",
          "no known property",
          "no known property",
          "life insurance",
          "real estate",
          "real estate",
          "real estate",
          "real estate",
          "car",
          "car",
          "car",
          "life insurance",
          "car",
          "real estate",
          "car",
          "real estate",
          "car",
          "car",
          "car",
          "no known property",
          "life insurance",
          "life insurance",
          "real estate",
          "car",
          "car",
          "life insurance",
          "car",
          "car",
          "real estate",
          "real estate",
          "life insurance",
          "car",
          "car",
          "real estate",
          "car",
          "no known property",
          "real estate",
          "car",
          "no known property",
          "real estate",
          "real estate",
          "real estate",
          "real estate",
          "real estate",
          "car",
          "real estate",
          "car",
          "life insurance",
          "car",
          "car",
          "car",
          "life insurance",
          "car",
          "real estate",
          "real estate",
          "life insurance",
          "car",
          "real estate",
          "life insurance",
          "car",
          "life insurance",
          "no known property",
          "real estate",
          "no known property",
          "real estate",
          "car",
          "life insurance",
          "real estate",
          "real estate",
          "life insurance",
          "car",
          "no known property",
          "car",
          "car",
          "car",
          "car",
          "car",
          "life insurance",
          "car",
          "life insurance",
          "car",
          "life insurance",
          "car",
          "car",
          "real estate",
          "car",
          "real estate",
          "life insurance",
          "life insurance",
          "life insurance",
          "real estate",
          "life insurance",
          "car",
          "no known property",
          "real estate",
          "life insurance",
          "no known property",
          "no known property",
          "life insurance",
          "life insurance",
          "real estate",
          "car",
          "no known property",
          "life insurance",
          "real estate",
          "car",
          "life insurance",
          "no known property",
          "real estate",
          "no known property",
          "life insurance",
          "life insurance",
          "car",
          "life insurance",
          "life insurance",
          "car",
          "real estate",
          "no known property",
          "life insurance",
          "real estate",
          "life insurance",
          "life insurance",
          "real estate",
          "life insurance",
          "life insurance",
          "no known property",
          "no known property",
          "real estate",
          "no known property",
          "car",
          "real estate",
          "car",
          "car",
          "real estate",
          "car",
          "real estate",
          "car",
          "car",
          "real estate",
          "life insurance",
          "car",
          "car",
          "life insurance",
          "life insurance",
          "no known property",
          "life insurance",
          "real estate",
          "no known property",
          "life insurance",
          "real estate",
          "real estate",
          "real estate",
          "car",
          "car",
          "real estate",
          "no known property",
          "real estate",
          "life insurance",
          "real estate",
          "car",
          "life insurance",
          "car",
          "car",
          "life insurance",
          "car",
          "real estate",
          "no known property",
          "car",
          "life insurance",
          "no known property",
          "life insurance",
          "life insurance",
          "car",
          "car",
          "car",
          "car",
          "real estate",
          "car",
          "life insurance",
          "life insurance",
          "car",
          "car",
          "real estate",
          "car",
          "car",
          "car",
          "real estate",
          "real estate",
          "real estate",
          "no known property",
          "no known property",
          "real estate",
          "real estate",
          "life insurance",
          "real estate",
          "life insurance",
          "real estate",
          "car",
          "real estate",
          "life insurance",
          "car",
          "life insurance",
          "car",
          "real estate",
          "life insurance",
          "no known property",
          "real estate",
          "life insurance",
          "no known property",
          "car",
          "life insurance",
          "real estate",
          "real estate",
          "no known property",
          "real estate",
          "no known property",
          "life insurance",
          "no known property",
          "car",
          "car",
          "real estate",
          "car",
          "no known property",
          "real estate",
          "car",
          "real estate",
          "life insurance",
          "life insurance",
          "real estate",
          "car",
          "no known property",
          "car",
          "real estate",
          "no known property",
          "real estate",
          "real estate",
          "car",
          "car",
          "life insurance",
          "car",
          "car",
          "life insurance",
          "car",
          "car",
          "car",
          "life insurance",
          "real estate",
          "car",
          "life insurance",
          "car",
          "life insurance",
          "car",
          "real estate",
          "life insurance",
          "no known property",
          "car",
          "no known property",
          "life insurance",
          "real estate",
          "car",
          "car",
          "no known property",
          "car",
          "car",
          "car",
          "no known property",
          "real estate",
          "car",
          "real estate",
          "life insurance",
          "life insurance",
          "no known property",
          "car",
          "real estate",
          "life insurance",
          "life insurance",
          "life insurance",
          "car",
          "life insurance",
          "car",
          "real estate",
          "car",
          "car",
          "car",
          "real estate",
          "real estate",
          "no known property",
          "no known property",
          "real estate",
          "no known property",
          "life insurance",
          "no known property",
          "life insurance",
          "no known property",
          "car",
          "life insurance",
          "life insurance",
          "real estate",
          "car",
          "real estate",
          "car",
          "life insurance",
          "real estate",
          "life insurance",
          "car",
          "car",
          "car",
          "no known property",
          "no known property",
          "life insurance",
          "life insurance",
          "no known property",
          "life insurance",
          "life insurance",
          "real estate",
          "real estate",
          "life insurance",
          "no known property",
          "real estate",
          "real estate",
          "no known property",
          "car",
          "car",
          "no known property",
          "car",
          "car",
          "car",
          "life insurance",
          "real estate",
          "real estate",
          "real estate",
          "real estate",
          "life insurance",
          "car",
          "no known property",
          "real estate",
          "car",
          "real estate",
          "real estate",
          "car",
          "real estate",
          "no known property",
          "car",
          "car",
          "no known property",
          "car",
          "car",
          "real estate",
          "life insurance",
          "real estate",
          "life insurance",
          "life insurance",
          "car",
          "real estate",
          "car",
          "car",
          "life insurance",
          "car",
          "real estate",
          "car",
          "no known property",
          "no known property",
          "real estate",
          "no known property",
          "real estate",
          "life insurance",
          "car",
          "real estate",
          "life insurance",
          "no known property",
          "life insurance",
          "real estate",
          "life insurance",
          "real estate",
          "car",
          "real estate",
          "real estate",
          "no known property",
          "car",
          "life insurance",
          "no known property",
          "real estate",
          "car",
          "real estate",
          "car",
          "car",
          "real estate",
          "real estate",
          "real estate",
          "life insurance",
          "real estate",
          "life insurance",
          "car",
          "car",
          "no known property",
          "no known property",
          "life insurance",
          "car",
          "life insurance",
          "no known property",
          "no known property",
          "life insurance",
          "life insurance",
          "life insurance",
          "car",
          "real estate",
          "no known property",
          "real estate",
          "life insurance",
          "car",
          "real estate",
          "car",
          "real estate",
          "real estate",
          "no known property",
          "real estate",
          "real estate",
          "real estate",
          "car",
          "car",
          "no known property",
          "life insurance",
          "real estate",
          "car",
          "car",
          "real estate",
          "real estate",
          "car",
          "life insurance",
          "real estate",
          "car",
          "car",
          "real estate",
          "car",
          "no known property",
          "no known property",
          "car",
          "car",
          "car",
          "car",
          "real estate",
          "car",
          "car",
          "real estate",
          "life insurance",
          "real estate",
          "life insurance",
          "real estate",
          "real estate",
          "car",
          "life insurance",
          "car",
          "car",
          "real estate",
          "real estate",
          "real estate",
          "life insurance",
          "life insurance",
          "no known property",
          "no known property",
          "car",
          "real estate",
          "life insurance",
          "no known property",
          "life insurance",
          "real estate",
          "real estate",
          "car",
          "real estate",
          "real estate",
          "real estate",
          "car",
          "car",
          "life insurance",
          "life insurance",
          "life insurance",
          "car",
          "real estate",
          "real estate",
          "real estate",
          "life insurance",
          "car",
          "no known property",
          "car",
          "no known property",
          "life insurance",
          "car",
          "no known property",
          "real estate",
          "car",
          "car",
          "life insurance",
          "no known property",
          "car",
          "car",
          "real estate",
          "car",
          "car",
          "life insurance",
          "car",
          "life insurance",
          "car",
          "life insurance",
          "life insurance",
          "real estate",
          "car",
          "life insurance",
          "real estate",
          "no known property",
          "real estate",
          "real estate",
          "real estate",
          "real estate",
          "car",
          "life insurance",
          "real estate",
          "real estate",
          "car",
          "car",
          "real estate",
          "life insurance",
          "life insurance",
          "real estate",
          "no known property",
          "life insurance",
          "life insurance",
          "no known property",
          "car",
          "life insurance",
          "life insurance",
          "life insurance",
          "car",
          "life insurance",
          "no known property",
          "car",
          "real estate",
          "life insurance",
          "car",
          "real estate",
          "life insurance",
          "car",
          "no known property",
          "real estate",
          "car",
          "no known property",
          "life insurance",
          "life insurance",
          "real estate",
          "car",
          "real estate",
          "life insurance",
          "car",
          "no known property",
          "no known property",
          "life insurance",
          "car",
          "car",
          "car",
          "car",
          "car",
          "life insurance",
          "life insurance",
          "life insurance",
          "real estate",
          "car",
          "no known property",
          "real estate",
          "life insurance",
          "no known property",
          "car",
          "life insurance",
          "car",
          "life insurance",
          "car",
          "life insurance",
          "real estate",
          "real estate",
          "life insurance",
          "no known property",
          "no known property",
          "car",
          "car",
          "real estate",
          "life insurance",
          "car",
          "life insurance",
          "life insurance",
          "car",
          "car",
          "life insurance",
          "life insurance",
          "life insurance",
          "life insurance",
          "real estate",
          "no known property",
          "life insurance",
          "life insurance",
          "car",
          "car",
          "life insurance",
          "car",
          "real estate",
          "life insurance",
          "car",
          "no known property",
          "car"
         ],
         "xaxis": "x",
         "yaxis": "y"
        }
       ],
       "layout": {
        "barmode": "relative",
        "height": 400,
        "legend": {
         "tracegroupgap": 0
        },
        "template": {
         "data": {
          "bar": [
           {
            "error_x": {
             "color": "#2a3f5f"
            },
            "error_y": {
             "color": "#2a3f5f"
            },
            "marker": {
             "line": {
              "color": "#E5ECF6",
              "width": 0.5
             },
             "pattern": {
              "fillmode": "overlay",
              "size": 10,
              "solidity": 0.2
             }
            },
            "type": "bar"
           }
          ],
          "barpolar": [
           {
            "marker": {
             "line": {
              "color": "#E5ECF6",
              "width": 0.5
             },
             "pattern": {
              "fillmode": "overlay",
              "size": 10,
              "solidity": 0.2
             }
            },
            "type": "barpolar"
           }
          ],
          "carpet": [
           {
            "aaxis": {
             "endlinecolor": "#2a3f5f",
             "gridcolor": "white",
             "linecolor": "white",
             "minorgridcolor": "white",
             "startlinecolor": "#2a3f5f"
            },
            "baxis": {
             "endlinecolor": "#2a3f5f",
             "gridcolor": "white",
             "linecolor": "white",
             "minorgridcolor": "white",
             "startlinecolor": "#2a3f5f"
            },
            "type": "carpet"
           }
          ],
          "choropleth": [
           {
            "colorbar": {
             "outlinewidth": 0,
             "ticks": ""
            },
            "type": "choropleth"
           }
          ],
          "contour": [
           {
            "colorbar": {
             "outlinewidth": 0,
             "ticks": ""
            },
            "colorscale": [
             [
              0,
              "#0d0887"
             ],
             [
              0.1111111111111111,
              "#46039f"
             ],
             [
              0.2222222222222222,
              "#7201a8"
             ],
             [
              0.3333333333333333,
              "#9c179e"
             ],
             [
              0.4444444444444444,
              "#bd3786"
             ],
             [
              0.5555555555555556,
              "#d8576b"
             ],
             [
              0.6666666666666666,
              "#ed7953"
             ],
             [
              0.7777777777777778,
              "#fb9f3a"
             ],
             [
              0.8888888888888888,
              "#fdca26"
             ],
             [
              1,
              "#f0f921"
             ]
            ],
            "type": "contour"
           }
          ],
          "contourcarpet": [
           {
            "colorbar": {
             "outlinewidth": 0,
             "ticks": ""
            },
            "type": "contourcarpet"
           }
          ],
          "heatmap": [
           {
            "colorbar": {
             "outlinewidth": 0,
             "ticks": ""
            },
            "colorscale": [
             [
              0,
              "#0d0887"
             ],
             [
              0.1111111111111111,
              "#46039f"
             ],
             [
              0.2222222222222222,
              "#7201a8"
             ],
             [
              0.3333333333333333,
              "#9c179e"
             ],
             [
              0.4444444444444444,
              "#bd3786"
             ],
             [
              0.5555555555555556,
              "#d8576b"
             ],
             [
              0.6666666666666666,
              "#ed7953"
             ],
             [
              0.7777777777777778,
              "#fb9f3a"
             ],
             [
              0.8888888888888888,
              "#fdca26"
             ],
             [
              1,
              "#f0f921"
             ]
            ],
            "type": "heatmap"
           }
          ],
          "heatmapgl": [
           {
            "colorbar": {
             "outlinewidth": 0,
             "ticks": ""
            },
            "colorscale": [
             [
              0,
              "#0d0887"
             ],
             [
              0.1111111111111111,
              "#46039f"
             ],
             [
              0.2222222222222222,
              "#7201a8"
             ],
             [
              0.3333333333333333,
              "#9c179e"
             ],
             [
              0.4444444444444444,
              "#bd3786"
             ],
             [
              0.5555555555555556,
              "#d8576b"
             ],
             [
              0.6666666666666666,
              "#ed7953"
             ],
             [
              0.7777777777777778,
              "#fb9f3a"
             ],
             [
              0.8888888888888888,
              "#fdca26"
             ],
             [
              1,
              "#f0f921"
             ]
            ],
            "type": "heatmapgl"
           }
          ],
          "histogram": [
           {
            "marker": {
             "pattern": {
              "fillmode": "overlay",
              "size": 10,
              "solidity": 0.2
             }
            },
            "type": "histogram"
           }
          ],
          "histogram2d": [
           {
            "colorbar": {
             "outlinewidth": 0,
             "ticks": ""
            },
            "colorscale": [
             [
              0,
              "#0d0887"
             ],
             [
              0.1111111111111111,
              "#46039f"
             ],
             [
              0.2222222222222222,
              "#7201a8"
             ],
             [
              0.3333333333333333,
              "#9c179e"
             ],
             [
              0.4444444444444444,
              "#bd3786"
             ],
             [
              0.5555555555555556,
              "#d8576b"
             ],
             [
              0.6666666666666666,
              "#ed7953"
             ],
             [
              0.7777777777777778,
              "#fb9f3a"
             ],
             [
              0.8888888888888888,
              "#fdca26"
             ],
             [
              1,
              "#f0f921"
             ]
            ],
            "type": "histogram2d"
           }
          ],
          "histogram2dcontour": [
           {
            "colorbar": {
             "outlinewidth": 0,
             "ticks": ""
            },
            "colorscale": [
             [
              0,
              "#0d0887"
             ],
             [
              0.1111111111111111,
              "#46039f"
             ],
             [
              0.2222222222222222,
              "#7201a8"
             ],
             [
              0.3333333333333333,
              "#9c179e"
             ],
             [
              0.4444444444444444,
              "#bd3786"
             ],
             [
              0.5555555555555556,
              "#d8576b"
             ],
             [
              0.6666666666666666,
              "#ed7953"
             ],
             [
              0.7777777777777778,
              "#fb9f3a"
             ],
             [
              0.8888888888888888,
              "#fdca26"
             ],
             [
              1,
              "#f0f921"
             ]
            ],
            "type": "histogram2dcontour"
           }
          ],
          "mesh3d": [
           {
            "colorbar": {
             "outlinewidth": 0,
             "ticks": ""
            },
            "type": "mesh3d"
           }
          ],
          "parcoords": [
           {
            "line": {
             "colorbar": {
              "outlinewidth": 0,
              "ticks": ""
             }
            },
            "type": "parcoords"
           }
          ],
          "pie": [
           {
            "automargin": true,
            "type": "pie"
           }
          ],
          "scatter": [
           {
            "fillpattern": {
             "fillmode": "overlay",
             "size": 10,
             "solidity": 0.2
            },
            "type": "scatter"
           }
          ],
          "scatter3d": [
           {
            "line": {
             "colorbar": {
              "outlinewidth": 0,
              "ticks": ""
             }
            },
            "marker": {
             "colorbar": {
              "outlinewidth": 0,
              "ticks": ""
             }
            },
            "type": "scatter3d"
           }
          ],
          "scattercarpet": [
           {
            "marker": {
             "colorbar": {
              "outlinewidth": 0,
              "ticks": ""
             }
            },
            "type": "scattercarpet"
           }
          ],
          "scattergeo": [
           {
            "marker": {
             "colorbar": {
              "outlinewidth": 0,
              "ticks": ""
             }
            },
            "type": "scattergeo"
           }
          ],
          "scattergl": [
           {
            "marker": {
             "colorbar": {
              "outlinewidth": 0,
              "ticks": ""
             }
            },
            "type": "scattergl"
           }
          ],
          "scattermapbox": [
           {
            "marker": {
             "colorbar": {
              "outlinewidth": 0,
              "ticks": ""
             }
            },
            "type": "scattermapbox"
           }
          ],
          "scatterpolar": [
           {
            "marker": {
             "colorbar": {
              "outlinewidth": 0,
              "ticks": ""
             }
            },
            "type": "scatterpolar"
           }
          ],
          "scatterpolargl": [
           {
            "marker": {
             "colorbar": {
              "outlinewidth": 0,
              "ticks": ""
             }
            },
            "type": "scatterpolargl"
           }
          ],
          "scatterternary": [
           {
            "marker": {
             "colorbar": {
              "outlinewidth": 0,
              "ticks": ""
             }
            },
            "type": "scatterternary"
           }
          ],
          "surface": [
           {
            "colorbar": {
             "outlinewidth": 0,
             "ticks": ""
            },
            "colorscale": [
             [
              0,
              "#0d0887"
             ],
             [
              0.1111111111111111,
              "#46039f"
             ],
             [
              0.2222222222222222,
              "#7201a8"
             ],
             [
              0.3333333333333333,
              "#9c179e"
             ],
             [
              0.4444444444444444,
              "#bd3786"
             ],
             [
              0.5555555555555556,
              "#d8576b"
             ],
             [
              0.6666666666666666,
              "#ed7953"
             ],
             [
              0.7777777777777778,
              "#fb9f3a"
             ],
             [
              0.8888888888888888,
              "#fdca26"
             ],
             [
              1,
              "#f0f921"
             ]
            ],
            "type": "surface"
           }
          ],
          "table": [
           {
            "cells": {
             "fill": {
              "color": "#EBF0F8"
             },
             "line": {
              "color": "white"
             }
            },
            "header": {
             "fill": {
              "color": "#C8D4E3"
             },
             "line": {
              "color": "white"
             }
            },
            "type": "table"
           }
          ]
         },
         "layout": {
          "annotationdefaults": {
           "arrowcolor": "#2a3f5f",
           "arrowhead": 0,
           "arrowwidth": 1
          },
          "autotypenumbers": "strict",
          "coloraxis": {
           "colorbar": {
            "outlinewidth": 0,
            "ticks": ""
           }
          },
          "colorscale": {
           "diverging": [
            [
             0,
             "#8e0152"
            ],
            [
             0.1,
             "#c51b7d"
            ],
            [
             0.2,
             "#de77ae"
            ],
            [
             0.3,
             "#f1b6da"
            ],
            [
             0.4,
             "#fde0ef"
            ],
            [
             0.5,
             "#f7f7f7"
            ],
            [
             0.6,
             "#e6f5d0"
            ],
            [
             0.7,
             "#b8e186"
            ],
            [
             0.8,
             "#7fbc41"
            ],
            [
             0.9,
             "#4d9221"
            ],
            [
             1,
             "#276419"
            ]
           ],
           "sequential": [
            [
             0,
             "#0d0887"
            ],
            [
             0.1111111111111111,
             "#46039f"
            ],
            [
             0.2222222222222222,
             "#7201a8"
            ],
            [
             0.3333333333333333,
             "#9c179e"
            ],
            [
             0.4444444444444444,
             "#bd3786"
            ],
            [
             0.5555555555555556,
             "#d8576b"
            ],
            [
             0.6666666666666666,
             "#ed7953"
            ],
            [
             0.7777777777777778,
             "#fb9f3a"
            ],
            [
             0.8888888888888888,
             "#fdca26"
            ],
            [
             1,
             "#f0f921"
            ]
           ],
           "sequentialminus": [
            [
             0,
             "#0d0887"
            ],
            [
             0.1111111111111111,
             "#46039f"
            ],
            [
             0.2222222222222222,
             "#7201a8"
            ],
            [
             0.3333333333333333,
             "#9c179e"
            ],
            [
             0.4444444444444444,
             "#bd3786"
            ],
            [
             0.5555555555555556,
             "#d8576b"
            ],
            [
             0.6666666666666666,
             "#ed7953"
            ],
            [
             0.7777777777777778,
             "#fb9f3a"
            ],
            [
             0.8888888888888888,
             "#fdca26"
            ],
            [
             1,
             "#f0f921"
            ]
           ]
          },
          "colorway": [
           "#636efa",
           "#EF553B",
           "#00cc96",
           "#ab63fa",
           "#FFA15A",
           "#19d3f3",
           "#FF6692",
           "#B6E880",
           "#FF97FF",
           "#FECB52"
          ],
          "font": {
           "color": "#2a3f5f"
          },
          "geo": {
           "bgcolor": "white",
           "lakecolor": "white",
           "landcolor": "#E5ECF6",
           "showlakes": true,
           "showland": true,
           "subunitcolor": "white"
          },
          "hoverlabel": {
           "align": "left"
          },
          "hovermode": "closest",
          "mapbox": {
           "style": "light"
          },
          "paper_bgcolor": "white",
          "plot_bgcolor": "#E5ECF6",
          "polar": {
           "angularaxis": {
            "gridcolor": "white",
            "linecolor": "white",
            "ticks": ""
           },
           "bgcolor": "#E5ECF6",
           "radialaxis": {
            "gridcolor": "white",
            "linecolor": "white",
            "ticks": ""
           }
          },
          "scene": {
           "xaxis": {
            "backgroundcolor": "#E5ECF6",
            "gridcolor": "white",
            "gridwidth": 2,
            "linecolor": "white",
            "showbackground": true,
            "ticks": "",
            "zerolinecolor": "white"
           },
           "yaxis": {
            "backgroundcolor": "#E5ECF6",
            "gridcolor": "white",
            "gridwidth": 2,
            "linecolor": "white",
            "showbackground": true,
            "ticks": "",
            "zerolinecolor": "white"
           },
           "zaxis": {
            "backgroundcolor": "#E5ECF6",
            "gridcolor": "white",
            "gridwidth": 2,
            "linecolor": "white",
            "showbackground": true,
            "ticks": "",
            "zerolinecolor": "white"
           }
          },
          "shapedefaults": {
           "line": {
            "color": "#2a3f5f"
           }
          },
          "ternary": {
           "aaxis": {
            "gridcolor": "white",
            "linecolor": "white",
            "ticks": ""
           },
           "baxis": {
            "gridcolor": "white",
            "linecolor": "white",
            "ticks": ""
           },
           "bgcolor": "#E5ECF6",
           "caxis": {
            "gridcolor": "white",
            "linecolor": "white",
            "ticks": ""
           }
          },
          "title": {
           "x": 0.05
          },
          "xaxis": {
           "automargin": true,
           "gridcolor": "white",
           "linecolor": "white",
           "ticks": "",
           "title": {
            "standoff": 15
           },
           "zerolinecolor": "white",
           "zerolinewidth": 2
          },
          "yaxis": {
           "automargin": true,
           "gridcolor": "white",
           "linecolor": "white",
           "ticks": "",
           "title": {
            "standoff": 15
           },
           "zerolinecolor": "white",
           "zerolinewidth": 2
          }
         }
        },
        "title": {
         "text": "Empployment Status"
        },
        "width": 350,
        "xaxis": {
         "anchor": "y",
         "domain": [
          0,
          1
         ],
         "title": {
          "text": "property_magnitude"
         }
        },
        "yaxis": {
         "anchor": "x",
         "domain": [
          0,
          1
         ],
         "title": {
          "text": "count"
         }
        }
       }
      }
     },
     "metadata": {},
     "output_type": "display_data"
    }
   ],
   "source": [
    "pup = px.histogram(ds, x= 'property_magnitude',\n",
    "                         title='Empployment Status', height=400, width = 350)\n",
    "pup"
   ]
  },
  {
   "cell_type": "markdown",
   "metadata": {},
   "source": [
    "Most of customer invest in cars than they do other investment> Followed by real estate"
   ]
  },
  {
   "cell_type": "code",
   "execution_count": 117,
   "metadata": {},
   "outputs": [
    {
     "data": {
      "application/vnd.plotly.v1+json": {
       "config": {
        "plotlyServerURL": "https://plot.ly"
       },
       "data": [
        {
         "alignmentgroup": "True",
         "bingroup": "x",
         "hovertemplate": "job=%{x}<br>count=%{y}<extra></extra>",
         "legendgroup": "",
         "marker": {
          "color": "#636efa",
          "pattern": {
           "shape": ""
          }
         },
         "name": "",
         "offsetgroup": "",
         "orientation": "v",
         "showlegend": false,
         "type": "histogram",
         "x": [
          "skilled",
          "skilled",
          "unskilled",
          "skilled",
          "skilled",
          "unskilled",
          "skilled",
          "self_employed",
          "unskilled",
          "self_employed",
          "skilled",
          "skilled",
          "skilled",
          "unskilled",
          "skilled",
          "unskilled",
          "skilled",
          "skilled",
          "self_employed",
          "skilled",
          "skilled",
          "skilled",
          "unskilled",
          "skilled",
          "skilled",
          "unskilled",
          "unskilled",
          "skilled",
          "skilled",
          "skilled",
          "skilled",
          "skilled",
          "skilled",
          "unskilled",
          "self_employed",
          "unskilled",
          "skilled",
          "skilled",
          "skilled",
          "skilled",
          "self_employed",
          "skilled",
          "unskilled",
          "skilled",
          "unskilled",
          "self_employed",
          "skilled",
          "unemeployed",
          "unskilled",
          "skilled",
          "unskilled",
          "self_employed",
          "skilled",
          "skilled",
          "skilled",
          "unskilled",
          "self_employed",
          "skilled",
          "self_employed",
          "unskilled",
          "skilled",
          "skilled",
          "self_employed",
          "skilled",
          "skilled",
          "skilled",
          "skilled",
          "skilled",
          "skilled",
          "skilled",
          "skilled",
          "unskilled",
          "self_employed",
          "unskilled",
          "self_employed",
          "self_employed",
          "skilled",
          "skilled",
          "unskilled",
          "skilled",
          "skilled",
          "skilled",
          "unskilled",
          "unskilled",
          "unskilled",
          "self_employed",
          "skilled",
          "skilled",
          "self_employed",
          "skilled",
          "skilled",
          "skilled",
          "unskilled",
          "skilled",
          "skilled",
          "skilled",
          "skilled",
          "skilled",
          "skilled",
          "self_employed",
          "unskilled",
          "skilled",
          "skilled",
          "skilled",
          "skilled",
          "self_employed",
          "self_employed",
          "skilled",
          "skilled",
          "skilled",
          "skilled",
          "skilled",
          "unskilled",
          "skilled",
          "skilled",
          "skilled",
          "self_employed",
          "skilled",
          "skilled",
          "self_employed",
          "skilled",
          "self_employed",
          "unskilled",
          "skilled",
          "skilled",
          "skilled",
          "unskilled",
          "skilled",
          "self_employed",
          "skilled",
          "skilled",
          "skilled",
          "unskilled",
          "skilled",
          "skilled",
          "skilled",
          "skilled",
          "unskilled",
          "skilled",
          "unskilled",
          "unemeployed",
          "self_employed",
          "self_employed",
          "skilled",
          "skilled",
          "skilled",
          "skilled",
          "skilled",
          "skilled",
          "skilled",
          "skilled",
          "skilled",
          "skilled",
          "skilled",
          "self_employed",
          "skilled",
          "skilled",
          "unskilled",
          "skilled",
          "unskilled",
          "skilled",
          "skilled",
          "skilled",
          "self_employed",
          "skilled",
          "skilled",
          "skilled",
          "skilled",
          "skilled",
          "skilled",
          "skilled",
          "skilled",
          "self_employed",
          "skilled",
          "skilled",
          "self_employed",
          "skilled",
          "skilled",
          "self_employed",
          "skilled",
          "skilled",
          "self_employed",
          "unskilled",
          "skilled",
          "skilled",
          "skilled",
          "self_employed",
          "unemeployed",
          "skilled",
          "skilled",
          "self_employed",
          "unskilled",
          "skilled",
          "skilled",
          "skilled",
          "self_employed",
          "skilled",
          "skilled",
          "skilled",
          "self_employed",
          "skilled",
          "unskilled",
          "skilled",
          "skilled",
          "unskilled",
          "self_employed",
          "skilled",
          "skilled",
          "unskilled",
          "skilled",
          "skilled",
          "unskilled",
          "skilled",
          "self_employed",
          "skilled",
          "unskilled",
          "skilled",
          "skilled",
          "unskilled",
          "skilled",
          "unskilled",
          "skilled",
          "skilled",
          "skilled",
          "skilled",
          "skilled",
          "skilled",
          "self_employed",
          "skilled",
          "skilled",
          "skilled",
          "unskilled",
          "skilled",
          "unskilled",
          "unskilled",
          "self_employed",
          "unemeployed",
          "unskilled",
          "skilled",
          "skilled",
          "skilled",
          "skilled",
          "skilled",
          "skilled",
          "unskilled",
          "skilled",
          "skilled",
          "skilled",
          "skilled",
          "skilled",
          "unskilled",
          "unskilled",
          "skilled",
          "skilled",
          "skilled",
          "unskilled",
          "unskilled",
          "skilled",
          "skilled",
          "unskilled",
          "skilled",
          "skilled",
          "self_employed",
          "unskilled",
          "unskilled",
          "skilled",
          "skilled",
          "skilled",
          "self_employed",
          "skilled",
          "skilled",
          "skilled",
          "self_employed",
          "skilled",
          "unskilled",
          "skilled",
          "skilled",
          "unskilled",
          "skilled",
          "self_employed",
          "skilled",
          "skilled",
          "unskilled",
          "skilled",
          "skilled",
          "unskilled",
          "skilled",
          "self_employed",
          "skilled",
          "skilled",
          "skilled",
          "self_employed",
          "self_employed",
          "skilled",
          "self_employed",
          "skilled",
          "skilled",
          "unskilled",
          "skilled",
          "skilled",
          "unemeployed",
          "skilled",
          "unskilled",
          "skilled",
          "skilled",
          "skilled",
          "unskilled",
          "unskilled",
          "skilled",
          "unskilled",
          "unemeployed",
          "skilled",
          "skilled",
          "unskilled",
          "unskilled",
          "skilled",
          "unskilled",
          "unskilled",
          "skilled",
          "unskilled",
          "self_employed",
          "skilled",
          "self_employed",
          "skilled",
          "skilled",
          "unskilled",
          "skilled",
          "skilled",
          "skilled",
          "skilled",
          "self_employed",
          "skilled",
          "self_employed",
          "unskilled",
          "skilled",
          "self_employed",
          "unskilled",
          "skilled",
          "skilled",
          "unskilled",
          "skilled",
          "unskilled",
          "skilled",
          "self_employed",
          "unskilled",
          "unskilled",
          "skilled",
          "unemeployed",
          "unskilled",
          "skilled",
          "skilled",
          "skilled",
          "self_employed",
          "skilled",
          "skilled",
          "unskilled",
          "skilled",
          "self_employed",
          "skilled",
          "skilled",
          "skilled",
          "self_employed",
          "skilled",
          "skilled",
          "unemeployed",
          "skilled",
          "skilled",
          "skilled",
          "skilled",
          "skilled",
          "skilled",
          "skilled",
          "skilled",
          "self_employed",
          "self_employed",
          "skilled",
          "skilled",
          "skilled",
          "self_employed",
          "unskilled",
          "skilled",
          "self_employed",
          "skilled",
          "skilled",
          "unskilled",
          "skilled",
          "skilled",
          "self_employed",
          "skilled",
          "skilled",
          "self_employed",
          "unskilled",
          "self_employed",
          "skilled",
          "self_employed",
          "skilled",
          "self_employed",
          "skilled",
          "skilled",
          "unskilled",
          "skilled",
          "skilled",
          "skilled",
          "unskilled",
          "skilled",
          "skilled",
          "skilled",
          "skilled",
          "self_employed",
          "skilled",
          "skilled",
          "self_employed",
          "self_employed",
          "unskilled",
          "skilled",
          "skilled",
          "unskilled",
          "skilled",
          "self_employed",
          "skilled",
          "skilled",
          "skilled",
          "unskilled",
          "self_employed",
          "skilled",
          "skilled",
          "skilled",
          "skilled",
          "skilled",
          "unemeployed",
          "unskilled",
          "self_employed",
          "self_employed",
          "skilled",
          "skilled",
          "skilled",
          "unskilled",
          "skilled",
          "unemeployed",
          "unemeployed",
          "self_employed",
          "skilled",
          "skilled",
          "unskilled",
          "self_employed",
          "unskilled",
          "skilled",
          "skilled",
          "self_employed",
          "skilled",
          "self_employed",
          "skilled",
          "skilled",
          "self_employed",
          "skilled",
          "self_employed",
          "skilled",
          "skilled",
          "skilled",
          "skilled",
          "skilled",
          "skilled",
          "self_employed",
          "skilled",
          "skilled",
          "skilled",
          "unskilled",
          "skilled",
          "skilled",
          "unskilled",
          "skilled",
          "skilled",
          "unskilled",
          "self_employed",
          "skilled",
          "skilled",
          "skilled",
          "skilled",
          "unskilled",
          "skilled",
          "unskilled",
          "skilled",
          "skilled",
          "skilled",
          "skilled",
          "self_employed",
          "skilled",
          "skilled",
          "unskilled",
          "skilled",
          "skilled",
          "self_employed",
          "skilled",
          "skilled",
          "unskilled",
          "skilled",
          "self_employed",
          "skilled",
          "unskilled",
          "skilled",
          "skilled",
          "skilled",
          "skilled",
          "skilled",
          "skilled",
          "unskilled",
          "skilled",
          "self_employed",
          "skilled",
          "self_employed",
          "skilled",
          "self_employed",
          "skilled",
          "skilled",
          "skilled",
          "skilled",
          "unskilled",
          "skilled",
          "skilled",
          "skilled",
          "skilled",
          "skilled",
          "skilled",
          "skilled",
          "unskilled",
          "skilled",
          "skilled",
          "unskilled",
          "skilled",
          "unskilled",
          "skilled",
          "skilled",
          "skilled",
          "skilled",
          "skilled",
          "skilled",
          "self_employed",
          "skilled",
          "self_employed",
          "unskilled",
          "skilled",
          "skilled",
          "skilled",
          "unskilled",
          "unskilled",
          "skilled",
          "skilled",
          "skilled",
          "unskilled",
          "skilled",
          "skilled",
          "unskilled",
          "skilled",
          "skilled",
          "self_employed",
          "skilled",
          "skilled",
          "skilled",
          "skilled",
          "unskilled",
          "skilled",
          "unskilled",
          "skilled",
          "skilled",
          "self_employed",
          "skilled",
          "skilled",
          "skilled",
          "skilled",
          "skilled",
          "unskilled",
          "skilled",
          "self_employed",
          "unskilled",
          "unskilled",
          "skilled",
          "skilled",
          "skilled",
          "skilled",
          "unskilled",
          "skilled",
          "unskilled",
          "skilled",
          "unskilled",
          "self_employed",
          "skilled",
          "skilled",
          "unskilled",
          "unskilled",
          "skilled",
          "unskilled",
          "skilled",
          "unskilled",
          "unskilled",
          "self_employed",
          "unskilled",
          "skilled",
          "unskilled",
          "skilled",
          "skilled",
          "skilled",
          "skilled",
          "unskilled",
          "self_employed",
          "skilled",
          "skilled",
          "self_employed",
          "skilled",
          "skilled",
          "skilled",
          "skilled",
          "unskilled",
          "skilled",
          "skilled",
          "skilled",
          "self_employed",
          "self_employed",
          "skilled",
          "skilled",
          "unskilled",
          "skilled",
          "skilled",
          "skilled",
          "skilled",
          "skilled",
          "skilled",
          "skilled",
          "skilled",
          "skilled",
          "unskilled",
          "skilled",
          "skilled",
          "skilled",
          "skilled",
          "unskilled",
          "skilled",
          "skilled",
          "skilled",
          "skilled",
          "skilled",
          "unemeployed",
          "unskilled",
          "self_employed",
          "skilled",
          "self_employed",
          "skilled",
          "skilled",
          "skilled",
          "skilled",
          "unskilled",
          "self_employed",
          "unskilled",
          "skilled",
          "self_employed",
          "skilled",
          "skilled",
          "unskilled",
          "skilled",
          "skilled",
          "skilled",
          "skilled",
          "skilled",
          "skilled",
          "self_employed",
          "unskilled",
          "self_employed",
          "skilled",
          "skilled",
          "skilled",
          "skilled",
          "unskilled",
          "skilled",
          "self_employed",
          "skilled",
          "unskilled",
          "self_employed",
          "skilled",
          "skilled",
          "unskilled",
          "skilled",
          "skilled",
          "skilled",
          "skilled",
          "skilled",
          "unskilled",
          "skilled",
          "skilled",
          "skilled",
          "skilled",
          "skilled",
          "skilled",
          "unskilled",
          "skilled",
          "unskilled",
          "skilled",
          "skilled",
          "skilled",
          "unemeployed",
          "skilled",
          "self_employed",
          "unskilled",
          "skilled",
          "skilled",
          "skilled",
          "skilled",
          "skilled",
          "skilled",
          "skilled",
          "skilled",
          "unskilled",
          "self_employed",
          "skilled",
          "self_employed",
          "unskilled",
          "self_employed",
          "skilled",
          "skilled",
          "self_employed",
          "skilled",
          "skilled",
          "self_employed",
          "skilled",
          "unskilled",
          "unskilled",
          "skilled",
          "unskilled",
          "unskilled",
          "skilled",
          "skilled",
          "skilled",
          "skilled",
          "unskilled",
          "unskilled",
          "skilled",
          "skilled",
          "unemeployed",
          "self_employed",
          "unskilled",
          "self_employed",
          "unskilled",
          "skilled",
          "unskilled",
          "skilled",
          "skilled",
          "self_employed",
          "unskilled",
          "skilled",
          "unskilled",
          "skilled",
          "skilled",
          "skilled",
          "unskilled",
          "unskilled",
          "skilled",
          "skilled",
          "skilled",
          "unemeployed",
          "skilled",
          "skilled",
          "skilled",
          "skilled",
          "skilled",
          "unskilled",
          "self_employed",
          "skilled",
          "unskilled",
          "unskilled",
          "skilled",
          "skilled",
          "unskilled",
          "skilled",
          "self_employed",
          "self_employed",
          "skilled",
          "unemeployed",
          "skilled",
          "skilled",
          "skilled",
          "self_employed",
          "skilled",
          "skilled",
          "skilled",
          "unskilled",
          "unskilled",
          "self_employed",
          "unskilled",
          "skilled",
          "skilled",
          "skilled",
          "skilled",
          "skilled",
          "self_employed",
          "skilled",
          "skilled",
          "skilled",
          "skilled",
          "skilled",
          "unskilled",
          "skilled",
          "unemeployed",
          "skilled",
          "unskilled",
          "skilled",
          "skilled",
          "unemeployed",
          "skilled",
          "unskilled",
          "skilled",
          "self_employed",
          "unemeployed",
          "skilled",
          "unskilled",
          "skilled",
          "skilled",
          "skilled",
          "skilled",
          "skilled",
          "skilled",
          "self_employed",
          "skilled",
          "skilled",
          "skilled",
          "skilled",
          "unskilled",
          "self_employed",
          "skilled",
          "skilled",
          "skilled",
          "skilled",
          "skilled",
          "skilled",
          "skilled",
          "skilled",
          "skilled",
          "unskilled",
          "skilled",
          "skilled",
          "unskilled",
          "skilled",
          "skilled",
          "skilled",
          "unskilled",
          "skilled",
          "skilled",
          "skilled",
          "skilled",
          "skilled",
          "skilled",
          "skilled",
          "unskilled",
          "skilled",
          "skilled",
          "skilled",
          "unskilled",
          "skilled",
          "skilled",
          "skilled",
          "skilled",
          "skilled",
          "skilled",
          "skilled",
          "skilled",
          "skilled",
          "unskilled",
          "unskilled",
          "skilled",
          "skilled",
          "skilled",
          "skilled",
          "skilled",
          "skilled",
          "skilled",
          "skilled",
          "skilled",
          "unskilled",
          "skilled",
          "self_employed",
          "skilled",
          "self_employed",
          "skilled",
          "self_employed",
          "skilled",
          "skilled",
          "unemeployed",
          "skilled",
          "skilled",
          "skilled",
          "skilled",
          "self_employed",
          "skilled",
          "self_employed",
          "skilled",
          "unskilled",
          "skilled",
          "skilled",
          "self_employed",
          "self_employed",
          "skilled",
          "unskilled",
          "skilled",
          "skilled",
          "skilled",
          "skilled",
          "skilled",
          "self_employed",
          "self_employed",
          "unskilled",
          "skilled",
          "unskilled",
          "unskilled",
          "skilled",
          "unskilled",
          "skilled",
          "skilled",
          "skilled",
          "self_employed",
          "skilled",
          "self_employed",
          "skilled",
          "self_employed",
          "skilled",
          "self_employed",
          "skilled",
          "skilled",
          "skilled",
          "skilled",
          "skilled",
          "skilled",
          "skilled",
          "unskilled",
          "unskilled",
          "skilled",
          "skilled",
          "skilled",
          "skilled",
          "self_employed",
          "unskilled",
          "self_employed",
          "skilled",
          "self_employed",
          "self_employed",
          "unskilled",
          "skilled",
          "unskilled",
          "skilled",
          "skilled",
          "skilled",
          "self_employed",
          "unskilled",
          "skilled",
          "unemeployed",
          "skilled",
          "skilled",
          "self_employed",
          "skilled",
          "self_employed",
          "unskilled",
          "unskilled",
          "unskilled",
          "skilled",
          "skilled",
          "skilled",
          "skilled",
          "skilled",
          "unskilled",
          "skilled",
          "unskilled",
          "self_employed",
          "skilled",
          "unskilled",
          "skilled",
          "unskilled",
          "unemeployed",
          "skilled",
          "skilled",
          "unskilled",
          "skilled",
          "skilled",
          "unskilled",
          "skilled",
          "skilled",
          "self_employed",
          "self_employed",
          "skilled",
          "unskilled",
          "skilled",
          "skilled",
          "skilled",
          "self_employed",
          "unskilled",
          "unskilled",
          "unskilled",
          "unskilled",
          "self_employed",
          "skilled",
          "unskilled",
          "self_employed",
          "skilled",
          "skilled",
          "skilled"
         ],
         "xaxis": "x",
         "yaxis": "y"
        }
       ],
       "layout": {
        "barmode": "relative",
        "height": 400,
        "legend": {
         "tracegroupgap": 0
        },
        "template": {
         "data": {
          "bar": [
           {
            "error_x": {
             "color": "#2a3f5f"
            },
            "error_y": {
             "color": "#2a3f5f"
            },
            "marker": {
             "line": {
              "color": "#E5ECF6",
              "width": 0.5
             },
             "pattern": {
              "fillmode": "overlay",
              "size": 10,
              "solidity": 0.2
             }
            },
            "type": "bar"
           }
          ],
          "barpolar": [
           {
            "marker": {
             "line": {
              "color": "#E5ECF6",
              "width": 0.5
             },
             "pattern": {
              "fillmode": "overlay",
              "size": 10,
              "solidity": 0.2
             }
            },
            "type": "barpolar"
           }
          ],
          "carpet": [
           {
            "aaxis": {
             "endlinecolor": "#2a3f5f",
             "gridcolor": "white",
             "linecolor": "white",
             "minorgridcolor": "white",
             "startlinecolor": "#2a3f5f"
            },
            "baxis": {
             "endlinecolor": "#2a3f5f",
             "gridcolor": "white",
             "linecolor": "white",
             "minorgridcolor": "white",
             "startlinecolor": "#2a3f5f"
            },
            "type": "carpet"
           }
          ],
          "choropleth": [
           {
            "colorbar": {
             "outlinewidth": 0,
             "ticks": ""
            },
            "type": "choropleth"
           }
          ],
          "contour": [
           {
            "colorbar": {
             "outlinewidth": 0,
             "ticks": ""
            },
            "colorscale": [
             [
              0,
              "#0d0887"
             ],
             [
              0.1111111111111111,
              "#46039f"
             ],
             [
              0.2222222222222222,
              "#7201a8"
             ],
             [
              0.3333333333333333,
              "#9c179e"
             ],
             [
              0.4444444444444444,
              "#bd3786"
             ],
             [
              0.5555555555555556,
              "#d8576b"
             ],
             [
              0.6666666666666666,
              "#ed7953"
             ],
             [
              0.7777777777777778,
              "#fb9f3a"
             ],
             [
              0.8888888888888888,
              "#fdca26"
             ],
             [
              1,
              "#f0f921"
             ]
            ],
            "type": "contour"
           }
          ],
          "contourcarpet": [
           {
            "colorbar": {
             "outlinewidth": 0,
             "ticks": ""
            },
            "type": "contourcarpet"
           }
          ],
          "heatmap": [
           {
            "colorbar": {
             "outlinewidth": 0,
             "ticks": ""
            },
            "colorscale": [
             [
              0,
              "#0d0887"
             ],
             [
              0.1111111111111111,
              "#46039f"
             ],
             [
              0.2222222222222222,
              "#7201a8"
             ],
             [
              0.3333333333333333,
              "#9c179e"
             ],
             [
              0.4444444444444444,
              "#bd3786"
             ],
             [
              0.5555555555555556,
              "#d8576b"
             ],
             [
              0.6666666666666666,
              "#ed7953"
             ],
             [
              0.7777777777777778,
              "#fb9f3a"
             ],
             [
              0.8888888888888888,
              "#fdca26"
             ],
             [
              1,
              "#f0f921"
             ]
            ],
            "type": "heatmap"
           }
          ],
          "heatmapgl": [
           {
            "colorbar": {
             "outlinewidth": 0,
             "ticks": ""
            },
            "colorscale": [
             [
              0,
              "#0d0887"
             ],
             [
              0.1111111111111111,
              "#46039f"
             ],
             [
              0.2222222222222222,
              "#7201a8"
             ],
             [
              0.3333333333333333,
              "#9c179e"
             ],
             [
              0.4444444444444444,
              "#bd3786"
             ],
             [
              0.5555555555555556,
              "#d8576b"
             ],
             [
              0.6666666666666666,
              "#ed7953"
             ],
             [
              0.7777777777777778,
              "#fb9f3a"
             ],
             [
              0.8888888888888888,
              "#fdca26"
             ],
             [
              1,
              "#f0f921"
             ]
            ],
            "type": "heatmapgl"
           }
          ],
          "histogram": [
           {
            "marker": {
             "pattern": {
              "fillmode": "overlay",
              "size": 10,
              "solidity": 0.2
             }
            },
            "type": "histogram"
           }
          ],
          "histogram2d": [
           {
            "colorbar": {
             "outlinewidth": 0,
             "ticks": ""
            },
            "colorscale": [
             [
              0,
              "#0d0887"
             ],
             [
              0.1111111111111111,
              "#46039f"
             ],
             [
              0.2222222222222222,
              "#7201a8"
             ],
             [
              0.3333333333333333,
              "#9c179e"
             ],
             [
              0.4444444444444444,
              "#bd3786"
             ],
             [
              0.5555555555555556,
              "#d8576b"
             ],
             [
              0.6666666666666666,
              "#ed7953"
             ],
             [
              0.7777777777777778,
              "#fb9f3a"
             ],
             [
              0.8888888888888888,
              "#fdca26"
             ],
             [
              1,
              "#f0f921"
             ]
            ],
            "type": "histogram2d"
           }
          ],
          "histogram2dcontour": [
           {
            "colorbar": {
             "outlinewidth": 0,
             "ticks": ""
            },
            "colorscale": [
             [
              0,
              "#0d0887"
             ],
             [
              0.1111111111111111,
              "#46039f"
             ],
             [
              0.2222222222222222,
              "#7201a8"
             ],
             [
              0.3333333333333333,
              "#9c179e"
             ],
             [
              0.4444444444444444,
              "#bd3786"
             ],
             [
              0.5555555555555556,
              "#d8576b"
             ],
             [
              0.6666666666666666,
              "#ed7953"
             ],
             [
              0.7777777777777778,
              "#fb9f3a"
             ],
             [
              0.8888888888888888,
              "#fdca26"
             ],
             [
              1,
              "#f0f921"
             ]
            ],
            "type": "histogram2dcontour"
           }
          ],
          "mesh3d": [
           {
            "colorbar": {
             "outlinewidth": 0,
             "ticks": ""
            },
            "type": "mesh3d"
           }
          ],
          "parcoords": [
           {
            "line": {
             "colorbar": {
              "outlinewidth": 0,
              "ticks": ""
             }
            },
            "type": "parcoords"
           }
          ],
          "pie": [
           {
            "automargin": true,
            "type": "pie"
           }
          ],
          "scatter": [
           {
            "fillpattern": {
             "fillmode": "overlay",
             "size": 10,
             "solidity": 0.2
            },
            "type": "scatter"
           }
          ],
          "scatter3d": [
           {
            "line": {
             "colorbar": {
              "outlinewidth": 0,
              "ticks": ""
             }
            },
            "marker": {
             "colorbar": {
              "outlinewidth": 0,
              "ticks": ""
             }
            },
            "type": "scatter3d"
           }
          ],
          "scattercarpet": [
           {
            "marker": {
             "colorbar": {
              "outlinewidth": 0,
              "ticks": ""
             }
            },
            "type": "scattercarpet"
           }
          ],
          "scattergeo": [
           {
            "marker": {
             "colorbar": {
              "outlinewidth": 0,
              "ticks": ""
             }
            },
            "type": "scattergeo"
           }
          ],
          "scattergl": [
           {
            "marker": {
             "colorbar": {
              "outlinewidth": 0,
              "ticks": ""
             }
            },
            "type": "scattergl"
           }
          ],
          "scattermapbox": [
           {
            "marker": {
             "colorbar": {
              "outlinewidth": 0,
              "ticks": ""
             }
            },
            "type": "scattermapbox"
           }
          ],
          "scatterpolar": [
           {
            "marker": {
             "colorbar": {
              "outlinewidth": 0,
              "ticks": ""
             }
            },
            "type": "scatterpolar"
           }
          ],
          "scatterpolargl": [
           {
            "marker": {
             "colorbar": {
              "outlinewidth": 0,
              "ticks": ""
             }
            },
            "type": "scatterpolargl"
           }
          ],
          "scatterternary": [
           {
            "marker": {
             "colorbar": {
              "outlinewidth": 0,
              "ticks": ""
             }
            },
            "type": "scatterternary"
           }
          ],
          "surface": [
           {
            "colorbar": {
             "outlinewidth": 0,
             "ticks": ""
            },
            "colorscale": [
             [
              0,
              "#0d0887"
             ],
             [
              0.1111111111111111,
              "#46039f"
             ],
             [
              0.2222222222222222,
              "#7201a8"
             ],
             [
              0.3333333333333333,
              "#9c179e"
             ],
             [
              0.4444444444444444,
              "#bd3786"
             ],
             [
              0.5555555555555556,
              "#d8576b"
             ],
             [
              0.6666666666666666,
              "#ed7953"
             ],
             [
              0.7777777777777778,
              "#fb9f3a"
             ],
             [
              0.8888888888888888,
              "#fdca26"
             ],
             [
              1,
              "#f0f921"
             ]
            ],
            "type": "surface"
           }
          ],
          "table": [
           {
            "cells": {
             "fill": {
              "color": "#EBF0F8"
             },
             "line": {
              "color": "white"
             }
            },
            "header": {
             "fill": {
              "color": "#C8D4E3"
             },
             "line": {
              "color": "white"
             }
            },
            "type": "table"
           }
          ]
         },
         "layout": {
          "annotationdefaults": {
           "arrowcolor": "#2a3f5f",
           "arrowhead": 0,
           "arrowwidth": 1
          },
          "autotypenumbers": "strict",
          "coloraxis": {
           "colorbar": {
            "outlinewidth": 0,
            "ticks": ""
           }
          },
          "colorscale": {
           "diverging": [
            [
             0,
             "#8e0152"
            ],
            [
             0.1,
             "#c51b7d"
            ],
            [
             0.2,
             "#de77ae"
            ],
            [
             0.3,
             "#f1b6da"
            ],
            [
             0.4,
             "#fde0ef"
            ],
            [
             0.5,
             "#f7f7f7"
            ],
            [
             0.6,
             "#e6f5d0"
            ],
            [
             0.7,
             "#b8e186"
            ],
            [
             0.8,
             "#7fbc41"
            ],
            [
             0.9,
             "#4d9221"
            ],
            [
             1,
             "#276419"
            ]
           ],
           "sequential": [
            [
             0,
             "#0d0887"
            ],
            [
             0.1111111111111111,
             "#46039f"
            ],
            [
             0.2222222222222222,
             "#7201a8"
            ],
            [
             0.3333333333333333,
             "#9c179e"
            ],
            [
             0.4444444444444444,
             "#bd3786"
            ],
            [
             0.5555555555555556,
             "#d8576b"
            ],
            [
             0.6666666666666666,
             "#ed7953"
            ],
            [
             0.7777777777777778,
             "#fb9f3a"
            ],
            [
             0.8888888888888888,
             "#fdca26"
            ],
            [
             1,
             "#f0f921"
            ]
           ],
           "sequentialminus": [
            [
             0,
             "#0d0887"
            ],
            [
             0.1111111111111111,
             "#46039f"
            ],
            [
             0.2222222222222222,
             "#7201a8"
            ],
            [
             0.3333333333333333,
             "#9c179e"
            ],
            [
             0.4444444444444444,
             "#bd3786"
            ],
            [
             0.5555555555555556,
             "#d8576b"
            ],
            [
             0.6666666666666666,
             "#ed7953"
            ],
            [
             0.7777777777777778,
             "#fb9f3a"
            ],
            [
             0.8888888888888888,
             "#fdca26"
            ],
            [
             1,
             "#f0f921"
            ]
           ]
          },
          "colorway": [
           "#636efa",
           "#EF553B",
           "#00cc96",
           "#ab63fa",
           "#FFA15A",
           "#19d3f3",
           "#FF6692",
           "#B6E880",
           "#FF97FF",
           "#FECB52"
          ],
          "font": {
           "color": "#2a3f5f"
          },
          "geo": {
           "bgcolor": "white",
           "lakecolor": "white",
           "landcolor": "#E5ECF6",
           "showlakes": true,
           "showland": true,
           "subunitcolor": "white"
          },
          "hoverlabel": {
           "align": "left"
          },
          "hovermode": "closest",
          "mapbox": {
           "style": "light"
          },
          "paper_bgcolor": "white",
          "plot_bgcolor": "#E5ECF6",
          "polar": {
           "angularaxis": {
            "gridcolor": "white",
            "linecolor": "white",
            "ticks": ""
           },
           "bgcolor": "#E5ECF6",
           "radialaxis": {
            "gridcolor": "white",
            "linecolor": "white",
            "ticks": ""
           }
          },
          "scene": {
           "xaxis": {
            "backgroundcolor": "#E5ECF6",
            "gridcolor": "white",
            "gridwidth": 2,
            "linecolor": "white",
            "showbackground": true,
            "ticks": "",
            "zerolinecolor": "white"
           },
           "yaxis": {
            "backgroundcolor": "#E5ECF6",
            "gridcolor": "white",
            "gridwidth": 2,
            "linecolor": "white",
            "showbackground": true,
            "ticks": "",
            "zerolinecolor": "white"
           },
           "zaxis": {
            "backgroundcolor": "#E5ECF6",
            "gridcolor": "white",
            "gridwidth": 2,
            "linecolor": "white",
            "showbackground": true,
            "ticks": "",
            "zerolinecolor": "white"
           }
          },
          "shapedefaults": {
           "line": {
            "color": "#2a3f5f"
           }
          },
          "ternary": {
           "aaxis": {
            "gridcolor": "white",
            "linecolor": "white",
            "ticks": ""
           },
           "baxis": {
            "gridcolor": "white",
            "linecolor": "white",
            "ticks": ""
           },
           "bgcolor": "#E5ECF6",
           "caxis": {
            "gridcolor": "white",
            "linecolor": "white",
            "ticks": ""
           }
          },
          "title": {
           "x": 0.05
          },
          "xaxis": {
           "automargin": true,
           "gridcolor": "white",
           "linecolor": "white",
           "ticks": "",
           "title": {
            "standoff": 15
           },
           "zerolinecolor": "white",
           "zerolinewidth": 2
          },
          "yaxis": {
           "automargin": true,
           "gridcolor": "white",
           "linecolor": "white",
           "ticks": "",
           "title": {
            "standoff": 15
           },
           "zerolinecolor": "white",
           "zerolinewidth": 2
          }
         }
        },
        "title": {
         "text": "Empployment Status"
        },
        "width": 450,
        "xaxis": {
         "anchor": "y",
         "domain": [
          0,
          1
         ],
         "title": {
          "text": "job"
         }
        },
        "yaxis": {
         "anchor": "x",
         "domain": [
          0,
          1
         ],
         "title": {
          "text": "count"
         }
        }
       }
      }
     },
     "metadata": {},
     "output_type": "display_data"
    }
   ],
   "source": [
    "pup = px.histogram(ds, x= 'job',\n",
    "                         title='Empployment Status', height=400, width = 450)\n",
    "pup"
   ]
  },
  {
   "cell_type": "markdown",
   "metadata": {},
   "source": [
    "larger number of the customers are skilled workers, followed by unskilled workers, self employed, then unemployed"
   ]
  },
  {
   "cell_type": "code",
   "execution_count": 118,
   "metadata": {},
   "outputs": [
    {
     "data": {
      "text/plain": [
       "Index(['over_draft', 'credit_usage', 'credit_history', 'purpose',\n",
       "       'current_balance', 'Average_Credit_Balance', 'employment', 'location',\n",
       "       'personal_status', 'other_parties', 'residence_since',\n",
       "       'property_magnitude', 'cc_age', 'other_payment_plans', 'housing',\n",
       "       'existing_credits', 'job', 'num_dependents', 'own_telephone',\n",
       "       'foreign_worker', 'class'],\n",
       "      dtype='object')"
      ]
     },
     "execution_count": 118,
     "metadata": {},
     "output_type": "execute_result"
    }
   ],
   "source": [
    "data.columns"
   ]
  },
  {
   "cell_type": "markdown",
   "metadata": {},
   "source": [
    "##### BiVariate Analysis"
   ]
  },
  {
   "cell_type": "code",
   "execution_count": 120,
   "metadata": {},
   "outputs": [
    {
     "data": {
      "text/plain": [
       "own         713\n",
       "rent        179\n",
       "for free    108\n",
       "Name: housing, dtype: int64"
      ]
     },
     "execution_count": 120,
     "metadata": {},
     "output_type": "execute_result"
    }
   ],
   "source": [
    "ds['housing'].value_counts()"
   ]
  }
 ],
 "metadata": {
  "kernelspec": {
   "display_name": "Python 3.7.7 ('fraud_ENV': venv)",
   "language": "python",
   "name": "python3"
  },
  "language_info": {
   "codemirror_mode": {
    "name": "ipython",
    "version": 3
   },
   "file_extension": ".py",
   "mimetype": "text/x-python",
   "name": "python",
   "nbconvert_exporter": "python",
   "pygments_lexer": "ipython3",
   "version": "3.7.7"
  },
  "orig_nbformat": 4,
  "vscode": {
   "interpreter": {
    "hash": "13de1c1672679c142b1eb59ad457d0586d6a09bd199577939ca8ce3a34d6f99f"
   }
  }
 },
 "nbformat": 4,
 "nbformat_minor": 2
}
