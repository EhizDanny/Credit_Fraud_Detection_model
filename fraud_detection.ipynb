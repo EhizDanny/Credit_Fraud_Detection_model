{
 "cells": [
  {
   "cell_type": "code",
   "execution_count": 59,
   "metadata": {},
   "outputs": [],
   "source": [
    "import pandas as pd\n",
    "import numpy as np\n",
    "import plotly.express as px\n",
    "import plotly.graph_objects as go\n",
    "import matplotlib.pyplot as plt\n",
    "%matplotlib inline\n",
    "import seaborn as sns\n",
    "from sklearn.model_selection import cross_val_score, ShuffleSplit, KFold, StratifiedKFold, train_test_split\n",
    "from sklearn.feature_selection import RFECV, SelectKBest, f_classif,chi2, VarianceThreshold, RFE\n",
    "from sklearn.svm import SVC\n",
    "from sklearn.model_selection import GridSearchCV\n",
    "# Algorithm Imports\n",
    "from sklearn.naive_bayes import GaussianNB\n",
    "from sklearn.ensemble import RandomForestClassifier\n",
    "from sklearn.linear_model import LogisticRegression\n",
    "from sklearn import svm\n",
    "from sklearn.pipeline import Pipeline\n",
    "from sklearn.preprocessing import StandardScaler\n",
    "from sklearn.preprocessing import OneHotEncoder, OrdinalEncoder\n",
    "import warnings\n",
    "warnings.filterwarnings('ignore', '.*do not.*', )"
   ]
  },
  {
   "cell_type": "code",
   "execution_count": 60,
   "metadata": {},
   "outputs": [],
   "source": [
    "data = pd.read_csv('Credit Card Fraud.csv')"
   ]
  },
  {
   "cell_type": "code",
   "execution_count": 61,
   "metadata": {},
   "outputs": [
    {
     "data": {
      "text/html": [
       "<div>\n",
       "<style scoped>\n",
       "    .dataframe tbody tr th:only-of-type {\n",
       "        vertical-align: middle;\n",
       "    }\n",
       "\n",
       "    .dataframe tbody tr th {\n",
       "        vertical-align: top;\n",
       "    }\n",
       "\n",
       "    .dataframe thead th {\n",
       "        text-align: right;\n",
       "    }\n",
       "</style>\n",
       "<table border=\"1\" class=\"dataframe\">\n",
       "  <thead>\n",
       "    <tr style=\"text-align: right;\">\n",
       "      <th></th>\n",
       "      <th>over_draft</th>\n",
       "      <th>credit_usage</th>\n",
       "      <th>credit_history</th>\n",
       "      <th>purpose</th>\n",
       "      <th>current_balance</th>\n",
       "      <th>Average_Credit_Balance</th>\n",
       "      <th>employment</th>\n",
       "      <th>location</th>\n",
       "      <th>personal_status</th>\n",
       "      <th>other_parties</th>\n",
       "      <th>...</th>\n",
       "      <th>property_magnitude</th>\n",
       "      <th>cc_age</th>\n",
       "      <th>other_payment_plans</th>\n",
       "      <th>housing</th>\n",
       "      <th>existing_credits</th>\n",
       "      <th>job</th>\n",
       "      <th>num_dependents</th>\n",
       "      <th>own_telephone</th>\n",
       "      <th>foreign_worker</th>\n",
       "      <th>class</th>\n",
       "    </tr>\n",
       "  </thead>\n",
       "  <tbody>\n",
       "    <tr>\n",
       "      <th>0</th>\n",
       "      <td>&lt;0</td>\n",
       "      <td>6</td>\n",
       "      <td>critical/other existing credit</td>\n",
       "      <td>radio/tv</td>\n",
       "      <td>1169</td>\n",
       "      <td>no known savings</td>\n",
       "      <td>&gt;=7</td>\n",
       "      <td>4</td>\n",
       "      <td>male single</td>\n",
       "      <td>none</td>\n",
       "      <td>...</td>\n",
       "      <td>real estate</td>\n",
       "      <td>67</td>\n",
       "      <td>none</td>\n",
       "      <td>own</td>\n",
       "      <td>2</td>\n",
       "      <td>skilled</td>\n",
       "      <td>1</td>\n",
       "      <td>yes</td>\n",
       "      <td>yes</td>\n",
       "      <td>good</td>\n",
       "    </tr>\n",
       "    <tr>\n",
       "      <th>1</th>\n",
       "      <td>0&lt;=X&lt;200</td>\n",
       "      <td>48</td>\n",
       "      <td>existing paid</td>\n",
       "      <td>radio/tv</td>\n",
       "      <td>5951</td>\n",
       "      <td>&lt;100</td>\n",
       "      <td>1&lt;=X&lt;4</td>\n",
       "      <td>2</td>\n",
       "      <td>female div/dep/mar</td>\n",
       "      <td>none</td>\n",
       "      <td>...</td>\n",
       "      <td>real estate</td>\n",
       "      <td>22</td>\n",
       "      <td>none</td>\n",
       "      <td>own</td>\n",
       "      <td>1</td>\n",
       "      <td>skilled</td>\n",
       "      <td>1</td>\n",
       "      <td>none</td>\n",
       "      <td>yes</td>\n",
       "      <td>bad</td>\n",
       "    </tr>\n",
       "    <tr>\n",
       "      <th>2</th>\n",
       "      <td>no checking</td>\n",
       "      <td>12</td>\n",
       "      <td>critical/other existing credit</td>\n",
       "      <td>education</td>\n",
       "      <td>2096</td>\n",
       "      <td>&lt;100</td>\n",
       "      <td>4&lt;=X&lt;7</td>\n",
       "      <td>2</td>\n",
       "      <td>male single</td>\n",
       "      <td>none</td>\n",
       "      <td>...</td>\n",
       "      <td>real estate</td>\n",
       "      <td>49</td>\n",
       "      <td>none</td>\n",
       "      <td>own</td>\n",
       "      <td>1</td>\n",
       "      <td>unskilled resident</td>\n",
       "      <td>2</td>\n",
       "      <td>none</td>\n",
       "      <td>yes</td>\n",
       "      <td>good</td>\n",
       "    </tr>\n",
       "    <tr>\n",
       "      <th>3</th>\n",
       "      <td>&lt;0</td>\n",
       "      <td>42</td>\n",
       "      <td>existing paid</td>\n",
       "      <td>furniture/equipment</td>\n",
       "      <td>7882</td>\n",
       "      <td>&lt;100</td>\n",
       "      <td>4&lt;=X&lt;7</td>\n",
       "      <td>2</td>\n",
       "      <td>male single</td>\n",
       "      <td>guarantor</td>\n",
       "      <td>...</td>\n",
       "      <td>life insurance</td>\n",
       "      <td>45</td>\n",
       "      <td>none</td>\n",
       "      <td>for free</td>\n",
       "      <td>1</td>\n",
       "      <td>skilled</td>\n",
       "      <td>2</td>\n",
       "      <td>none</td>\n",
       "      <td>yes</td>\n",
       "      <td>good</td>\n",
       "    </tr>\n",
       "    <tr>\n",
       "      <th>4</th>\n",
       "      <td>&lt;0</td>\n",
       "      <td>24</td>\n",
       "      <td>delayed previously</td>\n",
       "      <td>new car</td>\n",
       "      <td>4870</td>\n",
       "      <td>&lt;100</td>\n",
       "      <td>1&lt;=X&lt;4</td>\n",
       "      <td>3</td>\n",
       "      <td>male single</td>\n",
       "      <td>none</td>\n",
       "      <td>...</td>\n",
       "      <td>no known property</td>\n",
       "      <td>53</td>\n",
       "      <td>none</td>\n",
       "      <td>for free</td>\n",
       "      <td>2</td>\n",
       "      <td>skilled</td>\n",
       "      <td>2</td>\n",
       "      <td>none</td>\n",
       "      <td>yes</td>\n",
       "      <td>bad</td>\n",
       "    </tr>\n",
       "    <tr>\n",
       "      <th>...</th>\n",
       "      <td>...</td>\n",
       "      <td>...</td>\n",
       "      <td>...</td>\n",
       "      <td>...</td>\n",
       "      <td>...</td>\n",
       "      <td>...</td>\n",
       "      <td>...</td>\n",
       "      <td>...</td>\n",
       "      <td>...</td>\n",
       "      <td>...</td>\n",
       "      <td>...</td>\n",
       "      <td>...</td>\n",
       "      <td>...</td>\n",
       "      <td>...</td>\n",
       "      <td>...</td>\n",
       "      <td>...</td>\n",
       "      <td>...</td>\n",
       "      <td>...</td>\n",
       "      <td>...</td>\n",
       "      <td>...</td>\n",
       "      <td>...</td>\n",
       "    </tr>\n",
       "    <tr>\n",
       "      <th>995</th>\n",
       "      <td>no checking</td>\n",
       "      <td>12</td>\n",
       "      <td>existing paid</td>\n",
       "      <td>furniture/equipment</td>\n",
       "      <td>1736</td>\n",
       "      <td>&lt;100</td>\n",
       "      <td>4&lt;=X&lt;7</td>\n",
       "      <td>3</td>\n",
       "      <td>female div/dep/mar</td>\n",
       "      <td>none</td>\n",
       "      <td>...</td>\n",
       "      <td>real estate</td>\n",
       "      <td>31</td>\n",
       "      <td>none</td>\n",
       "      <td>own</td>\n",
       "      <td>1</td>\n",
       "      <td>unskilled resident</td>\n",
       "      <td>1</td>\n",
       "      <td>none</td>\n",
       "      <td>yes</td>\n",
       "      <td>good</td>\n",
       "    </tr>\n",
       "    <tr>\n",
       "      <th>996</th>\n",
       "      <td>&lt;0</td>\n",
       "      <td>30</td>\n",
       "      <td>existing paid</td>\n",
       "      <td>used car</td>\n",
       "      <td>3857</td>\n",
       "      <td>&lt;100</td>\n",
       "      <td>1&lt;=X&lt;4</td>\n",
       "      <td>4</td>\n",
       "      <td>male div/sep</td>\n",
       "      <td>none</td>\n",
       "      <td>...</td>\n",
       "      <td>life insurance</td>\n",
       "      <td>40</td>\n",
       "      <td>none</td>\n",
       "      <td>own</td>\n",
       "      <td>1</td>\n",
       "      <td>high qualif/self emp/mgmt</td>\n",
       "      <td>1</td>\n",
       "      <td>yes</td>\n",
       "      <td>yes</td>\n",
       "      <td>good</td>\n",
       "    </tr>\n",
       "    <tr>\n",
       "      <th>997</th>\n",
       "      <td>no checking</td>\n",
       "      <td>12</td>\n",
       "      <td>existing paid</td>\n",
       "      <td>radio/tv</td>\n",
       "      <td>804</td>\n",
       "      <td>&lt;100</td>\n",
       "      <td>&gt;=7</td>\n",
       "      <td>4</td>\n",
       "      <td>male single</td>\n",
       "      <td>none</td>\n",
       "      <td>...</td>\n",
       "      <td>car</td>\n",
       "      <td>38</td>\n",
       "      <td>none</td>\n",
       "      <td>own</td>\n",
       "      <td>1</td>\n",
       "      <td>skilled</td>\n",
       "      <td>1</td>\n",
       "      <td>none</td>\n",
       "      <td>yes</td>\n",
       "      <td>good</td>\n",
       "    </tr>\n",
       "    <tr>\n",
       "      <th>998</th>\n",
       "      <td>&lt;0</td>\n",
       "      <td>45</td>\n",
       "      <td>existing paid</td>\n",
       "      <td>radio/tv</td>\n",
       "      <td>1845</td>\n",
       "      <td>&lt;100</td>\n",
       "      <td>1&lt;=X&lt;4</td>\n",
       "      <td>4</td>\n",
       "      <td>male single</td>\n",
       "      <td>none</td>\n",
       "      <td>...</td>\n",
       "      <td>no known property</td>\n",
       "      <td>23</td>\n",
       "      <td>none</td>\n",
       "      <td>for free</td>\n",
       "      <td>1</td>\n",
       "      <td>skilled</td>\n",
       "      <td>1</td>\n",
       "      <td>yes</td>\n",
       "      <td>yes</td>\n",
       "      <td>bad</td>\n",
       "    </tr>\n",
       "    <tr>\n",
       "      <th>999</th>\n",
       "      <td>0&lt;=X&lt;200</td>\n",
       "      <td>45</td>\n",
       "      <td>critical/other existing credit</td>\n",
       "      <td>used car</td>\n",
       "      <td>4576</td>\n",
       "      <td>100&lt;=X&lt;500</td>\n",
       "      <td>unemployed</td>\n",
       "      <td>3</td>\n",
       "      <td>male single</td>\n",
       "      <td>none</td>\n",
       "      <td>...</td>\n",
       "      <td>car</td>\n",
       "      <td>27</td>\n",
       "      <td>none</td>\n",
       "      <td>own</td>\n",
       "      <td>1</td>\n",
       "      <td>skilled</td>\n",
       "      <td>1</td>\n",
       "      <td>none</td>\n",
       "      <td>yes</td>\n",
       "      <td>good</td>\n",
       "    </tr>\n",
       "  </tbody>\n",
       "</table>\n",
       "<p>1000 rows × 21 columns</p>\n",
       "</div>"
      ],
      "text/plain": [
       "      over_draft  credit_usage                  credit_history  \\\n",
       "0             <0             6  critical/other existing credit   \n",
       "1       0<=X<200            48                   existing paid   \n",
       "2    no checking            12  critical/other existing credit   \n",
       "3             <0            42                   existing paid   \n",
       "4             <0            24              delayed previously   \n",
       "..           ...           ...                             ...   \n",
       "995  no checking            12                   existing paid   \n",
       "996           <0            30                   existing paid   \n",
       "997  no checking            12                   existing paid   \n",
       "998           <0            45                   existing paid   \n",
       "999     0<=X<200            45  critical/other existing credit   \n",
       "\n",
       "                 purpose  current_balance Average_Credit_Balance  employment  \\\n",
       "0               radio/tv             1169       no known savings         >=7   \n",
       "1               radio/tv             5951                   <100      1<=X<4   \n",
       "2              education             2096                   <100      4<=X<7   \n",
       "3    furniture/equipment             7882                   <100      4<=X<7   \n",
       "4                new car             4870                   <100      1<=X<4   \n",
       "..                   ...              ...                    ...         ...   \n",
       "995  furniture/equipment             1736                   <100      4<=X<7   \n",
       "996             used car             3857                   <100      1<=X<4   \n",
       "997             radio/tv              804                   <100         >=7   \n",
       "998             radio/tv             1845                   <100      1<=X<4   \n",
       "999             used car             4576             100<=X<500  unemployed   \n",
       "\n",
       "     location     personal_status other_parties  ...  property_magnitude  \\\n",
       "0           4         male single          none  ...         real estate   \n",
       "1           2  female div/dep/mar          none  ...         real estate   \n",
       "2           2         male single          none  ...         real estate   \n",
       "3           2         male single     guarantor  ...      life insurance   \n",
       "4           3         male single          none  ...   no known property   \n",
       "..        ...                 ...           ...  ...                 ...   \n",
       "995         3  female div/dep/mar          none  ...         real estate   \n",
       "996         4        male div/sep          none  ...      life insurance   \n",
       "997         4         male single          none  ...                 car   \n",
       "998         4         male single          none  ...   no known property   \n",
       "999         3         male single          none  ...                 car   \n",
       "\n",
       "    cc_age  other_payment_plans   housing existing_credits  \\\n",
       "0       67                 none       own                2   \n",
       "1       22                 none       own                1   \n",
       "2       49                 none       own                1   \n",
       "3       45                 none  for free                1   \n",
       "4       53                 none  for free                2   \n",
       "..     ...                  ...       ...              ...   \n",
       "995     31                 none       own                1   \n",
       "996     40                 none       own                1   \n",
       "997     38                 none       own                1   \n",
       "998     23                 none  for free                1   \n",
       "999     27                 none       own                1   \n",
       "\n",
       "                           job num_dependents  own_telephone foreign_worker  \\\n",
       "0                      skilled              1            yes            yes   \n",
       "1                      skilled              1           none            yes   \n",
       "2           unskilled resident              2           none            yes   \n",
       "3                      skilled              2           none            yes   \n",
       "4                      skilled              2           none            yes   \n",
       "..                         ...            ...            ...            ...   \n",
       "995         unskilled resident              1           none            yes   \n",
       "996  high qualif/self emp/mgmt              1            yes            yes   \n",
       "997                    skilled              1           none            yes   \n",
       "998                    skilled              1            yes            yes   \n",
       "999                    skilled              1           none            yes   \n",
       "\n",
       "    class  \n",
       "0    good  \n",
       "1     bad  \n",
       "2    good  \n",
       "3    good  \n",
       "4     bad  \n",
       "..    ...  \n",
       "995  good  \n",
       "996  good  \n",
       "997  good  \n",
       "998   bad  \n",
       "999  good  \n",
       "\n",
       "[1000 rows x 21 columns]"
      ]
     },
     "execution_count": 61,
     "metadata": {},
     "output_type": "execute_result"
    }
   ],
   "source": [
    "data"
   ]
  },
  {
   "cell_type": "markdown",
   "metadata": {},
   "source": [
    "### Exploratory Data Analysis"
   ]
  },
  {
   "cell_type": "code",
   "execution_count": 62,
   "metadata": {},
   "outputs": [],
   "source": [
    "ds = data.copy()"
   ]
  },
  {
   "cell_type": "code",
   "execution_count": 63,
   "metadata": {},
   "outputs": [
    {
     "data": {
      "text/html": [
       "<div>\n",
       "<style scoped>\n",
       "    .dataframe tbody tr th:only-of-type {\n",
       "        vertical-align: middle;\n",
       "    }\n",
       "\n",
       "    .dataframe tbody tr th {\n",
       "        vertical-align: top;\n",
       "    }\n",
       "\n",
       "    .dataframe thead th {\n",
       "        text-align: right;\n",
       "    }\n",
       "</style>\n",
       "<table border=\"1\" class=\"dataframe\">\n",
       "  <thead>\n",
       "    <tr style=\"text-align: right;\">\n",
       "      <th></th>\n",
       "      <th>over_draft</th>\n",
       "      <th>credit_usage</th>\n",
       "      <th>credit_history</th>\n",
       "      <th>purpose</th>\n",
       "      <th>current_balance</th>\n",
       "      <th>Average_Credit_Balance</th>\n",
       "      <th>employment</th>\n",
       "      <th>gender</th>\n",
       "      <th>other_parties</th>\n",
       "      <th>property_magnitude</th>\n",
       "      <th>age</th>\n",
       "      <th>other_payment_plans</th>\n",
       "      <th>housing</th>\n",
       "      <th>existing_credits</th>\n",
       "      <th>job</th>\n",
       "      <th>num_dependents</th>\n",
       "      <th>own_telephone</th>\n",
       "      <th>foreign_worker</th>\n",
       "      <th>class</th>\n",
       "    </tr>\n",
       "  </thead>\n",
       "  <tbody>\n",
       "    <tr>\n",
       "      <th>0</th>\n",
       "      <td>no</td>\n",
       "      <td>6</td>\n",
       "      <td>critical</td>\n",
       "      <td>radio/tv</td>\n",
       "      <td>1169</td>\n",
       "      <td>no_savings</td>\n",
       "      <td>employed</td>\n",
       "      <td>male</td>\n",
       "      <td>none</td>\n",
       "      <td>real estate</td>\n",
       "      <td>67</td>\n",
       "      <td>none</td>\n",
       "      <td>own</td>\n",
       "      <td>2</td>\n",
       "      <td>skilled</td>\n",
       "      <td>1</td>\n",
       "      <td>yes</td>\n",
       "      <td>yes</td>\n",
       "      <td>good</td>\n",
       "    </tr>\n",
       "    <tr>\n",
       "      <th>1</th>\n",
       "      <td>no</td>\n",
       "      <td>48</td>\n",
       "      <td>all paid</td>\n",
       "      <td>radio/tv</td>\n",
       "      <td>5951</td>\n",
       "      <td>below_100</td>\n",
       "      <td>employed</td>\n",
       "      <td>female</td>\n",
       "      <td>none</td>\n",
       "      <td>real estate</td>\n",
       "      <td>22</td>\n",
       "      <td>none</td>\n",
       "      <td>own</td>\n",
       "      <td>1</td>\n",
       "      <td>skilled</td>\n",
       "      <td>1</td>\n",
       "      <td>none</td>\n",
       "      <td>yes</td>\n",
       "      <td>bad</td>\n",
       "    </tr>\n",
       "    <tr>\n",
       "      <th>2</th>\n",
       "      <td>unchecked</td>\n",
       "      <td>12</td>\n",
       "      <td>critical</td>\n",
       "      <td>education</td>\n",
       "      <td>2096</td>\n",
       "      <td>below_100</td>\n",
       "      <td>employed</td>\n",
       "      <td>male</td>\n",
       "      <td>none</td>\n",
       "      <td>real estate</td>\n",
       "      <td>49</td>\n",
       "      <td>none</td>\n",
       "      <td>own</td>\n",
       "      <td>1</td>\n",
       "      <td>unskilled</td>\n",
       "      <td>2</td>\n",
       "      <td>none</td>\n",
       "      <td>yes</td>\n",
       "      <td>good</td>\n",
       "    </tr>\n",
       "    <tr>\n",
       "      <th>3</th>\n",
       "      <td>no</td>\n",
       "      <td>42</td>\n",
       "      <td>all paid</td>\n",
       "      <td>furniture/equipment</td>\n",
       "      <td>7882</td>\n",
       "      <td>below_100</td>\n",
       "      <td>employed</td>\n",
       "      <td>male</td>\n",
       "      <td>guarantor</td>\n",
       "      <td>life insurance</td>\n",
       "      <td>45</td>\n",
       "      <td>none</td>\n",
       "      <td>for free</td>\n",
       "      <td>1</td>\n",
       "      <td>skilled</td>\n",
       "      <td>2</td>\n",
       "      <td>none</td>\n",
       "      <td>yes</td>\n",
       "      <td>good</td>\n",
       "    </tr>\n",
       "    <tr>\n",
       "      <th>4</th>\n",
       "      <td>no</td>\n",
       "      <td>24</td>\n",
       "      <td>delayed</td>\n",
       "      <td>new car</td>\n",
       "      <td>4870</td>\n",
       "      <td>below_100</td>\n",
       "      <td>employed</td>\n",
       "      <td>male</td>\n",
       "      <td>none</td>\n",
       "      <td>no known property</td>\n",
       "      <td>53</td>\n",
       "      <td>none</td>\n",
       "      <td>for free</td>\n",
       "      <td>2</td>\n",
       "      <td>skilled</td>\n",
       "      <td>2</td>\n",
       "      <td>none</td>\n",
       "      <td>yes</td>\n",
       "      <td>bad</td>\n",
       "    </tr>\n",
       "    <tr>\n",
       "      <th>...</th>\n",
       "      <td>...</td>\n",
       "      <td>...</td>\n",
       "      <td>...</td>\n",
       "      <td>...</td>\n",
       "      <td>...</td>\n",
       "      <td>...</td>\n",
       "      <td>...</td>\n",
       "      <td>...</td>\n",
       "      <td>...</td>\n",
       "      <td>...</td>\n",
       "      <td>...</td>\n",
       "      <td>...</td>\n",
       "      <td>...</td>\n",
       "      <td>...</td>\n",
       "      <td>...</td>\n",
       "      <td>...</td>\n",
       "      <td>...</td>\n",
       "      <td>...</td>\n",
       "      <td>...</td>\n",
       "    </tr>\n",
       "    <tr>\n",
       "      <th>995</th>\n",
       "      <td>unchecked</td>\n",
       "      <td>12</td>\n",
       "      <td>all paid</td>\n",
       "      <td>furniture/equipment</td>\n",
       "      <td>1736</td>\n",
       "      <td>below_100</td>\n",
       "      <td>employed</td>\n",
       "      <td>female</td>\n",
       "      <td>none</td>\n",
       "      <td>real estate</td>\n",
       "      <td>31</td>\n",
       "      <td>none</td>\n",
       "      <td>own</td>\n",
       "      <td>1</td>\n",
       "      <td>unskilled</td>\n",
       "      <td>1</td>\n",
       "      <td>none</td>\n",
       "      <td>yes</td>\n",
       "      <td>good</td>\n",
       "    </tr>\n",
       "    <tr>\n",
       "      <th>996</th>\n",
       "      <td>no</td>\n",
       "      <td>30</td>\n",
       "      <td>all paid</td>\n",
       "      <td>used car</td>\n",
       "      <td>3857</td>\n",
       "      <td>below_100</td>\n",
       "      <td>employed</td>\n",
       "      <td>male</td>\n",
       "      <td>none</td>\n",
       "      <td>life insurance</td>\n",
       "      <td>40</td>\n",
       "      <td>none</td>\n",
       "      <td>own</td>\n",
       "      <td>1</td>\n",
       "      <td>self_employed</td>\n",
       "      <td>1</td>\n",
       "      <td>yes</td>\n",
       "      <td>yes</td>\n",
       "      <td>good</td>\n",
       "    </tr>\n",
       "    <tr>\n",
       "      <th>997</th>\n",
       "      <td>unchecked</td>\n",
       "      <td>12</td>\n",
       "      <td>all paid</td>\n",
       "      <td>radio/tv</td>\n",
       "      <td>804</td>\n",
       "      <td>below_100</td>\n",
       "      <td>employed</td>\n",
       "      <td>male</td>\n",
       "      <td>none</td>\n",
       "      <td>car</td>\n",
       "      <td>38</td>\n",
       "      <td>none</td>\n",
       "      <td>own</td>\n",
       "      <td>1</td>\n",
       "      <td>skilled</td>\n",
       "      <td>1</td>\n",
       "      <td>none</td>\n",
       "      <td>yes</td>\n",
       "      <td>good</td>\n",
       "    </tr>\n",
       "    <tr>\n",
       "      <th>998</th>\n",
       "      <td>no</td>\n",
       "      <td>45</td>\n",
       "      <td>all paid</td>\n",
       "      <td>radio/tv</td>\n",
       "      <td>1845</td>\n",
       "      <td>below_100</td>\n",
       "      <td>employed</td>\n",
       "      <td>male</td>\n",
       "      <td>none</td>\n",
       "      <td>no known property</td>\n",
       "      <td>23</td>\n",
       "      <td>none</td>\n",
       "      <td>for free</td>\n",
       "      <td>1</td>\n",
       "      <td>skilled</td>\n",
       "      <td>1</td>\n",
       "      <td>yes</td>\n",
       "      <td>yes</td>\n",
       "      <td>bad</td>\n",
       "    </tr>\n",
       "    <tr>\n",
       "      <th>999</th>\n",
       "      <td>no</td>\n",
       "      <td>45</td>\n",
       "      <td>critical</td>\n",
       "      <td>used car</td>\n",
       "      <td>4576</td>\n",
       "      <td>below_500</td>\n",
       "      <td>unemployed</td>\n",
       "      <td>male</td>\n",
       "      <td>none</td>\n",
       "      <td>car</td>\n",
       "      <td>27</td>\n",
       "      <td>none</td>\n",
       "      <td>own</td>\n",
       "      <td>1</td>\n",
       "      <td>skilled</td>\n",
       "      <td>1</td>\n",
       "      <td>none</td>\n",
       "      <td>yes</td>\n",
       "      <td>good</td>\n",
       "    </tr>\n",
       "  </tbody>\n",
       "</table>\n",
       "<p>1000 rows × 19 columns</p>\n",
       "</div>"
      ],
      "text/plain": [
       "    over_draft  credit_usage credit_history              purpose  \\\n",
       "0           no             6       critical             radio/tv   \n",
       "1           no            48       all paid             radio/tv   \n",
       "2    unchecked            12       critical            education   \n",
       "3           no            42       all paid  furniture/equipment   \n",
       "4           no            24        delayed              new car   \n",
       "..         ...           ...            ...                  ...   \n",
       "995  unchecked            12       all paid  furniture/equipment   \n",
       "996         no            30       all paid             used car   \n",
       "997  unchecked            12       all paid             radio/tv   \n",
       "998         no            45       all paid             radio/tv   \n",
       "999         no            45       critical             used car   \n",
       "\n",
       "     current_balance Average_Credit_Balance  employment  gender other_parties  \\\n",
       "0               1169             no_savings    employed    male          none   \n",
       "1               5951              below_100    employed  female          none   \n",
       "2               2096              below_100    employed    male          none   \n",
       "3               7882              below_100    employed    male     guarantor   \n",
       "4               4870              below_100    employed    male          none   \n",
       "..               ...                    ...         ...     ...           ...   \n",
       "995             1736              below_100    employed  female          none   \n",
       "996             3857              below_100    employed    male          none   \n",
       "997              804              below_100    employed    male          none   \n",
       "998             1845              below_100    employed    male          none   \n",
       "999             4576              below_500  unemployed    male          none   \n",
       "\n",
       "    property_magnitude  age other_payment_plans   housing  existing_credits  \\\n",
       "0          real estate   67                none       own                 2   \n",
       "1          real estate   22                none       own                 1   \n",
       "2          real estate   49                none       own                 1   \n",
       "3       life insurance   45                none  for free                 1   \n",
       "4    no known property   53                none  for free                 2   \n",
       "..                 ...  ...                 ...       ...               ...   \n",
       "995        real estate   31                none       own                 1   \n",
       "996     life insurance   40                none       own                 1   \n",
       "997                car   38                none       own                 1   \n",
       "998  no known property   23                none  for free                 1   \n",
       "999                car   27                none       own                 1   \n",
       "\n",
       "               job  num_dependents own_telephone foreign_worker class  \n",
       "0          skilled               1           yes            yes  good  \n",
       "1          skilled               1          none            yes   bad  \n",
       "2        unskilled               2          none            yes  good  \n",
       "3          skilled               2          none            yes  good  \n",
       "4          skilled               2          none            yes   bad  \n",
       "..             ...             ...           ...            ...   ...  \n",
       "995      unskilled               1          none            yes  good  \n",
       "996  self_employed               1           yes            yes  good  \n",
       "997        skilled               1          none            yes  good  \n",
       "998        skilled               1           yes            yes   bad  \n",
       "999        skilled               1          none            yes  good  \n",
       "\n",
       "[1000 rows x 19 columns]"
      ]
     },
     "execution_count": 63,
     "metadata": {},
     "output_type": "execute_result"
    }
   ],
   "source": [
    "# Clean the Ovr_Draft feature\n",
    "ds['over_draft'] = ds['over_draft'].replace({'no checking': 'unchecked', '<0': 'no', '0<=X<200': 'no', '>=200' : 'yes'})\n",
    "\n",
    "# Clean the Credit History feature\n",
    "ds['credit_history'] = ds['credit_history'].replace({'critical/other existing credit':'critical','delayed previously':'delayed',\n",
    "                        'no credits/all paid': 'all paid', 'existing paid': 'all paid'})\n",
    "\n",
    "# Clean the Average_Credit_Balance feature\n",
    "ds['Average_Credit_Balance'] = ds['Average_Credit_Balance'].replace({'<100':'below_100', 'no known savings': 'no_savings',\n",
    "                           '100<=X<500': 'below_500', '500<=X<1000': 'below_1000', '>=1000':'above_1000' })\n",
    "\n",
    "# Clean the employment feature\n",
    "ds['employment'] = ds['employment'].replace({'1<=X<4':'employed','>=7':'employed', '4<=X<7': 'employed', '<1':'unemployed'}) \n",
    "\n",
    "\n",
    "# Split the personal_status feature into two columns\n",
    "ds[['gender', 'marital_status']] = ds['personal_status'].str.split(pat = \" \",expand = True)\n",
    "# Drop Marital status as no clear feature could be gotten\n",
    "ds.drop(['marital_status', 'residence_since'],inplace =True, axis = 1)\n",
    "\n",
    "\n",
    "ds['job'] = ds['job'].replace({'unskilled resident': 'unskilled', 'high qualif/self emp/mgmt': 'self_employed',\n",
    "                                'unemp/unskilled non res': 'unemeployed'})\n",
    "\n",
    "# Rename columns\n",
    "ds.rename({'cc_age': 'age'},axis = 1, inplace = True)\n",
    "\n",
    "# Change the age feature location\n",
    "gender_col = ds.pop('gender')\n",
    "ds.insert(9, 'gender', gender_col)\n",
    "\n",
    "ds.drop(['personal_status', 'location'], inplace = True, axis = 1)\n",
    "ds"
   ]
  },
  {
   "cell_type": "code",
   "execution_count": 64,
   "metadata": {},
   "outputs": [
    {
     "data": {
      "text/html": [
       "<div>\n",
       "<style scoped>\n",
       "    .dataframe tbody tr th:only-of-type {\n",
       "        vertical-align: middle;\n",
       "    }\n",
       "\n",
       "    .dataframe tbody tr th {\n",
       "        vertical-align: top;\n",
       "    }\n",
       "\n",
       "    .dataframe thead th {\n",
       "        text-align: right;\n",
       "    }\n",
       "</style>\n",
       "<table border=\"1\" class=\"dataframe\">\n",
       "  <thead>\n",
       "    <tr style=\"text-align: right;\">\n",
       "      <th></th>\n",
       "      <th>credit_usage</th>\n",
       "      <th>current_balance</th>\n",
       "      <th>age</th>\n",
       "      <th>existing_credits</th>\n",
       "      <th>num_dependents</th>\n",
       "    </tr>\n",
       "  </thead>\n",
       "  <tbody>\n",
       "    <tr>\n",
       "      <th>count</th>\n",
       "      <td>1000.000000</td>\n",
       "      <td>1000.000000</td>\n",
       "      <td>1000.000000</td>\n",
       "      <td>1000.000000</td>\n",
       "      <td>1000.000000</td>\n",
       "    </tr>\n",
       "    <tr>\n",
       "      <th>mean</th>\n",
       "      <td>20.903000</td>\n",
       "      <td>3271.258000</td>\n",
       "      <td>35.546000</td>\n",
       "      <td>1.407000</td>\n",
       "      <td>1.155000</td>\n",
       "    </tr>\n",
       "    <tr>\n",
       "      <th>std</th>\n",
       "      <td>12.058814</td>\n",
       "      <td>2822.736876</td>\n",
       "      <td>11.375469</td>\n",
       "      <td>0.577654</td>\n",
       "      <td>0.362086</td>\n",
       "    </tr>\n",
       "    <tr>\n",
       "      <th>min</th>\n",
       "      <td>4.000000</td>\n",
       "      <td>250.000000</td>\n",
       "      <td>19.000000</td>\n",
       "      <td>1.000000</td>\n",
       "      <td>1.000000</td>\n",
       "    </tr>\n",
       "    <tr>\n",
       "      <th>25%</th>\n",
       "      <td>12.000000</td>\n",
       "      <td>1365.500000</td>\n",
       "      <td>27.000000</td>\n",
       "      <td>1.000000</td>\n",
       "      <td>1.000000</td>\n",
       "    </tr>\n",
       "    <tr>\n",
       "      <th>50%</th>\n",
       "      <td>18.000000</td>\n",
       "      <td>2319.500000</td>\n",
       "      <td>33.000000</td>\n",
       "      <td>1.000000</td>\n",
       "      <td>1.000000</td>\n",
       "    </tr>\n",
       "    <tr>\n",
       "      <th>75%</th>\n",
       "      <td>24.000000</td>\n",
       "      <td>3972.250000</td>\n",
       "      <td>42.000000</td>\n",
       "      <td>2.000000</td>\n",
       "      <td>1.000000</td>\n",
       "    </tr>\n",
       "    <tr>\n",
       "      <th>max</th>\n",
       "      <td>72.000000</td>\n",
       "      <td>18424.000000</td>\n",
       "      <td>75.000000</td>\n",
       "      <td>4.000000</td>\n",
       "      <td>2.000000</td>\n",
       "    </tr>\n",
       "  </tbody>\n",
       "</table>\n",
       "</div>"
      ],
      "text/plain": [
       "       credit_usage  current_balance          age  existing_credits  \\\n",
       "count   1000.000000      1000.000000  1000.000000       1000.000000   \n",
       "mean      20.903000      3271.258000    35.546000          1.407000   \n",
       "std       12.058814      2822.736876    11.375469          0.577654   \n",
       "min        4.000000       250.000000    19.000000          1.000000   \n",
       "25%       12.000000      1365.500000    27.000000          1.000000   \n",
       "50%       18.000000      2319.500000    33.000000          1.000000   \n",
       "75%       24.000000      3972.250000    42.000000          2.000000   \n",
       "max       72.000000     18424.000000    75.000000          4.000000   \n",
       "\n",
       "       num_dependents  \n",
       "count     1000.000000  \n",
       "mean         1.155000  \n",
       "std          0.362086  \n",
       "min          1.000000  \n",
       "25%          1.000000  \n",
       "50%          1.000000  \n",
       "75%          1.000000  \n",
       "max          2.000000  "
      ]
     },
     "execution_count": 64,
     "metadata": {},
     "output_type": "execute_result"
    }
   ],
   "source": [
    "ds.describe()"
   ]
  },
  {
   "cell_type": "markdown",
   "metadata": {},
   "source": [
    "### Explanatory Analysis"
   ]
  },
  {
   "cell_type": "markdown",
   "metadata": {},
   "source": [
    "###### UniVariate Analysis"
   ]
  },
  {
   "cell_type": "code",
   "execution_count": 65,
   "metadata": {},
   "outputs": [
    {
     "data": {
      "application/vnd.plotly.v1+json": {
       "config": {
        "plotlyServerURL": "https://plot.ly"
       },
       "data": [
        {
         "colorscale": [
          [
           0,
           "#0d0887"
          ],
          [
           0.1111111111111111,
           "#46039f"
          ],
          [
           0.2222222222222222,
           "#7201a8"
          ],
          [
           0.3333333333333333,
           "#9c179e"
          ],
          [
           0.4444444444444444,
           "#bd3786"
          ],
          [
           0.5555555555555556,
           "#d8576b"
          ],
          [
           0.6666666666666666,
           "#ed7953"
          ],
          [
           0.7777777777777778,
           "#fb9f3a"
          ],
          [
           0.8888888888888888,
           "#fdca26"
          ],
          [
           1,
           "#f0f921"
          ]
         ],
         "reversescale": false,
         "showscale": true,
         "type": "heatmap",
         "x": [
          "credit_usage",
          "current_balance",
          "age",
          "existing_credits",
          "num_dependents"
         ],
         "y": [
          "credit_usage",
          "current_balance",
          "age",
          "existing_credits",
          "num_dependents"
         ],
         "z": [
          [
           1,
           0.6249841983009851,
           -0.03613637401909835,
           -0.011283597446143033,
           -0.023834475397621752
          ],
          [
           0.6249841983009851,
           1,
           0.032716416665448014,
           0.020794551748965877,
           0.017142154158463888
          ],
          [
           -0.03613637401909835,
           0.032716416665448014,
           1,
           0.14925358219009058,
           0.11820083281906714
          ],
          [
           -0.011283597446143033,
           0.020794551748965877,
           0.14925358219009058,
           1,
           0.10966670041593389
          ],
          [
           -0.023834475397621752,
           0.017142154158463888,
           0.11820083281906714,
           0.10966670041593389,
           1
          ]
         ]
        }
       ],
       "layout": {
        "annotations": [
         {
          "font": {
           "color": "#000000"
          },
          "showarrow": false,
          "text": "1.0",
          "x": "credit_usage",
          "xref": "x",
          "y": "credit_usage",
          "yref": "y"
         },
         {
          "font": {
           "color": "#000000"
          },
          "showarrow": false,
          "text": "0.62",
          "x": "current_balance",
          "xref": "x",
          "y": "credit_usage",
          "yref": "y"
         },
         {
          "font": {
           "color": "#FFFFFF"
          },
          "showarrow": false,
          "text": "-0.04",
          "x": "age",
          "xref": "x",
          "y": "credit_usage",
          "yref": "y"
         },
         {
          "font": {
           "color": "#FFFFFF"
          },
          "showarrow": false,
          "text": "-0.01",
          "x": "existing_credits",
          "xref": "x",
          "y": "credit_usage",
          "yref": "y"
         },
         {
          "font": {
           "color": "#FFFFFF"
          },
          "showarrow": false,
          "text": "-0.02",
          "x": "num_dependents",
          "xref": "x",
          "y": "credit_usage",
          "yref": "y"
         },
         {
          "font": {
           "color": "#000000"
          },
          "showarrow": false,
          "text": "0.62",
          "x": "credit_usage",
          "xref": "x",
          "y": "current_balance",
          "yref": "y"
         },
         {
          "font": {
           "color": "#000000"
          },
          "showarrow": false,
          "text": "1.0",
          "x": "current_balance",
          "xref": "x",
          "y": "current_balance",
          "yref": "y"
         },
         {
          "font": {
           "color": "#FFFFFF"
          },
          "showarrow": false,
          "text": "0.03",
          "x": "age",
          "xref": "x",
          "y": "current_balance",
          "yref": "y"
         },
         {
          "font": {
           "color": "#FFFFFF"
          },
          "showarrow": false,
          "text": "0.02",
          "x": "existing_credits",
          "xref": "x",
          "y": "current_balance",
          "yref": "y"
         },
         {
          "font": {
           "color": "#FFFFFF"
          },
          "showarrow": false,
          "text": "0.02",
          "x": "num_dependents",
          "xref": "x",
          "y": "current_balance",
          "yref": "y"
         },
         {
          "font": {
           "color": "#FFFFFF"
          },
          "showarrow": false,
          "text": "-0.04",
          "x": "credit_usage",
          "xref": "x",
          "y": "age",
          "yref": "y"
         },
         {
          "font": {
           "color": "#FFFFFF"
          },
          "showarrow": false,
          "text": "0.03",
          "x": "current_balance",
          "xref": "x",
          "y": "age",
          "yref": "y"
         },
         {
          "font": {
           "color": "#000000"
          },
          "showarrow": false,
          "text": "1.0",
          "x": "age",
          "xref": "x",
          "y": "age",
          "yref": "y"
         },
         {
          "font": {
           "color": "#FFFFFF"
          },
          "showarrow": false,
          "text": "0.15",
          "x": "existing_credits",
          "xref": "x",
          "y": "age",
          "yref": "y"
         },
         {
          "font": {
           "color": "#FFFFFF"
          },
          "showarrow": false,
          "text": "0.12",
          "x": "num_dependents",
          "xref": "x",
          "y": "age",
          "yref": "y"
         },
         {
          "font": {
           "color": "#FFFFFF"
          },
          "showarrow": false,
          "text": "-0.01",
          "x": "credit_usage",
          "xref": "x",
          "y": "existing_credits",
          "yref": "y"
         },
         {
          "font": {
           "color": "#FFFFFF"
          },
          "showarrow": false,
          "text": "0.02",
          "x": "current_balance",
          "xref": "x",
          "y": "existing_credits",
          "yref": "y"
         },
         {
          "font": {
           "color": "#FFFFFF"
          },
          "showarrow": false,
          "text": "0.15",
          "x": "age",
          "xref": "x",
          "y": "existing_credits",
          "yref": "y"
         },
         {
          "font": {
           "color": "#000000"
          },
          "showarrow": false,
          "text": "1.0",
          "x": "existing_credits",
          "xref": "x",
          "y": "existing_credits",
          "yref": "y"
         },
         {
          "font": {
           "color": "#FFFFFF"
          },
          "showarrow": false,
          "text": "0.11",
          "x": "num_dependents",
          "xref": "x",
          "y": "existing_credits",
          "yref": "y"
         },
         {
          "font": {
           "color": "#FFFFFF"
          },
          "showarrow": false,
          "text": "-0.02",
          "x": "credit_usage",
          "xref": "x",
          "y": "num_dependents",
          "yref": "y"
         },
         {
          "font": {
           "color": "#FFFFFF"
          },
          "showarrow": false,
          "text": "0.02",
          "x": "current_balance",
          "xref": "x",
          "y": "num_dependents",
          "yref": "y"
         },
         {
          "font": {
           "color": "#FFFFFF"
          },
          "showarrow": false,
          "text": "0.12",
          "x": "age",
          "xref": "x",
          "y": "num_dependents",
          "yref": "y"
         },
         {
          "font": {
           "color": "#FFFFFF"
          },
          "showarrow": false,
          "text": "0.11",
          "x": "existing_credits",
          "xref": "x",
          "y": "num_dependents",
          "yref": "y"
         },
         {
          "font": {
           "color": "#000000"
          },
          "showarrow": false,
          "text": "1.0",
          "x": "num_dependents",
          "xref": "x",
          "y": "num_dependents",
          "yref": "y"
         }
        ],
        "font": {
         "color": "#8a8d93"
        },
        "paper_bgcolor": "#2d3035",
        "plot_bgcolor": "#2d3035",
        "template": {
         "data": {
          "bar": [
           {
            "error_x": {
             "color": "#2a3f5f"
            },
            "error_y": {
             "color": "#2a3f5f"
            },
            "marker": {
             "line": {
              "color": "#E5ECF6",
              "width": 0.5
             },
             "pattern": {
              "fillmode": "overlay",
              "size": 10,
              "solidity": 0.2
             }
            },
            "type": "bar"
           }
          ],
          "barpolar": [
           {
            "marker": {
             "line": {
              "color": "#E5ECF6",
              "width": 0.5
             },
             "pattern": {
              "fillmode": "overlay",
              "size": 10,
              "solidity": 0.2
             }
            },
            "type": "barpolar"
           }
          ],
          "carpet": [
           {
            "aaxis": {
             "endlinecolor": "#2a3f5f",
             "gridcolor": "white",
             "linecolor": "white",
             "minorgridcolor": "white",
             "startlinecolor": "#2a3f5f"
            },
            "baxis": {
             "endlinecolor": "#2a3f5f",
             "gridcolor": "white",
             "linecolor": "white",
             "minorgridcolor": "white",
             "startlinecolor": "#2a3f5f"
            },
            "type": "carpet"
           }
          ],
          "choropleth": [
           {
            "colorbar": {
             "outlinewidth": 0,
             "ticks": ""
            },
            "type": "choropleth"
           }
          ],
          "contour": [
           {
            "colorbar": {
             "outlinewidth": 0,
             "ticks": ""
            },
            "colorscale": [
             [
              0,
              "#0d0887"
             ],
             [
              0.1111111111111111,
              "#46039f"
             ],
             [
              0.2222222222222222,
              "#7201a8"
             ],
             [
              0.3333333333333333,
              "#9c179e"
             ],
             [
              0.4444444444444444,
              "#bd3786"
             ],
             [
              0.5555555555555556,
              "#d8576b"
             ],
             [
              0.6666666666666666,
              "#ed7953"
             ],
             [
              0.7777777777777778,
              "#fb9f3a"
             ],
             [
              0.8888888888888888,
              "#fdca26"
             ],
             [
              1,
              "#f0f921"
             ]
            ],
            "type": "contour"
           }
          ],
          "contourcarpet": [
           {
            "colorbar": {
             "outlinewidth": 0,
             "ticks": ""
            },
            "type": "contourcarpet"
           }
          ],
          "heatmap": [
           {
            "colorbar": {
             "outlinewidth": 0,
             "ticks": ""
            },
            "colorscale": [
             [
              0,
              "#0d0887"
             ],
             [
              0.1111111111111111,
              "#46039f"
             ],
             [
              0.2222222222222222,
              "#7201a8"
             ],
             [
              0.3333333333333333,
              "#9c179e"
             ],
             [
              0.4444444444444444,
              "#bd3786"
             ],
             [
              0.5555555555555556,
              "#d8576b"
             ],
             [
              0.6666666666666666,
              "#ed7953"
             ],
             [
              0.7777777777777778,
              "#fb9f3a"
             ],
             [
              0.8888888888888888,
              "#fdca26"
             ],
             [
              1,
              "#f0f921"
             ]
            ],
            "type": "heatmap"
           }
          ],
          "heatmapgl": [
           {
            "colorbar": {
             "outlinewidth": 0,
             "ticks": ""
            },
            "colorscale": [
             [
              0,
              "#0d0887"
             ],
             [
              0.1111111111111111,
              "#46039f"
             ],
             [
              0.2222222222222222,
              "#7201a8"
             ],
             [
              0.3333333333333333,
              "#9c179e"
             ],
             [
              0.4444444444444444,
              "#bd3786"
             ],
             [
              0.5555555555555556,
              "#d8576b"
             ],
             [
              0.6666666666666666,
              "#ed7953"
             ],
             [
              0.7777777777777778,
              "#fb9f3a"
             ],
             [
              0.8888888888888888,
              "#fdca26"
             ],
             [
              1,
              "#f0f921"
             ]
            ],
            "type": "heatmapgl"
           }
          ],
          "histogram": [
           {
            "marker": {
             "pattern": {
              "fillmode": "overlay",
              "size": 10,
              "solidity": 0.2
             }
            },
            "type": "histogram"
           }
          ],
          "histogram2d": [
           {
            "colorbar": {
             "outlinewidth": 0,
             "ticks": ""
            },
            "colorscale": [
             [
              0,
              "#0d0887"
             ],
             [
              0.1111111111111111,
              "#46039f"
             ],
             [
              0.2222222222222222,
              "#7201a8"
             ],
             [
              0.3333333333333333,
              "#9c179e"
             ],
             [
              0.4444444444444444,
              "#bd3786"
             ],
             [
              0.5555555555555556,
              "#d8576b"
             ],
             [
              0.6666666666666666,
              "#ed7953"
             ],
             [
              0.7777777777777778,
              "#fb9f3a"
             ],
             [
              0.8888888888888888,
              "#fdca26"
             ],
             [
              1,
              "#f0f921"
             ]
            ],
            "type": "histogram2d"
           }
          ],
          "histogram2dcontour": [
           {
            "colorbar": {
             "outlinewidth": 0,
             "ticks": ""
            },
            "colorscale": [
             [
              0,
              "#0d0887"
             ],
             [
              0.1111111111111111,
              "#46039f"
             ],
             [
              0.2222222222222222,
              "#7201a8"
             ],
             [
              0.3333333333333333,
              "#9c179e"
             ],
             [
              0.4444444444444444,
              "#bd3786"
             ],
             [
              0.5555555555555556,
              "#d8576b"
             ],
             [
              0.6666666666666666,
              "#ed7953"
             ],
             [
              0.7777777777777778,
              "#fb9f3a"
             ],
             [
              0.8888888888888888,
              "#fdca26"
             ],
             [
              1,
              "#f0f921"
             ]
            ],
            "type": "histogram2dcontour"
           }
          ],
          "mesh3d": [
           {
            "colorbar": {
             "outlinewidth": 0,
             "ticks": ""
            },
            "type": "mesh3d"
           }
          ],
          "parcoords": [
           {
            "line": {
             "colorbar": {
              "outlinewidth": 0,
              "ticks": ""
             }
            },
            "type": "parcoords"
           }
          ],
          "pie": [
           {
            "automargin": true,
            "type": "pie"
           }
          ],
          "scatter": [
           {
            "fillpattern": {
             "fillmode": "overlay",
             "size": 10,
             "solidity": 0.2
            },
            "type": "scatter"
           }
          ],
          "scatter3d": [
           {
            "line": {
             "colorbar": {
              "outlinewidth": 0,
              "ticks": ""
             }
            },
            "marker": {
             "colorbar": {
              "outlinewidth": 0,
              "ticks": ""
             }
            },
            "type": "scatter3d"
           }
          ],
          "scattercarpet": [
           {
            "marker": {
             "colorbar": {
              "outlinewidth": 0,
              "ticks": ""
             }
            },
            "type": "scattercarpet"
           }
          ],
          "scattergeo": [
           {
            "marker": {
             "colorbar": {
              "outlinewidth": 0,
              "ticks": ""
             }
            },
            "type": "scattergeo"
           }
          ],
          "scattergl": [
           {
            "marker": {
             "colorbar": {
              "outlinewidth": 0,
              "ticks": ""
             }
            },
            "type": "scattergl"
           }
          ],
          "scattermapbox": [
           {
            "marker": {
             "colorbar": {
              "outlinewidth": 0,
              "ticks": ""
             }
            },
            "type": "scattermapbox"
           }
          ],
          "scatterpolar": [
           {
            "marker": {
             "colorbar": {
              "outlinewidth": 0,
              "ticks": ""
             }
            },
            "type": "scatterpolar"
           }
          ],
          "scatterpolargl": [
           {
            "marker": {
             "colorbar": {
              "outlinewidth": 0,
              "ticks": ""
             }
            },
            "type": "scatterpolargl"
           }
          ],
          "scatterternary": [
           {
            "marker": {
             "colorbar": {
              "outlinewidth": 0,
              "ticks": ""
             }
            },
            "type": "scatterternary"
           }
          ],
          "surface": [
           {
            "colorbar": {
             "outlinewidth": 0,
             "ticks": ""
            },
            "colorscale": [
             [
              0,
              "#0d0887"
             ],
             [
              0.1111111111111111,
              "#46039f"
             ],
             [
              0.2222222222222222,
              "#7201a8"
             ],
             [
              0.3333333333333333,
              "#9c179e"
             ],
             [
              0.4444444444444444,
              "#bd3786"
             ],
             [
              0.5555555555555556,
              "#d8576b"
             ],
             [
              0.6666666666666666,
              "#ed7953"
             ],
             [
              0.7777777777777778,
              "#fb9f3a"
             ],
             [
              0.8888888888888888,
              "#fdca26"
             ],
             [
              1,
              "#f0f921"
             ]
            ],
            "type": "surface"
           }
          ],
          "table": [
           {
            "cells": {
             "fill": {
              "color": "#EBF0F8"
             },
             "line": {
              "color": "white"
             }
            },
            "header": {
             "fill": {
              "color": "#C8D4E3"
             },
             "line": {
              "color": "white"
             }
            },
            "type": "table"
           }
          ]
         },
         "layout": {
          "annotationdefaults": {
           "arrowcolor": "#2a3f5f",
           "arrowhead": 0,
           "arrowwidth": 1
          },
          "autotypenumbers": "strict",
          "coloraxis": {
           "colorbar": {
            "outlinewidth": 0,
            "ticks": ""
           }
          },
          "colorscale": {
           "diverging": [
            [
             0,
             "#8e0152"
            ],
            [
             0.1,
             "#c51b7d"
            ],
            [
             0.2,
             "#de77ae"
            ],
            [
             0.3,
             "#f1b6da"
            ],
            [
             0.4,
             "#fde0ef"
            ],
            [
             0.5,
             "#f7f7f7"
            ],
            [
             0.6,
             "#e6f5d0"
            ],
            [
             0.7,
             "#b8e186"
            ],
            [
             0.8,
             "#7fbc41"
            ],
            [
             0.9,
             "#4d9221"
            ],
            [
             1,
             "#276419"
            ]
           ],
           "sequential": [
            [
             0,
             "#0d0887"
            ],
            [
             0.1111111111111111,
             "#46039f"
            ],
            [
             0.2222222222222222,
             "#7201a8"
            ],
            [
             0.3333333333333333,
             "#9c179e"
            ],
            [
             0.4444444444444444,
             "#bd3786"
            ],
            [
             0.5555555555555556,
             "#d8576b"
            ],
            [
             0.6666666666666666,
             "#ed7953"
            ],
            [
             0.7777777777777778,
             "#fb9f3a"
            ],
            [
             0.8888888888888888,
             "#fdca26"
            ],
            [
             1,
             "#f0f921"
            ]
           ],
           "sequentialminus": [
            [
             0,
             "#0d0887"
            ],
            [
             0.1111111111111111,
             "#46039f"
            ],
            [
             0.2222222222222222,
             "#7201a8"
            ],
            [
             0.3333333333333333,
             "#9c179e"
            ],
            [
             0.4444444444444444,
             "#bd3786"
            ],
            [
             0.5555555555555556,
             "#d8576b"
            ],
            [
             0.6666666666666666,
             "#ed7953"
            ],
            [
             0.7777777777777778,
             "#fb9f3a"
            ],
            [
             0.8888888888888888,
             "#fdca26"
            ],
            [
             1,
             "#f0f921"
            ]
           ]
          },
          "colorway": [
           "#636efa",
           "#EF553B",
           "#00cc96",
           "#ab63fa",
           "#FFA15A",
           "#19d3f3",
           "#FF6692",
           "#B6E880",
           "#FF97FF",
           "#FECB52"
          ],
          "font": {
           "color": "#2a3f5f"
          },
          "geo": {
           "bgcolor": "white",
           "lakecolor": "white",
           "landcolor": "#E5ECF6",
           "showlakes": true,
           "showland": true,
           "subunitcolor": "white"
          },
          "hoverlabel": {
           "align": "left"
          },
          "hovermode": "closest",
          "mapbox": {
           "style": "light"
          },
          "paper_bgcolor": "white",
          "plot_bgcolor": "#E5ECF6",
          "polar": {
           "angularaxis": {
            "gridcolor": "white",
            "linecolor": "white",
            "ticks": ""
           },
           "bgcolor": "#E5ECF6",
           "radialaxis": {
            "gridcolor": "white",
            "linecolor": "white",
            "ticks": ""
           }
          },
          "scene": {
           "xaxis": {
            "backgroundcolor": "#E5ECF6",
            "gridcolor": "white",
            "gridwidth": 2,
            "linecolor": "white",
            "showbackground": true,
            "ticks": "",
            "zerolinecolor": "white"
           },
           "yaxis": {
            "backgroundcolor": "#E5ECF6",
            "gridcolor": "white",
            "gridwidth": 2,
            "linecolor": "white",
            "showbackground": true,
            "ticks": "",
            "zerolinecolor": "white"
           },
           "zaxis": {
            "backgroundcolor": "#E5ECF6",
            "gridcolor": "white",
            "gridwidth": 2,
            "linecolor": "white",
            "showbackground": true,
            "ticks": "",
            "zerolinecolor": "white"
           }
          },
          "shapedefaults": {
           "line": {
            "color": "#2a3f5f"
           }
          },
          "ternary": {
           "aaxis": {
            "gridcolor": "white",
            "linecolor": "white",
            "ticks": ""
           },
           "baxis": {
            "gridcolor": "white",
            "linecolor": "white",
            "ticks": ""
           },
           "bgcolor": "#E5ECF6",
           "caxis": {
            "gridcolor": "white",
            "linecolor": "white",
            "ticks": ""
           }
          },
          "title": {
           "x": 0.05
          },
          "xaxis": {
           "automargin": true,
           "gridcolor": "white",
           "linecolor": "white",
           "ticks": "",
           "title": {
            "standoff": 15
           },
           "zerolinecolor": "white",
           "zerolinewidth": 2
          },
          "yaxis": {
           "automargin": true,
           "gridcolor": "white",
           "linecolor": "white",
           "ticks": "",
           "title": {
            "standoff": 15
           },
           "zerolinecolor": "white",
           "zerolinewidth": 2
          }
         }
        },
        "title": {
         "font": {
          "color": "#a5a7ab",
          "family": "Muli, sans-serif",
          "size": 25
         },
         "text": "Correlation of whole Data"
        },
        "xaxis": {
         "dtick": 1,
         "gridcolor": "rgb(0, 0, 0)",
         "side": "top",
         "ticks": ""
        },
        "yaxis": {
         "dtick": 1,
         "ticks": "",
         "ticksuffix": "  "
        }
       }
      }
     },
     "metadata": {},
     "output_type": "display_data"
    }
   ],
   "source": [
    "import plotly.figure_factory as ff\n",
    "\n",
    "corrs = ds.corr()\n",
    "fig_heatmap = ff.create_annotated_heatmap(\n",
    "    z=corrs.values,\n",
    "    x=list(corrs.columns),\n",
    "    y=list(corrs.index),\n",
    "    annotation_text=corrs.round(2).values,\n",
    "    showscale=True)\n",
    "fig_heatmap.update_layout(title= 'Correlation of whole Data',  \n",
    "                 plot_bgcolor='#2d3035', paper_bgcolor='#2d3035',\n",
    "                        title_font=dict(size=25, color='#a5a7ab', family=\"Muli, sans-serif\"),\n",
    "                        font=dict(color='#8a8d93'))"
   ]
  },
  {
   "cell_type": "markdown",
   "metadata": {},
   "source": [
    "Features are not overly correlated for concern"
   ]
  },
  {
   "cell_type": "code",
   "execution_count": 66,
   "metadata": {},
   "outputs": [
    {
     "data": {
      "application/vnd.plotly.v1+json": {
       "config": {
        "plotlyServerURL": "https://plot.ly"
       },
       "data": [
        {
         "alignmentgroup": "True",
         "bingroup": "x",
         "hovertemplate": "credit_history=%{x}<br>count=%{y}<extra></extra>",
         "legendgroup": "",
         "marker": {
          "color": "#03DAC5",
          "pattern": {
           "shape": ""
          }
         },
         "name": "",
         "offsetgroup": "",
         "orientation": "v",
         "showlegend": false,
         "type": "histogram",
         "x": [
          "critical/other existing credit",
          "existing paid",
          "critical/other existing credit",
          "existing paid",
          "delayed previously",
          "existing paid",
          "existing paid",
          "existing paid",
          "existing paid",
          "critical/other existing credit",
          "existing paid",
          "existing paid",
          "existing paid",
          "critical/other existing credit",
          "existing paid",
          "existing paid",
          "critical/other existing credit",
          "no credits/all paid",
          "existing paid",
          "existing paid",
          "critical/other existing credit",
          "existing paid",
          "critical/other existing credit",
          "critical/other existing credit",
          "critical/other existing credit",
          "existing paid",
          "no credits/all paid",
          "all paid",
          "existing paid",
          "delayed previously",
          "existing paid",
          "existing paid",
          "existing paid",
          "critical/other existing credit",
          "existing paid",
          "critical/other existing credit",
          "critical/other existing credit",
          "existing paid",
          "existing paid",
          "existing paid",
          "existing paid",
          "existing paid",
          "delayed previously",
          "critical/other existing credit",
          "critical/other existing credit",
          "critical/other existing credit",
          "existing paid",
          "existing paid",
          "critical/other existing credit",
          "existing paid",
          "delayed previously",
          "delayed previously",
          "existing paid",
          "existing paid",
          "delayed previously",
          "all paid",
          "existing paid",
          "critical/other existing credit",
          "existing paid",
          "critical/other existing credit",
          "existing paid",
          "critical/other existing credit",
          "no credits/all paid",
          "no credits/all paid",
          "existing paid",
          "existing paid",
          "existing paid",
          "existing paid",
          "existing paid",
          "existing paid",
          "existing paid",
          "critical/other existing credit",
          "critical/other existing credit",
          "critical/other existing credit",
          "existing paid",
          "critical/other existing credit",
          "existing paid",
          "delayed previously",
          "no credits/all paid",
          "existing paid",
          "existing paid",
          "existing paid",
          "existing paid",
          "existing paid",
          "existing paid",
          "critical/other existing credit",
          "critical/other existing credit",
          "existing paid",
          "existing paid",
          "no credits/all paid",
          "critical/other existing credit",
          "critical/other existing credit",
          "critical/other existing credit",
          "critical/other existing credit",
          "existing paid",
          "no credits/all paid",
          "critical/other existing credit",
          "existing paid",
          "critical/other existing credit",
          "delayed previously",
          "existing paid",
          "existing paid",
          "delayed previously",
          "critical/other existing credit",
          "existing paid",
          "critical/other existing credit",
          "all paid",
          "existing paid",
          "existing paid",
          "existing paid",
          "delayed previously",
          "existing paid",
          "existing paid",
          "critical/other existing credit",
          "existing paid",
          "critical/other existing credit",
          "existing paid",
          "critical/other existing credit",
          "critical/other existing credit",
          "critical/other existing credit",
          "existing paid",
          "critical/other existing credit",
          "existing paid",
          "critical/other existing credit",
          "existing paid",
          "critical/other existing credit",
          "existing paid",
          "existing paid",
          "critical/other existing credit",
          "critical/other existing credit",
          "existing paid",
          "delayed previously",
          "existing paid",
          "existing paid",
          "existing paid",
          "critical/other existing credit",
          "delayed previously",
          "existing paid",
          "critical/other existing credit",
          "existing paid",
          "existing paid",
          "existing paid",
          "existing paid",
          "existing paid",
          "critical/other existing credit",
          "all paid",
          "critical/other existing credit",
          "critical/other existing credit",
          "critical/other existing credit",
          "critical/other existing credit",
          "existing paid",
          "existing paid",
          "existing paid",
          "critical/other existing credit",
          "delayed previously",
          "existing paid",
          "critical/other existing credit",
          "all paid",
          "existing paid",
          "critical/other existing credit",
          "critical/other existing credit",
          "critical/other existing credit",
          "existing paid",
          "existing paid",
          "existing paid",
          "existing paid",
          "existing paid",
          "existing paid",
          "existing paid",
          "critical/other existing credit",
          "no credits/all paid",
          "existing paid",
          "delayed previously",
          "existing paid",
          "delayed previously",
          "all paid",
          "existing paid",
          "critical/other existing credit",
          "existing paid",
          "critical/other existing credit",
          "delayed previously",
          "delayed previously",
          "all paid",
          "critical/other existing credit",
          "critical/other existing credit",
          "critical/other existing credit",
          "all paid",
          "critical/other existing credit",
          "existing paid",
          "no credits/all paid",
          "existing paid",
          "no credits/all paid",
          "existing paid",
          "existing paid",
          "existing paid",
          "critical/other existing credit",
          "critical/other existing credit",
          "existing paid",
          "existing paid",
          "delayed previously",
          "critical/other existing credit",
          "existing paid",
          "delayed previously",
          "existing paid",
          "critical/other existing credit",
          "critical/other existing credit",
          "critical/other existing credit",
          "critical/other existing credit",
          "existing paid",
          "existing paid",
          "critical/other existing credit",
          "existing paid",
          "no credits/all paid",
          "delayed previously",
          "critical/other existing credit",
          "critical/other existing credit",
          "no credits/all paid",
          "existing paid",
          "existing paid",
          "existing paid",
          "existing paid",
          "existing paid",
          "existing paid",
          "delayed previously",
          "existing paid",
          "no credits/all paid",
          "existing paid",
          "existing paid",
          "existing paid",
          "existing paid",
          "existing paid",
          "existing paid",
          "existing paid",
          "existing paid",
          "critical/other existing credit",
          "existing paid",
          "existing paid",
          "existing paid",
          "critical/other existing credit",
          "existing paid",
          "existing paid",
          "existing paid",
          "no credits/all paid",
          "critical/other existing credit",
          "all paid",
          "existing paid",
          "critical/other existing credit",
          "no credits/all paid",
          "existing paid",
          "existing paid",
          "critical/other existing credit",
          "existing paid",
          "existing paid",
          "delayed previously",
          "existing paid",
          "delayed previously",
          "critical/other existing credit",
          "all paid",
          "existing paid",
          "critical/other existing credit",
          "existing paid",
          "existing paid",
          "critical/other existing credit",
          "critical/other existing credit",
          "critical/other existing credit",
          "existing paid",
          "critical/other existing credit",
          "existing paid",
          "existing paid",
          "existing paid",
          "existing paid",
          "critical/other existing credit",
          "all paid",
          "existing paid",
          "existing paid",
          "existing paid",
          "critical/other existing credit",
          "existing paid",
          "existing paid",
          "existing paid",
          "critical/other existing credit",
          "existing paid",
          "all paid",
          "critical/other existing credit",
          "critical/other existing credit",
          "existing paid",
          "existing paid",
          "delayed previously",
          "existing paid",
          "delayed previously",
          "existing paid",
          "existing paid",
          "critical/other existing credit",
          "critical/other existing credit",
          "critical/other existing credit",
          "existing paid",
          "existing paid",
          "existing paid",
          "existing paid",
          "critical/other existing credit",
          "existing paid",
          "no credits/all paid",
          "critical/other existing credit",
          "critical/other existing credit",
          "critical/other existing credit",
          "existing paid",
          "existing paid",
          "existing paid",
          "existing paid",
          "existing paid",
          "existing paid",
          "existing paid",
          "existing paid",
          "existing paid",
          "existing paid",
          "all paid",
          "existing paid",
          "existing paid",
          "critical/other existing credit",
          "delayed previously",
          "critical/other existing credit",
          "existing paid",
          "existing paid",
          "existing paid",
          "critical/other existing credit",
          "critical/other existing credit",
          "critical/other existing credit",
          "existing paid",
          "existing paid",
          "existing paid",
          "critical/other existing credit",
          "critical/other existing credit",
          "existing paid",
          "critical/other existing credit",
          "no credits/all paid",
          "critical/other existing credit",
          "existing paid",
          "existing paid",
          "existing paid",
          "existing paid",
          "critical/other existing credit",
          "existing paid",
          "existing paid",
          "existing paid",
          "existing paid",
          "critical/other existing credit",
          "critical/other existing credit",
          "existing paid",
          "delayed previously",
          "critical/other existing credit",
          "existing paid",
          "existing paid",
          "critical/other existing credit",
          "no credits/all paid",
          "existing paid",
          "existing paid",
          "critical/other existing credit",
          "delayed previously",
          "existing paid",
          "existing paid",
          "existing paid",
          "existing paid",
          "delayed previously",
          "existing paid",
          "existing paid",
          "existing paid",
          "critical/other existing credit",
          "existing paid",
          "existing paid",
          "existing paid",
          "existing paid",
          "critical/other existing credit",
          "critical/other existing credit",
          "critical/other existing credit",
          "all paid",
          "all paid",
          "delayed previously",
          "delayed previously",
          "existing paid",
          "critical/other existing credit",
          "existing paid",
          "existing paid",
          "existing paid",
          "existing paid",
          "delayed previously",
          "critical/other existing credit",
          "existing paid",
          "critical/other existing credit",
          "critical/other existing credit",
          "existing paid",
          "existing paid",
          "existing paid",
          "existing paid",
          "critical/other existing credit",
          "critical/other existing credit",
          "delayed previously",
          "existing paid",
          "critical/other existing credit",
          "existing paid",
          "critical/other existing credit",
          "existing paid",
          "critical/other existing credit",
          "delayed previously",
          "delayed previously",
          "delayed previously",
          "existing paid",
          "critical/other existing credit",
          "existing paid",
          "existing paid",
          "critical/other existing credit",
          "existing paid",
          "critical/other existing credit",
          "critical/other existing credit",
          "existing paid",
          "existing paid",
          "critical/other existing credit",
          "existing paid",
          "delayed previously",
          "existing paid",
          "existing paid",
          "existing paid",
          "existing paid",
          "critical/other existing credit",
          "delayed previously",
          "existing paid",
          "existing paid",
          "critical/other existing credit",
          "critical/other existing credit",
          "existing paid",
          "critical/other existing credit",
          "existing paid",
          "existing paid",
          "critical/other existing credit",
          "critical/other existing credit",
          "existing paid",
          "existing paid",
          "existing paid",
          "critical/other existing credit",
          "critical/other existing credit",
          "all paid",
          "existing paid",
          "existing paid",
          "delayed previously",
          "existing paid",
          "critical/other existing credit",
          "critical/other existing credit",
          "existing paid",
          "existing paid",
          "existing paid",
          "delayed previously",
          "critical/other existing credit",
          "existing paid",
          "no credits/all paid",
          "existing paid",
          "existing paid",
          "existing paid",
          "critical/other existing credit",
          "existing paid",
          "existing paid",
          "existing paid",
          "existing paid",
          "existing paid",
          "existing paid",
          "existing paid",
          "existing paid",
          "existing paid",
          "delayed previously",
          "delayed previously",
          "delayed previously",
          "delayed previously",
          "existing paid",
          "existing paid",
          "existing paid",
          "existing paid",
          "critical/other existing credit",
          "no credits/all paid",
          "existing paid",
          "existing paid",
          "existing paid",
          "critical/other existing credit",
          "critical/other existing credit",
          "existing paid",
          "existing paid",
          "delayed previously",
          "critical/other existing credit",
          "delayed previously",
          "existing paid",
          "existing paid",
          "existing paid",
          "existing paid",
          "critical/other existing credit",
          "no credits/all paid",
          "critical/other existing credit",
          "existing paid",
          "critical/other existing credit",
          "existing paid",
          "existing paid",
          "critical/other existing credit",
          "existing paid",
          "critical/other existing credit",
          "existing paid",
          "existing paid",
          "existing paid",
          "critical/other existing credit",
          "existing paid",
          "existing paid",
          "critical/other existing credit",
          "all paid",
          "existing paid",
          "existing paid",
          "existing paid",
          "existing paid",
          "existing paid",
          "delayed previously",
          "existing paid",
          "critical/other existing credit",
          "critical/other existing credit",
          "critical/other existing credit",
          "existing paid",
          "critical/other existing credit",
          "critical/other existing credit",
          "existing paid",
          "no credits/all paid",
          "existing paid",
          "existing paid",
          "existing paid",
          "critical/other existing credit",
          "critical/other existing credit",
          "existing paid",
          "existing paid",
          "existing paid",
          "existing paid",
          "delayed previously",
          "existing paid",
          "existing paid",
          "critical/other existing credit",
          "existing paid",
          "critical/other existing credit",
          "existing paid",
          "existing paid",
          "existing paid",
          "delayed previously",
          "existing paid",
          "existing paid",
          "critical/other existing credit",
          "delayed previously",
          "critical/other existing credit",
          "existing paid",
          "all paid",
          "critical/other existing credit",
          "critical/other existing credit",
          "all paid",
          "existing paid",
          "critical/other existing credit",
          "existing paid",
          "existing paid",
          "no credits/all paid",
          "no credits/all paid",
          "all paid",
          "critical/other existing credit",
          "existing paid",
          "all paid",
          "delayed previously",
          "existing paid",
          "delayed previously",
          "delayed previously",
          "existing paid",
          "critical/other existing credit",
          "existing paid",
          "existing paid",
          "existing paid",
          "critical/other existing credit",
          "existing paid",
          "existing paid",
          "existing paid",
          "critical/other existing credit",
          "existing paid",
          "critical/other existing credit",
          "critical/other existing credit",
          "existing paid",
          "critical/other existing credit",
          "critical/other existing credit",
          "existing paid",
          "existing paid",
          "existing paid",
          "existing paid",
          "critical/other existing credit",
          "existing paid",
          "existing paid",
          "critical/other existing credit",
          "critical/other existing credit",
          "delayed previously",
          "existing paid",
          "existing paid",
          "all paid",
          "all paid",
          "existing paid",
          "no credits/all paid",
          "critical/other existing credit",
          "delayed previously",
          "existing paid",
          "existing paid",
          "all paid",
          "existing paid",
          "existing paid",
          "all paid",
          "critical/other existing credit",
          "existing paid",
          "existing paid",
          "existing paid",
          "existing paid",
          "existing paid",
          "existing paid",
          "all paid",
          "delayed previously",
          "no credits/all paid",
          "delayed previously",
          "critical/other existing credit",
          "existing paid",
          "existing paid",
          "critical/other existing credit",
          "critical/other existing credit",
          "existing paid",
          "existing paid",
          "existing paid",
          "existing paid",
          "existing paid",
          "all paid",
          "critical/other existing credit",
          "existing paid",
          "existing paid",
          "all paid",
          "existing paid",
          "existing paid",
          "existing paid",
          "existing paid",
          "existing paid",
          "delayed previously",
          "existing paid",
          "delayed previously",
          "existing paid",
          "existing paid",
          "existing paid",
          "critical/other existing credit",
          "critical/other existing credit",
          "delayed previously",
          "no credits/all paid",
          "existing paid",
          "existing paid",
          "existing paid",
          "existing paid",
          "existing paid",
          "existing paid",
          "delayed previously",
          "critical/other existing credit",
          "existing paid",
          "existing paid",
          "existing paid",
          "no credits/all paid",
          "critical/other existing credit",
          "existing paid",
          "existing paid",
          "existing paid",
          "delayed previously",
          "critical/other existing credit",
          "critical/other existing credit",
          "all paid",
          "all paid",
          "critical/other existing credit",
          "critical/other existing credit",
          "critical/other existing credit",
          "existing paid",
          "existing paid",
          "critical/other existing credit",
          "delayed previously",
          "critical/other existing credit",
          "critical/other existing credit",
          "existing paid",
          "existing paid",
          "existing paid",
          "existing paid",
          "existing paid",
          "delayed previously",
          "critical/other existing credit",
          "delayed previously",
          "existing paid",
          "critical/other existing credit",
          "delayed previously",
          "existing paid",
          "existing paid",
          "critical/other existing credit",
          "existing paid",
          "existing paid",
          "critical/other existing credit",
          "existing paid",
          "existing paid",
          "existing paid",
          "critical/other existing credit",
          "critical/other existing credit",
          "existing paid",
          "existing paid",
          "critical/other existing credit",
          "existing paid",
          "delayed previously",
          "existing paid",
          "existing paid",
          "existing paid",
          "no credits/all paid",
          "existing paid",
          "existing paid",
          "critical/other existing credit",
          "all paid",
          "existing paid",
          "critical/other existing credit",
          "existing paid",
          "critical/other existing credit",
          "critical/other existing credit",
          "existing paid",
          "critical/other existing credit",
          "no credits/all paid",
          "no credits/all paid",
          "all paid",
          "existing paid",
          "existing paid",
          "existing paid",
          "critical/other existing credit",
          "critical/other existing credit",
          "existing paid",
          "all paid",
          "critical/other existing credit",
          "delayed previously",
          "existing paid",
          "existing paid",
          "existing paid",
          "critical/other existing credit",
          "all paid",
          "existing paid",
          "existing paid",
          "critical/other existing credit",
          "no credits/all paid",
          "all paid",
          "all paid",
          "existing paid",
          "all paid",
          "critical/other existing credit",
          "critical/other existing credit",
          "existing paid",
          "existing paid",
          "existing paid",
          "existing paid",
          "existing paid",
          "existing paid",
          "existing paid",
          "critical/other existing credit",
          "delayed previously",
          "existing paid",
          "critical/other existing credit",
          "critical/other existing credit",
          "existing paid",
          "critical/other existing credit",
          "critical/other existing credit",
          "critical/other existing credit",
          "existing paid",
          "critical/other existing credit",
          "critical/other existing credit",
          "existing paid",
          "existing paid",
          "existing paid",
          "critical/other existing credit",
          "critical/other existing credit",
          "existing paid",
          "critical/other existing credit",
          "critical/other existing credit",
          "critical/other existing credit",
          "critical/other existing credit",
          "existing paid",
          "critical/other existing credit",
          "existing paid",
          "critical/other existing credit",
          "existing paid",
          "critical/other existing credit",
          "critical/other existing credit",
          "no credits/all paid",
          "existing paid",
          "existing paid",
          "existing paid",
          "existing paid",
          "critical/other existing credit",
          "delayed previously",
          "critical/other existing credit",
          "existing paid",
          "existing paid",
          "critical/other existing credit",
          "existing paid",
          "existing paid",
          "existing paid",
          "existing paid",
          "critical/other existing credit",
          "delayed previously",
          "existing paid",
          "critical/other existing credit",
          "critical/other existing credit",
          "critical/other existing credit",
          "critical/other existing credit",
          "existing paid",
          "existing paid",
          "existing paid",
          "critical/other existing credit",
          "all paid",
          "no credits/all paid",
          "existing paid",
          "existing paid",
          "critical/other existing credit",
          "existing paid",
          "existing paid",
          "delayed previously",
          "existing paid",
          "critical/other existing credit",
          "existing paid",
          "existing paid",
          "existing paid",
          "existing paid",
          "existing paid",
          "critical/other existing credit",
          "critical/other existing credit",
          "critical/other existing credit",
          "critical/other existing credit",
          "no credits/all paid",
          "existing paid",
          "delayed previously",
          "delayed previously",
          "existing paid",
          "no credits/all paid",
          "existing paid",
          "existing paid",
          "no credits/all paid",
          "existing paid",
          "existing paid",
          "critical/other existing credit",
          "critical/other existing credit",
          "existing paid",
          "delayed previously",
          "existing paid",
          "all paid",
          "existing paid",
          "existing paid",
          "existing paid",
          "existing paid",
          "existing paid",
          "existing paid",
          "critical/other existing credit",
          "critical/other existing credit",
          "critical/other existing credit",
          "all paid",
          "delayed previously",
          "existing paid",
          "existing paid",
          "critical/other existing credit",
          "existing paid",
          "existing paid",
          "critical/other existing credit",
          "delayed previously",
          "existing paid",
          "critical/other existing credit",
          "existing paid",
          "existing paid",
          "existing paid",
          "critical/other existing credit",
          "existing paid",
          "existing paid",
          "delayed previously",
          "critical/other existing credit",
          "critical/other existing credit",
          "existing paid",
          "existing paid",
          "critical/other existing credit",
          "all paid",
          "existing paid",
          "existing paid",
          "critical/other existing credit",
          "existing paid",
          "existing paid",
          "critical/other existing credit",
          "critical/other existing credit",
          "existing paid",
          "existing paid",
          "critical/other existing credit",
          "existing paid",
          "critical/other existing credit",
          "all paid",
          "critical/other existing credit",
          "critical/other existing credit",
          "critical/other existing credit",
          "critical/other existing credit",
          "critical/other existing credit",
          "delayed previously",
          "existing paid",
          "critical/other existing credit",
          "existing paid",
          "existing paid",
          "critical/other existing credit",
          "critical/other existing credit",
          "critical/other existing credit",
          "existing paid",
          "existing paid",
          "existing paid",
          "existing paid",
          "existing paid",
          "delayed previously",
          "existing paid",
          "delayed previously",
          "critical/other existing credit",
          "existing paid",
          "existing paid",
          "all paid",
          "no credits/all paid",
          "existing paid",
          "existing paid",
          "existing paid",
          "existing paid",
          "critical/other existing credit",
          "delayed previously",
          "existing paid",
          "existing paid",
          "all paid",
          "all paid",
          "critical/other existing credit",
          "existing paid",
          "existing paid",
          "delayed previously",
          "existing paid",
          "existing paid",
          "critical/other existing credit",
          "critical/other existing credit",
          "existing paid",
          "delayed previously",
          "existing paid",
          "existing paid",
          "existing paid",
          "critical/other existing credit",
          "existing paid",
          "existing paid",
          "existing paid",
          "critical/other existing credit",
          "existing paid",
          "no credits/all paid",
          "all paid",
          "existing paid",
          "existing paid",
          "existing paid",
          "critical/other existing credit",
          "delayed previously",
          "existing paid",
          "existing paid",
          "existing paid",
          "critical/other existing credit",
          "critical/other existing credit",
          "critical/other existing credit",
          "existing paid",
          "existing paid",
          "critical/other existing credit",
          "delayed previously",
          "existing paid",
          "existing paid",
          "existing paid",
          "existing paid",
          "critical/other existing credit",
          "existing paid",
          "existing paid",
          "critical/other existing credit",
          "existing paid",
          "existing paid",
          "all paid",
          "existing paid",
          "critical/other existing credit",
          "existing paid",
          "existing paid",
          "delayed previously",
          "delayed previously",
          "all paid",
          "critical/other existing credit",
          "existing paid",
          "existing paid",
          "existing paid",
          "critical/other existing credit",
          "critical/other existing credit",
          "no credits/all paid",
          "existing paid",
          "existing paid",
          "critical/other existing credit",
          "critical/other existing credit",
          "all paid",
          "existing paid",
          "existing paid",
          "existing paid",
          "existing paid",
          "existing paid",
          "existing paid",
          "existing paid",
          "critical/other existing credit"
         ],
         "xaxis": "x",
         "yaxis": "y"
        }
       ],
       "layout": {
        "barmode": "relative",
        "font": {
         "color": "#8a8d93"
        },
        "height": 450,
        "legend": {
         "orientation": "h",
         "tracegroupgap": 0,
         "x": 1,
         "xanchor": "right",
         "y": 1.02,
         "yanchor": "bottom"
        },
        "margin": {
         "b": 10,
         "l": 70,
         "r": 40,
         "t": 70
        },
        "paper_bgcolor": "#2d3035",
        "plot_bgcolor": "#2d3035",
        "template": {
         "data": {
          "bar": [
           {
            "error_x": {
             "color": "#2a3f5f"
            },
            "error_y": {
             "color": "#2a3f5f"
            },
            "marker": {
             "line": {
              "color": "#E5ECF6",
              "width": 0.5
             },
             "pattern": {
              "fillmode": "overlay",
              "size": 10,
              "solidity": 0.2
             }
            },
            "type": "bar"
           }
          ],
          "barpolar": [
           {
            "marker": {
             "line": {
              "color": "#E5ECF6",
              "width": 0.5
             },
             "pattern": {
              "fillmode": "overlay",
              "size": 10,
              "solidity": 0.2
             }
            },
            "type": "barpolar"
           }
          ],
          "carpet": [
           {
            "aaxis": {
             "endlinecolor": "#2a3f5f",
             "gridcolor": "white",
             "linecolor": "white",
             "minorgridcolor": "white",
             "startlinecolor": "#2a3f5f"
            },
            "baxis": {
             "endlinecolor": "#2a3f5f",
             "gridcolor": "white",
             "linecolor": "white",
             "minorgridcolor": "white",
             "startlinecolor": "#2a3f5f"
            },
            "type": "carpet"
           }
          ],
          "choropleth": [
           {
            "colorbar": {
             "outlinewidth": 0,
             "ticks": ""
            },
            "type": "choropleth"
           }
          ],
          "contour": [
           {
            "colorbar": {
             "outlinewidth": 0,
             "ticks": ""
            },
            "colorscale": [
             [
              0,
              "#0d0887"
             ],
             [
              0.1111111111111111,
              "#46039f"
             ],
             [
              0.2222222222222222,
              "#7201a8"
             ],
             [
              0.3333333333333333,
              "#9c179e"
             ],
             [
              0.4444444444444444,
              "#bd3786"
             ],
             [
              0.5555555555555556,
              "#d8576b"
             ],
             [
              0.6666666666666666,
              "#ed7953"
             ],
             [
              0.7777777777777778,
              "#fb9f3a"
             ],
             [
              0.8888888888888888,
              "#fdca26"
             ],
             [
              1,
              "#f0f921"
             ]
            ],
            "type": "contour"
           }
          ],
          "contourcarpet": [
           {
            "colorbar": {
             "outlinewidth": 0,
             "ticks": ""
            },
            "type": "contourcarpet"
           }
          ],
          "heatmap": [
           {
            "colorbar": {
             "outlinewidth": 0,
             "ticks": ""
            },
            "colorscale": [
             [
              0,
              "#0d0887"
             ],
             [
              0.1111111111111111,
              "#46039f"
             ],
             [
              0.2222222222222222,
              "#7201a8"
             ],
             [
              0.3333333333333333,
              "#9c179e"
             ],
             [
              0.4444444444444444,
              "#bd3786"
             ],
             [
              0.5555555555555556,
              "#d8576b"
             ],
             [
              0.6666666666666666,
              "#ed7953"
             ],
             [
              0.7777777777777778,
              "#fb9f3a"
             ],
             [
              0.8888888888888888,
              "#fdca26"
             ],
             [
              1,
              "#f0f921"
             ]
            ],
            "type": "heatmap"
           }
          ],
          "heatmapgl": [
           {
            "colorbar": {
             "outlinewidth": 0,
             "ticks": ""
            },
            "colorscale": [
             [
              0,
              "#0d0887"
             ],
             [
              0.1111111111111111,
              "#46039f"
             ],
             [
              0.2222222222222222,
              "#7201a8"
             ],
             [
              0.3333333333333333,
              "#9c179e"
             ],
             [
              0.4444444444444444,
              "#bd3786"
             ],
             [
              0.5555555555555556,
              "#d8576b"
             ],
             [
              0.6666666666666666,
              "#ed7953"
             ],
             [
              0.7777777777777778,
              "#fb9f3a"
             ],
             [
              0.8888888888888888,
              "#fdca26"
             ],
             [
              1,
              "#f0f921"
             ]
            ],
            "type": "heatmapgl"
           }
          ],
          "histogram": [
           {
            "marker": {
             "pattern": {
              "fillmode": "overlay",
              "size": 10,
              "solidity": 0.2
             }
            },
            "type": "histogram"
           }
          ],
          "histogram2d": [
           {
            "colorbar": {
             "outlinewidth": 0,
             "ticks": ""
            },
            "colorscale": [
             [
              0,
              "#0d0887"
             ],
             [
              0.1111111111111111,
              "#46039f"
             ],
             [
              0.2222222222222222,
              "#7201a8"
             ],
             [
              0.3333333333333333,
              "#9c179e"
             ],
             [
              0.4444444444444444,
              "#bd3786"
             ],
             [
              0.5555555555555556,
              "#d8576b"
             ],
             [
              0.6666666666666666,
              "#ed7953"
             ],
             [
              0.7777777777777778,
              "#fb9f3a"
             ],
             [
              0.8888888888888888,
              "#fdca26"
             ],
             [
              1,
              "#f0f921"
             ]
            ],
            "type": "histogram2d"
           }
          ],
          "histogram2dcontour": [
           {
            "colorbar": {
             "outlinewidth": 0,
             "ticks": ""
            },
            "colorscale": [
             [
              0,
              "#0d0887"
             ],
             [
              0.1111111111111111,
              "#46039f"
             ],
             [
              0.2222222222222222,
              "#7201a8"
             ],
             [
              0.3333333333333333,
              "#9c179e"
             ],
             [
              0.4444444444444444,
              "#bd3786"
             ],
             [
              0.5555555555555556,
              "#d8576b"
             ],
             [
              0.6666666666666666,
              "#ed7953"
             ],
             [
              0.7777777777777778,
              "#fb9f3a"
             ],
             [
              0.8888888888888888,
              "#fdca26"
             ],
             [
              1,
              "#f0f921"
             ]
            ],
            "type": "histogram2dcontour"
           }
          ],
          "mesh3d": [
           {
            "colorbar": {
             "outlinewidth": 0,
             "ticks": ""
            },
            "type": "mesh3d"
           }
          ],
          "parcoords": [
           {
            "line": {
             "colorbar": {
              "outlinewidth": 0,
              "ticks": ""
             }
            },
            "type": "parcoords"
           }
          ],
          "pie": [
           {
            "automargin": true,
            "type": "pie"
           }
          ],
          "scatter": [
           {
            "fillpattern": {
             "fillmode": "overlay",
             "size": 10,
             "solidity": 0.2
            },
            "type": "scatter"
           }
          ],
          "scatter3d": [
           {
            "line": {
             "colorbar": {
              "outlinewidth": 0,
              "ticks": ""
             }
            },
            "marker": {
             "colorbar": {
              "outlinewidth": 0,
              "ticks": ""
             }
            },
            "type": "scatter3d"
           }
          ],
          "scattercarpet": [
           {
            "marker": {
             "colorbar": {
              "outlinewidth": 0,
              "ticks": ""
             }
            },
            "type": "scattercarpet"
           }
          ],
          "scattergeo": [
           {
            "marker": {
             "colorbar": {
              "outlinewidth": 0,
              "ticks": ""
             }
            },
            "type": "scattergeo"
           }
          ],
          "scattergl": [
           {
            "marker": {
             "colorbar": {
              "outlinewidth": 0,
              "ticks": ""
             }
            },
            "type": "scattergl"
           }
          ],
          "scattermapbox": [
           {
            "marker": {
             "colorbar": {
              "outlinewidth": 0,
              "ticks": ""
             }
            },
            "type": "scattermapbox"
           }
          ],
          "scatterpolar": [
           {
            "marker": {
             "colorbar": {
              "outlinewidth": 0,
              "ticks": ""
             }
            },
            "type": "scatterpolar"
           }
          ],
          "scatterpolargl": [
           {
            "marker": {
             "colorbar": {
              "outlinewidth": 0,
              "ticks": ""
             }
            },
            "type": "scatterpolargl"
           }
          ],
          "scatterternary": [
           {
            "marker": {
             "colorbar": {
              "outlinewidth": 0,
              "ticks": ""
             }
            },
            "type": "scatterternary"
           }
          ],
          "surface": [
           {
            "colorbar": {
             "outlinewidth": 0,
             "ticks": ""
            },
            "colorscale": [
             [
              0,
              "#0d0887"
             ],
             [
              0.1111111111111111,
              "#46039f"
             ],
             [
              0.2222222222222222,
              "#7201a8"
             ],
             [
              0.3333333333333333,
              "#9c179e"
             ],
             [
              0.4444444444444444,
              "#bd3786"
             ],
             [
              0.5555555555555556,
              "#d8576b"
             ],
             [
              0.6666666666666666,
              "#ed7953"
             ],
             [
              0.7777777777777778,
              "#fb9f3a"
             ],
             [
              0.8888888888888888,
              "#fdca26"
             ],
             [
              1,
              "#f0f921"
             ]
            ],
            "type": "surface"
           }
          ],
          "table": [
           {
            "cells": {
             "fill": {
              "color": "#EBF0F8"
             },
             "line": {
              "color": "white"
             }
            },
            "header": {
             "fill": {
              "color": "#C8D4E3"
             },
             "line": {
              "color": "white"
             }
            },
            "type": "table"
           }
          ]
         },
         "layout": {
          "annotationdefaults": {
           "arrowcolor": "#2a3f5f",
           "arrowhead": 0,
           "arrowwidth": 1
          },
          "autotypenumbers": "strict",
          "coloraxis": {
           "colorbar": {
            "outlinewidth": 0,
            "ticks": ""
           }
          },
          "colorscale": {
           "diverging": [
            [
             0,
             "#8e0152"
            ],
            [
             0.1,
             "#c51b7d"
            ],
            [
             0.2,
             "#de77ae"
            ],
            [
             0.3,
             "#f1b6da"
            ],
            [
             0.4,
             "#fde0ef"
            ],
            [
             0.5,
             "#f7f7f7"
            ],
            [
             0.6,
             "#e6f5d0"
            ],
            [
             0.7,
             "#b8e186"
            ],
            [
             0.8,
             "#7fbc41"
            ],
            [
             0.9,
             "#4d9221"
            ],
            [
             1,
             "#276419"
            ]
           ],
           "sequential": [
            [
             0,
             "#0d0887"
            ],
            [
             0.1111111111111111,
             "#46039f"
            ],
            [
             0.2222222222222222,
             "#7201a8"
            ],
            [
             0.3333333333333333,
             "#9c179e"
            ],
            [
             0.4444444444444444,
             "#bd3786"
            ],
            [
             0.5555555555555556,
             "#d8576b"
            ],
            [
             0.6666666666666666,
             "#ed7953"
            ],
            [
             0.7777777777777778,
             "#fb9f3a"
            ],
            [
             0.8888888888888888,
             "#fdca26"
            ],
            [
             1,
             "#f0f921"
            ]
           ],
           "sequentialminus": [
            [
             0,
             "#0d0887"
            ],
            [
             0.1111111111111111,
             "#46039f"
            ],
            [
             0.2222222222222222,
             "#7201a8"
            ],
            [
             0.3333333333333333,
             "#9c179e"
            ],
            [
             0.4444444444444444,
             "#bd3786"
            ],
            [
             0.5555555555555556,
             "#d8576b"
            ],
            [
             0.6666666666666666,
             "#ed7953"
            ],
            [
             0.7777777777777778,
             "#fb9f3a"
            ],
            [
             0.8888888888888888,
             "#fdca26"
            ],
            [
             1,
             "#f0f921"
            ]
           ]
          },
          "colorway": [
           "#636efa",
           "#EF553B",
           "#00cc96",
           "#ab63fa",
           "#FFA15A",
           "#19d3f3",
           "#FF6692",
           "#B6E880",
           "#FF97FF",
           "#FECB52"
          ],
          "font": {
           "color": "#2a3f5f"
          },
          "geo": {
           "bgcolor": "white",
           "lakecolor": "white",
           "landcolor": "#E5ECF6",
           "showlakes": true,
           "showland": true,
           "subunitcolor": "white"
          },
          "hoverlabel": {
           "align": "left"
          },
          "hovermode": "closest",
          "mapbox": {
           "style": "light"
          },
          "paper_bgcolor": "white",
          "plot_bgcolor": "#E5ECF6",
          "polar": {
           "angularaxis": {
            "gridcolor": "white",
            "linecolor": "white",
            "ticks": ""
           },
           "bgcolor": "#E5ECF6",
           "radialaxis": {
            "gridcolor": "white",
            "linecolor": "white",
            "ticks": ""
           }
          },
          "scene": {
           "xaxis": {
            "backgroundcolor": "#E5ECF6",
            "gridcolor": "white",
            "gridwidth": 2,
            "linecolor": "white",
            "showbackground": true,
            "ticks": "",
            "zerolinecolor": "white"
           },
           "yaxis": {
            "backgroundcolor": "#E5ECF6",
            "gridcolor": "white",
            "gridwidth": 2,
            "linecolor": "white",
            "showbackground": true,
            "ticks": "",
            "zerolinecolor": "white"
           },
           "zaxis": {
            "backgroundcolor": "#E5ECF6",
            "gridcolor": "white",
            "gridwidth": 2,
            "linecolor": "white",
            "showbackground": true,
            "ticks": "",
            "zerolinecolor": "white"
           }
          },
          "shapedefaults": {
           "line": {
            "color": "#2a3f5f"
           }
          },
          "ternary": {
           "aaxis": {
            "gridcolor": "white",
            "linecolor": "white",
            "ticks": ""
           },
           "baxis": {
            "gridcolor": "white",
            "linecolor": "white",
            "ticks": ""
           },
           "bgcolor": "#E5ECF6",
           "caxis": {
            "gridcolor": "white",
            "linecolor": "white",
            "ticks": ""
           }
          },
          "title": {
           "x": 0.05
          },
          "xaxis": {
           "automargin": true,
           "gridcolor": "white",
           "linecolor": "white",
           "ticks": "",
           "title": {
            "standoff": 15
           },
           "zerolinecolor": "white",
           "zerolinewidth": 2
          },
          "yaxis": {
           "automargin": true,
           "gridcolor": "white",
           "linecolor": "white",
           "ticks": "",
           "title": {
            "standoff": 15
           },
           "zerolinecolor": "white",
           "zerolinewidth": 2
          }
         }
        },
        "title": {
         "font": {
          "color": "#a5a7ab",
          "family": "Muli, sans-serif",
          "size": 25
         },
         "text": "Customers Credit History"
        },
        "xaxis": {
         "anchor": "y",
         "categoryorder": "total descending",
         "domain": [
          0,
          1
         ],
         "title": {
          "text": " Credit History "
         }
        },
        "yaxis": {
         "anchor": "x",
         "domain": [
          0,
          1
         ],
         "title": {
          "text": " Counts "
         }
        }
       }
      }
     },
     "metadata": {},
     "output_type": "display_data"
    }
   ],
   "source": [
    "dc = px.histogram(data, x='credit_history',\n",
    "                         title='Customers Credit History', height=450,\n",
    "                         color_discrete_sequence=['#03DAC5'],\n",
    "                         )\n",
    "dc.update_xaxes(categoryorder='total descending')\n",
    "\n",
    "dc.update_layout(margin=dict(t=70, b=10, l=70, r=40),\n",
    "                        # hovermode=\"x unified\",\n",
    "                        # xaxis_tickangle=360,\n",
    "                        xaxis_title=' Credit History ', yaxis_title=\" Counts \",\n",
    "                        plot_bgcolor='#2d3035', paper_bgcolor='#2d3035',\n",
    "                        title_font=dict(size=25, color='#a5a7ab', family=\"Muli, sans-serif\"),\n",
    "                        font=dict(color='#8a8d93'),\n",
    "                        legend=dict(orientation=\"h\", yanchor=\"bottom\", y=1.02, xanchor=\"right\", x=1))\n",
    "dc"
   ]
  },
  {
   "cell_type": "markdown",
   "metadata": {},
   "source": [
    "Here we see that most of the customers have loans that are paid <br>\n",
    "Lesser than a 100 has previously delayed loan <br>\n",
    "Very few has all their loans paid <br>\n",
    "Less than 50 has no credits at all"
   ]
  },
  {
   "cell_type": "code",
   "execution_count": 67,
   "metadata": {},
   "outputs": [
    {
     "data": {
      "application/vnd.plotly.v1+json": {
       "config": {
        "plotlyServerURL": "https://plot.ly"
       },
       "data": [
        {
         "alignmentgroup": "True",
         "bingroup": "x",
         "hovertemplate": "purpose=%{x}<br>count=%{y}<extra></extra>",
         "legendgroup": "",
         "marker": {
          "color": "#03DAC5",
          "pattern": {
           "shape": ""
          }
         },
         "name": "",
         "offsetgroup": "",
         "orientation": "v",
         "showlegend": false,
         "type": "histogram",
         "x": [
          "radio/tv",
          "radio/tv",
          "education",
          "furniture/equipment",
          "new car",
          "education",
          "furniture/equipment",
          "used car",
          "radio/tv",
          "new car",
          "new car",
          "business",
          "radio/tv",
          "new car",
          "new car",
          "radio/tv",
          "radio/tv",
          "business",
          "used car",
          "radio/tv",
          "new car",
          "radio/tv",
          "new car",
          "used car",
          "furniture/equipment",
          "furniture/equipment",
          "radio/tv",
          "radio/tv",
          "radio/tv",
          "business",
          "business",
          "furniture/equipment",
          "new car",
          "business",
          "furniture/equipment",
          "radio/tv",
          "education",
          "radio/tv",
          "domestic appliance",
          "radio/tv",
          "radio/tv",
          "radio/tv",
          "repairs",
          "used car",
          "used car",
          "new car",
          "radio/tv",
          "used car",
          "new car",
          "radio/tv",
          "furniture/equipment",
          "used car",
          "radio/tv",
          "used car",
          "new car",
          "new car",
          "radio/tv",
          "radio/tv",
          "new car",
          "furniture/equipment",
          "business",
          "radio/tv",
          "business",
          "business",
          "radio/tv",
          "repairs",
          "radio/tv",
          "new car",
          "education",
          "radio/tv",
          "used car",
          "radio/tv",
          "other",
          "business",
          "education",
          "used car",
          "radio/tv",
          "radio/tv",
          "used car",
          "furniture/equipment",
          "radio/tv",
          "radio/tv",
          "business",
          "other",
          "radio/tv",
          "business",
          "furniture/equipment",
          "education",
          "new car",
          "repairs",
          "radio/tv",
          "used car",
          "radio/tv",
          "furniture/equipment",
          "new car",
          "business",
          "education",
          "business",
          "radio/tv",
          "used car",
          "new car",
          "radio/tv",
          "radio/tv",
          "furniture/equipment",
          "used car",
          "other",
          "new car",
          "new car",
          "furniture/equipment",
          "business",
          "business",
          "education",
          "new car",
          "new car",
          "radio/tv",
          "radio/tv",
          "radio/tv",
          "furniture/equipment",
          "furniture/equipment",
          "new car",
          "radio/tv",
          "used car",
          "furniture/equipment",
          "new car",
          "furniture/equipment",
          "new car",
          "radio/tv",
          "repairs",
          "used car",
          "new car",
          "new car",
          "education",
          "furniture/equipment",
          "furniture/equipment",
          "radio/tv",
          "radio/tv",
          "used car",
          "radio/tv",
          "radio/tv",
          "radio/tv",
          "new car",
          "radio/tv",
          "radio/tv",
          "furniture/equipment",
          "furniture/equipment",
          "business",
          "new car",
          "new car",
          "furniture/equipment",
          "radio/tv",
          "radio/tv",
          "radio/tv",
          "radio/tv",
          "used car",
          "business",
          "furniture/equipment",
          "repairs",
          "retraining",
          "new car",
          "radio/tv",
          "radio/tv",
          "new car",
          "domestic appliance",
          "new car",
          "new car",
          "furniture/equipment",
          "furniture/equipment",
          "furniture/equipment",
          "furniture/equipment",
          "business",
          "new car",
          "furniture/equipment",
          "furniture/equipment",
          "radio/tv",
          "education",
          "used car",
          "furniture/equipment",
          "radio/tv",
          "radio/tv",
          "new car",
          "business",
          "business",
          "new car",
          "furniture/equipment",
          "new car",
          "radio/tv",
          "used car",
          "new car",
          "radio/tv",
          "furniture/equipment",
          "business",
          "business",
          "business",
          "radio/tv",
          "radio/tv",
          "education",
          "radio/tv",
          "furniture/equipment",
          "used car",
          "furniture/equipment",
          "education",
          "new car",
          "business",
          "retraining",
          "new car",
          "used car",
          "furniture/equipment",
          "domestic appliance",
          "business",
          "used car",
          "radio/tv",
          "radio/tv",
          "business",
          "business",
          "radio/tv",
          "retraining",
          "business",
          "radio/tv",
          "furniture/equipment",
          "new car",
          "radio/tv",
          "education",
          "radio/tv",
          "business",
          "used car",
          "repairs",
          "radio/tv",
          "furniture/equipment",
          "radio/tv",
          "furniture/equipment",
          "radio/tv",
          "new car",
          "radio/tv",
          "radio/tv",
          "radio/tv",
          "radio/tv",
          "new car",
          "business",
          "radio/tv",
          "radio/tv",
          "new car",
          "radio/tv",
          "used car",
          "business",
          "retraining",
          "business",
          "radio/tv",
          "new car",
          "furniture/equipment",
          "radio/tv",
          "new car",
          "furniture/equipment",
          "new car",
          "furniture/equipment",
          "furniture/equipment",
          "radio/tv",
          "radio/tv",
          "radio/tv",
          "used car",
          "radio/tv",
          "furniture/equipment",
          "radio/tv",
          "new car",
          "education",
          "new car",
          "radio/tv",
          "business",
          "radio/tv",
          "new car",
          "radio/tv",
          "new car",
          "furniture/equipment",
          "new car",
          "radio/tv",
          "repairs",
          "radio/tv",
          "radio/tv",
          "furniture/equipment",
          "furniture/equipment",
          "radio/tv",
          "used car",
          "furniture/equipment",
          "radio/tv",
          "furniture/equipment",
          "new car",
          "new car",
          "used car",
          "other",
          "radio/tv",
          "radio/tv",
          "business",
          "used car",
          "used car",
          "used car",
          "business",
          "furniture/equipment",
          "used car",
          "new car",
          "furniture/equipment",
          "furniture/equipment",
          "new car",
          "radio/tv",
          "new car",
          "new car",
          "new car",
          "furniture/equipment",
          "used car",
          "radio/tv",
          "furniture/equipment",
          "new car",
          "other",
          "furniture/equipment",
          "furniture/equipment",
          "new car",
          "new car",
          "furniture/equipment",
          "furniture/equipment",
          "furniture/equipment",
          "education",
          "furniture/equipment",
          "new car",
          "radio/tv",
          "used car",
          "furniture/equipment",
          "new car",
          "new car",
          "furniture/equipment",
          "new car",
          "radio/tv",
          "radio/tv",
          "used car",
          "education",
          "new car",
          "used car",
          "furniture/equipment",
          "furniture/equipment",
          "radio/tv",
          "domestic appliance",
          "furniture/equipment",
          "furniture/equipment",
          "education",
          "furniture/equipment",
          "radio/tv",
          "business",
          "new car",
          "radio/tv",
          "radio/tv",
          "radio/tv",
          "business",
          "education",
          "domestic appliance",
          "furniture/equipment",
          "used car",
          "radio/tv",
          "education",
          "new car",
          "radio/tv",
          "radio/tv",
          "radio/tv",
          "furniture/equipment",
          "education",
          "radio/tv",
          "new car",
          "furniture/equipment",
          "furniture/equipment",
          "business",
          "used car",
          "furniture/equipment",
          "furniture/equipment",
          "furniture/equipment",
          "new car",
          "radio/tv",
          "furniture/equipment",
          "new car",
          "other",
          "business",
          "radio/tv",
          "radio/tv",
          "new car",
          "new car",
          "furniture/equipment",
          "used car",
          "new car",
          "new car",
          "business",
          "radio/tv",
          "radio/tv",
          "furniture/equipment",
          "business",
          "business",
          "new car",
          "furniture/equipment",
          "new car",
          "radio/tv",
          "furniture/equipment",
          "education",
          "furniture/equipment",
          "furniture/equipment",
          "new car",
          "radio/tv",
          "radio/tv",
          "business",
          "business",
          "new car",
          "new car",
          "radio/tv",
          "used car",
          "radio/tv",
          "radio/tv",
          "new car",
          "radio/tv",
          "used car",
          "business",
          "new car",
          "new car",
          "used car",
          "new car",
          "education",
          "new car",
          "new car",
          "new car",
          "used car",
          "new car",
          "furniture/equipment",
          "furniture/equipment",
          "used car",
          "radio/tv",
          "radio/tv",
          "furniture/equipment",
          "repairs",
          "business",
          "other",
          "furniture/equipment",
          "repairs",
          "furniture/equipment",
          "radio/tv",
          "repairs",
          "new car",
          "repairs",
          "business",
          "new car",
          "furniture/equipment",
          "other",
          "education",
          "furniture/equipment",
          "education",
          "new car",
          "radio/tv",
          "furniture/equipment",
          "repairs",
          "used car",
          "radio/tv",
          "furniture/equipment",
          "used car",
          "new car",
          "used car",
          "new car",
          "used car",
          "domestic appliance",
          "radio/tv",
          "furniture/equipment",
          "new car",
          "furniture/equipment",
          "retraining",
          "business",
          "used car",
          "radio/tv",
          "radio/tv",
          "business",
          "used car",
          "radio/tv",
          "education",
          "new car",
          "retraining",
          "radio/tv",
          "furniture/equipment",
          "used car",
          "radio/tv",
          "business",
          "furniture/equipment",
          "radio/tv",
          "new car",
          "furniture/equipment",
          "furniture/equipment",
          "new car",
          "new car",
          "radio/tv",
          "new car",
          "new car",
          "new car",
          "radio/tv",
          "business",
          "radio/tv",
          "radio/tv",
          "new car",
          "furniture/equipment",
          "furniture/equipment",
          "furniture/equipment",
          "radio/tv",
          "new car",
          "new car",
          "used car",
          "radio/tv",
          "radio/tv",
          "new car",
          "new car",
          "used car",
          "new car",
          "radio/tv",
          "used car",
          "new car",
          "used car",
          "business",
          "radio/tv",
          "new car",
          "new car",
          "new car",
          "furniture/equipment",
          "new car",
          "radio/tv",
          "repairs",
          "radio/tv",
          "furniture/equipment",
          "used car",
          "radio/tv",
          "used car",
          "education",
          "radio/tv",
          "radio/tv",
          "new car",
          "education",
          "new car",
          "used car",
          "radio/tv",
          "radio/tv",
          "education",
          "new car",
          "furniture/equipment",
          "new car",
          "furniture/equipment",
          "radio/tv",
          "new car",
          "furniture/equipment",
          "furniture/equipment",
          "new car",
          "new car",
          "new car",
          "radio/tv",
          "radio/tv",
          "used car",
          "repairs",
          "radio/tv",
          "radio/tv",
          "new car",
          "education",
          "radio/tv",
          "new car",
          "new car",
          "furniture/equipment",
          "furniture/equipment",
          "used car",
          "radio/tv",
          "radio/tv",
          "new car",
          "business",
          "radio/tv",
          "new car",
          "radio/tv",
          "radio/tv",
          "radio/tv",
          "furniture/equipment",
          "radio/tv",
          "used car",
          "business",
          "radio/tv",
          "furniture/equipment",
          "radio/tv",
          "education",
          "new car",
          "retraining",
          "new car",
          "new car",
          "furniture/equipment",
          "repairs",
          "new car",
          "furniture/equipment",
          "new car",
          "furniture/equipment",
          "domestic appliance",
          "furniture/equipment",
          "radio/tv",
          "new car",
          "business",
          "new car",
          "other",
          "new car",
          "new car",
          "business",
          "new car",
          "business",
          "radio/tv",
          "furniture/equipment",
          "education",
          "furniture/equipment",
          "furniture/equipment",
          "furniture/equipment",
          "business",
          "radio/tv",
          "radio/tv",
          "used car",
          "domestic appliance",
          "new car",
          "radio/tv",
          "used car",
          "furniture/equipment",
          "business",
          "radio/tv",
          "new car",
          "furniture/equipment",
          "new car",
          "business",
          "new car",
          "business",
          "furniture/equipment",
          "radio/tv",
          "radio/tv",
          "furniture/equipment",
          "new car",
          "furniture/equipment",
          "education",
          "radio/tv",
          "furniture/equipment",
          "radio/tv",
          "furniture/equipment",
          "new car",
          "education",
          "radio/tv",
          "radio/tv",
          "radio/tv",
          "radio/tv",
          "education",
          "repairs",
          "education",
          "radio/tv",
          "radio/tv",
          "business",
          "furniture/equipment",
          "new car",
          "new car",
          "education",
          "education",
          "furniture/equipment",
          "new car",
          "new car",
          "used car",
          "new car",
          "new car",
          "radio/tv",
          "business",
          "furniture/equipment",
          "radio/tv",
          "new car",
          "furniture/equipment",
          "furniture/equipment",
          "education",
          "other",
          "furniture/equipment",
          "business",
          "new car",
          "radio/tv",
          "business",
          "business",
          "new car",
          "new car",
          "business",
          "radio/tv",
          "furniture/equipment",
          "radio/tv",
          "radio/tv",
          "radio/tv",
          "education",
          "radio/tv",
          "radio/tv",
          "radio/tv",
          "business",
          "new car",
          "radio/tv",
          "new car",
          "radio/tv",
          "new car",
          "furniture/equipment",
          "repairs",
          "radio/tv",
          "new car",
          "radio/tv",
          "used car",
          "radio/tv",
          "new car",
          "radio/tv",
          "education",
          "furniture/equipment",
          "used car",
          "radio/tv",
          "business",
          "business",
          "new car",
          "new car",
          "furniture/equipment",
          "radio/tv",
          "radio/tv",
          "radio/tv",
          "education",
          "used car",
          "radio/tv",
          "new car",
          "used car",
          "radio/tv",
          "radio/tv",
          "radio/tv",
          "used car",
          "radio/tv",
          "education",
          "new car",
          "radio/tv",
          "new car",
          "new car",
          "radio/tv",
          "radio/tv",
          "business",
          "business",
          "radio/tv",
          "radio/tv",
          "radio/tv",
          "used car",
          "new car",
          "domestic appliance",
          "used car",
          "new car",
          "new car",
          "business",
          "new car",
          "radio/tv",
          "radio/tv",
          "furniture/equipment",
          "furniture/equipment",
          "business",
          "new car",
          "new car",
          "used car",
          "used car",
          "furniture/equipment",
          "new car",
          "business",
          "radio/tv",
          "repairs",
          "new car",
          "new car",
          "radio/tv",
          "new car",
          "new car",
          "new car",
          "furniture/equipment",
          "radio/tv",
          "new car",
          "new car",
          "radio/tv",
          "furniture/equipment",
          "used car",
          "furniture/equipment",
          "radio/tv",
          "used car",
          "education",
          "used car",
          "radio/tv",
          "new car",
          "new car",
          "new car",
          "radio/tv",
          "used car",
          "repairs",
          "radio/tv",
          "new car",
          "retraining",
          "new car",
          "used car",
          "business",
          "radio/tv",
          "used car",
          "education",
          "education",
          "business",
          "used car",
          "furniture/equipment",
          "furniture/equipment",
          "furniture/equipment",
          "furniture/equipment",
          "used car",
          "furniture/equipment",
          "new car",
          "new car",
          "education",
          "radio/tv",
          "furniture/equipment",
          "radio/tv",
          "new car",
          "new car",
          "radio/tv",
          "radio/tv",
          "used car",
          "new car",
          "business",
          "radio/tv",
          "used car",
          "domestic appliance",
          "new car",
          "new car",
          "domestic appliance",
          "radio/tv",
          "other",
          "radio/tv",
          "new car",
          "radio/tv",
          "furniture/equipment",
          "new car",
          "furniture/equipment",
          "new car",
          "new car",
          "business",
          "used car",
          "business",
          "business",
          "new car",
          "business",
          "radio/tv",
          "radio/tv",
          "new car",
          "radio/tv",
          "furniture/equipment",
          "used car",
          "radio/tv",
          "furniture/equipment",
          "used car",
          "repairs",
          "business",
          "furniture/equipment",
          "furniture/equipment",
          "new car",
          "new car",
          "radio/tv",
          "radio/tv",
          "new car",
          "used car",
          "radio/tv",
          "new car",
          "new car",
          "new car",
          "retraining",
          "furniture/equipment",
          "new car",
          "new car",
          "used car",
          "business",
          "radio/tv",
          "furniture/equipment",
          "furniture/equipment",
          "furniture/equipment",
          "radio/tv",
          "furniture/equipment",
          "business",
          "furniture/equipment",
          "furniture/equipment",
          "new car",
          "business",
          "domestic appliance",
          "furniture/equipment",
          "new car",
          "radio/tv",
          "radio/tv",
          "new car",
          "radio/tv",
          "used car",
          "used car",
          "new car",
          "radio/tv",
          "furniture/equipment",
          "education",
          "business",
          "business",
          "new car",
          "used car",
          "business",
          "radio/tv",
          "new car",
          "used car",
          "radio/tv",
          "used car",
          "radio/tv",
          "furniture/equipment",
          "furniture/equipment",
          "furniture/equipment",
          "new car",
          "new car",
          "used car",
          "radio/tv",
          "radio/tv",
          "radio/tv",
          "new car",
          "education",
          "used car",
          "new car",
          "radio/tv",
          "furniture/equipment",
          "radio/tv",
          "business",
          "business",
          "other",
          "used car",
          "new car",
          "furniture/equipment",
          "furniture/equipment",
          "furniture/equipment",
          "radio/tv",
          "radio/tv",
          "new car",
          "furniture/equipment",
          "new car",
          "furniture/equipment",
          "used car",
          "radio/tv",
          "new car",
          "furniture/equipment",
          "radio/tv",
          "new car",
          "radio/tv",
          "radio/tv",
          "radio/tv",
          "radio/tv",
          "radio/tv",
          "education",
          "used car",
          "new car",
          "new car",
          "furniture/equipment",
          "new car",
          "furniture/equipment",
          "new car",
          "furniture/equipment",
          "new car",
          "furniture/equipment",
          "radio/tv",
          "business",
          "business",
          "used car",
          "furniture/equipment",
          "new car",
          "radio/tv",
          "radio/tv",
          "radio/tv",
          "new car",
          "furniture/equipment",
          "radio/tv",
          "new car",
          "new car",
          "radio/tv",
          "repairs",
          "radio/tv",
          "radio/tv",
          "radio/tv",
          "radio/tv",
          "new car",
          "repairs",
          "new car",
          "new car",
          "business",
          "radio/tv",
          "radio/tv",
          "radio/tv",
          "business",
          "new car",
          "new car",
          "furniture/equipment",
          "business",
          "new car",
          "used car",
          "furniture/equipment",
          "furniture/equipment",
          "business",
          "radio/tv",
          "used car",
          "radio/tv",
          "education",
          "radio/tv",
          "radio/tv",
          "furniture/equipment",
          "new car",
          "furniture/equipment",
          "used car",
          "radio/tv",
          "radio/tv",
          "used car"
         ],
         "xaxis": "x",
         "yaxis": "y"
        }
       ],
       "layout": {
        "barmode": "relative",
        "font": {
         "color": "#8a8d93"
        },
        "height": 400,
        "hovermode": "x unified",
        "legend": {
         "orientation": "h",
         "tracegroupgap": 0,
         "x": 1,
         "xanchor": "right",
         "y": 1.02,
         "yanchor": "bottom"
        },
        "margin": {
         "b": 10,
         "l": 70,
         "r": 40,
         "t": 70
        },
        "paper_bgcolor": "#2d3035",
        "plot_bgcolor": "#2d3035",
        "template": {
         "data": {
          "bar": [
           {
            "error_x": {
             "color": "#2a3f5f"
            },
            "error_y": {
             "color": "#2a3f5f"
            },
            "marker": {
             "line": {
              "color": "#E5ECF6",
              "width": 0.5
             },
             "pattern": {
              "fillmode": "overlay",
              "size": 10,
              "solidity": 0.2
             }
            },
            "type": "bar"
           }
          ],
          "barpolar": [
           {
            "marker": {
             "line": {
              "color": "#E5ECF6",
              "width": 0.5
             },
             "pattern": {
              "fillmode": "overlay",
              "size": 10,
              "solidity": 0.2
             }
            },
            "type": "barpolar"
           }
          ],
          "carpet": [
           {
            "aaxis": {
             "endlinecolor": "#2a3f5f",
             "gridcolor": "white",
             "linecolor": "white",
             "minorgridcolor": "white",
             "startlinecolor": "#2a3f5f"
            },
            "baxis": {
             "endlinecolor": "#2a3f5f",
             "gridcolor": "white",
             "linecolor": "white",
             "minorgridcolor": "white",
             "startlinecolor": "#2a3f5f"
            },
            "type": "carpet"
           }
          ],
          "choropleth": [
           {
            "colorbar": {
             "outlinewidth": 0,
             "ticks": ""
            },
            "type": "choropleth"
           }
          ],
          "contour": [
           {
            "colorbar": {
             "outlinewidth": 0,
             "ticks": ""
            },
            "colorscale": [
             [
              0,
              "#0d0887"
             ],
             [
              0.1111111111111111,
              "#46039f"
             ],
             [
              0.2222222222222222,
              "#7201a8"
             ],
             [
              0.3333333333333333,
              "#9c179e"
             ],
             [
              0.4444444444444444,
              "#bd3786"
             ],
             [
              0.5555555555555556,
              "#d8576b"
             ],
             [
              0.6666666666666666,
              "#ed7953"
             ],
             [
              0.7777777777777778,
              "#fb9f3a"
             ],
             [
              0.8888888888888888,
              "#fdca26"
             ],
             [
              1,
              "#f0f921"
             ]
            ],
            "type": "contour"
           }
          ],
          "contourcarpet": [
           {
            "colorbar": {
             "outlinewidth": 0,
             "ticks": ""
            },
            "type": "contourcarpet"
           }
          ],
          "heatmap": [
           {
            "colorbar": {
             "outlinewidth": 0,
             "ticks": ""
            },
            "colorscale": [
             [
              0,
              "#0d0887"
             ],
             [
              0.1111111111111111,
              "#46039f"
             ],
             [
              0.2222222222222222,
              "#7201a8"
             ],
             [
              0.3333333333333333,
              "#9c179e"
             ],
             [
              0.4444444444444444,
              "#bd3786"
             ],
             [
              0.5555555555555556,
              "#d8576b"
             ],
             [
              0.6666666666666666,
              "#ed7953"
             ],
             [
              0.7777777777777778,
              "#fb9f3a"
             ],
             [
              0.8888888888888888,
              "#fdca26"
             ],
             [
              1,
              "#f0f921"
             ]
            ],
            "type": "heatmap"
           }
          ],
          "heatmapgl": [
           {
            "colorbar": {
             "outlinewidth": 0,
             "ticks": ""
            },
            "colorscale": [
             [
              0,
              "#0d0887"
             ],
             [
              0.1111111111111111,
              "#46039f"
             ],
             [
              0.2222222222222222,
              "#7201a8"
             ],
             [
              0.3333333333333333,
              "#9c179e"
             ],
             [
              0.4444444444444444,
              "#bd3786"
             ],
             [
              0.5555555555555556,
              "#d8576b"
             ],
             [
              0.6666666666666666,
              "#ed7953"
             ],
             [
              0.7777777777777778,
              "#fb9f3a"
             ],
             [
              0.8888888888888888,
              "#fdca26"
             ],
             [
              1,
              "#f0f921"
             ]
            ],
            "type": "heatmapgl"
           }
          ],
          "histogram": [
           {
            "marker": {
             "pattern": {
              "fillmode": "overlay",
              "size": 10,
              "solidity": 0.2
             }
            },
            "type": "histogram"
           }
          ],
          "histogram2d": [
           {
            "colorbar": {
             "outlinewidth": 0,
             "ticks": ""
            },
            "colorscale": [
             [
              0,
              "#0d0887"
             ],
             [
              0.1111111111111111,
              "#46039f"
             ],
             [
              0.2222222222222222,
              "#7201a8"
             ],
             [
              0.3333333333333333,
              "#9c179e"
             ],
             [
              0.4444444444444444,
              "#bd3786"
             ],
             [
              0.5555555555555556,
              "#d8576b"
             ],
             [
              0.6666666666666666,
              "#ed7953"
             ],
             [
              0.7777777777777778,
              "#fb9f3a"
             ],
             [
              0.8888888888888888,
              "#fdca26"
             ],
             [
              1,
              "#f0f921"
             ]
            ],
            "type": "histogram2d"
           }
          ],
          "histogram2dcontour": [
           {
            "colorbar": {
             "outlinewidth": 0,
             "ticks": ""
            },
            "colorscale": [
             [
              0,
              "#0d0887"
             ],
             [
              0.1111111111111111,
              "#46039f"
             ],
             [
              0.2222222222222222,
              "#7201a8"
             ],
             [
              0.3333333333333333,
              "#9c179e"
             ],
             [
              0.4444444444444444,
              "#bd3786"
             ],
             [
              0.5555555555555556,
              "#d8576b"
             ],
             [
              0.6666666666666666,
              "#ed7953"
             ],
             [
              0.7777777777777778,
              "#fb9f3a"
             ],
             [
              0.8888888888888888,
              "#fdca26"
             ],
             [
              1,
              "#f0f921"
             ]
            ],
            "type": "histogram2dcontour"
           }
          ],
          "mesh3d": [
           {
            "colorbar": {
             "outlinewidth": 0,
             "ticks": ""
            },
            "type": "mesh3d"
           }
          ],
          "parcoords": [
           {
            "line": {
             "colorbar": {
              "outlinewidth": 0,
              "ticks": ""
             }
            },
            "type": "parcoords"
           }
          ],
          "pie": [
           {
            "automargin": true,
            "type": "pie"
           }
          ],
          "scatter": [
           {
            "fillpattern": {
             "fillmode": "overlay",
             "size": 10,
             "solidity": 0.2
            },
            "type": "scatter"
           }
          ],
          "scatter3d": [
           {
            "line": {
             "colorbar": {
              "outlinewidth": 0,
              "ticks": ""
             }
            },
            "marker": {
             "colorbar": {
              "outlinewidth": 0,
              "ticks": ""
             }
            },
            "type": "scatter3d"
           }
          ],
          "scattercarpet": [
           {
            "marker": {
             "colorbar": {
              "outlinewidth": 0,
              "ticks": ""
             }
            },
            "type": "scattercarpet"
           }
          ],
          "scattergeo": [
           {
            "marker": {
             "colorbar": {
              "outlinewidth": 0,
              "ticks": ""
             }
            },
            "type": "scattergeo"
           }
          ],
          "scattergl": [
           {
            "marker": {
             "colorbar": {
              "outlinewidth": 0,
              "ticks": ""
             }
            },
            "type": "scattergl"
           }
          ],
          "scattermapbox": [
           {
            "marker": {
             "colorbar": {
              "outlinewidth": 0,
              "ticks": ""
             }
            },
            "type": "scattermapbox"
           }
          ],
          "scatterpolar": [
           {
            "marker": {
             "colorbar": {
              "outlinewidth": 0,
              "ticks": ""
             }
            },
            "type": "scatterpolar"
           }
          ],
          "scatterpolargl": [
           {
            "marker": {
             "colorbar": {
              "outlinewidth": 0,
              "ticks": ""
             }
            },
            "type": "scatterpolargl"
           }
          ],
          "scatterternary": [
           {
            "marker": {
             "colorbar": {
              "outlinewidth": 0,
              "ticks": ""
             }
            },
            "type": "scatterternary"
           }
          ],
          "surface": [
           {
            "colorbar": {
             "outlinewidth": 0,
             "ticks": ""
            },
            "colorscale": [
             [
              0,
              "#0d0887"
             ],
             [
              0.1111111111111111,
              "#46039f"
             ],
             [
              0.2222222222222222,
              "#7201a8"
             ],
             [
              0.3333333333333333,
              "#9c179e"
             ],
             [
              0.4444444444444444,
              "#bd3786"
             ],
             [
              0.5555555555555556,
              "#d8576b"
             ],
             [
              0.6666666666666666,
              "#ed7953"
             ],
             [
              0.7777777777777778,
              "#fb9f3a"
             ],
             [
              0.8888888888888888,
              "#fdca26"
             ],
             [
              1,
              "#f0f921"
             ]
            ],
            "type": "surface"
           }
          ],
          "table": [
           {
            "cells": {
             "fill": {
              "color": "#EBF0F8"
             },
             "line": {
              "color": "white"
             }
            },
            "header": {
             "fill": {
              "color": "#C8D4E3"
             },
             "line": {
              "color": "white"
             }
            },
            "type": "table"
           }
          ]
         },
         "layout": {
          "annotationdefaults": {
           "arrowcolor": "#2a3f5f",
           "arrowhead": 0,
           "arrowwidth": 1
          },
          "autotypenumbers": "strict",
          "coloraxis": {
           "colorbar": {
            "outlinewidth": 0,
            "ticks": ""
           }
          },
          "colorscale": {
           "diverging": [
            [
             0,
             "#8e0152"
            ],
            [
             0.1,
             "#c51b7d"
            ],
            [
             0.2,
             "#de77ae"
            ],
            [
             0.3,
             "#f1b6da"
            ],
            [
             0.4,
             "#fde0ef"
            ],
            [
             0.5,
             "#f7f7f7"
            ],
            [
             0.6,
             "#e6f5d0"
            ],
            [
             0.7,
             "#b8e186"
            ],
            [
             0.8,
             "#7fbc41"
            ],
            [
             0.9,
             "#4d9221"
            ],
            [
             1,
             "#276419"
            ]
           ],
           "sequential": [
            [
             0,
             "#0d0887"
            ],
            [
             0.1111111111111111,
             "#46039f"
            ],
            [
             0.2222222222222222,
             "#7201a8"
            ],
            [
             0.3333333333333333,
             "#9c179e"
            ],
            [
             0.4444444444444444,
             "#bd3786"
            ],
            [
             0.5555555555555556,
             "#d8576b"
            ],
            [
             0.6666666666666666,
             "#ed7953"
            ],
            [
             0.7777777777777778,
             "#fb9f3a"
            ],
            [
             0.8888888888888888,
             "#fdca26"
            ],
            [
             1,
             "#f0f921"
            ]
           ],
           "sequentialminus": [
            [
             0,
             "#0d0887"
            ],
            [
             0.1111111111111111,
             "#46039f"
            ],
            [
             0.2222222222222222,
             "#7201a8"
            ],
            [
             0.3333333333333333,
             "#9c179e"
            ],
            [
             0.4444444444444444,
             "#bd3786"
            ],
            [
             0.5555555555555556,
             "#d8576b"
            ],
            [
             0.6666666666666666,
             "#ed7953"
            ],
            [
             0.7777777777777778,
             "#fb9f3a"
            ],
            [
             0.8888888888888888,
             "#fdca26"
            ],
            [
             1,
             "#f0f921"
            ]
           ]
          },
          "colorway": [
           "#636efa",
           "#EF553B",
           "#00cc96",
           "#ab63fa",
           "#FFA15A",
           "#19d3f3",
           "#FF6692",
           "#B6E880",
           "#FF97FF",
           "#FECB52"
          ],
          "font": {
           "color": "#2a3f5f"
          },
          "geo": {
           "bgcolor": "white",
           "lakecolor": "white",
           "landcolor": "#E5ECF6",
           "showlakes": true,
           "showland": true,
           "subunitcolor": "white"
          },
          "hoverlabel": {
           "align": "left"
          },
          "hovermode": "closest",
          "mapbox": {
           "style": "light"
          },
          "paper_bgcolor": "white",
          "plot_bgcolor": "#E5ECF6",
          "polar": {
           "angularaxis": {
            "gridcolor": "white",
            "linecolor": "white",
            "ticks": ""
           },
           "bgcolor": "#E5ECF6",
           "radialaxis": {
            "gridcolor": "white",
            "linecolor": "white",
            "ticks": ""
           }
          },
          "scene": {
           "xaxis": {
            "backgroundcolor": "#E5ECF6",
            "gridcolor": "white",
            "gridwidth": 2,
            "linecolor": "white",
            "showbackground": true,
            "ticks": "",
            "zerolinecolor": "white"
           },
           "yaxis": {
            "backgroundcolor": "#E5ECF6",
            "gridcolor": "white",
            "gridwidth": 2,
            "linecolor": "white",
            "showbackground": true,
            "ticks": "",
            "zerolinecolor": "white"
           },
           "zaxis": {
            "backgroundcolor": "#E5ECF6",
            "gridcolor": "white",
            "gridwidth": 2,
            "linecolor": "white",
            "showbackground": true,
            "ticks": "",
            "zerolinecolor": "white"
           }
          },
          "shapedefaults": {
           "line": {
            "color": "#2a3f5f"
           }
          },
          "ternary": {
           "aaxis": {
            "gridcolor": "white",
            "linecolor": "white",
            "ticks": ""
           },
           "baxis": {
            "gridcolor": "white",
            "linecolor": "white",
            "ticks": ""
           },
           "bgcolor": "#E5ECF6",
           "caxis": {
            "gridcolor": "white",
            "linecolor": "white",
            "ticks": ""
           }
          },
          "title": {
           "x": 0.05
          },
          "xaxis": {
           "automargin": true,
           "gridcolor": "white",
           "linecolor": "white",
           "ticks": "",
           "title": {
            "standoff": 15
           },
           "zerolinecolor": "white",
           "zerolinewidth": 2
          },
          "yaxis": {
           "automargin": true,
           "gridcolor": "white",
           "linecolor": "white",
           "ticks": "",
           "title": {
            "standoff": 15
           },
           "zerolinecolor": "white",
           "zerolinewidth": 2
          }
         }
        },
        "title": {
         "font": {
          "color": "#a5a7ab",
          "family": "Muli, sans-serif",
          "size": 25
         },
         "text": "Purpose for Collection of Loan"
        },
        "xaxis": {
         "anchor": "y",
         "categoryorder": "total descending",
         "domain": [
          0,
          1
         ],
         "tickangle": 0,
         "title": {
          "text": " "
         }
        },
        "yaxis": {
         "anchor": "x",
         "domain": [
          0,
          1
         ],
         "title": {
          "text": " "
         }
        }
       }
      }
     },
     "metadata": {},
     "output_type": "display_data"
    }
   ],
   "source": [
    "pup = px.histogram(data, x='purpose',\n",
    "                         title='Purpose for Collection of Loan', height=400,\n",
    "                         color_discrete_sequence=['#03DAC5'],\n",
    "                         )\n",
    "pup.update_xaxes(categoryorder='total descending')\n",
    "\n",
    "pup.update_layout(margin=dict(t=70, b=10, l=70, r=40),\n",
    "                        hovermode=\"x unified\",\n",
    "                        xaxis_tickangle=360,\n",
    "                        xaxis_title=' ', yaxis_title=\" \",\n",
    "                        plot_bgcolor='#2d3035', paper_bgcolor='#2d3035',\n",
    "                        title_font=dict(size=25, color='#a5a7ab', family=\"Muli, sans-serif\"),\n",
    "                        font=dict(color='#8a8d93'),\n",
    "                        legend=dict(orientation=\"h\", yanchor=\"bottom\", y=1.02, xanchor=\"right\", x=1))\n",
    "pup"
   ]
  },
  {
   "cell_type": "code",
   "execution_count": 68,
   "metadata": {},
   "outputs": [
    {
     "data": {
      "application/vnd.plotly.v1+json": {
       "config": {
        "plotlyServerURL": "https://plot.ly"
       },
       "data": [
        {
         "alignmentgroup": "True",
         "bingroup": "x",
         "hovertemplate": "x=%{x}<br>count=%{y}<extra></extra>",
         "legendgroup": "",
         "marker": {
          "color": "#03DAC5",
          "pattern": {
           "shape": ""
          }
         },
         "name": "",
         "offsetgroup": "",
         "orientation": "v",
         "showlegend": false,
         "type": "histogram",
         "x": [
          "1000-3000",
          "5000-8000",
          "1000-3000",
          "5000-8000",
          "3000-5000",
          "8000-10000",
          "1000-3000",
          "5000-8000",
          "3000-5000",
          "5000-8000",
          "1000-3000",
          "3000-5000",
          "1000-3000",
          "1000-3000",
          "1000-3000",
          "1000-3000",
          "1000-3000",
          "8000-10000",
          "10000-13000",
          "3000-5000",
          "1000-3000",
          "1000-3000",
          "1000-3000",
          "1000-3000",
          "1000-3000",
          "1000-3000",
          "1 - 500",
          "1 - 500",
          "1000-3000",
          "5000-8000",
          "1000-3000",
          "3000-5000",
          "5000-8000",
          "1000-3000",
          "1000-3000",
          "3000-5000",
          "5000-8000",
          "1000-3000",
          "1000-3000",
          "1 - 500",
          "1000-3000",
          "1000-3000",
          "5000-8000",
          "5000-8000",
          "5000-8000",
          "1000-3000",
          "1000-3000",
          "1000-3000",
          "5000-8000",
          "1000-3000",
          "1000-3000",
          "5000-8000",
          "1000-3000",
          "3000-5000",
          "1000-3000",
          "500 - 1000",
          "5000-8000",
          "8000-10000",
          "1000-3000",
          "5000-8000",
          "1000-3000",
          "1000-3000",
          "1000-3000",
          "13000-15000",
          "3000-5000",
          "5000-8000",
          "1000-3000",
          "1000-3000",
          "1000-3000",
          "1000-3000",
          "8000-10000",
          "500 - 1000",
          "1000-3000",
          "5000-8000",
          "1000-3000",
          "1000-3000",
          "3000-5000",
          "3000-5000",
          "8000-10000",
          "3000-5000",
          "5000-8000",
          "1000-3000",
          "1000-3000",
          "1000-3000",
          "1000-3000",
          "1000-3000",
          "1000-3000",
          "10000-13000",
          "1000-3000",
          "1000-3000",
          "500 - 1000",
          "1000-3000",
          "500 - 1000",
          "3000-5000",
          "1000-3000",
          "15000-185000",
          "1000-3000",
          "1000-3000",
          "1000-3000",
          "5000-8000",
          "1000-3000",
          "1000-3000",
          "500 - 1000",
          "1000-3000",
          "1000-3000",
          "10000-13000",
          "5000-8000",
          "5000-8000",
          "5000-8000",
          "1000-3000",
          "1000-3000",
          "1 - 500",
          "5000-8000",
          "5000-8000",
          "1000-3000",
          "3000-5000",
          "5000-8000",
          "1000-3000",
          "3000-5000",
          "1000-3000",
          "1000-3000",
          "3000-5000",
          "1000-3000",
          "500 - 1000",
          "1000-3000",
          "1000-3000",
          "500 - 1000",
          "500 - 1000",
          "1000-3000",
          "3000-5000",
          "8000-10000",
          "5000-8000",
          "1000-3000",
          "1000-3000",
          "10000-13000",
          "1000-3000",
          "8000-10000",
          "500 - 1000",
          "1000-3000",
          "1000-3000",
          "500 - 1000",
          "3000-5000",
          "3000-5000",
          "1000-3000",
          "1000-3000",
          "3000-5000",
          "500 - 1000",
          "500 - 1000",
          "5000-8000",
          "1000-3000",
          "1000-3000",
          "1000-3000",
          "5000-8000",
          "5000-8000",
          "5000-8000",
          "1000-3000",
          "1000-3000",
          "1 - 500",
          "3000-5000",
          "1000-3000",
          "1000-3000",
          "1000-3000",
          "1000-3000",
          "5000-8000",
          "500 - 1000",
          "1000-3000",
          "1000-3000",
          "1000-3000",
          "3000-5000",
          "1000-3000",
          "500 - 1000",
          "500 - 1000",
          "1000-3000",
          "1000-3000",
          "3000-5000",
          "5000-8000",
          "1000-3000",
          "1 - 500",
          "1000-3000",
          "500 - 1000",
          "8000-10000",
          "3000-5000",
          "1000-3000",
          "3000-5000",
          "500 - 1000",
          "1000-3000",
          "5000-8000",
          "1000-3000",
          "500 - 1000",
          "3000-5000",
          "3000-5000",
          "3000-5000",
          "3000-5000",
          "1000-3000",
          "3000-5000",
          "1000-3000",
          "1000-3000",
          "500 - 1000",
          "1000-3000",
          "3000-5000",
          "500 - 1000",
          "1000-3000",
          "5000-8000",
          "500 - 1000",
          "1000-3000",
          "10000-13000",
          "1000-3000",
          "1000-3000",
          "5000-8000",
          "1000-3000",
          "3000-5000",
          "3000-5000",
          "5000-8000",
          "1000-3000",
          "3000-5000",
          "500 - 1000",
          "3000-5000",
          "3000-5000",
          "3000-5000",
          "1000-3000",
          "500 - 1000",
          "1000-3000",
          "500 - 1000",
          "1000-3000",
          "3000-5000",
          "1000-3000",
          "10000-13000",
          "5000-8000",
          "1000-3000",
          "3000-5000",
          "3000-5000",
          "1000-3000",
          "1000-3000",
          "500 - 1000",
          "1000-3000",
          "1000-3000",
          "13000-15000",
          "1000-3000",
          "1000-3000",
          "1000-3000",
          "500 - 1000",
          "1000-3000",
          "3000-5000",
          "1000-3000",
          "3000-5000",
          "1000-3000",
          "500 - 1000",
          "1000-3000",
          "1000-3000",
          "1 - 500",
          "500 - 1000",
          "1000-3000",
          "1000-3000",
          "3000-5000",
          "1000-3000",
          "5000-8000",
          "1000-3000",
          "1000-3000",
          "3000-5000",
          "1000-3000",
          "1000-3000",
          "1000-3000",
          "5000-8000",
          "1000-3000",
          "1000-3000",
          "500 - 1000",
          "5000-8000",
          "1000-3000",
          "8000-10000",
          "500 - 1000",
          "1000-3000",
          "1000-3000",
          "10000-13000",
          "3000-5000",
          "10000-13000",
          "1000-3000",
          "1000-3000",
          "1000-3000",
          "3000-5000",
          "1000-3000",
          "3000-5000",
          "1000-3000",
          "1000-3000",
          "1000-3000",
          "3000-5000",
          "10000-13000",
          "3000-5000",
          "5000-8000",
          "1000-3000",
          "1000-3000",
          "1000-3000",
          "8000-10000",
          "5000-8000",
          "3000-5000",
          "5000-8000",
          "8000-10000",
          "3000-5000",
          "1000-3000",
          "1000-3000",
          "1000-3000",
          "500 - 1000",
          "3000-5000",
          "1000-3000",
          "1000-3000",
          "10000-13000",
          "1000-3000",
          "3000-5000",
          "500 - 1000",
          "1000-3000",
          "1 - 500",
          "5000-8000",
          "5000-8000",
          "3000-5000",
          "500 - 1000",
          "1000-3000",
          "1000-3000",
          "500 - 1000",
          "3000-5000",
          "500 - 1000",
          "3000-5000",
          "3000-5000",
          "1000-3000",
          "1000-3000",
          "1000-3000",
          "1000-3000",
          "3000-5000",
          "5000-8000",
          "1000-3000",
          "3000-5000",
          "1000-3000",
          "5000-8000",
          "1000-3000",
          "5000-8000",
          "10000-13000",
          "3000-5000",
          "3000-5000",
          "1000-3000",
          "1000-3000",
          "3000-5000",
          "1000-3000",
          "5000-8000",
          "3000-5000",
          "3000-5000",
          "3000-5000",
          "3000-5000",
          "1000-3000",
          "500 - 1000",
          "3000-5000",
          "1000-3000",
          "1000-3000",
          "1000-3000",
          "500 - 1000",
          "3000-5000",
          "5000-8000",
          "500 - 1000",
          "1000-3000",
          "1000-3000",
          "3000-5000",
          "500 - 1000",
          "1000-3000",
          "1000-3000",
          "3000-5000",
          "1000-3000",
          "1000-3000",
          "1000-3000",
          "1000-3000",
          "3000-5000",
          "3000-5000",
          "3000-5000",
          "3000-5000",
          "3000-5000",
          "5000-8000",
          "1000-3000",
          "13000-15000",
          "13000-15000",
          "5000-8000",
          "1000-3000",
          "500 - 1000",
          "13000-15000",
          "1 - 500",
          "1000-3000",
          "10000-13000",
          "1000-3000",
          "1000-3000",
          "3000-5000",
          "1000-3000",
          "1000-3000",
          "5000-8000",
          "1000-3000",
          "1000-3000",
          "1000-3000",
          "500 - 1000",
          "3000-5000",
          "1000-3000",
          "1000-3000",
          "10000-13000",
          "1000-3000",
          "1000-3000",
          "1000-3000",
          "1000-3000",
          "1000-3000",
          "1000-3000",
          "8000-10000",
          "500 - 1000",
          "1000-3000",
          "1000-3000",
          "1000-3000",
          "1000-3000",
          "3000-5000",
          "500 - 1000",
          "1000-3000",
          "5000-8000",
          "1000-3000",
          "1000-3000",
          "1000-3000",
          "5000-8000",
          "1000-3000",
          "8000-10000",
          "1000-3000",
          "1000-3000",
          "3000-5000",
          "1000-3000",
          "500 - 1000",
          "1000-3000",
          "1000-3000",
          "1000-3000",
          "1000-3000",
          "1000-3000",
          "1000-3000",
          "1000-3000",
          "3000-5000",
          "10000-13000",
          "1000-3000",
          "1000-3000",
          "1000-3000",
          "1000-3000",
          "500 - 1000",
          "1000-3000",
          "3000-5000",
          "500 - 1000",
          "1000-3000",
          "1000-3000",
          "1000-3000",
          "500 - 1000",
          "5000-8000",
          "1000-3000",
          "1000-3000",
          "1000-3000",
          "1000-3000",
          "1000-3000",
          "10000-13000",
          "500 - 1000",
          "1000-3000",
          "1000-3000",
          "3000-5000",
          "1000-3000",
          "3000-5000",
          "3000-5000",
          "1 - 500",
          "3000-5000",
          "3000-5000",
          "1000-3000",
          "3000-5000",
          "500 - 1000",
          "1000-3000",
          "1000-3000",
          "1000-3000",
          "5000-8000",
          "1000-3000",
          "3000-5000",
          "3000-5000",
          "1 - 500",
          "500 - 1000",
          "1000-3000",
          "1000-3000",
          "3000-5000",
          "1000-3000",
          "5000-8000",
          "1000-3000",
          "1000-3000",
          "3000-5000",
          "1000-3000",
          "3000-5000",
          "500 - 1000",
          "1000-3000",
          "1000-3000",
          "3000-5000",
          "3000-5000",
          "1000-3000",
          "3000-5000",
          "1000-3000",
          "8000-10000",
          "1000-3000",
          "1 - 500",
          "1000-3000",
          "1000-3000",
          "8000-10000",
          "1000-3000",
          "1000-3000",
          "1000-3000",
          "3000-5000",
          "5000-8000",
          "1000-3000",
          "1000-3000",
          "1000-3000",
          "1000-3000",
          "1000-3000",
          "5000-8000",
          "1000-3000",
          "8000-10000",
          "500 - 1000",
          "3000-5000",
          "1000-3000",
          "500 - 1000",
          "1000-3000",
          "500 - 1000",
          "1000-3000",
          "5000-8000",
          "1000-3000",
          "500 - 1000",
          "5000-8000",
          "3000-5000",
          "5000-8000",
          "3000-5000",
          "1000-3000",
          "5000-8000",
          "1000-3000",
          "1000-3000",
          "1000-3000",
          "500 - 1000",
          "1000-3000",
          "1000-3000",
          "1000-3000",
          "1000-3000",
          "3000-5000",
          "1000-3000",
          "1000-3000",
          "3000-5000",
          "5000-8000",
          "3000-5000",
          "1000-3000",
          "1000-3000",
          "5000-8000",
          "1000-3000",
          "1000-3000",
          "1000-3000",
          "1000-3000",
          "1000-3000",
          "500 - 1000",
          "8000-10000",
          "500 - 1000",
          "1000-3000",
          "5000-8000",
          "1000-3000",
          "1000-3000",
          "1000-3000",
          "1000-3000",
          "5000-8000",
          "3000-5000",
          "1000-3000",
          "1000-3000",
          "1000-3000",
          "500 - 1000",
          "10000-13000",
          "3000-5000",
          "1000-3000",
          "1000-3000",
          "1000-3000",
          "3000-5000",
          "5000-8000",
          "3000-5000",
          "5000-8000",
          "5000-8000",
          "500 - 1000",
          "1000-3000",
          "1000-3000",
          "1000-3000",
          "1000-3000",
          "1000-3000",
          "500 - 1000",
          "1000-3000",
          "3000-5000",
          "1000-3000",
          "1000-3000",
          "1000-3000",
          "1000-3000",
          "1000-3000",
          "1000-3000",
          "1000-3000",
          "1000-3000",
          "1 - 500",
          "1000-3000",
          "1000-3000",
          "1000-3000",
          "1000-3000",
          "500 - 1000",
          "1000-3000",
          "3000-5000",
          "1000-3000",
          "3000-5000",
          "1000-3000",
          "500 - 1000",
          "1000-3000",
          "3000-5000",
          "1000-3000",
          "1000-3000",
          "3000-5000",
          "1000-3000",
          "1000-3000",
          "1000-3000",
          "500 - 1000",
          "1000-3000",
          "3000-5000",
          "3000-5000",
          "1000-3000",
          "10000-13000",
          "8000-10000",
          "3000-5000",
          "3000-5000",
          "500 - 1000",
          "3000-5000",
          "1000-3000",
          "3000-5000",
          "1000-3000",
          "1000-3000",
          "1000-3000",
          "1000-3000",
          "1000-3000",
          "3000-5000",
          "3000-5000",
          "3000-5000",
          "1000-3000",
          "1000-3000",
          "1000-3000",
          "1000-3000",
          "1000-3000",
          "1000-3000",
          "15000-185000",
          "1000-3000",
          "3000-5000",
          "500 - 1000",
          "1000-3000",
          "3000-5000",
          "1000-3000",
          "1000-3000",
          "5000-8000",
          "3000-5000",
          "1000-3000",
          "500 - 1000",
          "500 - 1000",
          "5000-8000",
          "1000-3000",
          "1000-3000",
          "8000-10000",
          "1000-3000",
          "3000-5000",
          "500 - 1000",
          "10000-13000",
          "3000-5000",
          "5000-8000",
          "1000-3000",
          "500 - 1000",
          "1000-3000",
          "1000-3000",
          "1000-3000",
          "5000-8000",
          "3000-5000",
          "3000-5000",
          "3000-5000",
          "3000-5000",
          "3000-5000",
          "5000-8000",
          "10000-13000",
          "1000-3000",
          "1000-3000",
          "3000-5000",
          "5000-8000",
          "5000-8000",
          "1000-3000",
          "1000-3000",
          "1000-3000",
          "1000-3000",
          "1000-3000",
          "5000-8000",
          "8000-10000",
          "5000-8000",
          "1000-3000",
          "1000-3000",
          "1000-3000",
          "3000-5000",
          "500 - 1000",
          "1000-3000",
          "1000-3000",
          "3000-5000",
          "1000-3000",
          "1000-3000",
          "1000-3000",
          "500 - 1000",
          "1000-3000",
          "1000-3000",
          "1000-3000",
          "5000-8000",
          "1000-3000",
          "1000-3000",
          "1000-3000",
          "5000-8000",
          "5000-8000",
          "1000-3000",
          "1000-3000",
          "1000-3000",
          "500 - 1000",
          "1000-3000",
          "1000-3000",
          "1000-3000",
          "13000-15000",
          "5000-8000",
          "3000-5000",
          "1000-3000",
          "3000-5000",
          "5000-8000",
          "1000-3000",
          "1 - 500",
          "1000-3000",
          "500 - 1000",
          "1000-3000",
          "1 - 500",
          "1000-3000",
          "1000-3000",
          "5000-8000",
          "1000-3000",
          "5000-8000",
          "1000-3000",
          "500 - 1000",
          "1000-3000",
          "3000-5000",
          "3000-5000",
          "10000-13000",
          "3000-5000",
          "5000-8000",
          "3000-5000",
          "1000-3000",
          "1000-3000",
          "3000-5000",
          "1000-3000",
          "13000-15000",
          "1000-3000",
          "1000-3000",
          "1000-3000",
          "5000-8000",
          "3000-5000",
          "1 - 500",
          "500 - 1000",
          "500 - 1000",
          "5000-8000",
          "1000-3000",
          "1000-3000",
          "1000-3000",
          "1000-3000",
          "1000-3000",
          "500 - 1000",
          "5000-8000",
          "1000-3000",
          "1000-3000",
          "10000-13000",
          "1000-3000",
          "1000-3000",
          "3000-5000",
          "1000-3000",
          "3000-5000",
          "1000-3000",
          "1000-3000",
          "8000-10000",
          "3000-5000",
          "1000-3000",
          "1000-3000",
          "1000-3000",
          "3000-5000",
          "3000-5000",
          "5000-8000",
          "3000-5000",
          "3000-5000",
          "1000-3000",
          "1000-3000",
          "500 - 1000",
          "5000-8000",
          "1000-3000",
          "1000-3000",
          "1000-3000",
          "5000-8000",
          "5000-8000",
          "1000-3000",
          "5000-8000",
          "1000-3000",
          "1000-3000",
          "3000-5000",
          "1000-3000",
          "5000-8000",
          "1000-3000",
          "500 - 1000",
          "1000-3000",
          "1000-3000",
          "1000-3000",
          "3000-5000",
          "500 - 1000",
          "5000-8000",
          "8000-10000",
          "500 - 1000",
          "500 - 1000",
          "8000-10000",
          "1000-3000",
          "500 - 1000",
          "1 - 500",
          "8000-10000",
          "3000-5000",
          "3000-5000",
          "5000-8000",
          "1000-3000",
          "1000-3000",
          "15000-185000",
          "1000-3000",
          "1000-3000",
          "3000-5000",
          "1000-3000",
          "500 - 1000",
          "3000-5000",
          "1000-3000",
          "3000-5000",
          "3000-5000",
          "8000-10000",
          "5000-8000",
          "1000-3000",
          "1000-3000",
          "10000-13000",
          "5000-8000",
          "1000-3000",
          "1000-3000",
          "500 - 1000",
          "500 - 1000",
          "1000-3000",
          "1000-3000",
          "5000-8000",
          "1000-3000",
          "1000-3000",
          "1000-3000",
          "3000-5000",
          "3000-5000",
          "5000-8000",
          "1000-3000",
          "1000-3000",
          "500 - 1000",
          "1000-3000",
          "3000-5000",
          "1000-3000",
          "1000-3000",
          "10000-13000",
          "1000-3000",
          "500 - 1000",
          "3000-5000",
          "3000-5000",
          "3000-5000",
          "5000-8000",
          "1000-3000",
          "1000-3000",
          "3000-5000",
          "1000-3000",
          "1000-3000",
          "1000-3000",
          "3000-5000",
          "5000-8000",
          "500 - 1000",
          "5000-8000",
          "1000-3000",
          "1000-3000",
          "500 - 1000",
          "3000-5000",
          "1000-3000",
          "1000-3000",
          "3000-5000",
          "1000-3000",
          "5000-8000",
          "5000-8000",
          "8000-10000",
          "1000-3000",
          "1000-3000",
          "3000-5000",
          "500 - 1000",
          "1000-3000",
          "15000-185000",
          "5000-8000",
          "5000-8000",
          "1000-3000",
          "1000-3000",
          "1000-3000",
          "5000-8000",
          "1000-3000",
          "8000-10000",
          "1000-3000",
          "1000-3000",
          "1000-3000",
          "3000-5000",
          "1000-3000",
          "3000-5000",
          "10000-13000",
          "1000-3000",
          "1000-3000",
          "1000-3000",
          "3000-5000",
          "3000-5000",
          "3000-5000",
          "3000-5000",
          "3000-5000",
          "3000-5000",
          "1000-3000",
          "1000-3000",
          "3000-5000",
          "15000-185000",
          "1000-3000",
          "13000-15000",
          "1000-3000",
          "3000-5000",
          "1000-3000",
          "10000-13000",
          "1000-3000",
          "1000-3000",
          "5000-8000",
          "500 - 1000",
          "1000-3000",
          "10000-13000",
          "1000-3000",
          "1000-3000",
          "1000-3000",
          "1000-3000",
          "1000-3000",
          "500 - 1000",
          "1000-3000",
          "1000-3000",
          "500 - 1000",
          "1000-3000",
          "5000-8000",
          "5000-8000",
          "3000-5000",
          "1000-3000",
          "500 - 1000",
          "1000-3000",
          "1000-3000",
          "8000-10000",
          "3000-5000",
          "1000-3000",
          "1000-3000",
          "3000-5000",
          "3000-5000",
          "1000-3000",
          "3000-5000",
          "10000-13000",
          "1000-3000",
          "1000-3000",
          "3000-5000",
          "1000-3000",
          "3000-5000",
          "3000-5000",
          "1000-3000",
          "1000-3000",
          "3000-5000",
          "1000-3000",
          "1 - 500",
          "1000-3000",
          "1000-3000",
          "3000-5000",
          "5000-8000",
          "3000-5000",
          "1000-3000",
          "5000-8000",
          "1000-3000",
          "5000-8000",
          "1000-3000",
          "1000-3000",
          "500 - 1000",
          "1000-3000",
          "1000-3000",
          "1000-3000",
          "8000-10000",
          "3000-5000",
          "1000-3000",
          "8000-10000",
          "1000-3000",
          "1000-3000",
          "5000-8000",
          "1000-3000",
          "5000-8000",
          "1000-3000",
          "3000-5000",
          "1000-3000",
          "1000-3000",
          "3000-5000",
          "1000-3000",
          "1000-3000",
          "3000-5000",
          "500 - 1000",
          "1000-3000",
          "3000-5000"
         ],
         "xaxis": "x",
         "yaxis": "y"
        }
       ],
       "layout": {
        "barmode": "relative",
        "font": {
         "color": "#9a8d93"
        },
        "height": 400,
        "hovermode": "x unified",
        "legend": {
         "orientation": "h",
         "tracegroupgap": 0,
         "x": 1,
         "xanchor": "right",
         "y": 1.02,
         "yanchor": "bottom"
        },
        "margin": {
         "b": 10,
         "l": 70,
         "r": 40,
         "t": 70
        },
        "paper_bgcolor": "#2d3035",
        "plot_bgcolor": "#2d3035",
        "template": {
         "data": {
          "bar": [
           {
            "error_x": {
             "color": "#2a3f5f"
            },
            "error_y": {
             "color": "#2a3f5f"
            },
            "marker": {
             "line": {
              "color": "#E5ECF6",
              "width": 0.5
             },
             "pattern": {
              "fillmode": "overlay",
              "size": 10,
              "solidity": 0.2
             }
            },
            "type": "bar"
           }
          ],
          "barpolar": [
           {
            "marker": {
             "line": {
              "color": "#E5ECF6",
              "width": 0.5
             },
             "pattern": {
              "fillmode": "overlay",
              "size": 10,
              "solidity": 0.2
             }
            },
            "type": "barpolar"
           }
          ],
          "carpet": [
           {
            "aaxis": {
             "endlinecolor": "#2a3f5f",
             "gridcolor": "white",
             "linecolor": "white",
             "minorgridcolor": "white",
             "startlinecolor": "#2a3f5f"
            },
            "baxis": {
             "endlinecolor": "#2a3f5f",
             "gridcolor": "white",
             "linecolor": "white",
             "minorgridcolor": "white",
             "startlinecolor": "#2a3f5f"
            },
            "type": "carpet"
           }
          ],
          "choropleth": [
           {
            "colorbar": {
             "outlinewidth": 0,
             "ticks": ""
            },
            "type": "choropleth"
           }
          ],
          "contour": [
           {
            "colorbar": {
             "outlinewidth": 0,
             "ticks": ""
            },
            "colorscale": [
             [
              0,
              "#0d0887"
             ],
             [
              0.1111111111111111,
              "#46039f"
             ],
             [
              0.2222222222222222,
              "#7201a8"
             ],
             [
              0.3333333333333333,
              "#9c179e"
             ],
             [
              0.4444444444444444,
              "#bd3786"
             ],
             [
              0.5555555555555556,
              "#d8576b"
             ],
             [
              0.6666666666666666,
              "#ed7953"
             ],
             [
              0.7777777777777778,
              "#fb9f3a"
             ],
             [
              0.8888888888888888,
              "#fdca26"
             ],
             [
              1,
              "#f0f921"
             ]
            ],
            "type": "contour"
           }
          ],
          "contourcarpet": [
           {
            "colorbar": {
             "outlinewidth": 0,
             "ticks": ""
            },
            "type": "contourcarpet"
           }
          ],
          "heatmap": [
           {
            "colorbar": {
             "outlinewidth": 0,
             "ticks": ""
            },
            "colorscale": [
             [
              0,
              "#0d0887"
             ],
             [
              0.1111111111111111,
              "#46039f"
             ],
             [
              0.2222222222222222,
              "#7201a8"
             ],
             [
              0.3333333333333333,
              "#9c179e"
             ],
             [
              0.4444444444444444,
              "#bd3786"
             ],
             [
              0.5555555555555556,
              "#d8576b"
             ],
             [
              0.6666666666666666,
              "#ed7953"
             ],
             [
              0.7777777777777778,
              "#fb9f3a"
             ],
             [
              0.8888888888888888,
              "#fdca26"
             ],
             [
              1,
              "#f0f921"
             ]
            ],
            "type": "heatmap"
           }
          ],
          "heatmapgl": [
           {
            "colorbar": {
             "outlinewidth": 0,
             "ticks": ""
            },
            "colorscale": [
             [
              0,
              "#0d0887"
             ],
             [
              0.1111111111111111,
              "#46039f"
             ],
             [
              0.2222222222222222,
              "#7201a8"
             ],
             [
              0.3333333333333333,
              "#9c179e"
             ],
             [
              0.4444444444444444,
              "#bd3786"
             ],
             [
              0.5555555555555556,
              "#d8576b"
             ],
             [
              0.6666666666666666,
              "#ed7953"
             ],
             [
              0.7777777777777778,
              "#fb9f3a"
             ],
             [
              0.8888888888888888,
              "#fdca26"
             ],
             [
              1,
              "#f0f921"
             ]
            ],
            "type": "heatmapgl"
           }
          ],
          "histogram": [
           {
            "marker": {
             "pattern": {
              "fillmode": "overlay",
              "size": 10,
              "solidity": 0.2
             }
            },
            "type": "histogram"
           }
          ],
          "histogram2d": [
           {
            "colorbar": {
             "outlinewidth": 0,
             "ticks": ""
            },
            "colorscale": [
             [
              0,
              "#0d0887"
             ],
             [
              0.1111111111111111,
              "#46039f"
             ],
             [
              0.2222222222222222,
              "#7201a8"
             ],
             [
              0.3333333333333333,
              "#9c179e"
             ],
             [
              0.4444444444444444,
              "#bd3786"
             ],
             [
              0.5555555555555556,
              "#d8576b"
             ],
             [
              0.6666666666666666,
              "#ed7953"
             ],
             [
              0.7777777777777778,
              "#fb9f3a"
             ],
             [
              0.8888888888888888,
              "#fdca26"
             ],
             [
              1,
              "#f0f921"
             ]
            ],
            "type": "histogram2d"
           }
          ],
          "histogram2dcontour": [
           {
            "colorbar": {
             "outlinewidth": 0,
             "ticks": ""
            },
            "colorscale": [
             [
              0,
              "#0d0887"
             ],
             [
              0.1111111111111111,
              "#46039f"
             ],
             [
              0.2222222222222222,
              "#7201a8"
             ],
             [
              0.3333333333333333,
              "#9c179e"
             ],
             [
              0.4444444444444444,
              "#bd3786"
             ],
             [
              0.5555555555555556,
              "#d8576b"
             ],
             [
              0.6666666666666666,
              "#ed7953"
             ],
             [
              0.7777777777777778,
              "#fb9f3a"
             ],
             [
              0.8888888888888888,
              "#fdca26"
             ],
             [
              1,
              "#f0f921"
             ]
            ],
            "type": "histogram2dcontour"
           }
          ],
          "mesh3d": [
           {
            "colorbar": {
             "outlinewidth": 0,
             "ticks": ""
            },
            "type": "mesh3d"
           }
          ],
          "parcoords": [
           {
            "line": {
             "colorbar": {
              "outlinewidth": 0,
              "ticks": ""
             }
            },
            "type": "parcoords"
           }
          ],
          "pie": [
           {
            "automargin": true,
            "type": "pie"
           }
          ],
          "scatter": [
           {
            "fillpattern": {
             "fillmode": "overlay",
             "size": 10,
             "solidity": 0.2
            },
            "type": "scatter"
           }
          ],
          "scatter3d": [
           {
            "line": {
             "colorbar": {
              "outlinewidth": 0,
              "ticks": ""
             }
            },
            "marker": {
             "colorbar": {
              "outlinewidth": 0,
              "ticks": ""
             }
            },
            "type": "scatter3d"
           }
          ],
          "scattercarpet": [
           {
            "marker": {
             "colorbar": {
              "outlinewidth": 0,
              "ticks": ""
             }
            },
            "type": "scattercarpet"
           }
          ],
          "scattergeo": [
           {
            "marker": {
             "colorbar": {
              "outlinewidth": 0,
              "ticks": ""
             }
            },
            "type": "scattergeo"
           }
          ],
          "scattergl": [
           {
            "marker": {
             "colorbar": {
              "outlinewidth": 0,
              "ticks": ""
             }
            },
            "type": "scattergl"
           }
          ],
          "scattermapbox": [
           {
            "marker": {
             "colorbar": {
              "outlinewidth": 0,
              "ticks": ""
             }
            },
            "type": "scattermapbox"
           }
          ],
          "scatterpolar": [
           {
            "marker": {
             "colorbar": {
              "outlinewidth": 0,
              "ticks": ""
             }
            },
            "type": "scatterpolar"
           }
          ],
          "scatterpolargl": [
           {
            "marker": {
             "colorbar": {
              "outlinewidth": 0,
              "ticks": ""
             }
            },
            "type": "scatterpolargl"
           }
          ],
          "scatterternary": [
           {
            "marker": {
             "colorbar": {
              "outlinewidth": 0,
              "ticks": ""
             }
            },
            "type": "scatterternary"
           }
          ],
          "surface": [
           {
            "colorbar": {
             "outlinewidth": 0,
             "ticks": ""
            },
            "colorscale": [
             [
              0,
              "#0d0887"
             ],
             [
              0.1111111111111111,
              "#46039f"
             ],
             [
              0.2222222222222222,
              "#7201a8"
             ],
             [
              0.3333333333333333,
              "#9c179e"
             ],
             [
              0.4444444444444444,
              "#bd3786"
             ],
             [
              0.5555555555555556,
              "#d8576b"
             ],
             [
              0.6666666666666666,
              "#ed7953"
             ],
             [
              0.7777777777777778,
              "#fb9f3a"
             ],
             [
              0.8888888888888888,
              "#fdca26"
             ],
             [
              1,
              "#f0f921"
             ]
            ],
            "type": "surface"
           }
          ],
          "table": [
           {
            "cells": {
             "fill": {
              "color": "#EBF0F8"
             },
             "line": {
              "color": "white"
             }
            },
            "header": {
             "fill": {
              "color": "#C8D4E3"
             },
             "line": {
              "color": "white"
             }
            },
            "type": "table"
           }
          ]
         },
         "layout": {
          "annotationdefaults": {
           "arrowcolor": "#2a3f5f",
           "arrowhead": 0,
           "arrowwidth": 1
          },
          "autotypenumbers": "strict",
          "coloraxis": {
           "colorbar": {
            "outlinewidth": 0,
            "ticks": ""
           }
          },
          "colorscale": {
           "diverging": [
            [
             0,
             "#8e0152"
            ],
            [
             0.1,
             "#c51b7d"
            ],
            [
             0.2,
             "#de77ae"
            ],
            [
             0.3,
             "#f1b6da"
            ],
            [
             0.4,
             "#fde0ef"
            ],
            [
             0.5,
             "#f7f7f7"
            ],
            [
             0.6,
             "#e6f5d0"
            ],
            [
             0.7,
             "#b8e186"
            ],
            [
             0.8,
             "#7fbc41"
            ],
            [
             0.9,
             "#4d9221"
            ],
            [
             1,
             "#276419"
            ]
           ],
           "sequential": [
            [
             0,
             "#0d0887"
            ],
            [
             0.1111111111111111,
             "#46039f"
            ],
            [
             0.2222222222222222,
             "#7201a8"
            ],
            [
             0.3333333333333333,
             "#9c179e"
            ],
            [
             0.4444444444444444,
             "#bd3786"
            ],
            [
             0.5555555555555556,
             "#d8576b"
            ],
            [
             0.6666666666666666,
             "#ed7953"
            ],
            [
             0.7777777777777778,
             "#fb9f3a"
            ],
            [
             0.8888888888888888,
             "#fdca26"
            ],
            [
             1,
             "#f0f921"
            ]
           ],
           "sequentialminus": [
            [
             0,
             "#0d0887"
            ],
            [
             0.1111111111111111,
             "#46039f"
            ],
            [
             0.2222222222222222,
             "#7201a8"
            ],
            [
             0.3333333333333333,
             "#9c179e"
            ],
            [
             0.4444444444444444,
             "#bd3786"
            ],
            [
             0.5555555555555556,
             "#d8576b"
            ],
            [
             0.6666666666666666,
             "#ed7953"
            ],
            [
             0.7777777777777778,
             "#fb9f3a"
            ],
            [
             0.8888888888888888,
             "#fdca26"
            ],
            [
             1,
             "#f0f921"
            ]
           ]
          },
          "colorway": [
           "#636efa",
           "#EF553B",
           "#00cc96",
           "#ab63fa",
           "#FFA15A",
           "#19d3f3",
           "#FF6692",
           "#B6E880",
           "#FF97FF",
           "#FECB52"
          ],
          "font": {
           "color": "#2a3f5f"
          },
          "geo": {
           "bgcolor": "white",
           "lakecolor": "white",
           "landcolor": "#E5ECF6",
           "showlakes": true,
           "showland": true,
           "subunitcolor": "white"
          },
          "hoverlabel": {
           "align": "left"
          },
          "hovermode": "closest",
          "mapbox": {
           "style": "light"
          },
          "paper_bgcolor": "white",
          "plot_bgcolor": "#E5ECF6",
          "polar": {
           "angularaxis": {
            "gridcolor": "white",
            "linecolor": "white",
            "ticks": ""
           },
           "bgcolor": "#E5ECF6",
           "radialaxis": {
            "gridcolor": "white",
            "linecolor": "white",
            "ticks": ""
           }
          },
          "scene": {
           "xaxis": {
            "backgroundcolor": "#E5ECF6",
            "gridcolor": "white",
            "gridwidth": 2,
            "linecolor": "white",
            "showbackground": true,
            "ticks": "",
            "zerolinecolor": "white"
           },
           "yaxis": {
            "backgroundcolor": "#E5ECF6",
            "gridcolor": "white",
            "gridwidth": 2,
            "linecolor": "white",
            "showbackground": true,
            "ticks": "",
            "zerolinecolor": "white"
           },
           "zaxis": {
            "backgroundcolor": "#E5ECF6",
            "gridcolor": "white",
            "gridwidth": 2,
            "linecolor": "white",
            "showbackground": true,
            "ticks": "",
            "zerolinecolor": "white"
           }
          },
          "shapedefaults": {
           "line": {
            "color": "#2a3f5f"
           }
          },
          "ternary": {
           "aaxis": {
            "gridcolor": "white",
            "linecolor": "white",
            "ticks": ""
           },
           "baxis": {
            "gridcolor": "white",
            "linecolor": "white",
            "ticks": ""
           },
           "bgcolor": "#E5ECF6",
           "caxis": {
            "gridcolor": "white",
            "linecolor": "white",
            "ticks": ""
           }
          },
          "title": {
           "x": 0.05
          },
          "xaxis": {
           "automargin": true,
           "gridcolor": "white",
           "linecolor": "white",
           "ticks": "",
           "title": {
            "standoff": 15
           },
           "zerolinecolor": "white",
           "zerolinewidth": 2
          },
          "yaxis": {
           "automargin": true,
           "gridcolor": "white",
           "linecolor": "white",
           "ticks": "",
           "title": {
            "standoff": 15
           },
           "zerolinecolor": "white",
           "zerolinewidth": 2
          }
         }
        },
        "title": {
         "text": "Current Balance of Customers"
        },
        "xaxis": {
         "anchor": "y",
         "categoryorder": "total descending",
         "domain": [
          0,
          1
         ],
         "tickangle": 0,
         "title": {
          "text": "Balance"
         }
        },
        "yaxis": {
         "anchor": "x",
         "domain": [
          0,
          1
         ],
         "title": {
          "text": "Count "
         }
        }
       }
      }
     },
     "metadata": {},
     "output_type": "display_data"
    }
   ],
   "source": [
    "# Bin Current Balance to have a range\n",
    "\n",
    "dz = data.copy()\n",
    "dz['binned'] = pd.cut(x = data['current_balance'], bins = [1, 500, 1000, 3000, 5000, 8000, 10000, 13000, 15000, 18500], \n",
    "                    labels = ['1 - 500', '500 - 1000', '1000-3000', '3000-5000', '5000-8000', '8000-10000',\n",
    "                     '10000-13000', '13000-15000', '15000-185000'])\n",
    "\n",
    "pup = px.histogram(data, x= dz['binned'],\n",
    "                         title='Current Balance of Customers', height=400,\n",
    "                         color_discrete_sequence=['#03DAC5'],\n",
    "                         )\n",
    "pup.update_xaxes(categoryorder='total descending')\n",
    "\n",
    "pup.update_layout(margin=dict(t=70, b=10, l=70, r=40),\n",
    "                        hovermode=\"x unified\",\n",
    "                        xaxis_tickangle=360,\n",
    "                        xaxis_title='Balance', yaxis_title=\"Count \",\n",
    "                        plot_bgcolor='#2d3035', paper_bgcolor='#2d3035',\n",
    "                        # title_font=dict(size=25, color='#a5a7ab', family=\"Muli, sans-serif\"),\n",
    "                        font=dict(color='#9a8d93'),\n",
    "                        legend=dict(orientation=\"h\", yanchor=\"bottom\", y=1.02, xanchor=\"right\", x=1))\n",
    "pup"
   ]
  },
  {
   "cell_type": "markdown",
   "metadata": {},
   "source": [
    "High income customers on the list are very low\n",
    "Customers earning between 1000-3000 are most\n",
    "Extremely low incme earners o the list are very low"
   ]
  },
  {
   "cell_type": "code",
   "execution_count": 69,
   "metadata": {},
   "outputs": [
    {
     "data": {
      "application/vnd.plotly.v1+json": {
       "config": {
        "plotlyServerURL": "https://plot.ly"
       },
       "data": [
        {
         "alignmentgroup": "True",
         "bingroup": "x",
         "hovertemplate": "Average_Credit_Balance=%{x}<br>count=%{y}<extra></extra>",
         "legendgroup": "",
         "marker": {
          "color": "#03DAC5",
          "pattern": {
           "shape": ""
          }
         },
         "name": "",
         "offsetgroup": "",
         "orientation": "v",
         "showlegend": false,
         "type": "histogram",
         "x": [
          "no_savings",
          "below_100",
          "below_100",
          "below_100",
          "below_100",
          "no_savings",
          "below_1000",
          "below_100",
          "above_1000",
          "below_100",
          "below_100",
          "below_100",
          "below_100",
          "below_100",
          "below_100",
          "below_500",
          "no_savings",
          "no_savings",
          "below_100",
          "below_1000",
          "below_100",
          "below_1000",
          "below_100",
          "below_500",
          "no_savings",
          "below_100",
          "below_100",
          "above_1000",
          "below_100",
          "below_100",
          "above_1000",
          "below_100",
          "below_500",
          "no_savings",
          "below_100",
          "below_100",
          "below_100",
          "below_100",
          "below_100",
          "below_100",
          "below_1000",
          "below_1000",
          "below_100",
          "below_500",
          "below_100",
          "below_100",
          "below_1000",
          "below_1000",
          "below_100",
          "below_500",
          "no_savings",
          "below_100",
          "below_100",
          "no_savings",
          "below_100",
          "no_savings",
          "no_savings",
          "below_100",
          "below_100",
          "below_100",
          "below_100",
          "no_savings",
          "below_100",
          "below_100",
          "below_100",
          "no_savings",
          "below_100",
          "above_1000",
          "below_100",
          "no_savings",
          "below_100",
          "no_savings",
          "below_100",
          "below_100",
          "no_savings",
          "below_100",
          "below_100",
          "below_100",
          "no_savings",
          "below_100",
          "no_savings",
          "below_1000",
          "below_500",
          "below_100",
          "below_100",
          "below_100",
          "below_100",
          "below_500",
          "below_500",
          "below_100",
          "below_100",
          "below_100",
          "no_savings",
          "no_savings",
          "above_1000",
          "below_100",
          "no_savings",
          "below_500",
          "below_100",
          "no_savings",
          "below_500",
          "below_100",
          "below_100",
          "below_100",
          "no_savings",
          "below_100",
          "below_100",
          "below_100",
          "no_savings",
          "below_1000",
          "below_500",
          "below_100",
          "below_100",
          "below_100",
          "below_1000",
          "no_savings",
          "no_savings",
          "no_savings",
          "below_1000",
          "below_1000",
          "below_100",
          "below_100",
          "below_100",
          "below_100",
          "no_savings",
          "below_100",
          "below_100",
          "below_100",
          "below_100",
          "below_100",
          "no_savings",
          "below_100",
          "below_100",
          "below_100",
          "below_500",
          "no_savings",
          "above_1000",
          "below_1000",
          "no_savings",
          "below_100",
          "above_1000",
          "below_100",
          "below_100",
          "below_100",
          "below_100",
          "below_500",
          "below_100",
          "below_500",
          "below_100",
          "above_1000",
          "below_500",
          "below_100",
          "below_100",
          "above_1000",
          "below_500",
          "below_100",
          "below_500",
          "below_100",
          "below_500",
          "no_savings",
          "below_500",
          "below_100",
          "below_1000",
          "below_100",
          "below_1000",
          "below_1000",
          "below_100",
          "above_1000",
          "below_100",
          "below_100",
          "below_100",
          "below_100",
          "below_100",
          "below_100",
          "below_100",
          "no_savings",
          "below_100",
          "below_1000",
          "below_100",
          "below_100",
          "below_100",
          "below_100",
          "no_savings",
          "above_1000",
          "below_100",
          "below_100",
          "below_100",
          "below_100",
          "below_500",
          "below_100",
          "above_1000",
          "below_500",
          "below_100",
          "below_100",
          "below_500",
          "below_100",
          "below_100",
          "below_500",
          "no_savings",
          "below_100",
          "below_1000",
          "below_100",
          "below_100",
          "below_100",
          "below_100",
          "below_100",
          "below_100",
          "below_100",
          "below_100",
          "above_1000",
          "no_savings",
          "no_savings",
          "below_100",
          "below_100",
          "no_savings",
          "no_savings",
          "below_100",
          "below_100",
          "below_100",
          "below_100",
          "below_100",
          "no_savings",
          "below_100",
          "no_savings",
          "below_100",
          "below_100",
          "above_1000",
          "below_100",
          "below_100",
          "below_100",
          "below_100",
          "below_1000",
          "below_500",
          "below_100",
          "below_100",
          "below_100",
          "no_savings",
          "below_500",
          "below_100",
          "below_100",
          "no_savings",
          "below_100",
          "below_100",
          "below_100",
          "below_1000",
          "below_100",
          "below_100",
          "below_500",
          "below_100",
          "below_100",
          "above_1000",
          "below_100",
          "below_100",
          "below_500",
          "no_savings",
          "no_savings",
          "below_100",
          "below_100",
          "below_500",
          "below_500",
          "below_100",
          "below_100",
          "below_100",
          "below_100",
          "below_100",
          "below_100",
          "no_savings",
          "below_100",
          "below_100",
          "no_savings",
          "no_savings",
          "below_1000",
          "no_savings",
          "below_100",
          "below_100",
          "below_100",
          "below_100",
          "no_savings",
          "below_100",
          "below_500",
          "above_1000",
          "below_100",
          "no_savings",
          "no_savings",
          "below_500",
          "below_100",
          "below_100",
          "below_500",
          "below_100",
          "below_100",
          "below_100",
          "below_100",
          "below_100",
          "below_100",
          "no_savings",
          "below_100",
          "no_savings",
          "no_savings",
          "below_100",
          "above_1000",
          "below_100",
          "below_100",
          "no_savings",
          "below_100",
          "below_1000",
          "above_1000",
          "no_savings",
          "below_500",
          "below_100",
          "below_100",
          "no_savings",
          "below_500",
          "below_100",
          "below_100",
          "no_savings",
          "below_100",
          "below_100",
          "no_savings",
          "below_100",
          "below_100",
          "below_100",
          "below_100",
          "below_100",
          "above_1000",
          "below_100",
          "below_100",
          "no_savings",
          "above_1000",
          "below_100",
          "below_100",
          "below_100",
          "below_500",
          "below_500",
          "below_500",
          "below_100",
          "below_100",
          "below_100",
          "no_savings",
          "below_100",
          "below_100",
          "below_100",
          "below_100",
          "below_1000",
          "below_100",
          "below_100",
          "below_100",
          "below_100",
          "below_1000",
          "below_500",
          "above_1000",
          "below_100",
          "below_100",
          "no_savings",
          "below_100",
          "below_1000",
          "below_100",
          "no_savings",
          "below_100",
          "below_100",
          "below_100",
          "no_savings",
          "no_savings",
          "below_100",
          "below_100",
          "below_100",
          "below_100",
          "below_100",
          "below_100",
          "below_100",
          "below_100",
          "no_savings",
          "below_100",
          "below_100",
          "no_savings",
          "below_500",
          "below_100",
          "below_100",
          "no_savings",
          "below_100",
          "below_500",
          "no_savings",
          "below_100",
          "no_savings",
          "below_100",
          "below_500",
          "below_100",
          "no_savings",
          "below_100",
          "below_1000",
          "below_100",
          "below_100",
          "above_1000",
          "below_100",
          "below_100",
          "below_100",
          "below_500",
          "below_100",
          "below_100",
          "below_100",
          "above_1000",
          "below_100",
          "no_savings",
          "below_100",
          "below_100",
          "no_savings",
          "below_100",
          "no_savings",
          "below_100",
          "below_1000",
          "below_1000",
          "below_100",
          "below_100",
          "below_100",
          "below_1000",
          "no_savings",
          "below_100",
          "below_100",
          "no_savings",
          "below_1000",
          "no_savings",
          "above_1000",
          "no_savings",
          "below_100",
          "below_500",
          "no_savings",
          "below_100",
          "below_100",
          "above_1000",
          "below_100",
          "below_100",
          "below_100",
          "below_100",
          "below_100",
          "below_100",
          "below_100",
          "no_savings",
          "below_1000",
          "above_1000",
          "below_100",
          "below_100",
          "below_100",
          "below_100",
          "below_100",
          "below_100",
          "below_100",
          "no_savings",
          "below_100",
          "below_100",
          "no_savings",
          "above_1000",
          "no_savings",
          "below_100",
          "below_100",
          "below_100",
          "below_100",
          "below_100",
          "below_100",
          "below_100",
          "below_100",
          "below_100",
          "below_100",
          "below_100",
          "below_100",
          "no_savings",
          "below_100",
          "below_100",
          "below_100",
          "no_savings",
          "below_100",
          "below_100",
          "below_500",
          "below_100",
          "below_100",
          "no_savings",
          "below_100",
          "below_100",
          "below_1000",
          "below_100",
          "below_500",
          "below_100",
          "below_100",
          "below_100",
          "above_1000",
          "above_1000",
          "below_1000",
          "below_100",
          "below_100",
          "below_100",
          "below_500",
          "below_100",
          "below_100",
          "below_100",
          "below_500",
          "no_savings",
          "below_100",
          "no_savings",
          "below_500",
          "below_100",
          "below_100",
          "below_500",
          "below_100",
          "below_100",
          "below_500",
          "below_500",
          "below_100",
          "no_savings",
          "below_1000",
          "below_500",
          "below_100",
          "below_500",
          "below_100",
          "below_100",
          "below_100",
          "below_100",
          "no_savings",
          "below_100",
          "below_100",
          "below_100",
          "below_500",
          "no_savings",
          "below_100",
          "below_100",
          "below_100",
          "below_500",
          "below_100",
          "below_100",
          "below_500",
          "below_100",
          "below_100",
          "below_100",
          "below_100",
          "below_500",
          "below_100",
          "below_500",
          "no_savings",
          "below_100",
          "no_savings",
          "below_100",
          "below_100",
          "below_100",
          "below_100",
          "below_100",
          "no_savings",
          "below_100",
          "below_100",
          "below_100",
          "below_100",
          "below_100",
          "below_100",
          "no_savings",
          "no_savings",
          "below_1000",
          "below_100",
          "below_500",
          "below_100",
          "below_100",
          "below_500",
          "no_savings",
          "below_100",
          "below_100",
          "no_savings",
          "below_100",
          "below_100",
          "no_savings",
          "no_savings",
          "below_500",
          "below_100",
          "above_1000",
          "no_savings",
          "below_100",
          "below_100",
          "below_100",
          "no_savings",
          "below_100",
          "below_100",
          "below_100",
          "below_100",
          "no_savings",
          "below_100",
          "below_100",
          "below_100",
          "below_100",
          "below_100",
          "below_100",
          "no_savings",
          "below_100",
          "below_100",
          "below_100",
          "below_100",
          "below_100",
          "below_100",
          "no_savings",
          "above_1000",
          "below_100",
          "no_savings",
          "below_500",
          "below_100",
          "below_100",
          "below_100",
          "below_100",
          "below_100",
          "below_100",
          "below_100",
          "below_100",
          "below_100",
          "below_1000",
          "below_100",
          "below_500",
          "below_100",
          "no_savings",
          "below_500",
          "below_500",
          "above_1000",
          "below_100",
          "below_100",
          "no_savings",
          "no_savings",
          "below_100",
          "below_500",
          "below_100",
          "below_100",
          "below_100",
          "no_savings",
          "below_100",
          "below_100",
          "no_savings",
          "below_100",
          "below_500",
          "below_1000",
          "no_savings",
          "below_100",
          "below_100",
          "no_savings",
          "below_100",
          "below_100",
          "below_100",
          "below_1000",
          "below_100",
          "below_100",
          "below_100",
          "below_100",
          "below_100",
          "below_500",
          "below_100",
          "below_100",
          "no_savings",
          "below_100",
          "below_1000",
          "below_100",
          "below_100",
          "below_100",
          "below_100",
          "below_100",
          "below_500",
          "below_100",
          "below_100",
          "below_100",
          "no_savings",
          "below_100",
          "below_100",
          "below_100",
          "no_savings",
          "below_100",
          "below_100",
          "below_100",
          "below_100",
          "above_1000",
          "below_100",
          "below_100",
          "below_100",
          "below_500",
          "below_500",
          "below_100",
          "below_1000",
          "below_1000",
          "below_100",
          "below_100",
          "below_500",
          "below_100",
          "below_100",
          "below_100",
          "no_savings",
          "below_100",
          "below_100",
          "below_500",
          "no_savings",
          "no_savings",
          "below_500",
          "below_500",
          "above_1000",
          "below_100",
          "below_500",
          "below_500",
          "no_savings",
          "below_100",
          "below_1000",
          "below_100",
          "below_100",
          "below_100",
          "below_100",
          "below_1000",
          "below_100",
          "below_500",
          "below_500",
          "below_100",
          "below_1000",
          "below_500",
          "below_100",
          "below_100",
          "below_100",
          "below_1000",
          "below_100",
          "no_savings",
          "below_100",
          "below_100",
          "no_savings",
          "no_savings",
          "below_100",
          "no_savings",
          "below_500",
          "below_100",
          "above_1000",
          "below_100",
          "below_1000",
          "below_100",
          "above_1000",
          "below_1000",
          "below_100",
          "below_100",
          "above_1000",
          "below_100",
          "below_100",
          "below_100",
          "above_1000",
          "below_100",
          "no_savings",
          "below_100",
          "below_500",
          "below_100",
          "below_500",
          "below_500",
          "below_100",
          "no_savings",
          "below_1000",
          "no_savings",
          "below_100",
          "below_100",
          "below_100",
          "no_savings",
          "below_100",
          "below_100",
          "below_100",
          "below_500",
          "below_100",
          "above_1000",
          "no_savings",
          "below_100",
          "no_savings",
          "below_100",
          "below_100",
          "no_savings",
          "below_100",
          "below_100",
          "no_savings",
          "below_500",
          "below_100",
          "below_100",
          "no_savings",
          "below_100",
          "below_100",
          "no_savings",
          "below_100",
          "below_100",
          "below_500",
          "below_1000",
          "no_savings",
          "below_100",
          "below_100",
          "above_1000",
          "below_100",
          "below_100",
          "above_1000",
          "below_100",
          "below_500",
          "no_savings",
          "above_1000",
          "below_1000",
          "no_savings",
          "below_100",
          "below_100",
          "below_100",
          "no_savings",
          "no_savings",
          "below_100",
          "below_1000",
          "below_500",
          "no_savings",
          "below_100",
          "no_savings",
          "no_savings",
          "below_100",
          "below_100",
          "below_100",
          "no_savings",
          "no_savings",
          "below_100",
          "below_100",
          "no_savings",
          "below_100",
          "below_100",
          "below_100",
          "below_100",
          "below_100",
          "below_100",
          "below_100",
          "below_100",
          "below_1000",
          "below_100",
          "below_100",
          "below_100",
          "below_100",
          "below_100",
          "below_100",
          "below_100",
          "below_100",
          "below_100",
          "below_100",
          "below_100",
          "no_savings",
          "no_savings",
          "below_1000",
          "below_100",
          "below_100",
          "no_savings",
          "below_100",
          "below_100",
          "no_savings",
          "below_100",
          "below_100",
          "below_100",
          "below_100",
          "below_100",
          "below_100",
          "below_100",
          "below_100",
          "no_savings",
          "no_savings",
          "below_100",
          "below_100",
          "below_100",
          "below_100",
          "no_savings",
          "below_100",
          "below_100",
          "below_100",
          "below_500",
          "no_savings",
          "below_100",
          "below_100",
          "below_500",
          "above_1000",
          "below_100",
          "below_100",
          "above_1000",
          "below_100",
          "below_1000",
          "below_100",
          "below_100",
          "no_savings",
          "below_100",
          "below_1000",
          "below_100",
          "below_500",
          "no_savings",
          "below_100",
          "above_1000",
          "below_100",
          "below_100",
          "below_100",
          "no_savings",
          "below_100",
          "no_savings",
          "no_savings",
          "below_100",
          "below_100",
          "below_100",
          "no_savings",
          "below_100",
          "below_100",
          "no_savings",
          "below_100",
          "below_100",
          "below_100",
          "below_100",
          "no_savings",
          "no_savings",
          "below_100",
          "above_1000",
          "no_savings",
          "below_100",
          "below_100",
          "no_savings",
          "no_savings",
          "no_savings",
          "below_100",
          "below_100",
          "no_savings",
          "no_savings",
          "below_100",
          "no_savings",
          "below_100",
          "below_100",
          "no_savings",
          "above_1000",
          "below_100",
          "below_100",
          "below_500",
          "below_100",
          "below_500",
          "below_100",
          "below_100",
          "below_1000",
          "below_100",
          "below_100",
          "below_100",
          "below_100",
          "below_100",
          "below_100",
          "no_savings",
          "below_100",
          "below_100",
          "below_100",
          "below_100",
          "below_1000",
          "below_100",
          "below_500",
          "below_100",
          "below_100",
          "below_100",
          "no_savings",
          "no_savings",
          "below_100",
          "no_savings",
          "below_100",
          "below_100",
          "below_1000",
          "below_1000",
          "no_savings",
          "below_100",
          "below_500",
          "below_100",
          "below_100",
          "below_1000",
          "below_100",
          "below_100",
          "above_1000",
          "no_savings",
          "below_100",
          "below_100",
          "below_500",
          "below_100",
          "below_100",
          "no_savings",
          "below_1000",
          "below_100",
          "no_savings",
          "below_1000",
          "below_100",
          "no_savings",
          "below_100",
          "below_500",
          "below_100",
          "below_100",
          "below_100",
          "below_100",
          "below_1000",
          "below_100",
          "no_savings",
          "below_100",
          "below_500",
          "below_100",
          "below_100",
          "below_500",
          "below_100",
          "below_100",
          "below_100",
          "below_100",
          "below_500",
          "below_100",
          "below_100",
          "no_savings",
          "below_500",
          "no_savings",
          "below_100",
          "no_savings",
          "below_100",
          "below_100",
          "below_100",
          "below_100",
          "below_500"
         ],
         "xaxis": "x",
         "yaxis": "y"
        }
       ],
       "layout": {
        "barmode": "relative",
        "font": {
         "color": "#8a8d93"
        },
        "height": 450,
        "hovermode": "x unified",
        "legend": {
         "orientation": "h",
         "tracegroupgap": 0,
         "x": 1,
         "xanchor": "right",
         "y": 1.02,
         "yanchor": "bottom"
        },
        "margin": {
         "b": 10,
         "l": 70,
         "r": 40,
         "t": 70
        },
        "paper_bgcolor": "#2d3035",
        "plot_bgcolor": "#2d3035",
        "template": {
         "data": {
          "bar": [
           {
            "error_x": {
             "color": "#2a3f5f"
            },
            "error_y": {
             "color": "#2a3f5f"
            },
            "marker": {
             "line": {
              "color": "#E5ECF6",
              "width": 0.5
             },
             "pattern": {
              "fillmode": "overlay",
              "size": 10,
              "solidity": 0.2
             }
            },
            "type": "bar"
           }
          ],
          "barpolar": [
           {
            "marker": {
             "line": {
              "color": "#E5ECF6",
              "width": 0.5
             },
             "pattern": {
              "fillmode": "overlay",
              "size": 10,
              "solidity": 0.2
             }
            },
            "type": "barpolar"
           }
          ],
          "carpet": [
           {
            "aaxis": {
             "endlinecolor": "#2a3f5f",
             "gridcolor": "white",
             "linecolor": "white",
             "minorgridcolor": "white",
             "startlinecolor": "#2a3f5f"
            },
            "baxis": {
             "endlinecolor": "#2a3f5f",
             "gridcolor": "white",
             "linecolor": "white",
             "minorgridcolor": "white",
             "startlinecolor": "#2a3f5f"
            },
            "type": "carpet"
           }
          ],
          "choropleth": [
           {
            "colorbar": {
             "outlinewidth": 0,
             "ticks": ""
            },
            "type": "choropleth"
           }
          ],
          "contour": [
           {
            "colorbar": {
             "outlinewidth": 0,
             "ticks": ""
            },
            "colorscale": [
             [
              0,
              "#0d0887"
             ],
             [
              0.1111111111111111,
              "#46039f"
             ],
             [
              0.2222222222222222,
              "#7201a8"
             ],
             [
              0.3333333333333333,
              "#9c179e"
             ],
             [
              0.4444444444444444,
              "#bd3786"
             ],
             [
              0.5555555555555556,
              "#d8576b"
             ],
             [
              0.6666666666666666,
              "#ed7953"
             ],
             [
              0.7777777777777778,
              "#fb9f3a"
             ],
             [
              0.8888888888888888,
              "#fdca26"
             ],
             [
              1,
              "#f0f921"
             ]
            ],
            "type": "contour"
           }
          ],
          "contourcarpet": [
           {
            "colorbar": {
             "outlinewidth": 0,
             "ticks": ""
            },
            "type": "contourcarpet"
           }
          ],
          "heatmap": [
           {
            "colorbar": {
             "outlinewidth": 0,
             "ticks": ""
            },
            "colorscale": [
             [
              0,
              "#0d0887"
             ],
             [
              0.1111111111111111,
              "#46039f"
             ],
             [
              0.2222222222222222,
              "#7201a8"
             ],
             [
              0.3333333333333333,
              "#9c179e"
             ],
             [
              0.4444444444444444,
              "#bd3786"
             ],
             [
              0.5555555555555556,
              "#d8576b"
             ],
             [
              0.6666666666666666,
              "#ed7953"
             ],
             [
              0.7777777777777778,
              "#fb9f3a"
             ],
             [
              0.8888888888888888,
              "#fdca26"
             ],
             [
              1,
              "#f0f921"
             ]
            ],
            "type": "heatmap"
           }
          ],
          "heatmapgl": [
           {
            "colorbar": {
             "outlinewidth": 0,
             "ticks": ""
            },
            "colorscale": [
             [
              0,
              "#0d0887"
             ],
             [
              0.1111111111111111,
              "#46039f"
             ],
             [
              0.2222222222222222,
              "#7201a8"
             ],
             [
              0.3333333333333333,
              "#9c179e"
             ],
             [
              0.4444444444444444,
              "#bd3786"
             ],
             [
              0.5555555555555556,
              "#d8576b"
             ],
             [
              0.6666666666666666,
              "#ed7953"
             ],
             [
              0.7777777777777778,
              "#fb9f3a"
             ],
             [
              0.8888888888888888,
              "#fdca26"
             ],
             [
              1,
              "#f0f921"
             ]
            ],
            "type": "heatmapgl"
           }
          ],
          "histogram": [
           {
            "marker": {
             "pattern": {
              "fillmode": "overlay",
              "size": 10,
              "solidity": 0.2
             }
            },
            "type": "histogram"
           }
          ],
          "histogram2d": [
           {
            "colorbar": {
             "outlinewidth": 0,
             "ticks": ""
            },
            "colorscale": [
             [
              0,
              "#0d0887"
             ],
             [
              0.1111111111111111,
              "#46039f"
             ],
             [
              0.2222222222222222,
              "#7201a8"
             ],
             [
              0.3333333333333333,
              "#9c179e"
             ],
             [
              0.4444444444444444,
              "#bd3786"
             ],
             [
              0.5555555555555556,
              "#d8576b"
             ],
             [
              0.6666666666666666,
              "#ed7953"
             ],
             [
              0.7777777777777778,
              "#fb9f3a"
             ],
             [
              0.8888888888888888,
              "#fdca26"
             ],
             [
              1,
              "#f0f921"
             ]
            ],
            "type": "histogram2d"
           }
          ],
          "histogram2dcontour": [
           {
            "colorbar": {
             "outlinewidth": 0,
             "ticks": ""
            },
            "colorscale": [
             [
              0,
              "#0d0887"
             ],
             [
              0.1111111111111111,
              "#46039f"
             ],
             [
              0.2222222222222222,
              "#7201a8"
             ],
             [
              0.3333333333333333,
              "#9c179e"
             ],
             [
              0.4444444444444444,
              "#bd3786"
             ],
             [
              0.5555555555555556,
              "#d8576b"
             ],
             [
              0.6666666666666666,
              "#ed7953"
             ],
             [
              0.7777777777777778,
              "#fb9f3a"
             ],
             [
              0.8888888888888888,
              "#fdca26"
             ],
             [
              1,
              "#f0f921"
             ]
            ],
            "type": "histogram2dcontour"
           }
          ],
          "mesh3d": [
           {
            "colorbar": {
             "outlinewidth": 0,
             "ticks": ""
            },
            "type": "mesh3d"
           }
          ],
          "parcoords": [
           {
            "line": {
             "colorbar": {
              "outlinewidth": 0,
              "ticks": ""
             }
            },
            "type": "parcoords"
           }
          ],
          "pie": [
           {
            "automargin": true,
            "type": "pie"
           }
          ],
          "scatter": [
           {
            "fillpattern": {
             "fillmode": "overlay",
             "size": 10,
             "solidity": 0.2
            },
            "type": "scatter"
           }
          ],
          "scatter3d": [
           {
            "line": {
             "colorbar": {
              "outlinewidth": 0,
              "ticks": ""
             }
            },
            "marker": {
             "colorbar": {
              "outlinewidth": 0,
              "ticks": ""
             }
            },
            "type": "scatter3d"
           }
          ],
          "scattercarpet": [
           {
            "marker": {
             "colorbar": {
              "outlinewidth": 0,
              "ticks": ""
             }
            },
            "type": "scattercarpet"
           }
          ],
          "scattergeo": [
           {
            "marker": {
             "colorbar": {
              "outlinewidth": 0,
              "ticks": ""
             }
            },
            "type": "scattergeo"
           }
          ],
          "scattergl": [
           {
            "marker": {
             "colorbar": {
              "outlinewidth": 0,
              "ticks": ""
             }
            },
            "type": "scattergl"
           }
          ],
          "scattermapbox": [
           {
            "marker": {
             "colorbar": {
              "outlinewidth": 0,
              "ticks": ""
             }
            },
            "type": "scattermapbox"
           }
          ],
          "scatterpolar": [
           {
            "marker": {
             "colorbar": {
              "outlinewidth": 0,
              "ticks": ""
             }
            },
            "type": "scatterpolar"
           }
          ],
          "scatterpolargl": [
           {
            "marker": {
             "colorbar": {
              "outlinewidth": 0,
              "ticks": ""
             }
            },
            "type": "scatterpolargl"
           }
          ],
          "scatterternary": [
           {
            "marker": {
             "colorbar": {
              "outlinewidth": 0,
              "ticks": ""
             }
            },
            "type": "scatterternary"
           }
          ],
          "surface": [
           {
            "colorbar": {
             "outlinewidth": 0,
             "ticks": ""
            },
            "colorscale": [
             [
              0,
              "#0d0887"
             ],
             [
              0.1111111111111111,
              "#46039f"
             ],
             [
              0.2222222222222222,
              "#7201a8"
             ],
             [
              0.3333333333333333,
              "#9c179e"
             ],
             [
              0.4444444444444444,
              "#bd3786"
             ],
             [
              0.5555555555555556,
              "#d8576b"
             ],
             [
              0.6666666666666666,
              "#ed7953"
             ],
             [
              0.7777777777777778,
              "#fb9f3a"
             ],
             [
              0.8888888888888888,
              "#fdca26"
             ],
             [
              1,
              "#f0f921"
             ]
            ],
            "type": "surface"
           }
          ],
          "table": [
           {
            "cells": {
             "fill": {
              "color": "#EBF0F8"
             },
             "line": {
              "color": "white"
             }
            },
            "header": {
             "fill": {
              "color": "#C8D4E3"
             },
             "line": {
              "color": "white"
             }
            },
            "type": "table"
           }
          ]
         },
         "layout": {
          "annotationdefaults": {
           "arrowcolor": "#2a3f5f",
           "arrowhead": 0,
           "arrowwidth": 1
          },
          "autotypenumbers": "strict",
          "coloraxis": {
           "colorbar": {
            "outlinewidth": 0,
            "ticks": ""
           }
          },
          "colorscale": {
           "diverging": [
            [
             0,
             "#8e0152"
            ],
            [
             0.1,
             "#c51b7d"
            ],
            [
             0.2,
             "#de77ae"
            ],
            [
             0.3,
             "#f1b6da"
            ],
            [
             0.4,
             "#fde0ef"
            ],
            [
             0.5,
             "#f7f7f7"
            ],
            [
             0.6,
             "#e6f5d0"
            ],
            [
             0.7,
             "#b8e186"
            ],
            [
             0.8,
             "#7fbc41"
            ],
            [
             0.9,
             "#4d9221"
            ],
            [
             1,
             "#276419"
            ]
           ],
           "sequential": [
            [
             0,
             "#0d0887"
            ],
            [
             0.1111111111111111,
             "#46039f"
            ],
            [
             0.2222222222222222,
             "#7201a8"
            ],
            [
             0.3333333333333333,
             "#9c179e"
            ],
            [
             0.4444444444444444,
             "#bd3786"
            ],
            [
             0.5555555555555556,
             "#d8576b"
            ],
            [
             0.6666666666666666,
             "#ed7953"
            ],
            [
             0.7777777777777778,
             "#fb9f3a"
            ],
            [
             0.8888888888888888,
             "#fdca26"
            ],
            [
             1,
             "#f0f921"
            ]
           ],
           "sequentialminus": [
            [
             0,
             "#0d0887"
            ],
            [
             0.1111111111111111,
             "#46039f"
            ],
            [
             0.2222222222222222,
             "#7201a8"
            ],
            [
             0.3333333333333333,
             "#9c179e"
            ],
            [
             0.4444444444444444,
             "#bd3786"
            ],
            [
             0.5555555555555556,
             "#d8576b"
            ],
            [
             0.6666666666666666,
             "#ed7953"
            ],
            [
             0.7777777777777778,
             "#fb9f3a"
            ],
            [
             0.8888888888888888,
             "#fdca26"
            ],
            [
             1,
             "#f0f921"
            ]
           ]
          },
          "colorway": [
           "#636efa",
           "#EF553B",
           "#00cc96",
           "#ab63fa",
           "#FFA15A",
           "#19d3f3",
           "#FF6692",
           "#B6E880",
           "#FF97FF",
           "#FECB52"
          ],
          "font": {
           "color": "#2a3f5f"
          },
          "geo": {
           "bgcolor": "white",
           "lakecolor": "white",
           "landcolor": "#E5ECF6",
           "showlakes": true,
           "showland": true,
           "subunitcolor": "white"
          },
          "hoverlabel": {
           "align": "left"
          },
          "hovermode": "closest",
          "mapbox": {
           "style": "light"
          },
          "paper_bgcolor": "white",
          "plot_bgcolor": "#E5ECF6",
          "polar": {
           "angularaxis": {
            "gridcolor": "white",
            "linecolor": "white",
            "ticks": ""
           },
           "bgcolor": "#E5ECF6",
           "radialaxis": {
            "gridcolor": "white",
            "linecolor": "white",
            "ticks": ""
           }
          },
          "scene": {
           "xaxis": {
            "backgroundcolor": "#E5ECF6",
            "gridcolor": "white",
            "gridwidth": 2,
            "linecolor": "white",
            "showbackground": true,
            "ticks": "",
            "zerolinecolor": "white"
           },
           "yaxis": {
            "backgroundcolor": "#E5ECF6",
            "gridcolor": "white",
            "gridwidth": 2,
            "linecolor": "white",
            "showbackground": true,
            "ticks": "",
            "zerolinecolor": "white"
           },
           "zaxis": {
            "backgroundcolor": "#E5ECF6",
            "gridcolor": "white",
            "gridwidth": 2,
            "linecolor": "white",
            "showbackground": true,
            "ticks": "",
            "zerolinecolor": "white"
           }
          },
          "shapedefaults": {
           "line": {
            "color": "#2a3f5f"
           }
          },
          "ternary": {
           "aaxis": {
            "gridcolor": "white",
            "linecolor": "white",
            "ticks": ""
           },
           "baxis": {
            "gridcolor": "white",
            "linecolor": "white",
            "ticks": ""
           },
           "bgcolor": "#E5ECF6",
           "caxis": {
            "gridcolor": "white",
            "linecolor": "white",
            "ticks": ""
           }
          },
          "title": {
           "x": 0.05
          },
          "xaxis": {
           "automargin": true,
           "gridcolor": "white",
           "linecolor": "white",
           "ticks": "",
           "title": {
            "standoff": 15
           },
           "zerolinecolor": "white",
           "zerolinewidth": 2
          },
          "yaxis": {
           "automargin": true,
           "gridcolor": "white",
           "linecolor": "white",
           "ticks": "",
           "title": {
            "standoff": 15
           },
           "zerolinecolor": "white",
           "zerolinewidth": 2
          }
         }
        },
        "title": {
         "font": {
          "color": "#a5a7ab",
          "family": "Muli, sans-serif",
          "size": 25
         },
         "text": "Average_Credit_Balance"
        },
        "xaxis": {
         "anchor": "y",
         "categoryorder": "total descending",
         "domain": [
          0,
          1
         ],
         "tickangle": 0,
         "title": {
          "text": " "
         }
        },
        "yaxis": {
         "anchor": "x",
         "domain": [
          0,
          1
         ],
         "title": {
          "text": " "
         }
        }
       }
      }
     },
     "metadata": {},
     "output_type": "display_data"
    }
   ],
   "source": [
    "pup = px.histogram(ds, x='Average_Credit_Balance',\n",
    "                         title='Average_Credit_Balance', height=450,\n",
    "                         color_discrete_sequence=['#03DAC5'],\n",
    "                         )\n",
    "pup.update_xaxes(categoryorder='total descending')\n",
    "\n",
    "pup.update_layout(margin=dict(t=70, b=10, l=70, r=40),\n",
    "                        hovermode=\"x unified\",\n",
    "                        xaxis_tickangle=360,\n",
    "                        xaxis_title=' ', yaxis_title=\" \",\n",
    "                        plot_bgcolor='#2d3035', paper_bgcolor='#2d3035',\n",
    "                        title_font=dict(size=25, color='#a5a7ab', family=\"Muli, sans-serif\"),\n",
    "                        font=dict(color='#8a8d93'),\n",
    "                        legend=dict(orientation=\"h\", yanchor=\"bottom\", y=1.02, xanchor=\"right\", x=1))\n",
    "pup"
   ]
  },
  {
   "cell_type": "markdown",
   "metadata": {},
   "source": [
    "Most customers have an average available balance of $100"
   ]
  },
  {
   "cell_type": "markdown",
   "metadata": {},
   "source": [
    "Most of customer invest in cars than they do other investment> Followed by real estate"
   ]
  },
  {
   "cell_type": "code",
   "execution_count": 70,
   "metadata": {},
   "outputs": [
    {
     "data": {
      "application/vnd.plotly.v1+json": {
       "config": {
        "plotlyServerURL": "https://plot.ly"
       },
       "data": [
        {
         "alignmentgroup": "True",
         "bingroup": "x",
         "hovertemplate": "job=%{x}<br>count=%{y}<extra></extra>",
         "legendgroup": "",
         "marker": {
          "color": "#636efa",
          "pattern": {
           "shape": ""
          }
         },
         "name": "",
         "offsetgroup": "",
         "orientation": "v",
         "showlegend": false,
         "type": "histogram",
         "x": [
          "skilled",
          "skilled",
          "unskilled",
          "skilled",
          "skilled",
          "unskilled",
          "skilled",
          "self_employed",
          "unskilled",
          "self_employed",
          "skilled",
          "skilled",
          "skilled",
          "unskilled",
          "skilled",
          "unskilled",
          "skilled",
          "skilled",
          "self_employed",
          "skilled",
          "skilled",
          "skilled",
          "unskilled",
          "skilled",
          "skilled",
          "unskilled",
          "unskilled",
          "skilled",
          "skilled",
          "skilled",
          "skilled",
          "skilled",
          "skilled",
          "unskilled",
          "self_employed",
          "unskilled",
          "skilled",
          "skilled",
          "skilled",
          "skilled",
          "self_employed",
          "skilled",
          "unskilled",
          "skilled",
          "unskilled",
          "self_employed",
          "skilled",
          "unemeployed",
          "unskilled",
          "skilled",
          "unskilled",
          "self_employed",
          "skilled",
          "skilled",
          "skilled",
          "unskilled",
          "self_employed",
          "skilled",
          "self_employed",
          "unskilled",
          "skilled",
          "skilled",
          "self_employed",
          "skilled",
          "skilled",
          "skilled",
          "skilled",
          "skilled",
          "skilled",
          "skilled",
          "skilled",
          "unskilled",
          "self_employed",
          "unskilled",
          "self_employed",
          "self_employed",
          "skilled",
          "skilled",
          "unskilled",
          "skilled",
          "skilled",
          "skilled",
          "unskilled",
          "unskilled",
          "unskilled",
          "self_employed",
          "skilled",
          "skilled",
          "self_employed",
          "skilled",
          "skilled",
          "skilled",
          "unskilled",
          "skilled",
          "skilled",
          "skilled",
          "skilled",
          "skilled",
          "skilled",
          "self_employed",
          "unskilled",
          "skilled",
          "skilled",
          "skilled",
          "skilled",
          "self_employed",
          "self_employed",
          "skilled",
          "skilled",
          "skilled",
          "skilled",
          "skilled",
          "unskilled",
          "skilled",
          "skilled",
          "skilled",
          "self_employed",
          "skilled",
          "skilled",
          "self_employed",
          "skilled",
          "self_employed",
          "unskilled",
          "skilled",
          "skilled",
          "skilled",
          "unskilled",
          "skilled",
          "self_employed",
          "skilled",
          "skilled",
          "skilled",
          "unskilled",
          "skilled",
          "skilled",
          "skilled",
          "skilled",
          "unskilled",
          "skilled",
          "unskilled",
          "unemeployed",
          "self_employed",
          "self_employed",
          "skilled",
          "skilled",
          "skilled",
          "skilled",
          "skilled",
          "skilled",
          "skilled",
          "skilled",
          "skilled",
          "skilled",
          "skilled",
          "self_employed",
          "skilled",
          "skilled",
          "unskilled",
          "skilled",
          "unskilled",
          "skilled",
          "skilled",
          "skilled",
          "self_employed",
          "skilled",
          "skilled",
          "skilled",
          "skilled",
          "skilled",
          "skilled",
          "skilled",
          "skilled",
          "self_employed",
          "skilled",
          "skilled",
          "self_employed",
          "skilled",
          "skilled",
          "self_employed",
          "skilled",
          "skilled",
          "self_employed",
          "unskilled",
          "skilled",
          "skilled",
          "skilled",
          "self_employed",
          "unemeployed",
          "skilled",
          "skilled",
          "self_employed",
          "unskilled",
          "skilled",
          "skilled",
          "skilled",
          "self_employed",
          "skilled",
          "skilled",
          "skilled",
          "self_employed",
          "skilled",
          "unskilled",
          "skilled",
          "skilled",
          "unskilled",
          "self_employed",
          "skilled",
          "skilled",
          "unskilled",
          "skilled",
          "skilled",
          "unskilled",
          "skilled",
          "self_employed",
          "skilled",
          "unskilled",
          "skilled",
          "skilled",
          "unskilled",
          "skilled",
          "unskilled",
          "skilled",
          "skilled",
          "skilled",
          "skilled",
          "skilled",
          "skilled",
          "self_employed",
          "skilled",
          "skilled",
          "skilled",
          "unskilled",
          "skilled",
          "unskilled",
          "unskilled",
          "self_employed",
          "unemeployed",
          "unskilled",
          "skilled",
          "skilled",
          "skilled",
          "skilled",
          "skilled",
          "skilled",
          "unskilled",
          "skilled",
          "skilled",
          "skilled",
          "skilled",
          "skilled",
          "unskilled",
          "unskilled",
          "skilled",
          "skilled",
          "skilled",
          "unskilled",
          "unskilled",
          "skilled",
          "skilled",
          "unskilled",
          "skilled",
          "skilled",
          "self_employed",
          "unskilled",
          "unskilled",
          "skilled",
          "skilled",
          "skilled",
          "self_employed",
          "skilled",
          "skilled",
          "skilled",
          "self_employed",
          "skilled",
          "unskilled",
          "skilled",
          "skilled",
          "unskilled",
          "skilled",
          "self_employed",
          "skilled",
          "skilled",
          "unskilled",
          "skilled",
          "skilled",
          "unskilled",
          "skilled",
          "self_employed",
          "skilled",
          "skilled",
          "skilled",
          "self_employed",
          "self_employed",
          "skilled",
          "self_employed",
          "skilled",
          "skilled",
          "unskilled",
          "skilled",
          "skilled",
          "unemeployed",
          "skilled",
          "unskilled",
          "skilled",
          "skilled",
          "skilled",
          "unskilled",
          "unskilled",
          "skilled",
          "unskilled",
          "unemeployed",
          "skilled",
          "skilled",
          "unskilled",
          "unskilled",
          "skilled",
          "unskilled",
          "unskilled",
          "skilled",
          "unskilled",
          "self_employed",
          "skilled",
          "self_employed",
          "skilled",
          "skilled",
          "unskilled",
          "skilled",
          "skilled",
          "skilled",
          "skilled",
          "self_employed",
          "skilled",
          "self_employed",
          "unskilled",
          "skilled",
          "self_employed",
          "unskilled",
          "skilled",
          "skilled",
          "unskilled",
          "skilled",
          "unskilled",
          "skilled",
          "self_employed",
          "unskilled",
          "unskilled",
          "skilled",
          "unemeployed",
          "unskilled",
          "skilled",
          "skilled",
          "skilled",
          "self_employed",
          "skilled",
          "skilled",
          "unskilled",
          "skilled",
          "self_employed",
          "skilled",
          "skilled",
          "skilled",
          "self_employed",
          "skilled",
          "skilled",
          "unemeployed",
          "skilled",
          "skilled",
          "skilled",
          "skilled",
          "skilled",
          "skilled",
          "skilled",
          "skilled",
          "self_employed",
          "self_employed",
          "skilled",
          "skilled",
          "skilled",
          "self_employed",
          "unskilled",
          "skilled",
          "self_employed",
          "skilled",
          "skilled",
          "unskilled",
          "skilled",
          "skilled",
          "self_employed",
          "skilled",
          "skilled",
          "self_employed",
          "unskilled",
          "self_employed",
          "skilled",
          "self_employed",
          "skilled",
          "self_employed",
          "skilled",
          "skilled",
          "unskilled",
          "skilled",
          "skilled",
          "skilled",
          "unskilled",
          "skilled",
          "skilled",
          "skilled",
          "skilled",
          "self_employed",
          "skilled",
          "skilled",
          "self_employed",
          "self_employed",
          "unskilled",
          "skilled",
          "skilled",
          "unskilled",
          "skilled",
          "self_employed",
          "skilled",
          "skilled",
          "skilled",
          "unskilled",
          "self_employed",
          "skilled",
          "skilled",
          "skilled",
          "skilled",
          "skilled",
          "unemeployed",
          "unskilled",
          "self_employed",
          "self_employed",
          "skilled",
          "skilled",
          "skilled",
          "unskilled",
          "skilled",
          "unemeployed",
          "unemeployed",
          "self_employed",
          "skilled",
          "skilled",
          "unskilled",
          "self_employed",
          "unskilled",
          "skilled",
          "skilled",
          "self_employed",
          "skilled",
          "self_employed",
          "skilled",
          "skilled",
          "self_employed",
          "skilled",
          "self_employed",
          "skilled",
          "skilled",
          "skilled",
          "skilled",
          "skilled",
          "skilled",
          "self_employed",
          "skilled",
          "skilled",
          "skilled",
          "unskilled",
          "skilled",
          "skilled",
          "unskilled",
          "skilled",
          "skilled",
          "unskilled",
          "self_employed",
          "skilled",
          "skilled",
          "skilled",
          "skilled",
          "unskilled",
          "skilled",
          "unskilled",
          "skilled",
          "skilled",
          "skilled",
          "skilled",
          "self_employed",
          "skilled",
          "skilled",
          "unskilled",
          "skilled",
          "skilled",
          "self_employed",
          "skilled",
          "skilled",
          "unskilled",
          "skilled",
          "self_employed",
          "skilled",
          "unskilled",
          "skilled",
          "skilled",
          "skilled",
          "skilled",
          "skilled",
          "skilled",
          "unskilled",
          "skilled",
          "self_employed",
          "skilled",
          "self_employed",
          "skilled",
          "self_employed",
          "skilled",
          "skilled",
          "skilled",
          "skilled",
          "unskilled",
          "skilled",
          "skilled",
          "skilled",
          "skilled",
          "skilled",
          "skilled",
          "skilled",
          "unskilled",
          "skilled",
          "skilled",
          "unskilled",
          "skilled",
          "unskilled",
          "skilled",
          "skilled",
          "skilled",
          "skilled",
          "skilled",
          "skilled",
          "self_employed",
          "skilled",
          "self_employed",
          "unskilled",
          "skilled",
          "skilled",
          "skilled",
          "unskilled",
          "unskilled",
          "skilled",
          "skilled",
          "skilled",
          "unskilled",
          "skilled",
          "skilled",
          "unskilled",
          "skilled",
          "skilled",
          "self_employed",
          "skilled",
          "skilled",
          "skilled",
          "skilled",
          "unskilled",
          "skilled",
          "unskilled",
          "skilled",
          "skilled",
          "self_employed",
          "skilled",
          "skilled",
          "skilled",
          "skilled",
          "skilled",
          "unskilled",
          "skilled",
          "self_employed",
          "unskilled",
          "unskilled",
          "skilled",
          "skilled",
          "skilled",
          "skilled",
          "unskilled",
          "skilled",
          "unskilled",
          "skilled",
          "unskilled",
          "self_employed",
          "skilled",
          "skilled",
          "unskilled",
          "unskilled",
          "skilled",
          "unskilled",
          "skilled",
          "unskilled",
          "unskilled",
          "self_employed",
          "unskilled",
          "skilled",
          "unskilled",
          "skilled",
          "skilled",
          "skilled",
          "skilled",
          "unskilled",
          "self_employed",
          "skilled",
          "skilled",
          "self_employed",
          "skilled",
          "skilled",
          "skilled",
          "skilled",
          "unskilled",
          "skilled",
          "skilled",
          "skilled",
          "self_employed",
          "self_employed",
          "skilled",
          "skilled",
          "unskilled",
          "skilled",
          "skilled",
          "skilled",
          "skilled",
          "skilled",
          "skilled",
          "skilled",
          "skilled",
          "skilled",
          "unskilled",
          "skilled",
          "skilled",
          "skilled",
          "skilled",
          "unskilled",
          "skilled",
          "skilled",
          "skilled",
          "skilled",
          "skilled",
          "unemeployed",
          "unskilled",
          "self_employed",
          "skilled",
          "self_employed",
          "skilled",
          "skilled",
          "skilled",
          "skilled",
          "unskilled",
          "self_employed",
          "unskilled",
          "skilled",
          "self_employed",
          "skilled",
          "skilled",
          "unskilled",
          "skilled",
          "skilled",
          "skilled",
          "skilled",
          "skilled",
          "skilled",
          "self_employed",
          "unskilled",
          "self_employed",
          "skilled",
          "skilled",
          "skilled",
          "skilled",
          "unskilled",
          "skilled",
          "self_employed",
          "skilled",
          "unskilled",
          "self_employed",
          "skilled",
          "skilled",
          "unskilled",
          "skilled",
          "skilled",
          "skilled",
          "skilled",
          "skilled",
          "unskilled",
          "skilled",
          "skilled",
          "skilled",
          "skilled",
          "skilled",
          "skilled",
          "unskilled",
          "skilled",
          "unskilled",
          "skilled",
          "skilled",
          "skilled",
          "unemeployed",
          "skilled",
          "self_employed",
          "unskilled",
          "skilled",
          "skilled",
          "skilled",
          "skilled",
          "skilled",
          "skilled",
          "skilled",
          "skilled",
          "unskilled",
          "self_employed",
          "skilled",
          "self_employed",
          "unskilled",
          "self_employed",
          "skilled",
          "skilled",
          "self_employed",
          "skilled",
          "skilled",
          "self_employed",
          "skilled",
          "unskilled",
          "unskilled",
          "skilled",
          "unskilled",
          "unskilled",
          "skilled",
          "skilled",
          "skilled",
          "skilled",
          "unskilled",
          "unskilled",
          "skilled",
          "skilled",
          "unemeployed",
          "self_employed",
          "unskilled",
          "self_employed",
          "unskilled",
          "skilled",
          "unskilled",
          "skilled",
          "skilled",
          "self_employed",
          "unskilled",
          "skilled",
          "unskilled",
          "skilled",
          "skilled",
          "skilled",
          "unskilled",
          "unskilled",
          "skilled",
          "skilled",
          "skilled",
          "unemeployed",
          "skilled",
          "skilled",
          "skilled",
          "skilled",
          "skilled",
          "unskilled",
          "self_employed",
          "skilled",
          "unskilled",
          "unskilled",
          "skilled",
          "skilled",
          "unskilled",
          "skilled",
          "self_employed",
          "self_employed",
          "skilled",
          "unemeployed",
          "skilled",
          "skilled",
          "skilled",
          "self_employed",
          "skilled",
          "skilled",
          "skilled",
          "unskilled",
          "unskilled",
          "self_employed",
          "unskilled",
          "skilled",
          "skilled",
          "skilled",
          "skilled",
          "skilled",
          "self_employed",
          "skilled",
          "skilled",
          "skilled",
          "skilled",
          "skilled",
          "unskilled",
          "skilled",
          "unemeployed",
          "skilled",
          "unskilled",
          "skilled",
          "skilled",
          "unemeployed",
          "skilled",
          "unskilled",
          "skilled",
          "self_employed",
          "unemeployed",
          "skilled",
          "unskilled",
          "skilled",
          "skilled",
          "skilled",
          "skilled",
          "skilled",
          "skilled",
          "self_employed",
          "skilled",
          "skilled",
          "skilled",
          "skilled",
          "unskilled",
          "self_employed",
          "skilled",
          "skilled",
          "skilled",
          "skilled",
          "skilled",
          "skilled",
          "skilled",
          "skilled",
          "skilled",
          "unskilled",
          "skilled",
          "skilled",
          "unskilled",
          "skilled",
          "skilled",
          "skilled",
          "unskilled",
          "skilled",
          "skilled",
          "skilled",
          "skilled",
          "skilled",
          "skilled",
          "skilled",
          "unskilled",
          "skilled",
          "skilled",
          "skilled",
          "unskilled",
          "skilled",
          "skilled",
          "skilled",
          "skilled",
          "skilled",
          "skilled",
          "skilled",
          "skilled",
          "skilled",
          "unskilled",
          "unskilled",
          "skilled",
          "skilled",
          "skilled",
          "skilled",
          "skilled",
          "skilled",
          "skilled",
          "skilled",
          "skilled",
          "unskilled",
          "skilled",
          "self_employed",
          "skilled",
          "self_employed",
          "skilled",
          "self_employed",
          "skilled",
          "skilled",
          "unemeployed",
          "skilled",
          "skilled",
          "skilled",
          "skilled",
          "self_employed",
          "skilled",
          "self_employed",
          "skilled",
          "unskilled",
          "skilled",
          "skilled",
          "self_employed",
          "self_employed",
          "skilled",
          "unskilled",
          "skilled",
          "skilled",
          "skilled",
          "skilled",
          "skilled",
          "self_employed",
          "self_employed",
          "unskilled",
          "skilled",
          "unskilled",
          "unskilled",
          "skilled",
          "unskilled",
          "skilled",
          "skilled",
          "skilled",
          "self_employed",
          "skilled",
          "self_employed",
          "skilled",
          "self_employed",
          "skilled",
          "self_employed",
          "skilled",
          "skilled",
          "skilled",
          "skilled",
          "skilled",
          "skilled",
          "skilled",
          "unskilled",
          "unskilled",
          "skilled",
          "skilled",
          "skilled",
          "skilled",
          "self_employed",
          "unskilled",
          "self_employed",
          "skilled",
          "self_employed",
          "self_employed",
          "unskilled",
          "skilled",
          "unskilled",
          "skilled",
          "skilled",
          "skilled",
          "self_employed",
          "unskilled",
          "skilled",
          "unemeployed",
          "skilled",
          "skilled",
          "self_employed",
          "skilled",
          "self_employed",
          "unskilled",
          "unskilled",
          "unskilled",
          "skilled",
          "skilled",
          "skilled",
          "skilled",
          "skilled",
          "unskilled",
          "skilled",
          "unskilled",
          "self_employed",
          "skilled",
          "unskilled",
          "skilled",
          "unskilled",
          "unemeployed",
          "skilled",
          "skilled",
          "unskilled",
          "skilled",
          "skilled",
          "unskilled",
          "skilled",
          "skilled",
          "self_employed",
          "self_employed",
          "skilled",
          "unskilled",
          "skilled",
          "skilled",
          "skilled",
          "self_employed",
          "unskilled",
          "unskilled",
          "unskilled",
          "unskilled",
          "self_employed",
          "skilled",
          "unskilled",
          "self_employed",
          "skilled",
          "skilled",
          "skilled"
         ],
         "xaxis": "x",
         "yaxis": "y"
        }
       ],
       "layout": {
        "barmode": "relative",
        "height": 400,
        "legend": {
         "tracegroupgap": 0
        },
        "template": {
         "data": {
          "bar": [
           {
            "error_x": {
             "color": "#2a3f5f"
            },
            "error_y": {
             "color": "#2a3f5f"
            },
            "marker": {
             "line": {
              "color": "#E5ECF6",
              "width": 0.5
             },
             "pattern": {
              "fillmode": "overlay",
              "size": 10,
              "solidity": 0.2
             }
            },
            "type": "bar"
           }
          ],
          "barpolar": [
           {
            "marker": {
             "line": {
              "color": "#E5ECF6",
              "width": 0.5
             },
             "pattern": {
              "fillmode": "overlay",
              "size": 10,
              "solidity": 0.2
             }
            },
            "type": "barpolar"
           }
          ],
          "carpet": [
           {
            "aaxis": {
             "endlinecolor": "#2a3f5f",
             "gridcolor": "white",
             "linecolor": "white",
             "minorgridcolor": "white",
             "startlinecolor": "#2a3f5f"
            },
            "baxis": {
             "endlinecolor": "#2a3f5f",
             "gridcolor": "white",
             "linecolor": "white",
             "minorgridcolor": "white",
             "startlinecolor": "#2a3f5f"
            },
            "type": "carpet"
           }
          ],
          "choropleth": [
           {
            "colorbar": {
             "outlinewidth": 0,
             "ticks": ""
            },
            "type": "choropleth"
           }
          ],
          "contour": [
           {
            "colorbar": {
             "outlinewidth": 0,
             "ticks": ""
            },
            "colorscale": [
             [
              0,
              "#0d0887"
             ],
             [
              0.1111111111111111,
              "#46039f"
             ],
             [
              0.2222222222222222,
              "#7201a8"
             ],
             [
              0.3333333333333333,
              "#9c179e"
             ],
             [
              0.4444444444444444,
              "#bd3786"
             ],
             [
              0.5555555555555556,
              "#d8576b"
             ],
             [
              0.6666666666666666,
              "#ed7953"
             ],
             [
              0.7777777777777778,
              "#fb9f3a"
             ],
             [
              0.8888888888888888,
              "#fdca26"
             ],
             [
              1,
              "#f0f921"
             ]
            ],
            "type": "contour"
           }
          ],
          "contourcarpet": [
           {
            "colorbar": {
             "outlinewidth": 0,
             "ticks": ""
            },
            "type": "contourcarpet"
           }
          ],
          "heatmap": [
           {
            "colorbar": {
             "outlinewidth": 0,
             "ticks": ""
            },
            "colorscale": [
             [
              0,
              "#0d0887"
             ],
             [
              0.1111111111111111,
              "#46039f"
             ],
             [
              0.2222222222222222,
              "#7201a8"
             ],
             [
              0.3333333333333333,
              "#9c179e"
             ],
             [
              0.4444444444444444,
              "#bd3786"
             ],
             [
              0.5555555555555556,
              "#d8576b"
             ],
             [
              0.6666666666666666,
              "#ed7953"
             ],
             [
              0.7777777777777778,
              "#fb9f3a"
             ],
             [
              0.8888888888888888,
              "#fdca26"
             ],
             [
              1,
              "#f0f921"
             ]
            ],
            "type": "heatmap"
           }
          ],
          "heatmapgl": [
           {
            "colorbar": {
             "outlinewidth": 0,
             "ticks": ""
            },
            "colorscale": [
             [
              0,
              "#0d0887"
             ],
             [
              0.1111111111111111,
              "#46039f"
             ],
             [
              0.2222222222222222,
              "#7201a8"
             ],
             [
              0.3333333333333333,
              "#9c179e"
             ],
             [
              0.4444444444444444,
              "#bd3786"
             ],
             [
              0.5555555555555556,
              "#d8576b"
             ],
             [
              0.6666666666666666,
              "#ed7953"
             ],
             [
              0.7777777777777778,
              "#fb9f3a"
             ],
             [
              0.8888888888888888,
              "#fdca26"
             ],
             [
              1,
              "#f0f921"
             ]
            ],
            "type": "heatmapgl"
           }
          ],
          "histogram": [
           {
            "marker": {
             "pattern": {
              "fillmode": "overlay",
              "size": 10,
              "solidity": 0.2
             }
            },
            "type": "histogram"
           }
          ],
          "histogram2d": [
           {
            "colorbar": {
             "outlinewidth": 0,
             "ticks": ""
            },
            "colorscale": [
             [
              0,
              "#0d0887"
             ],
             [
              0.1111111111111111,
              "#46039f"
             ],
             [
              0.2222222222222222,
              "#7201a8"
             ],
             [
              0.3333333333333333,
              "#9c179e"
             ],
             [
              0.4444444444444444,
              "#bd3786"
             ],
             [
              0.5555555555555556,
              "#d8576b"
             ],
             [
              0.6666666666666666,
              "#ed7953"
             ],
             [
              0.7777777777777778,
              "#fb9f3a"
             ],
             [
              0.8888888888888888,
              "#fdca26"
             ],
             [
              1,
              "#f0f921"
             ]
            ],
            "type": "histogram2d"
           }
          ],
          "histogram2dcontour": [
           {
            "colorbar": {
             "outlinewidth": 0,
             "ticks": ""
            },
            "colorscale": [
             [
              0,
              "#0d0887"
             ],
             [
              0.1111111111111111,
              "#46039f"
             ],
             [
              0.2222222222222222,
              "#7201a8"
             ],
             [
              0.3333333333333333,
              "#9c179e"
             ],
             [
              0.4444444444444444,
              "#bd3786"
             ],
             [
              0.5555555555555556,
              "#d8576b"
             ],
             [
              0.6666666666666666,
              "#ed7953"
             ],
             [
              0.7777777777777778,
              "#fb9f3a"
             ],
             [
              0.8888888888888888,
              "#fdca26"
             ],
             [
              1,
              "#f0f921"
             ]
            ],
            "type": "histogram2dcontour"
           }
          ],
          "mesh3d": [
           {
            "colorbar": {
             "outlinewidth": 0,
             "ticks": ""
            },
            "type": "mesh3d"
           }
          ],
          "parcoords": [
           {
            "line": {
             "colorbar": {
              "outlinewidth": 0,
              "ticks": ""
             }
            },
            "type": "parcoords"
           }
          ],
          "pie": [
           {
            "automargin": true,
            "type": "pie"
           }
          ],
          "scatter": [
           {
            "fillpattern": {
             "fillmode": "overlay",
             "size": 10,
             "solidity": 0.2
            },
            "type": "scatter"
           }
          ],
          "scatter3d": [
           {
            "line": {
             "colorbar": {
              "outlinewidth": 0,
              "ticks": ""
             }
            },
            "marker": {
             "colorbar": {
              "outlinewidth": 0,
              "ticks": ""
             }
            },
            "type": "scatter3d"
           }
          ],
          "scattercarpet": [
           {
            "marker": {
             "colorbar": {
              "outlinewidth": 0,
              "ticks": ""
             }
            },
            "type": "scattercarpet"
           }
          ],
          "scattergeo": [
           {
            "marker": {
             "colorbar": {
              "outlinewidth": 0,
              "ticks": ""
             }
            },
            "type": "scattergeo"
           }
          ],
          "scattergl": [
           {
            "marker": {
             "colorbar": {
              "outlinewidth": 0,
              "ticks": ""
             }
            },
            "type": "scattergl"
           }
          ],
          "scattermapbox": [
           {
            "marker": {
             "colorbar": {
              "outlinewidth": 0,
              "ticks": ""
             }
            },
            "type": "scattermapbox"
           }
          ],
          "scatterpolar": [
           {
            "marker": {
             "colorbar": {
              "outlinewidth": 0,
              "ticks": ""
             }
            },
            "type": "scatterpolar"
           }
          ],
          "scatterpolargl": [
           {
            "marker": {
             "colorbar": {
              "outlinewidth": 0,
              "ticks": ""
             }
            },
            "type": "scatterpolargl"
           }
          ],
          "scatterternary": [
           {
            "marker": {
             "colorbar": {
              "outlinewidth": 0,
              "ticks": ""
             }
            },
            "type": "scatterternary"
           }
          ],
          "surface": [
           {
            "colorbar": {
             "outlinewidth": 0,
             "ticks": ""
            },
            "colorscale": [
             [
              0,
              "#0d0887"
             ],
             [
              0.1111111111111111,
              "#46039f"
             ],
             [
              0.2222222222222222,
              "#7201a8"
             ],
             [
              0.3333333333333333,
              "#9c179e"
             ],
             [
              0.4444444444444444,
              "#bd3786"
             ],
             [
              0.5555555555555556,
              "#d8576b"
             ],
             [
              0.6666666666666666,
              "#ed7953"
             ],
             [
              0.7777777777777778,
              "#fb9f3a"
             ],
             [
              0.8888888888888888,
              "#fdca26"
             ],
             [
              1,
              "#f0f921"
             ]
            ],
            "type": "surface"
           }
          ],
          "table": [
           {
            "cells": {
             "fill": {
              "color": "#EBF0F8"
             },
             "line": {
              "color": "white"
             }
            },
            "header": {
             "fill": {
              "color": "#C8D4E3"
             },
             "line": {
              "color": "white"
             }
            },
            "type": "table"
           }
          ]
         },
         "layout": {
          "annotationdefaults": {
           "arrowcolor": "#2a3f5f",
           "arrowhead": 0,
           "arrowwidth": 1
          },
          "autotypenumbers": "strict",
          "coloraxis": {
           "colorbar": {
            "outlinewidth": 0,
            "ticks": ""
           }
          },
          "colorscale": {
           "diverging": [
            [
             0,
             "#8e0152"
            ],
            [
             0.1,
             "#c51b7d"
            ],
            [
             0.2,
             "#de77ae"
            ],
            [
             0.3,
             "#f1b6da"
            ],
            [
             0.4,
             "#fde0ef"
            ],
            [
             0.5,
             "#f7f7f7"
            ],
            [
             0.6,
             "#e6f5d0"
            ],
            [
             0.7,
             "#b8e186"
            ],
            [
             0.8,
             "#7fbc41"
            ],
            [
             0.9,
             "#4d9221"
            ],
            [
             1,
             "#276419"
            ]
           ],
           "sequential": [
            [
             0,
             "#0d0887"
            ],
            [
             0.1111111111111111,
             "#46039f"
            ],
            [
             0.2222222222222222,
             "#7201a8"
            ],
            [
             0.3333333333333333,
             "#9c179e"
            ],
            [
             0.4444444444444444,
             "#bd3786"
            ],
            [
             0.5555555555555556,
             "#d8576b"
            ],
            [
             0.6666666666666666,
             "#ed7953"
            ],
            [
             0.7777777777777778,
             "#fb9f3a"
            ],
            [
             0.8888888888888888,
             "#fdca26"
            ],
            [
             1,
             "#f0f921"
            ]
           ],
           "sequentialminus": [
            [
             0,
             "#0d0887"
            ],
            [
             0.1111111111111111,
             "#46039f"
            ],
            [
             0.2222222222222222,
             "#7201a8"
            ],
            [
             0.3333333333333333,
             "#9c179e"
            ],
            [
             0.4444444444444444,
             "#bd3786"
            ],
            [
             0.5555555555555556,
             "#d8576b"
            ],
            [
             0.6666666666666666,
             "#ed7953"
            ],
            [
             0.7777777777777778,
             "#fb9f3a"
            ],
            [
             0.8888888888888888,
             "#fdca26"
            ],
            [
             1,
             "#f0f921"
            ]
           ]
          },
          "colorway": [
           "#636efa",
           "#EF553B",
           "#00cc96",
           "#ab63fa",
           "#FFA15A",
           "#19d3f3",
           "#FF6692",
           "#B6E880",
           "#FF97FF",
           "#FECB52"
          ],
          "font": {
           "color": "#2a3f5f"
          },
          "geo": {
           "bgcolor": "white",
           "lakecolor": "white",
           "landcolor": "#E5ECF6",
           "showlakes": true,
           "showland": true,
           "subunitcolor": "white"
          },
          "hoverlabel": {
           "align": "left"
          },
          "hovermode": "closest",
          "mapbox": {
           "style": "light"
          },
          "paper_bgcolor": "white",
          "plot_bgcolor": "#E5ECF6",
          "polar": {
           "angularaxis": {
            "gridcolor": "white",
            "linecolor": "white",
            "ticks": ""
           },
           "bgcolor": "#E5ECF6",
           "radialaxis": {
            "gridcolor": "white",
            "linecolor": "white",
            "ticks": ""
           }
          },
          "scene": {
           "xaxis": {
            "backgroundcolor": "#E5ECF6",
            "gridcolor": "white",
            "gridwidth": 2,
            "linecolor": "white",
            "showbackground": true,
            "ticks": "",
            "zerolinecolor": "white"
           },
           "yaxis": {
            "backgroundcolor": "#E5ECF6",
            "gridcolor": "white",
            "gridwidth": 2,
            "linecolor": "white",
            "showbackground": true,
            "ticks": "",
            "zerolinecolor": "white"
           },
           "zaxis": {
            "backgroundcolor": "#E5ECF6",
            "gridcolor": "white",
            "gridwidth": 2,
            "linecolor": "white",
            "showbackground": true,
            "ticks": "",
            "zerolinecolor": "white"
           }
          },
          "shapedefaults": {
           "line": {
            "color": "#2a3f5f"
           }
          },
          "ternary": {
           "aaxis": {
            "gridcolor": "white",
            "linecolor": "white",
            "ticks": ""
           },
           "baxis": {
            "gridcolor": "white",
            "linecolor": "white",
            "ticks": ""
           },
           "bgcolor": "#E5ECF6",
           "caxis": {
            "gridcolor": "white",
            "linecolor": "white",
            "ticks": ""
           }
          },
          "title": {
           "x": 0.05
          },
          "xaxis": {
           "automargin": true,
           "gridcolor": "white",
           "linecolor": "white",
           "ticks": "",
           "title": {
            "standoff": 15
           },
           "zerolinecolor": "white",
           "zerolinewidth": 2
          },
          "yaxis": {
           "automargin": true,
           "gridcolor": "white",
           "linecolor": "white",
           "ticks": "",
           "title": {
            "standoff": 15
           },
           "zerolinecolor": "white",
           "zerolinewidth": 2
          }
         }
        },
        "title": {
         "text": "Empployment Status"
        },
        "width": 450,
        "xaxis": {
         "anchor": "y",
         "domain": [
          0,
          1
         ],
         "title": {
          "text": "job"
         }
        },
        "yaxis": {
         "anchor": "x",
         "domain": [
          0,
          1
         ],
         "title": {
          "text": "count"
         }
        }
       }
      }
     },
     "metadata": {},
     "output_type": "display_data"
    }
   ],
   "source": [
    "pup = px.histogram(ds, x= 'job',\n",
    "                         title='Empployment Status', height=400, width = 450)\n",
    "pup"
   ]
  },
  {
   "cell_type": "markdown",
   "metadata": {},
   "source": [
    "larger number of the customers are skilled workers, followed by unskilled workers, self employed, then unemployed"
   ]
  },
  {
   "cell_type": "markdown",
   "metadata": {},
   "source": [
    "##### BiVariate Analysis"
   ]
  },
  {
   "cell_type": "code",
   "execution_count": 71,
   "metadata": {},
   "outputs": [
    {
     "name": "stderr",
     "output_type": "stream",
     "text": [
      "c:\\Users\\BIOLA\\Desktop\\Data Science Projects\\Learnings\\Credit Fraud Detection\\fraud_ENV\\lib\\site-packages\\seaborn\\_decorators.py:43: FutureWarning:\n",
      "\n",
      "Pass the following variable as a keyword arg: x. From version 0.12, the only valid positional argument will be `data`, and passing other arguments without an explicit keyword will result in an error or misinterpretation.\n",
      "\n"
     ]
    },
    {
     "data": {
      "image/png": "[encoded data removed]",
      "text/plain": [
       "<Figure size 576x288 with 1 Axes>"
      ]
     },
     "metadata": {
      "needs_background": "light"
     },
     "output_type": "display_data"
    }
   ],
   "source": [
    "plt.figure(figsize=(8,4))\n",
    "sns.countplot(ds['housing'], palette= 'hls')\n",
    "# plt.xticks(rotation = 90)\n",
    "plt.show()"
   ]
  },
  {
   "cell_type": "code",
   "execution_count": 72,
   "metadata": {},
   "outputs": [
    {
     "data": {
      "text/plain": [
       "<AxesSubplot:xlabel='gender', ylabel='Count'>"
      ]
     },
     "execution_count": 72,
     "metadata": {},
     "output_type": "execute_result"
    },
    {
     "data": {
      "image/png": "[encoded data removed]",
      "text/plain": [
       "<Figure size 432x360 with 1 Axes>"
      ]
     },
     "metadata": {
      "needs_background": "light"
     },
     "output_type": "display_data"
    }
   ],
   "source": [
    "plt.figure(figsize=(6,5))\n",
    "sns.histplot(data = ds, x = 'gender', hue = 'employment', multiple = 'dodge', shrink = .8)"
   ]
  },
  {
   "cell_type": "markdown",
   "metadata": {},
   "source": [
    "There are more employed male than there are females"
   ]
  },
  {
   "cell_type": "code",
   "execution_count": 73,
   "metadata": {},
   "outputs": [
    {
     "data": {
      "text/plain": [
       "<AxesSubplot:xlabel='purpose', ylabel='Count'>"
      ]
     },
     "execution_count": 73,
     "metadata": {},
     "output_type": "execute_result"
    },
    {
     "data": {
      "image/png": "[encoded data removed]",
      "text/plain": [
       "<Figure size 1080x504 with 1 Axes>"
      ]
     },
     "metadata": {
      "needs_background": "light"
     },
     "output_type": "display_data"
    }
   ],
   "source": [
    "plt.figure(figsize=(15,7))\n",
    "sns.histplot(data = ds, x = 'purpose', hue = 'credit_history', multiple = 'dodge', shrink = .8)"
   ]
  },
  {
   "cell_type": "markdown",
   "metadata": {},
   "source": [
    "- Tendency of repayment is high on Radio/TV loan. Loan repayment for this purpose is also barely delayed.\n",
    "- Tendency of repayment is very low on repairs, used car, and other unspecified loans. It is critical on Education loans.\n",
    "- Tendency of repayment is also high on Equipment loan.\n",
    "Altogether, radio/tv is the best loan purpose based on high repayment history"
   ]
  },
  {
   "cell_type": "code",
   "execution_count": 74,
   "metadata": {},
   "outputs": [
    {
     "data": {
      "text/plain": [
       "<AxesSubplot:xlabel='job', ylabel='Count'>"
      ]
     },
     "execution_count": 74,
     "metadata": {},
     "output_type": "execute_result"
    },
    {
     "data": {
      "image/png": "[encoded data removed]",
      "text/plain": [
       "<Figure size 1080x504 with 1 Axes>"
      ]
     },
     "metadata": {
      "needs_background": "light"
     },
     "output_type": "display_data"
    }
   ],
   "source": [
    "plt.figure(figsize=(15,7))\n",
    "sns.histplot(data = ds, x = 'job', hue = 'credit_history', multiple = 'dodge', shrink = .8, palette= 'husl')"
   ]
  },
  {
   "cell_type": "markdown",
   "metadata": {},
   "source": [
    "- Skilled workers has high chance of repayment on loans\n",
    "- Unemployed has the least repayment tendency. "
   ]
  },
  {
   "cell_type": "code",
   "execution_count": 75,
   "metadata": {},
   "outputs": [
    {
     "data": {
      "text/plain": [
       "[Text(0.5, 1.0, 'Access to Overdraft')]"
      ]
     },
     "execution_count": 75,
     "metadata": {},
     "output_type": "execute_result"
    },
    {
     "data": {
      "image/png": "[encoded data removed]",
      "text/plain": [
       "<Figure size 1080x504 with 1 Axes>"
      ]
     },
     "metadata": {
      "needs_background": "light"
     },
     "output_type": "display_data"
    }
   ],
   "source": [
    "plt.figure(figsize=(15,7))\n",
    "sns.histplot(data = ds, y = 'job', hue = 'over_draft', multiple = 'dodge', shrink = .8, palette= 'Set2').set(title ='Access to Overdraft')"
   ]
  },
  {
   "cell_type": "code",
   "execution_count": 76,
   "metadata": {},
   "outputs": [
    {
     "data": {
      "text/plain": [
       "[Text(0.5, 1.0, 'Age grade and Overdraft')]"
      ]
     },
     "execution_count": 76,
     "metadata": {},
     "output_type": "execute_result"
    },
    {
     "data": {
      "image/png": "[encoded data removed]",
      "text/plain": [
       "<Figure size 1080x504 with 1 Axes>"
      ]
     },
     "metadata": {
      "needs_background": "light"
     },
     "output_type": "display_data"
    }
   ],
   "source": [
    "# Bin Current Balance to have a range\n",
    "\n",
    "dz = data.copy()\n",
    "dz['binned'] = pd.cut(x = ds['age'], bins = [19, 23, 27, 30, 35, 40, 50, 60, 75], \n",
    "                    labels = ['19 - 23', '24 - 27', '28 - 30', '30 - 35', '35 - 40', '41 - 50', '51 - 60', '61 - 75'])\n",
    "\n",
    "plt.figure(figsize=(15, 7))\n",
    "sns.histplot(data = dz, x= 'binned', hue = ds['over_draft'], multiple = 'dodge', \n",
    "                shrink = .8, palette= 'hls').set(title ='Age grade and Overdraft')\n"
   ]
  },
  {
   "cell_type": "markdown",
   "metadata": {},
   "source": [
    "A larger percentage is unchecked. But then we can pertinently say age grade 41-50 takes more overdraft"
   ]
  },
  {
   "cell_type": "code",
   "execution_count": 77,
   "metadata": {},
   "outputs": [
    {
     "data": {
      "text/plain": [
       "[Text(0.5, 1.0, 'Age grade and Average Credit Balance')]"
      ]
     },
     "execution_count": 77,
     "metadata": {},
     "output_type": "execute_result"
    },
    {
     "data": {
      "image/png": "[encoded data removed]",
      "text/plain": [
       "<Figure size 1296x504 with 1 Axes>"
      ]
     },
     "metadata": {
      "needs_background": "light"
     },
     "output_type": "display_data"
    }
   ],
   "source": [
    "plt.figure(figsize=(18, 7))\n",
    "sns.histplot(data = dz, x= 'binned', hue = ds['Average_Credit_Balance'], multiple = 'dodge', \n",
    "                shrink = .7).set(title ='Age grade and Average Credit Balance')"
   ]
  },
  {
   "cell_type": "code",
   "execution_count": 78,
   "metadata": {},
   "outputs": [
    {
     "data": {
      "text/plain": [
       "[Text(0.5, 1.0, 'Credit Balance and Property Ownership')]"
      ]
     },
     "execution_count": 78,
     "metadata": {},
     "output_type": "execute_result"
    },
    {
     "data": {
      "image/png": "[encoded data removed]",
      "text/plain": [
       "<Figure size 1080x648 with 1 Axes>"
      ]
     },
     "metadata": {
      "needs_background": "light"
     },
     "output_type": "display_data"
    }
   ],
   "source": [
    "plt.figure(figsize=(15, 9))\n",
    "sns.histplot(data = ds, y= 'Average_Credit_Balance', hue = 'property_magnitude', multiple = 'dodge', \n",
    "                shrink = .7).set(title ='Credit Balance and Property Ownership')"
   ]
  },
  {
   "cell_type": "markdown",
   "metadata": {},
   "source": [
    "- Customers that has credit balance below $100 has the highest ownership of cars, real estate, and real estate"
   ]
  },
  {
   "cell_type": "markdown",
   "metadata": {},
   "source": [
    "---------------------------------------------------- \n",
    "<h2 style='font-family:rockwell; color:#09917e'> Feature  Preprocessing and Selection"
   ]
  },
  {
   "cell_type": "code",
   "execution_count": 351,
   "metadata": {},
   "outputs": [
    {
     "name": "stdout",
     "output_type": "stream",
     "text": [
      "over_draft : 3\n",
      "credit_history : 3\n",
      "purpose : 10\n",
      "Average_Credit_Balance : 5\n",
      "employment : 2\n",
      "gender : 2\n",
      "other_parties : 3\n",
      "property_magnitude : 4\n",
      "other_payment_plans : 3\n",
      "housing : 3\n",
      "job : 4\n",
      "own_telephone : 2\n",
      "foreign_worker : 2\n",
      "class : 2\n"
     ]
    }
   ],
   "source": [
    "df = ds.copy()\n",
    "\n",
    "# Find the number of unique values in each categorical feature\n",
    "from enum import unique # Import unique library from enum\n",
    "\n",
    "cat = df.select_dtypes(include = 'object').columns.tolist()\n",
    "for i in df[cat]:\n",
    "    print(i,\":\", len(df[cat][i].unique()))"
   ]
  },
  {
   "cell_type": "code",
   "execution_count": 342,
   "metadata": {},
   "outputs": [
    {
     "data": {
      "text/plain": [
       "['credit_usage',\n",
       " 'current_balance',\n",
       " 'age',\n",
       " 'existing_credits',\n",
       " 'num_dependents']"
      ]
     },
     "execution_count": 342,
     "metadata": {},
     "output_type": "execute_result"
    }
   ],
   "source": [
    "cate = df.select_dtypes(exclude = 'object').columns.tolist()\n",
    "cate"
   ]
  },
  {
   "cell_type": "code",
   "execution_count": 352,
   "metadata": {},
   "outputs": [
    {
     "data": {
      "text/html": [
       "<div>\n",
       "<style scoped>\n",
       "    .dataframe tbody tr th:only-of-type {\n",
       "        vertical-align: middle;\n",
       "    }\n",
       "\n",
       "    .dataframe tbody tr th {\n",
       "        vertical-align: top;\n",
       "    }\n",
       "\n",
       "    .dataframe thead th {\n",
       "        text-align: right;\n",
       "    }\n",
       "</style>\n",
       "<table border=\"1\" class=\"dataframe\">\n",
       "  <thead>\n",
       "    <tr style=\"text-align: right;\">\n",
       "      <th></th>\n",
       "      <th>over_draft</th>\n",
       "      <th>credit_usage</th>\n",
       "      <th>credit_history</th>\n",
       "      <th>purpose</th>\n",
       "      <th>current_balance</th>\n",
       "      <th>Average_Credit_Balance</th>\n",
       "      <th>employment</th>\n",
       "      <th>gender</th>\n",
       "      <th>other_parties</th>\n",
       "      <th>property_magnitude</th>\n",
       "      <th>age</th>\n",
       "      <th>other_payment_plans</th>\n",
       "      <th>housing</th>\n",
       "      <th>existing_credits</th>\n",
       "      <th>job</th>\n",
       "      <th>num_dependents</th>\n",
       "      <th>own_telephone</th>\n",
       "      <th>foreign_worker</th>\n",
       "      <th>class</th>\n",
       "    </tr>\n",
       "  </thead>\n",
       "  <tbody>\n",
       "    <tr>\n",
       "      <th>0</th>\n",
       "      <td>0.0</td>\n",
       "      <td>6</td>\n",
       "      <td>1.0</td>\n",
       "      <td>6.0</td>\n",
       "      <td>1169</td>\n",
       "      <td>4.0</td>\n",
       "      <td>0.0</td>\n",
       "      <td>1.0</td>\n",
       "      <td>2.0</td>\n",
       "      <td>3.0</td>\n",
       "      <td>67</td>\n",
       "      <td>1.0</td>\n",
       "      <td>1.0</td>\n",
       "      <td>2</td>\n",
       "      <td>1.0</td>\n",
       "      <td>1</td>\n",
       "      <td>1.0</td>\n",
       "      <td>1.0</td>\n",
       "      <td>1.0</td>\n",
       "    </tr>\n",
       "    <tr>\n",
       "      <th>1</th>\n",
       "      <td>0.0</td>\n",
       "      <td>48</td>\n",
       "      <td>0.0</td>\n",
       "      <td>6.0</td>\n",
       "      <td>5951</td>\n",
       "      <td>1.0</td>\n",
       "      <td>0.0</td>\n",
       "      <td>0.0</td>\n",
       "      <td>2.0</td>\n",
       "      <td>3.0</td>\n",
       "      <td>22</td>\n",
       "      <td>1.0</td>\n",
       "      <td>1.0</td>\n",
       "      <td>1</td>\n",
       "      <td>1.0</td>\n",
       "      <td>1</td>\n",
       "      <td>0.0</td>\n",
       "      <td>1.0</td>\n",
       "      <td>0.0</td>\n",
       "    </tr>\n",
       "    <tr>\n",
       "      <th>2</th>\n",
       "      <td>1.0</td>\n",
       "      <td>12</td>\n",
       "      <td>1.0</td>\n",
       "      <td>2.0</td>\n",
       "      <td>2096</td>\n",
       "      <td>1.0</td>\n",
       "      <td>0.0</td>\n",
       "      <td>1.0</td>\n",
       "      <td>2.0</td>\n",
       "      <td>3.0</td>\n",
       "      <td>49</td>\n",
       "      <td>1.0</td>\n",
       "      <td>1.0</td>\n",
       "      <td>1</td>\n",
       "      <td>3.0</td>\n",
       "      <td>2</td>\n",
       "      <td>0.0</td>\n",
       "      <td>1.0</td>\n",
       "      <td>1.0</td>\n",
       "    </tr>\n",
       "  </tbody>\n",
       "</table>\n",
       "</div>"
      ],
      "text/plain": [
       "   over_draft  credit_usage  credit_history  purpose  current_balance  \\\n",
       "0         0.0             6             1.0      6.0             1169   \n",
       "1         0.0            48             0.0      6.0             5951   \n",
       "2         1.0            12             1.0      2.0             2096   \n",
       "\n",
       "   Average_Credit_Balance  employment  gender  other_parties  \\\n",
       "0                     4.0         0.0     1.0            2.0   \n",
       "1                     1.0         0.0     0.0            2.0   \n",
       "2                     1.0         0.0     1.0            2.0   \n",
       "\n",
       "   property_magnitude  age  other_payment_plans  housing  existing_credits  \\\n",
       "0                 3.0   67                  1.0      1.0                 2   \n",
       "1                 3.0   22                  1.0      1.0                 1   \n",
       "2                 3.0   49                  1.0      1.0                 1   \n",
       "\n",
       "   job  num_dependents  own_telephone  foreign_worker  class  \n",
       "0  1.0               1            1.0             1.0    1.0  \n",
       "1  1.0               1            0.0             1.0    0.0  \n",
       "2  3.0               2            0.0             1.0    1.0  "
      ]
     },
     "execution_count": 352,
     "metadata": {},
     "output_type": "execute_result"
    }
   ],
   "source": [
    "# oridinal Encode Categorical Features for feature selection process\n",
    "encode = OrdinalEncoder(handle_unknown='error', unknown_value=None)\n",
    "\n",
    "for i in [cat]:\n",
    "    df[i] = encode.fit_transform(df[i])\n",
    "df.head(3)"
   ]
  },
  {
   "cell_type": "code",
   "execution_count": 353,
   "metadata": {},
   "outputs": [
    {
     "data": {
      "text/plain": [
       "18"
      ]
     },
     "execution_count": 353,
     "metadata": {},
     "output_type": "execute_result"
    }
   ],
   "source": [
    "X = df.drop(['class'], axis = 1)\n",
    "y = df['class']\n",
    "len(X.columns)"
   ]
  },
  {
   "cell_type": "code",
   "execution_count": 212,
   "metadata": {},
   "outputs": [
    {
     "data": {
      "text/html": [
       "<div>\n",
       "<style scoped>\n",
       "    .dataframe tbody tr th:only-of-type {\n",
       "        vertical-align: middle;\n",
       "    }\n",
       "\n",
       "    .dataframe tbody tr th {\n",
       "        vertical-align: top;\n",
       "    }\n",
       "\n",
       "    .dataframe thead th {\n",
       "        text-align: right;\n",
       "    }\n",
       "</style>\n",
       "<table border=\"1\" class=\"dataframe\">\n",
       "  <thead>\n",
       "    <tr style=\"text-align: right;\">\n",
       "      <th></th>\n",
       "      <th>Feature</th>\n",
       "      <th>F_classif_score</th>\n",
       "      <th>Chi2_score</th>\n",
       "    </tr>\n",
       "  </thead>\n",
       "  <tbody>\n",
       "    <tr>\n",
       "      <th>2</th>\n",
       "      <td>current_balance</td>\n",
       "      <td>24.482366</td>\n",
       "      <td>58262.490007</td>\n",
       "    </tr>\n",
       "    <tr>\n",
       "      <th>1</th>\n",
       "      <td>credit_usage</td>\n",
       "      <td>48.333790</td>\n",
       "      <td>321.030795</td>\n",
       "    </tr>\n",
       "    <tr>\n",
       "      <th>0</th>\n",
       "      <td>over_draft</td>\n",
       "      <td>93.005766</td>\n",
       "      <td>61.575092</td>\n",
       "    </tr>\n",
       "    <tr>\n",
       "      <th>7</th>\n",
       "      <td>age</td>\n",
       "      <td>8.356995</td>\n",
       "      <td>30.200309</td>\n",
       "    </tr>\n",
       "    <tr>\n",
       "      <th>3</th>\n",
       "      <td>purpose</td>\n",
       "      <td>19.418505</td>\n",
       "      <td>24.924855</td>\n",
       "    </tr>\n",
       "    <tr>\n",
       "      <th>5</th>\n",
       "      <td>credit_history</td>\n",
       "      <td>13.647085</td>\n",
       "      <td>12.225505</td>\n",
       "    </tr>\n",
       "    <tr>\n",
       "      <th>4</th>\n",
       "      <td>employment</td>\n",
       "      <td>13.975775</td>\n",
       "      <td>10.578755</td>\n",
       "    </tr>\n",
       "    <tr>\n",
       "      <th>6</th>\n",
       "      <td>Average_Credit_Balance</td>\n",
       "      <td>11.719405</td>\n",
       "      <td>10.341673</td>\n",
       "    </tr>\n",
       "    <tr>\n",
       "      <th>10</th>\n",
       "      <td>property_magnitude</td>\n",
       "      <td>3.086847</td>\n",
       "      <td>3.259259</td>\n",
       "    </tr>\n",
       "    <tr>\n",
       "      <th>9</th>\n",
       "      <td>gender</td>\n",
       "      <td>5.720350</td>\n",
       "      <td>1.766736</td>\n",
       "    </tr>\n",
       "    <tr>\n",
       "      <th>13</th>\n",
       "      <td>own_telephone</td>\n",
       "      <td>1.328891</td>\n",
       "      <td>0.792551</td>\n",
       "    </tr>\n",
       "    <tr>\n",
       "      <th>14</th>\n",
       "      <td>job</td>\n",
       "      <td>1.071934</td>\n",
       "      <td>0.753682</td>\n",
       "    </tr>\n",
       "    <tr>\n",
       "      <th>11</th>\n",
       "      <td>other_payment_plans</td>\n",
       "      <td>2.903710</td>\n",
       "      <td>0.567233</td>\n",
       "    </tr>\n",
       "    <tr>\n",
       "      <th>12</th>\n",
       "      <td>existing_credits</td>\n",
       "      <td>2.091652</td>\n",
       "      <td>0.495516</td>\n",
       "    </tr>\n",
       "    <tr>\n",
       "      <th>8</th>\n",
       "      <td>foreign_worker</td>\n",
       "      <td>6.769174</td>\n",
       "      <td>0.249271</td>\n",
       "    </tr>\n",
       "    <tr>\n",
       "      <th>16</th>\n",
       "      <td>housing</td>\n",
       "      <td>0.372463</td>\n",
       "      <td>0.098217</td>\n",
       "    </tr>\n",
       "    <tr>\n",
       "      <th>15</th>\n",
       "      <td>other_parties</td>\n",
       "      <td>0.807899</td>\n",
       "      <td>0.085847</td>\n",
       "    </tr>\n",
       "    <tr>\n",
       "      <th>17</th>\n",
       "      <td>num_dependents</td>\n",
       "      <td>0.009071</td>\n",
       "      <td>0.001031</td>\n",
       "    </tr>\n",
       "  </tbody>\n",
       "</table>\n",
       "</div>"
      ],
      "text/plain": [
       "                   Feature  F_classif_score    Chi2_score\n",
       "2          current_balance        24.482366  58262.490007\n",
       "1             credit_usage        48.333790    321.030795\n",
       "0               over_draft        93.005766     61.575092\n",
       "7                      age         8.356995     30.200309\n",
       "3                  purpose        19.418505     24.924855\n",
       "5           credit_history        13.647085     12.225505\n",
       "4               employment        13.975775     10.578755\n",
       "6   Average_Credit_Balance        11.719405     10.341673\n",
       "10      property_magnitude         3.086847      3.259259\n",
       "9                   gender         5.720350      1.766736\n",
       "13           own_telephone         1.328891      0.792551\n",
       "14                     job         1.071934      0.753682\n",
       "11     other_payment_plans         2.903710      0.567233\n",
       "12        existing_credits         2.091652      0.495516\n",
       "8           foreign_worker         6.769174      0.249271\n",
       "16                 housing         0.372463      0.098217\n",
       "15           other_parties         0.807899      0.085847\n",
       "17          num_dependents         0.009071      0.001031"
      ]
     },
     "execution_count": 212,
     "metadata": {},
     "output_type": "execute_result"
    }
   ],
   "source": [
    "# ANOVA F-value between label/feature\n",
    "best_feature1 = SelectKBest(score_func = f_classif, k = 18)\n",
    "fitting1 = best_feature1.fit(X,y)\n",
    "scores1 = pd.DataFrame(fitting1.scores_)\n",
    "columns1 = pd.DataFrame(X.columns)\n",
    "feat_score1 = pd.concat([columns1, scores1], axis = 1)\n",
    "feat_score1.columns = ['Feature', 'F_classif_score'] \n",
    "k1 = feat_score1.nlargest(18, 'F_classif_score')\n",
    "\n",
    "\n",
    "# Chi-squared stats of non-negative features\n",
    "best_feature2 = SelectKBest(score_func = chi2, k = 18)\n",
    "fitting2 = best_feature2.fit(X,y)\n",
    "scores2 = pd.DataFrame(fitting2.scores_)\n",
    "columns2 = pd.DataFrame(X.columns)\n",
    "feat_score2 = pd.concat([columns2, scores2], axis = 1)\n",
    "feat_score2.columns = ['Feature', 'Chi2_score'] \n",
    "k2 = feat_score2.nlargest(18, 'Chi2_score')\n",
    "\n",
    "# Concat both score into a frame for comparism\n",
    "table = k1.merge(k2, how = 'inner', on = 'Feature')\n",
    "table.sort_values(by = 'Chi2_score', ascending = False)"
   ]
  },
  {
   "cell_type": "code",
   "execution_count": 382,
   "metadata": {},
   "outputs": [],
   "source": [
    "# List out the selected columns based on Feature Elimination Criteria\n",
    "sel_cols = ['current_balance', 'credit_usage', 'over_draft', 'age', 'purpose', 'credit_history', \n",
    "            'employment', 'Average_Credit_Balance', 'property_magnitude', 'gender', 'foreign_worker',\n",
    "            'other_payment_plans', 'existing_credits']\n",
    "X = ds[sel_cols]\n",
    "y = ds['class']"
   ]
  },
  {
   "cell_type": "code",
   "execution_count": 384,
   "metadata": {},
   "outputs": [
    {
     "name": "stdout",
     "output_type": "stream",
     "text": [
      "X_train: (800, 13)\n",
      "X_test: (200, 13)\n",
      "y_train: (800,)\n",
      "y_test: (200,)\n"
     ]
    }
   ],
   "source": [
    "X_train, X_test, y_train, y_test = train_test_split(X, y, test_size = 0.2, stratify = y, random_state = 56)\n",
    "print(f'X_train: {X_train.shape}')\n",
    "print(f'X_test: {X_test.shape}')\n",
    "print('y_train: {}'.format(y_train.shape))\n",
    "print('y_test: {}'.format(y_test.shape))"
   ]
  },
  {
   "cell_type": "markdown",
   "metadata": {},
   "source": [
    "-------------------------------- ---------------------------------------------------\n",
    "<h2 style='font-family:rockwell; color:#59917e'> Pipeline Modelling "
   ]
  },
  {
   "cell_type": "code",
   "execution_count": 385,
   "metadata": {},
   "outputs": [],
   "source": [
    "# Data Preprocessing with Standard scaler\n",
    "# Reduce Dimensinaltiy\n",
    "# Apply Classifier (Logistic Regression, Random Forest, SVM, Naive Bayes)\n",
    "\n",
    "pipeline_rf = Pipeline([('encoding1', OneHotEncoder(sparse = False, handle_unknown= 'ignore')),\n",
    "                    ('scaler1', StandardScaler(with_mean=False)),\n",
    "                    ('classifier1', RandomForestClassifier())\n",
    "])"
   ]
  },
  {
   "cell_type": "code",
   "execution_count": 386,
   "metadata": {},
   "outputs": [],
   "source": [
    "pipeline_lr = Pipeline([('encoding2', OneHotEncoder(sparse = False, handle_unknown= 'ignore')),\n",
    "                    ('scaler2', StandardScaler(with_mean=False)),\n",
    "                    ('classifier2', LogisticRegression())\n",
    "])"
   ]
  },
  {
   "cell_type": "code",
   "execution_count": 387,
   "metadata": {},
   "outputs": [],
   "source": [
    "pipeline_svc = Pipeline([('encoding3', OneHotEncoder(sparse = False, handle_unknown= 'ignore')),\n",
    "                    ('scaler3', StandardScaler(with_mean = False)),\n",
    "                    ('classifier3', SVC())\n",
    "])"
   ]
  },
  {
   "cell_type": "code",
   "execution_count": 388,
   "metadata": {},
   "outputs": [],
   "source": [
    "pipeline_nb = Pipeline([('encoding4', OneHotEncoder(sparse = False, handle_unknown= 'ignore')),\n",
    "                    ('scaler4', StandardScaler(with_mean=False)),\n",
    "                    ('classifier4', GaussianNB())\n",
    "])"
   ]
  },
  {
   "cell_type": "code",
   "execution_count": 389,
   "metadata": {},
   "outputs": [],
   "source": [
    "# Create a list of the pipeline\n",
    "pipelines = [pipeline_rf, pipeline_lr, pipeline_svc, pipeline_nb]\n",
    "\n",
    "# Create a dictionary of Pipelines for ease of reference \n",
    "pipe_dict = {0: 'Random Forest', 1: 'Logistic Regression', 2: 'Support Vector', 3: 'Naive Bayesian'}"
   ]
  },
  {
   "cell_type": "code",
   "execution_count": 390,
   "metadata": {},
   "outputs": [],
   "source": [
    "best_accuracy = 0.0\n",
    "best_classifier = 0\n",
    "best_pipeline = \"\""
   ]
  },
  {
   "cell_type": "code",
   "execution_count": 391,
   "metadata": {},
   "outputs": [],
   "source": [
    "# Fit the pipelines\n",
    "for pipe in pipelines:\n",
    "    pipe.fit(X_train, y_train)"
   ]
  },
  {
   "cell_type": "code",
   "execution_count": 392,
   "metadata": {},
   "outputs": [
    {
     "name": "stdout",
     "output_type": "stream",
     "text": [
      "\n",
      "Random Forest Training Accuracy: 1.0\n",
      "\n",
      "Logistic Regression Training Accuracy: 1.0\n",
      "\n",
      "Support Vector Training Accuracy: 0.98\n",
      "\n",
      "Naive Bayesian Training Accuracy: 0.97625\n"
     ]
    }
   ],
   "source": [
    "for i, model in enumerate(pipelines):\n",
    "    print(f'\\n{pipe_dict[i]} Training Accuracy: {model.score(X_train, y_train)}')"
   ]
  },
  {
   "cell_type": "code",
   "execution_count": 393,
   "metadata": {},
   "outputs": [
    {
     "name": "stdout",
     "output_type": "stream",
     "text": [
      "\n",
      "Random Forest Test Accuracy: 0.7\n",
      "\n",
      "Logistic Regression Test Accuracy: 0.655\n",
      "\n",
      "Support Vector Test Accuracy: 0.7\n",
      "\n",
      "Naive Bayesian Test Accuracy: 0.37\n"
     ]
    }
   ],
   "source": [
    "for i, model in enumerate(pipelines):\n",
    "    print(f'\\n{pipe_dict[i]} Test Accuracy: {model.score(X_test, y_test)}')"
   ]
  },
  {
   "cell_type": "code",
   "execution_count": 394,
   "metadata": {},
   "outputs": [
    {
     "name": "stdout",
     "output_type": "stream",
     "text": [
      "Classifier with the best accuracy: Random Forest\n"
     ]
    }
   ],
   "source": [
    "for i, models in enumerate(pipelines):\n",
    "    if models.score(X_test, y_test) > best_accuracy:\n",
    "        best_accuracy = models.score(X_test, y_test)\n",
    "        best_pipeline = model\n",
    "        best_classifier = i\n",
    "print(f'Classifier with the best accuracy: {pipe_dict[best_classifier]}')"
   ]
  },
  {
   "cell_type": "markdown",
   "metadata": {},
   "source": [
    "##### Model improvement using Randomized Search CV"
   ]
  },
  {
   "cell_type": "markdown",
   "metadata": {},
   "source": [
    "Because we used pipeline model, we could pass our feature values directly without manually encoding them.<br>\n",
    "Now we will create a new encoded train and test variable."
   ]
  },
  {
   "cell_type": "code",
   "execution_count": 362,
   "metadata": {},
   "outputs": [
    {
     "name": "stdout",
     "output_type": "stream",
     "text": [
      "xtrain: (800, 18)\n",
      "xtest: (200, 18)\n",
      "ytrain: (800,)\n",
      "ytest: (200,)\n"
     ]
    }
   ],
   "source": [
    "# data 'df' has been encoded before hand. We use 'df' as base data for training and testing\n",
    "x = df.drop(['class'], axis = 1)\n",
    "Y = df['class']\n",
    "xtrain, xtest, ytrain, ytest = train_test_split(x, Y,  test_size = 0.2, stratify = y, random_state = 48)\n",
    "print(f'xtrain: {xtrain.shape}')\n",
    "print(f'xtest: {xtest.shape}')\n",
    "print('ytrain: {}'.format(ytrain.shape))\n",
    "print('ytest: {}'.format(ytest.shape))"
   ]
  },
  {
   "cell_type": "code",
   "execution_count": 360,
   "metadata": {},
   "outputs": [
    {
     "name": "stdout",
     "output_type": "stream",
     "text": [
      "13\n"
     ]
    }
   ],
   "source": [
    "# The features are 18 because we havent removed the unwanted features from it.\n",
    "# We then will infuse the selected columns that were present in intital X_train into the new xtrain\n",
    "\n",
    "xtrain_cols = X_train.columns.tolist()\n",
    "xtest_cols = X_test.columns.tolist()\n",
    "xtrain = xtrain[xtrain_cols]\n",
    "xtest = xtest[xtest_cols]\n",
    "print(len(xtrain.columns))"
   ]
  },
  {
   "cell_type": "code",
   "execution_count": 366,
   "metadata": {},
   "outputs": [
    {
     "data": {
      "text/html": [
       "<div>\n",
       "<style scoped>\n",
       "    .dataframe tbody tr th:only-of-type {\n",
       "        vertical-align: middle;\n",
       "    }\n",
       "\n",
       "    .dataframe tbody tr th {\n",
       "        vertical-align: top;\n",
       "    }\n",
       "\n",
       "    .dataframe thead th {\n",
       "        text-align: right;\n",
       "    }\n",
       "</style>\n",
       "<table border=\"1\" class=\"dataframe\">\n",
       "  <thead>\n",
       "    <tr style=\"text-align: right;\">\n",
       "      <th></th>\n",
       "      <th>over_draft</th>\n",
       "      <th>credit_usage</th>\n",
       "      <th>credit_history</th>\n",
       "      <th>purpose</th>\n",
       "      <th>current_balance</th>\n",
       "      <th>Average_Credit_Balance</th>\n",
       "      <th>employment</th>\n",
       "      <th>gender</th>\n",
       "      <th>other_parties</th>\n",
       "      <th>property_magnitude</th>\n",
       "      <th>age</th>\n",
       "      <th>other_payment_plans</th>\n",
       "      <th>housing</th>\n",
       "      <th>existing_credits</th>\n",
       "      <th>job</th>\n",
       "      <th>num_dependents</th>\n",
       "      <th>own_telephone</th>\n",
       "      <th>foreign_worker</th>\n",
       "    </tr>\n",
       "  </thead>\n",
       "  <tbody>\n",
       "    <tr>\n",
       "      <th>count</th>\n",
       "      <td>800.000000</td>\n",
       "      <td>800.000000</td>\n",
       "      <td>800.000000</td>\n",
       "      <td>800.000000</td>\n",
       "      <td>8.000000e+02</td>\n",
       "      <td>800.00000</td>\n",
       "      <td>800.000000</td>\n",
       "      <td>800.000000</td>\n",
       "      <td>800.00000</td>\n",
       "      <td>800.000000</td>\n",
       "      <td>8.000000e+02</td>\n",
       "      <td>800.00000</td>\n",
       "      <td>800.000000</td>\n",
       "      <td>800.000000</td>\n",
       "      <td>800.000000</td>\n",
       "      <td>800.000000</td>\n",
       "      <td>800.000000</td>\n",
       "      <td>800.000000</td>\n",
       "    </tr>\n",
       "    <tr>\n",
       "      <th>mean</th>\n",
       "      <td>0.512500</td>\n",
       "      <td>20.835000</td>\n",
       "      <td>0.497500</td>\n",
       "      <td>4.418750</td>\n",
       "      <td>-2.664535e-17</td>\n",
       "      <td>1.73625</td>\n",
       "      <td>0.241250</td>\n",
       "      <td>0.682500</td>\n",
       "      <td>1.85750</td>\n",
       "      <td>1.376250</td>\n",
       "      <td>2.209344e-16</td>\n",
       "      <td>0.90375</td>\n",
       "      <td>1.068750</td>\n",
       "      <td>1.423750</td>\n",
       "      <td>1.292500</td>\n",
       "      <td>1.150000</td>\n",
       "      <td>0.395000</td>\n",
       "      <td>0.958750</td>\n",
       "    </tr>\n",
       "    <tr>\n",
       "      <th>std</th>\n",
       "      <td>0.608528</td>\n",
       "      <td>11.905038</td>\n",
       "      <td>0.669368</td>\n",
       "      <td>2.395427</td>\n",
       "      <td>1.000626e+00</td>\n",
       "      <td>1.24343</td>\n",
       "      <td>0.428109</td>\n",
       "      <td>0.465795</td>\n",
       "      <td>0.46364</td>\n",
       "      <td>1.214096</td>\n",
       "      <td>1.000626e+00</td>\n",
       "      <td>0.42096</td>\n",
       "      <td>0.537945</td>\n",
       "      <td>0.574106</td>\n",
       "      <td>0.952932</td>\n",
       "      <td>0.357295</td>\n",
       "      <td>0.489157</td>\n",
       "      <td>0.198992</td>\n",
       "    </tr>\n",
       "    <tr>\n",
       "      <th>min</th>\n",
       "      <td>0.000000</td>\n",
       "      <td>4.000000</td>\n",
       "      <td>0.000000</td>\n",
       "      <td>0.000000</td>\n",
       "      <td>-1.072575e+00</td>\n",
       "      <td>0.00000</td>\n",
       "      <td>0.000000</td>\n",
       "      <td>0.000000</td>\n",
       "      <td>0.00000</td>\n",
       "      <td>0.000000</td>\n",
       "      <td>-1.450599e+00</td>\n",
       "      <td>0.00000</td>\n",
       "      <td>0.000000</td>\n",
       "      <td>1.000000</td>\n",
       "      <td>0.000000</td>\n",
       "      <td>1.000000</td>\n",
       "      <td>0.000000</td>\n",
       "      <td>0.000000</td>\n",
       "    </tr>\n",
       "    <tr>\n",
       "      <th>25%</th>\n",
       "      <td>0.000000</td>\n",
       "      <td>12.000000</td>\n",
       "      <td>0.000000</td>\n",
       "      <td>3.000000</td>\n",
       "      <td>-6.735576e-01</td>\n",
       "      <td>1.00000</td>\n",
       "      <td>0.000000</td>\n",
       "      <td>0.000000</td>\n",
       "      <td>2.00000</td>\n",
       "      <td>0.000000</td>\n",
       "      <td>-7.575690e-01</td>\n",
       "      <td>1.00000</td>\n",
       "      <td>1.000000</td>\n",
       "      <td>1.000000</td>\n",
       "      <td>1.000000</td>\n",
       "      <td>1.000000</td>\n",
       "      <td>0.000000</td>\n",
       "      <td>1.000000</td>\n",
       "    </tr>\n",
       "    <tr>\n",
       "      <th>50%</th>\n",
       "      <td>0.000000</td>\n",
       "      <td>18.000000</td>\n",
       "      <td>0.000000</td>\n",
       "      <td>4.000000</td>\n",
       "      <td>-3.379072e-01</td>\n",
       "      <td>1.00000</td>\n",
       "      <td>0.000000</td>\n",
       "      <td>1.000000</td>\n",
       "      <td>2.00000</td>\n",
       "      <td>1.000000</td>\n",
       "      <td>-2.377961e-01</td>\n",
       "      <td>1.00000</td>\n",
       "      <td>1.000000</td>\n",
       "      <td>1.000000</td>\n",
       "      <td>1.000000</td>\n",
       "      <td>1.000000</td>\n",
       "      <td>0.000000</td>\n",
       "      <td>1.000000</td>\n",
       "    </tr>\n",
       "    <tr>\n",
       "      <th>75%</th>\n",
       "      <td>1.000000</td>\n",
       "      <td>24.000000</td>\n",
       "      <td>1.000000</td>\n",
       "      <td>6.000000</td>\n",
       "      <td>2.463303e-01</td>\n",
       "      <td>3.00000</td>\n",
       "      <td>0.000000</td>\n",
       "      <td>1.000000</td>\n",
       "      <td>2.00000</td>\n",
       "      <td>3.000000</td>\n",
       "      <td>5.418632e-01</td>\n",
       "      <td>1.00000</td>\n",
       "      <td>1.000000</td>\n",
       "      <td>2.000000</td>\n",
       "      <td>1.000000</td>\n",
       "      <td>1.000000</td>\n",
       "      <td>1.000000</td>\n",
       "      <td>1.000000</td>\n",
       "    </tr>\n",
       "    <tr>\n",
       "      <th>max</th>\n",
       "      <td>2.000000</td>\n",
       "      <td>72.000000</td>\n",
       "      <td>2.000000</td>\n",
       "      <td>9.000000</td>\n",
       "      <td>5.379154e+00</td>\n",
       "      <td>4.00000</td>\n",
       "      <td>1.000000</td>\n",
       "      <td>1.000000</td>\n",
       "      <td>2.00000</td>\n",
       "      <td>3.000000</td>\n",
       "      <td>3.400614e+00</td>\n",
       "      <td>2.00000</td>\n",
       "      <td>2.000000</td>\n",
       "      <td>4.000000</td>\n",
       "      <td>3.000000</td>\n",
       "      <td>2.000000</td>\n",
       "      <td>1.000000</td>\n",
       "      <td>1.000000</td>\n",
       "    </tr>\n",
       "  </tbody>\n",
       "</table>\n",
       "</div>"
      ],
      "text/plain": [
       "       over_draft  credit_usage  credit_history     purpose  current_balance  \\\n",
       "count  800.000000    800.000000      800.000000  800.000000     8.000000e+02   \n",
       "mean     0.512500     20.835000        0.497500    4.418750    -2.664535e-17   \n",
       "std      0.608528     11.905038        0.669368    2.395427     1.000626e+00   \n",
       "min      0.000000      4.000000        0.000000    0.000000    -1.072575e+00   \n",
       "25%      0.000000     12.000000        0.000000    3.000000    -6.735576e-01   \n",
       "50%      0.000000     18.000000        0.000000    4.000000    -3.379072e-01   \n",
       "75%      1.000000     24.000000        1.000000    6.000000     2.463303e-01   \n",
       "max      2.000000     72.000000        2.000000    9.000000     5.379154e+00   \n",
       "\n",
       "       Average_Credit_Balance  employment      gender  other_parties  \\\n",
       "count               800.00000  800.000000  800.000000      800.00000   \n",
       "mean                  1.73625    0.241250    0.682500        1.85750   \n",
       "std                   1.24343    0.428109    0.465795        0.46364   \n",
       "min                   0.00000    0.000000    0.000000        0.00000   \n",
       "25%                   1.00000    0.000000    0.000000        2.00000   \n",
       "50%                   1.00000    0.000000    1.000000        2.00000   \n",
       "75%                   3.00000    0.000000    1.000000        2.00000   \n",
       "max                   4.00000    1.000000    1.000000        2.00000   \n",
       "\n",
       "       property_magnitude           age  other_payment_plans     housing  \\\n",
       "count          800.000000  8.000000e+02            800.00000  800.000000   \n",
       "mean             1.376250  2.209344e-16              0.90375    1.068750   \n",
       "std              1.214096  1.000626e+00              0.42096    0.537945   \n",
       "min              0.000000 -1.450599e+00              0.00000    0.000000   \n",
       "25%              0.000000 -7.575690e-01              1.00000    1.000000   \n",
       "50%              1.000000 -2.377961e-01              1.00000    1.000000   \n",
       "75%              3.000000  5.418632e-01              1.00000    1.000000   \n",
       "max              3.000000  3.400614e+00              2.00000    2.000000   \n",
       "\n",
       "       existing_credits         job  num_dependents  own_telephone  \\\n",
       "count        800.000000  800.000000      800.000000     800.000000   \n",
       "mean           1.423750    1.292500        1.150000       0.395000   \n",
       "std            0.574106    0.952932        0.357295       0.489157   \n",
       "min            1.000000    0.000000        1.000000       0.000000   \n",
       "25%            1.000000    1.000000        1.000000       0.000000   \n",
       "50%            1.000000    1.000000        1.000000       0.000000   \n",
       "75%            2.000000    1.000000        1.000000       1.000000   \n",
       "max            4.000000    3.000000        2.000000       1.000000   \n",
       "\n",
       "       foreign_worker  \n",
       "count      800.000000  \n",
       "mean         0.958750  \n",
       "std          0.198992  \n",
       "min          0.000000  \n",
       "25%          1.000000  \n",
       "50%          1.000000  \n",
       "75%          1.000000  \n",
       "max          1.000000  "
      ]
     },
     "execution_count": 366,
     "metadata": {},
     "output_type": "execute_result"
    }
   ],
   "source": [
    "scaler = StandardScaler()\n",
    "sel_scaled = ['current_balance', 'age']\n",
    "for i in sel_scaled:\n",
    "    xtrain[i] = scaler.fit_transform(xtrain[[i]])\n",
    "    xtest[i] = scaler.transform(xtest[[i]])\n",
    "xtrain.describe()\n"
   ]
  },
  {
   "cell_type": "code",
   "execution_count": 319,
   "metadata": {},
   "outputs": [
    {
     "name": "stdout",
     "output_type": "stream",
     "text": [
      "13 available columns in both dataframes are: \n",
      "current_balance : present\n",
      "credit_usage : present\n",
      "over_draft : present\n",
      "age : present\n",
      "purpose : present\n",
      "credit_history : present\n",
      "employment : present\n",
      "Average_Credit_Balance : present\n",
      "property_magnitude : present\n",
      "gender : present\n",
      "foreign_worker : present\n",
      "other_payment_plans : present\n",
      "existing_credits : present\n"
     ]
    }
   ],
   "source": [
    "print(len([i for i in xtrain.columns if i in X_train.columns]  ), 'available columns in both dataframes are: ')\n",
    "for i in xtrain.columns.values:\n",
    "    if i in X_train.columns.values:\n",
    "        print (i, ': present')\n",
    "    else:\n",
    "        print(i, ': not present')"
   ]
  },
  {
   "cell_type": "code",
   "execution_count": 250,
   "metadata": {},
   "outputs": [
    {
     "name": "stdout",
     "output_type": "stream",
     "text": [
      "{'n_estimators': [200, 400, 600, 800, 1000, 1200, 1400, 1600, 1800, 2000], 'max_features': ['auto', 'sqrt'], 'max_depth': [10, 20, 30, 40, 50, 60, 70, 80, 90, 100, 110, None], 'min_samples_split': [2, 5, 10], 'min_samples_leaf': [1, 2, 4], 'bootstrap': [True, False]}\n"
     ]
    },
    {
     "data": {
      "text/plain": [
       "{'bootstrap': [True, False],\n",
       " 'max_depth': [10, 20, 30, 40, 50, 60, 70, 80, 90, 100, None],\n",
       " 'max_features': ['auto', 'sqrt'],\n",
       " 'min_samples_leaf': [1, 2, 4],\n",
       " 'min_samples_split': [2, 5, 10],\n",
       " 'n_estimators': [200, 400, 600, 800, 1000, 1200, 1400, 1600, 1800, 2000]}"
      ]
     },
     "execution_count": 250,
     "metadata": {},
     "output_type": "execute_result"
    }
   ],
   "source": [
    "from sklearn.model_selection import RandomizedSearchCV\n",
    "\n",
    "n_estimators = [int(x) for x in np.linspace(start = 200, stop = 2000, num = 10)] # Number of trees in random forest\n",
    "\n",
    "max_features = ['auto', 'sqrt'] # Number of features to consider at every split\n",
    "\n",
    "max_depth = [int(x) for x in np.linspace(10, 110, num = 11)] # Maximum number of levels in tree\n",
    "max_depth.append(None) \n",
    "\n",
    "min_samples_split = [2, 5, 10] # Minimum number of samples required to split a node\n",
    "\n",
    "min_samples_leaf = [1, 2, 4] # Minimum number of samples required at each leaf node\n",
    "\n",
    "bootstrap = [True, False] # Method of selecting samples for training each tree\n",
    "\n",
    "# Create the random grid\n",
    "random_grid = {'n_estimators': n_estimators,\n",
    "               'max_features': max_features,\n",
    "               'max_depth': max_depth,\n",
    "               'min_samples_split': min_samples_split,\n",
    "               'min_samples_leaf': min_samples_leaf,\n",
    "               'bootstrap': bootstrap}\n",
    "print(random_grid)\n",
    "{'bootstrap': [True, False],\n",
    " 'max_depth': [10, 20, 30, 40, 50, 60, 70, 80, 90, 100, None],\n",
    " 'max_features': ['auto', 'sqrt'],\n",
    " 'min_samples_leaf': [1, 2, 4],\n",
    " 'min_samples_split': [2, 5, 10],\n",
    " 'n_estimators': [200, 400, 600, 800, 1000, 1200, 1400, 1600, 1800, 2000]}"
   ]
  },
  {
   "cell_type": "code",
   "execution_count": 368,
   "metadata": {},
   "outputs": [
    {
     "name": "stdout",
     "output_type": "stream",
     "text": [
      "Fitting 3 folds for each of 50 candidates, totalling 150 fits\n"
     ]
    },
    {
     "data": {
      "text/plain": [
       "RandomizedSearchCV(cv=3, estimator=RandomForestClassifier(), n_iter=50,\n",
       "                   n_jobs=-1,\n",
       "                   param_distributions={'bootstrap': [True, False],\n",
       "                                        'max_depth': [10, 20, 30, 40, 50, 60,\n",
       "                                                      70, 80, 90, 100, 110,\n",
       "                                                      None],\n",
       "                                        'max_features': ['auto', 'sqrt'],\n",
       "                                        'min_samples_leaf': [1, 2, 4],\n",
       "                                        'min_samples_split': [2, 5, 10],\n",
       "                                        'n_estimators': [200, 400, 600, 800,\n",
       "                                                         1000, 1200, 1400, 1600,\n",
       "                                                         1800, 2000]},\n",
       "                   random_state=42, verbose=2)"
      ]
     },
     "execution_count": 368,
     "metadata": {},
     "output_type": "execute_result"
    }
   ],
   "source": [
    "# Use the random grid to search for best hyperparameters\n",
    "\n",
    "rf_ = RandomForestClassifier() # First create the base model to tune\n",
    "\n",
    "# Random search of parameters, using 3 fold cross validation, \n",
    "# search across 50 different combinations, and use all available cores\n",
    "\n",
    "rf_random = RandomizedSearchCV(estimator = rf_, param_distributions = random_grid, n_iter = 50, cv = 3, verbose=2, random_state=42, n_jobs = -1)\n",
    "# Fit the random search model\n",
    "rf_random.fit(xtrain, ytrain)"
   ]
  },
  {
   "cell_type": "code",
   "execution_count": 369,
   "metadata": {},
   "outputs": [
    {
     "data": {
      "text/plain": [
       "{'n_estimators': 1800,\n",
       " 'min_samples_split': 5,\n",
       " 'min_samples_leaf': 4,\n",
       " 'max_features': 'auto',\n",
       " 'max_depth': 10,\n",
       " 'bootstrap': False}"
      ]
     },
     "execution_count": 369,
     "metadata": {},
     "output_type": "execute_result"
    }
   ],
   "source": [
    "# Check the best parameters according to the Random Search Result\n",
    "rf_random.best_params_"
   ]
  },
  {
   "cell_type": "code",
   "execution_count": 372,
   "metadata": {},
   "outputs": [
    {
     "data": {
      "text/plain": [
       "0.7"
      ]
     },
     "execution_count": 372,
     "metadata": {},
     "output_type": "execute_result"
    }
   ],
   "source": [
    "# Instantiate the new model\n",
    "new_rf = RandomForestClassifier(n_estimators = 1800, min_samples_split = 5, min_samples_leaf = 4 ,\n",
    "                    max_features = 'auto', max_depth = 10, bootstrap = False )\n",
    "\n",
    "# Input back into pipeline for use\n",
    "pipeline_rf = Pipeline([('encoding1', OneHotEncoder(sparse = False, handle_unknown= 'ignore')),\n",
    "                    ('scaler1', StandardScaler(with_mean=False)),\n",
    "                    ('classifier1', new_rf)\n",
    "])\n",
    "\n",
    "pipeline_rf.fit(X_train, y_train) # Fit on the train\n",
    "pipeline_rf.score(X_test, y_test) # Score the performance on test"
   ]
  },
  {
   "cell_type": "markdown",
   "metadata": {},
   "source": [
    "Obviously, the RandomSearchCV couldnt improve the performance of the model. <br>\n",
    "Hence we hold on to the previosuly created model."
   ]
  },
  {
   "cell_type": "code",
   "execution_count": 373,
   "metadata": {},
   "outputs": [],
   "source": [
    "# Save the model\n",
    "import pickle\n",
    "\n",
    "filename = 'rf_pipe_model.pkl'\n",
    "pickle.dump(pipeline_rf, open(filename, 'wb'))"
   ]
  },
  {
   "cell_type": "code",
   "execution_count": 374,
   "metadata": {},
   "outputs": [],
   "source": [
    "# Save data to csv\n",
    "ds.to_csv(r\"C:\\Users\\BIOLA\\Desktop\\Data Science Projects\\Learnings\\Credit Fraud Detection\\loan_data.csv\",encoding = 'utf-8')"
   ]
  },
  {
   "cell_type": "code",
   "execution_count": 410,
   "metadata": {},
   "outputs": [
    {
     "name": "stderr",
     "output_type": "stream",
     "text": [
      "c:\\Users\\BIOLA\\Desktop\\Data Science Projects\\Learnings\\Credit Fraud Detection\\fraud_ENV\\lib\\site-packages\\sklearn\\base.py:451: UserWarning:\n",
      "\n",
      "X does not have valid feature names, but OneHotEncoder was fitted with feature names\n",
      "\n"
     ]
    },
    {
     "data": {
      "text/plain": [
       "array(['good'], dtype=object)"
      ]
     },
     "execution_count": 410,
     "metadata": {},
     "output_type": "execute_result"
    }
   ],
   "source": [
    "# model testing\n",
    "\n",
    "input = [1275,\t15,\t'no',\t24,\t'domestic appliance',\t'all paid',\t'employed',\t'no_savings',\t'car',\t'female',\t'yes',\t'none',\t1]\n",
    "input_array = pd.DataFrame(input) \n",
    "input =  input_array.transpose()\n",
    "prediction = pipeline_rf.predict(input)\n",
    "prediction"
   ]
  },
  {
   "cell_type": "code",
   "execution_count": 415,
   "metadata": {},
   "outputs": [
    {
     "data": {
      "text/html": [
       "<div>\n",
       "<style scoped>\n",
       "    .dataframe tbody tr th:only-of-type {\n",
       "        vertical-align: middle;\n",
       "    }\n",
       "\n",
       "    .dataframe tbody tr th {\n",
       "        vertical-align: top;\n",
       "    }\n",
       "\n",
       "    .dataframe thead th {\n",
       "        text-align: right;\n",
       "    }\n",
       "</style>\n",
       "<table border=\"1\" class=\"dataframe\">\n",
       "  <thead>\n",
       "    <tr style=\"text-align: right;\">\n",
       "      <th></th>\n",
       "      <th>Features</th>\n",
       "      <th>Dtypes</th>\n",
       "    </tr>\n",
       "  </thead>\n",
       "  <tbody>\n",
       "    <tr>\n",
       "      <th>0</th>\n",
       "      <td>current_balance</td>\n",
       "      <td>int64</td>\n",
       "    </tr>\n",
       "    <tr>\n",
       "      <th>1</th>\n",
       "      <td>credit_usage</td>\n",
       "      <td>int64</td>\n",
       "    </tr>\n",
       "    <tr>\n",
       "      <th>2</th>\n",
       "      <td>over_draft</td>\n",
       "      <td>object</td>\n",
       "    </tr>\n",
       "    <tr>\n",
       "      <th>3</th>\n",
       "      <td>age</td>\n",
       "      <td>int64</td>\n",
       "    </tr>\n",
       "    <tr>\n",
       "      <th>4</th>\n",
       "      <td>purpose</td>\n",
       "      <td>object</td>\n",
       "    </tr>\n",
       "    <tr>\n",
       "      <th>5</th>\n",
       "      <td>credit_history</td>\n",
       "      <td>object</td>\n",
       "    </tr>\n",
       "    <tr>\n",
       "      <th>6</th>\n",
       "      <td>employment</td>\n",
       "      <td>object</td>\n",
       "    </tr>\n",
       "    <tr>\n",
       "      <th>7</th>\n",
       "      <td>Average_Credit_Balance</td>\n",
       "      <td>object</td>\n",
       "    </tr>\n",
       "    <tr>\n",
       "      <th>8</th>\n",
       "      <td>property_magnitude</td>\n",
       "      <td>object</td>\n",
       "    </tr>\n",
       "    <tr>\n",
       "      <th>9</th>\n",
       "      <td>gender</td>\n",
       "      <td>object</td>\n",
       "    </tr>\n",
       "    <tr>\n",
       "      <th>10</th>\n",
       "      <td>foreign_worker</td>\n",
       "      <td>object</td>\n",
       "    </tr>\n",
       "    <tr>\n",
       "      <th>11</th>\n",
       "      <td>other_payment_plans</td>\n",
       "      <td>object</td>\n",
       "    </tr>\n",
       "    <tr>\n",
       "      <th>12</th>\n",
       "      <td>existing_credits</td>\n",
       "      <td>int64</td>\n",
       "    </tr>\n",
       "  </tbody>\n",
       "</table>\n",
       "</div>"
      ],
      "text/plain": [
       "                  Features  Dtypes\n",
       "0          current_balance   int64\n",
       "1             credit_usage   int64\n",
       "2               over_draft  object\n",
       "3                      age   int64\n",
       "4                  purpose  object\n",
       "5           credit_history  object\n",
       "6               employment  object\n",
       "7   Average_Credit_Balance  object\n",
       "8       property_magnitude  object\n",
       "9                   gender  object\n",
       "10          foreign_worker  object\n",
       "11     other_payment_plans  object\n",
       "12        existing_credits   int64"
      ]
     },
     "execution_count": 415,
     "metadata": {},
     "output_type": "execute_result"
    }
   ],
   "source": [
    "# Check out the dtypes of columns\n",
    "columnss = X.columns.tolist()\n",
    "types = X.dtypes.tolist()\n",
    "feats = ({'Features': columnss, 'Dtypes': types})\n",
    "feats = pd.DataFrame(feats)\n",
    "feats"
   ]
  },
  {
   "cell_type": "markdown",
   "metadata": {},
   "source": [
    "<h5 style='font-family:rockwell; color:#59917e'> Thank You"
   ]
  }
 ],
 "metadata": {
  "kernelspec": {
   "display_name": "Python 3.7.7 ('fraud_ENV': venv)",
   "language": "python",
   "name": "python3"
  },
  "language_info": {
   "codemirror_mode": {
    "name": "ipython",
    "version": 3
   },
   "file_extension": ".py",
   "mimetype": "text/x-python",
   "name": "python",
   "nbconvert_exporter": "python",
   "pygments_lexer": "ipython3",
   "version": "3.7.7"
  },
  "orig_nbformat": 4,
  "vscode": {
   "interpreter": {
    "hash": "13de1c1672679c142b1eb59ad457d0586d6a09bd199577939ca8ce3a34d6f99f"
   }
  }
 },
 "nbformat": 4,
 "nbformat_minor": 2
}
